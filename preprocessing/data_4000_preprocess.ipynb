{
 "cells": [
  {
   "cell_type": "markdown",
   "metadata": {},
   "source": [
    "# 영화 4000개 데이터 전처리"
   ]
  },
  {
   "cell_type": "markdown",
   "metadata": {},
   "source": [
    "<br><br><hr>\n",
    "\n",
    "## 00. 기본 설정"
   ]
  },
  {
   "cell_type": "code",
   "execution_count": 1,
   "metadata": {},
   "outputs": [],
   "source": [
    "import pandas as pd\n",
    "import numpy as np\n",
    "import matplotlib.pyplot as plt\n",
    "import seaborn as sns\n",
    "\n",
    "# 경고 메시지 출력 X\n",
    "import warnings\n",
    "warnings.filterwarnings(\"ignore\")"
   ]
  },
  {
   "cell_type": "code",
   "execution_count": 2,
   "metadata": {},
   "outputs": [],
   "source": [
    "# 한글 font 설정\n",
    "import platform\n",
    "import matplotlib.font_manager as fm\n",
    "\n",
    "#matplotlib 패키지 한글 깨짐 처리 시작\n",
    "#------------------------------------------------------------------------------------\n",
    "# 운영체제별 한글 폰트 설정\n",
    "\n",
    "if platform.system() == 'Darwin': # Mac 환경 폰트 설정\n",
    "    plt.rc('font', family='AppleGothic')\n",
    "elif platform.system() == 'Windows': # Windows 환경 폰트 설정\n",
    "    plt.rc('font', family='Malgun Gothic')\n",
    "    \n",
    "plt.rcParams['axes.unicode_minus'] = False #한글 폰트 사용시 마이너스 폰트 깨짐 해결"
   ]
  },
  {
   "cell_type": "code",
   "execution_count": 3,
   "metadata": {},
   "outputs": [],
   "source": [
    "# 글씨 선명하게 출력하는 설정\n",
    "\n",
    "from IPython.display import set_matplotlib_formats\n",
    "set_matplotlib_formats(\"retina\")"
   ]
  },
  {
   "cell_type": "markdown",
   "metadata": {},
   "source": [
    "<br><br><br><hr>\n",
    "\n",
    "## **✅ 01. 데이터 불러오기**"
   ]
  },
  {
   "cell_type": "code",
   "execution_count": 17,
   "metadata": {},
   "outputs": [
    {
     "name": "stdout",
     "output_type": "stream",
     "text": [
      "(4241, 6)\n"
     ]
    },
    {
     "data": {
      "text/html": [
       "<div>\n",
       "<style scoped>\n",
       "    .dataframe tbody tr th:only-of-type {\n",
       "        vertical-align: middle;\n",
       "    }\n",
       "\n",
       "    .dataframe tbody tr th {\n",
       "        vertical-align: top;\n",
       "    }\n",
       "\n",
       "    .dataframe thead th {\n",
       "        text-align: right;\n",
       "    }\n",
       "</style>\n",
       "<table border=\"1\" class=\"dataframe\">\n",
       "  <thead>\n",
       "    <tr style=\"text-align: right;\">\n",
       "      <th></th>\n",
       "      <th>asset_nm_전처리</th>\n",
       "      <th>ct_cl</th>\n",
       "      <th>genre_of_ct_cl</th>\n",
       "      <th>summary_최신순</th>\n",
       "      <th>최신순</th>\n",
       "      <th>genre_tmdb</th>\n",
       "    </tr>\n",
       "  </thead>\n",
       "  <tbody>\n",
       "    <tr>\n",
       "      <th>0</th>\n",
       "      <td>귀멸의 칼날: 남매의 연</td>\n",
       "      <td>영화</td>\n",
       "      <td>애니메이션</td>\n",
       "      <td>혈귀의 습격으로 가족을 잃은 소년 ‘탄지로’. 유일하게 살아남은 여동생 ‘네즈코’마...</td>\n",
       "      <td>2019-03-29</td>\n",
       "      <td>Animation, Action, Fantasy, Thriller</td>\n",
       "    </tr>\n",
       "    <tr>\n",
       "      <th>1</th>\n",
       "      <td>색에 놀다</td>\n",
       "      <td>영화</td>\n",
       "      <td>에로틱</td>\n",
       "      <td>하얀 색의 순수하고 착한 사랑을 꿈꾸는 25살 모태 솔로 지수. 그녀의 짝사랑 상대...</td>\n",
       "      <td>2017-01-01</td>\n",
       "      <td>Thriller, Drama, Romance</td>\n",
       "    </tr>\n",
       "    <tr>\n",
       "      <th>2</th>\n",
       "      <td>돌이킬 수 없는 주말</td>\n",
       "      <td>영화</td>\n",
       "      <td>공포/스릴러</td>\n",
       "      <td>베키는 결혼을 앞두고 친구 수잔과 함께 다트무어로 여행을 떠난다. 그곳에서 신비한 ...</td>\n",
       "      <td>2015-09-18</td>\n",
       "      <td>Drama, Horror, Mystery</td>\n",
       "    </tr>\n",
       "  </tbody>\n",
       "</table>\n",
       "</div>"
      ],
      "text/plain": [
       "    asset_nm_전처리 ct_cl genre_of_ct_cl  \\\n",
       "0  귀멸의 칼날: 남매의 연    영화          애니메이션   \n",
       "1          색에 놀다    영화            에로틱   \n",
       "2    돌이킬 수 없는 주말    영화         공포/스릴러   \n",
       "\n",
       "                                         summary_최신순         최신순  \\\n",
       "0  혈귀의 습격으로 가족을 잃은 소년 ‘탄지로’. 유일하게 살아남은 여동생 ‘네즈코’마...  2019-03-29   \n",
       "1  하얀 색의 순수하고 착한 사랑을 꿈꾸는 25살 모태 솔로 지수. 그녀의 짝사랑 상대...  2017-01-01   \n",
       "2  베키는 결혼을 앞두고 친구 수잔과 함께 다트무어로 여행을 떠난다. 그곳에서 신비한 ...  2015-09-18   \n",
       "\n",
       "                             genre_tmdb  \n",
       "0  Animation, Action, Fantasy, Thriller  \n",
       "1              Thriller, Drama, Romance  \n",
       "2                Drama, Horror, Mystery  "
      ]
     },
     "execution_count": 17,
     "metadata": {},
     "output_type": "execute_result"
    }
   ],
   "source": [
    "movies = pd.read_csv('..\\data\\movies_4000_tmdb_genre.csv')\n",
    "print(movies.shape)   # (4241, 6)\n",
    "movies.head(3)"
   ]
  },
  {
   "cell_type": "markdown",
   "metadata": {},
   "source": [
    "<br><br><br><hr>\n",
    "\n",
    "## **✅ 02. 데이터 전처리**"
   ]
  },
  {
   "cell_type": "markdown",
   "metadata": {},
   "source": [
    "<br>\n",
    "\n",
    "#### *>> 장르가 '성인'인 행 삭제*"
   ]
  },
  {
   "cell_type": "code",
   "execution_count": 18,
   "metadata": {},
   "outputs": [],
   "source": [
    "# 각 장르의 수 를 genre_counts 변수에 저장\n",
    "genre_counts = movies['genre_of_ct_cl'].value_counts()"
   ]
  },
  {
   "cell_type": "code",
   "execution_count": 19,
   "metadata": {},
   "outputs": [],
   "source": [
    "# 삭제할 조건 생성\n",
    "delete_conditions = (movies['genre_of_ct_cl'] == '성인')\n",
    "filtered_movies = movies[~delete_conditions]"
   ]
  },
  {
   "cell_type": "code",
   "execution_count": 20,
   "metadata": {},
   "outputs": [
    {
     "name": "stdout",
     "output_type": "stream",
     "text": [
      "(3901, 6)\n"
     ]
    },
    {
     "data": {
      "text/plain": [
       "genre_of_ct_cl\n",
       "드라마        1011\n",
       "액션/어드벤쳐     977\n",
       "공포/스릴러      639\n",
       "멜로          329\n",
       "코미디         265\n",
       "애니메이션       169\n",
       "SF/환타지      159\n",
       "다큐멘터리       126\n",
       "기타           88\n",
       "로맨틱코미디       37\n",
       "무협           37\n",
       "에로틱          35\n",
       "단편           12\n",
       "서부            7\n",
       "뮤지컬           6\n",
       "역사            2\n",
       "인물            2\n",
       "Name: count, dtype: int64"
      ]
     },
     "execution_count": 20,
     "metadata": {},
     "output_type": "execute_result"
    }
   ],
   "source": [
    "# 결과 확인\n",
    "print(filtered_movies.shape)\n",
    "filtered_movies['genre_of_ct_cl'].value_counts()\n",
    "\n",
    "### (4241, 6) >> (3901, 6) >> 340개의 행 삭제"
   ]
  },
  {
   "cell_type": "code",
   "execution_count": 21,
   "metadata": {},
   "outputs": [
    {
     "data": {
      "text/html": [
       "<div>\n",
       "<style scoped>\n",
       "    .dataframe tbody tr th:only-of-type {\n",
       "        vertical-align: middle;\n",
       "    }\n",
       "\n",
       "    .dataframe tbody tr th {\n",
       "        vertical-align: top;\n",
       "    }\n",
       "\n",
       "    .dataframe thead th {\n",
       "        text-align: right;\n",
       "    }\n",
       "</style>\n",
       "<table border=\"1\" class=\"dataframe\">\n",
       "  <thead>\n",
       "    <tr style=\"text-align: right;\">\n",
       "      <th></th>\n",
       "      <th>asset_nm_전처리</th>\n",
       "      <th>ct_cl</th>\n",
       "      <th>genre_of_ct_cl</th>\n",
       "      <th>summary_최신순</th>\n",
       "      <th>최신순</th>\n",
       "      <th>genre_tmdb</th>\n",
       "    </tr>\n",
       "  </thead>\n",
       "  <tbody>\n",
       "    <tr>\n",
       "      <th>0</th>\n",
       "      <td>귀멸의 칼날: 남매의 연</td>\n",
       "      <td>영화</td>\n",
       "      <td>애니메이션</td>\n",
       "      <td>혈귀의 습격으로 가족을 잃은 소년 ‘탄지로’. 유일하게 살아남은 여동생 ‘네즈코’마...</td>\n",
       "      <td>2019-03-29</td>\n",
       "      <td>Animation, Action, Fantasy, Thriller</td>\n",
       "    </tr>\n",
       "    <tr>\n",
       "      <th>1</th>\n",
       "      <td>색에 놀다</td>\n",
       "      <td>영화</td>\n",
       "      <td>에로틱</td>\n",
       "      <td>하얀 색의 순수하고 착한 사랑을 꿈꾸는 25살 모태 솔로 지수. 그녀의 짝사랑 상대...</td>\n",
       "      <td>2017-01-01</td>\n",
       "      <td>Thriller, Drama, Romance</td>\n",
       "    </tr>\n",
       "    <tr>\n",
       "      <th>2</th>\n",
       "      <td>돌이킬 수 없는 주말</td>\n",
       "      <td>영화</td>\n",
       "      <td>공포/스릴러</td>\n",
       "      <td>베키는 결혼을 앞두고 친구 수잔과 함께 다트무어로 여행을 떠난다. 그곳에서 신비한 ...</td>\n",
       "      <td>2015-09-18</td>\n",
       "      <td>Drama, Horror, Mystery</td>\n",
       "    </tr>\n",
       "  </tbody>\n",
       "</table>\n",
       "</div>"
      ],
      "text/plain": [
       "    asset_nm_전처리 ct_cl genre_of_ct_cl  \\\n",
       "0  귀멸의 칼날: 남매의 연    영화          애니메이션   \n",
       "1          색에 놀다    영화            에로틱   \n",
       "2    돌이킬 수 없는 주말    영화         공포/스릴러   \n",
       "\n",
       "                                         summary_최신순         최신순  \\\n",
       "0  혈귀의 습격으로 가족을 잃은 소년 ‘탄지로’. 유일하게 살아남은 여동생 ‘네즈코’마...  2019-03-29   \n",
       "1  하얀 색의 순수하고 착한 사랑을 꿈꾸는 25살 모태 솔로 지수. 그녀의 짝사랑 상대...  2017-01-01   \n",
       "2  베키는 결혼을 앞두고 친구 수잔과 함께 다트무어로 여행을 떠난다. 그곳에서 신비한 ...  2015-09-18   \n",
       "\n",
       "                             genre_tmdb  \n",
       "0  Animation, Action, Fantasy, Thriller  \n",
       "1              Thriller, Drama, Romance  \n",
       "2                Drama, Horror, Mystery  "
      ]
     },
     "execution_count": 21,
     "metadata": {},
     "output_type": "execute_result"
    }
   ],
   "source": [
    "# 인덱스 정렬\n",
    "filtered_movies = filtered_movies.reset_index(drop=True)\n",
    "filtered_movies.head(3)"
   ]
  },
  {
   "cell_type": "markdown",
   "metadata": {},
   "source": [
    "<br>\n",
    "\n",
    "#### *>> 사용하지 않을 열 drop*"
   ]
  },
  {
   "cell_type": "code",
   "execution_count": 22,
   "metadata": {},
   "outputs": [
    {
     "data": {
      "text/html": [
       "<div>\n",
       "<style scoped>\n",
       "    .dataframe tbody tr th:only-of-type {\n",
       "        vertical-align: middle;\n",
       "    }\n",
       "\n",
       "    .dataframe tbody tr th {\n",
       "        vertical-align: top;\n",
       "    }\n",
       "\n",
       "    .dataframe thead th {\n",
       "        text-align: right;\n",
       "    }\n",
       "</style>\n",
       "<table border=\"1\" class=\"dataframe\">\n",
       "  <thead>\n",
       "    <tr style=\"text-align: right;\">\n",
       "      <th></th>\n",
       "      <th>asset_nm_전처리</th>\n",
       "      <th>genre_of_ct_cl</th>\n",
       "      <th>summary_최신순</th>\n",
       "      <th>genre_tmdb</th>\n",
       "    </tr>\n",
       "  </thead>\n",
       "  <tbody>\n",
       "    <tr>\n",
       "      <th>0</th>\n",
       "      <td>귀멸의 칼날: 남매의 연</td>\n",
       "      <td>애니메이션</td>\n",
       "      <td>혈귀의 습격으로 가족을 잃은 소년 ‘탄지로’. 유일하게 살아남은 여동생 ‘네즈코’마...</td>\n",
       "      <td>Animation, Action, Fantasy, Thriller</td>\n",
       "    </tr>\n",
       "    <tr>\n",
       "      <th>1</th>\n",
       "      <td>색에 놀다</td>\n",
       "      <td>에로틱</td>\n",
       "      <td>하얀 색의 순수하고 착한 사랑을 꿈꾸는 25살 모태 솔로 지수. 그녀의 짝사랑 상대...</td>\n",
       "      <td>Thriller, Drama, Romance</td>\n",
       "    </tr>\n",
       "    <tr>\n",
       "      <th>2</th>\n",
       "      <td>돌이킬 수 없는 주말</td>\n",
       "      <td>공포/스릴러</td>\n",
       "      <td>베키는 결혼을 앞두고 친구 수잔과 함께 다트무어로 여행을 떠난다. 그곳에서 신비한 ...</td>\n",
       "      <td>Drama, Horror, Mystery</td>\n",
       "    </tr>\n",
       "  </tbody>\n",
       "</table>\n",
       "</div>"
      ],
      "text/plain": [
       "    asset_nm_전처리 genre_of_ct_cl  \\\n",
       "0  귀멸의 칼날: 남매의 연          애니메이션   \n",
       "1          색에 놀다            에로틱   \n",
       "2    돌이킬 수 없는 주말         공포/스릴러   \n",
       "\n",
       "                                         summary_최신순  \\\n",
       "0  혈귀의 습격으로 가족을 잃은 소년 ‘탄지로’. 유일하게 살아남은 여동생 ‘네즈코’마...   \n",
       "1  하얀 색의 순수하고 착한 사랑을 꿈꾸는 25살 모태 솔로 지수. 그녀의 짝사랑 상대...   \n",
       "2  베키는 결혼을 앞두고 친구 수잔과 함께 다트무어로 여행을 떠난다. 그곳에서 신비한 ...   \n",
       "\n",
       "                             genre_tmdb  \n",
       "0  Animation, Action, Fantasy, Thriller  \n",
       "1              Thriller, Drama, Romance  \n",
       "2                Drama, Horror, Mystery  "
      ]
     },
     "execution_count": 22,
     "metadata": {},
     "output_type": "execute_result"
    }
   ],
   "source": [
    "col_to_drop = ['ct_cl', '최신순']\n",
    "drop_movies = filtered_movies.drop(columns=col_to_drop, axis=1)\n",
    "\n",
    "drop_movies.head(3)"
   ]
  },
  {
   "cell_type": "markdown",
   "metadata": {},
   "source": [
    "<br>\n",
    "\n",
    "#### *>> 열 이름 변경*"
   ]
  },
  {
   "cell_type": "code",
   "execution_count": 23,
   "metadata": {},
   "outputs": [
    {
     "data": {
      "text/html": [
       "<div>\n",
       "<style scoped>\n",
       "    .dataframe tbody tr th:only-of-type {\n",
       "        vertical-align: middle;\n",
       "    }\n",
       "\n",
       "    .dataframe tbody tr th {\n",
       "        vertical-align: top;\n",
       "    }\n",
       "\n",
       "    .dataframe thead th {\n",
       "        text-align: right;\n",
       "    }\n",
       "</style>\n",
       "<table border=\"1\" class=\"dataframe\">\n",
       "  <thead>\n",
       "    <tr style=\"text-align: right;\">\n",
       "      <th></th>\n",
       "      <th>movie_title</th>\n",
       "      <th>genre</th>\n",
       "      <th>summary</th>\n",
       "      <th>genre_tmdb</th>\n",
       "    </tr>\n",
       "  </thead>\n",
       "  <tbody>\n",
       "    <tr>\n",
       "      <th>0</th>\n",
       "      <td>귀멸의 칼날: 남매의 연</td>\n",
       "      <td>애니메이션</td>\n",
       "      <td>혈귀의 습격으로 가족을 잃은 소년 ‘탄지로’. 유일하게 살아남은 여동생 ‘네즈코’마...</td>\n",
       "      <td>Animation, Action, Fantasy, Thriller</td>\n",
       "    </tr>\n",
       "  </tbody>\n",
       "</table>\n",
       "</div>"
      ],
      "text/plain": [
       "     movie_title  genre                                            summary  \\\n",
       "0  귀멸의 칼날: 남매의 연  애니메이션  혈귀의 습격으로 가족을 잃은 소년 ‘탄지로’. 유일하게 살아남은 여동생 ‘네즈코’마...   \n",
       "\n",
       "                             genre_tmdb  \n",
       "0  Animation, Action, Fantasy, Thriller  "
      ]
     },
     "execution_count": 23,
     "metadata": {},
     "output_type": "execute_result"
    }
   ],
   "source": [
    "drop_movies.rename(columns={'asset_nm_전처리':'movie_title', 'genre_of_ct_cl':'genre', \n",
    "                            'summary_최신순':'summary'}, inplace=True)\n",
    "drop_movies.head(1)"
   ]
  },
  {
   "cell_type": "markdown",
   "metadata": {},
   "source": [
    "<br><br><br><hr>\n",
    "\n",
    "## **✅ 03. 데이터프레임 저장**"
   ]
  },
  {
   "cell_type": "code",
   "execution_count": 25,
   "metadata": {},
   "outputs": [],
   "source": [
    "drop_movies.to_csv('../data/movie_4000_preprocessed.csv', encoding='utf8', index=False)"
   ]
  },
  {
   "cell_type": "code",
   "execution_count": 26,
   "metadata": {},
   "outputs": [
    {
     "name": "stdout",
     "output_type": "stream",
     "text": [
      "(3901, 4)\n"
     ]
    },
    {
     "data": {
      "text/html": [
       "<div>\n",
       "<style scoped>\n",
       "    .dataframe tbody tr th:only-of-type {\n",
       "        vertical-align: middle;\n",
       "    }\n",
       "\n",
       "    .dataframe tbody tr th {\n",
       "        vertical-align: top;\n",
       "    }\n",
       "\n",
       "    .dataframe thead th {\n",
       "        text-align: right;\n",
       "    }\n",
       "</style>\n",
       "<table border=\"1\" class=\"dataframe\">\n",
       "  <thead>\n",
       "    <tr style=\"text-align: right;\">\n",
       "      <th></th>\n",
       "      <th>movie_title</th>\n",
       "      <th>genre</th>\n",
       "      <th>summary</th>\n",
       "      <th>genre_tmdb</th>\n",
       "    </tr>\n",
       "  </thead>\n",
       "  <tbody>\n",
       "    <tr>\n",
       "      <th>0</th>\n",
       "      <td>귀멸의 칼날: 남매의 연</td>\n",
       "      <td>애니메이션</td>\n",
       "      <td>혈귀의 습격으로 가족을 잃은 소년 ‘탄지로’. 유일하게 살아남은 여동생 ‘네즈코’마...</td>\n",
       "      <td>Animation, Action, Fantasy, Thriller</td>\n",
       "    </tr>\n",
       "    <tr>\n",
       "      <th>1</th>\n",
       "      <td>색에 놀다</td>\n",
       "      <td>에로틱</td>\n",
       "      <td>하얀 색의 순수하고 착한 사랑을 꿈꾸는 25살 모태 솔로 지수. 그녀의 짝사랑 상대...</td>\n",
       "      <td>Thriller, Drama, Romance</td>\n",
       "    </tr>\n",
       "    <tr>\n",
       "      <th>2</th>\n",
       "      <td>돌이킬 수 없는 주말</td>\n",
       "      <td>공포/스릴러</td>\n",
       "      <td>베키는 결혼을 앞두고 친구 수잔과 함께 다트무어로 여행을 떠난다. 그곳에서 신비한 ...</td>\n",
       "      <td>Drama, Horror, Mystery</td>\n",
       "    </tr>\n",
       "    <tr>\n",
       "      <th>3</th>\n",
       "      <td>섹스 앤 머니</td>\n",
       "      <td>액션/어드벤쳐</td>\n",
       "      <td>갱단 두목 페페는 라이벌 갱단 두목 조조와 세력 다툼을 벌이다 쫓기는 신세가 된다....</td>\n",
       "      <td>Action, Thriller</td>\n",
       "    </tr>\n",
       "    <tr>\n",
       "      <th>4</th>\n",
       "      <td>서울의 봄</td>\n",
       "      <td>드라마</td>\n",
       "      <td>박 대통령의 암살 이후, 계엄령이 선포된다. 국군보안사령관 전두광과 그를 따르는 장...</td>\n",
       "      <td>Drama, History, Thriller, Crime, War</td>\n",
       "    </tr>\n",
       "  </tbody>\n",
       "</table>\n",
       "</div>"
      ],
      "text/plain": [
       "     movie_title    genre                                            summary  \\\n",
       "0  귀멸의 칼날: 남매의 연    애니메이션  혈귀의 습격으로 가족을 잃은 소년 ‘탄지로’. 유일하게 살아남은 여동생 ‘네즈코’마...   \n",
       "1          색에 놀다      에로틱  하얀 색의 순수하고 착한 사랑을 꿈꾸는 25살 모태 솔로 지수. 그녀의 짝사랑 상대...   \n",
       "2    돌이킬 수 없는 주말   공포/스릴러  베키는 결혼을 앞두고 친구 수잔과 함께 다트무어로 여행을 떠난다. 그곳에서 신비한 ...   \n",
       "3        섹스 앤 머니  액션/어드벤쳐  갱단 두목 페페는 라이벌 갱단 두목 조조와 세력 다툼을 벌이다 쫓기는 신세가 된다....   \n",
       "4          서울의 봄      드라마  박 대통령의 암살 이후, 계엄령이 선포된다. 국군보안사령관 전두광과 그를 따르는 장...   \n",
       "\n",
       "                             genre_tmdb  \n",
       "0  Animation, Action, Fantasy, Thriller  \n",
       "1              Thriller, Drama, Romance  \n",
       "2                Drama, Horror, Mystery  \n",
       "3                      Action, Thriller  \n",
       "4  Drama, History, Thriller, Crime, War  "
      ]
     },
     "execution_count": 26,
     "metadata": {},
     "output_type": "execute_result"
    }
   ],
   "source": [
    "# 확인\n",
    "result = pd.read_csv('../data/movie_4000_preprocessed.csv', encoding='utf8')\n",
    "print(result.shape)\n",
    "result.head()"
   ]
  },
  {
   "cell_type": "code",
   "execution_count": null,
   "metadata": {},
   "outputs": [],
   "source": []
  }
 ],
 "metadata": {
  "kernelspec": {
   "display_name": "Python 3",
   "language": "python",
   "name": "python3"
  },
  "language_info": {
   "codemirror_mode": {
    "name": "ipython",
    "version": 3
   },
   "file_extension": ".py",
   "mimetype": "text/x-python",
   "name": "python",
   "nbconvert_exporter": "python",
   "pygments_lexer": "ipython3",
   "version": "3.11.9"
  }
 },
 "nbformat": 4,
 "nbformat_minor": 2
}
