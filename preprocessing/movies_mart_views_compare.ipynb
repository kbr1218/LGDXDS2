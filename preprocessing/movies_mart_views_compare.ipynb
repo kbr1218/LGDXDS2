{
 "cells": [
  {
   "cell_type": "markdown",
   "metadata": {},
   "source": [
    "# VOD 영화 시청기록 데이터 - 마트 데이터 전처리"
   ]
  },
  {
   "cell_type": "markdown",
   "metadata": {},
   "source": [
    "<br><hr>\n",
    "\n",
    "### 00. 기본 설정"
   ]
  },
  {
   "cell_type": "code",
   "execution_count": 1,
   "metadata": {},
   "outputs": [],
   "source": [
    "import pandas as pd\n",
    "\n",
    "# 경고 메시지 출력 X\n",
    "import warnings\n",
    "warnings.filterwarnings(\"ignore\")"
   ]
  },
  {
   "cell_type": "markdown",
   "metadata": {},
   "source": [
    "<br><hr>\n",
    "\n",
    "### 01. 데이터 불러오기"
   ]
  },
  {
   "cell_type": "code",
   "execution_count": 2,
   "metadata": {},
   "outputs": [
    {
     "name": "stdout",
     "output_type": "stream",
     "text": [
      "(11887938, 10)\n",
      "(53874, 19)\n"
     ]
    }
   ],
   "source": [
    "views = pd.read_csv('../data/movies_시청기록병합_asset정리안됨.csv', encoding='utf8')\n",
    "mart = pd.read_csv('../data/영화_전처리.csv', encoding='utf8')\n",
    "print(views.shape)  # 1188만 7938개\n",
    "print(mart.shape)   # 5만 3882개"
   ]
  },
  {
   "cell_type": "code",
   "execution_count": 5,
   "metadata": {},
   "outputs": [
    {
     "name": "stdout",
     "output_type": "stream",
     "text": [
      "Index(['sha2_hash', 'asset', 'asset_nm', 'CT_CL', 'genre_of_ct_cl', 'use_tms',\n",
      "       'disp_rtm', 'strt_dt', 'category', 'userId'],\n",
      "      dtype='object')\n",
      "Index(['full_asset_id', 'release_year', 'genre', 'vote_count', 'vote_average',\n",
      "       'runtime', 'popularity', 'poster_path', 'original_title',\n",
      "       'original_language', 'backdrop_path', 'adult', 'release_date',\n",
      "       'movie_id', 'orgnl_cntry', 'name', 'actr_disp', 'director', 'overview'],\n",
      "      dtype='object')\n"
     ]
    }
   ],
   "source": [
    "# 컬럼 확인\n",
    "print(views.columns)\n",
    "print(mart.columns)"
   ]
  },
  {
   "cell_type": "markdown",
   "metadata": {},
   "source": [
    "<br><hr>\n",
    "\n",
    "### 02. 시청기록[asset] - VOD마트[full_asset_id] 비교"
   ]
  },
  {
   "cell_type": "code",
   "execution_count": 6,
   "metadata": {},
   "outputs": [
    {
     "data": {
      "text/plain": [
       "(10306830, 10)"
      ]
     },
     "execution_count": 6,
     "metadata": {},
     "output_type": "execute_result"
    }
   ],
   "source": [
    "views_in_mart =  views[views['asset'].isin(mart['full_asset_id'])]\n",
    "views_in_mart.shape  # 1188만 7938개 >> 1030만 6830개 (158만 1108개 삭제)"
   ]
  },
  {
   "cell_type": "markdown",
   "metadata": {},
   "source": [
    "*VOD mart와 시청기록의 asset id를 통일하기 위해, VOD 마트에서 같은 `name`-`movie_id`를 가진 영화들이 가진 `full_asset_id` 중 대푯값을 선정해 해당 영화의 asset_id를 통일시키고, 시청기록 데이터에서도 `full_asset_id` 리스트와 같은 값이 있는 영화들의 asset id도 그 영화의 대푯값으로 변경*"
   ]
  },
  {
   "cell_type": "code",
   "execution_count": 111,
   "metadata": {},
   "outputs": [],
   "source": [
    "# 1. VODmart에서 대푯값 선정\n",
    "# title과 overview를 기준으로 그룹화하여 첫 번째 full_asset_id를 대푯값으로 선택\n",
    "representative_ids = (\n",
    "    mart.groupby([\"name\", \"movie_id\"])[\"full_asset_id\"]\n",
    "    .first()  # 첫 번째 값을 대푯값으로 선정\n",
    "    .reset_index()\n",
    "    .rename(columns={\"full_asset_id\": \"representative_asset_id\"})\n",
    ") "
   ]
  },
  {
   "cell_type": "code",
   "execution_count": 112,
   "metadata": {},
   "outputs": [],
   "source": [
    "# 2. VODmart에 대푯값 추가\n",
    "mart = mart.merge(representative_ids, on=[\"name\", \"movie_id\"], how=\"left\")"
   ]
  },
  {
   "cell_type": "code",
   "execution_count": 113,
   "metadata": {},
   "outputs": [
    {
     "ename": "KeyError",
     "evalue": "'representative_asset_id'",
     "output_type": "error",
     "traceback": [
      "\u001b[1;31m---------------------------------------------------------------------------\u001b[0m",
      "\u001b[1;31mKeyError\u001b[0m                                  Traceback (most recent call last)",
      "File \u001b[1;32mc:\\workspaces\\LGDXteam2\\.venv\\Lib\\site-packages\\pandas\\core\\indexes\\base.py:3805\u001b[0m, in \u001b[0;36mIndex.get_loc\u001b[1;34m(self, key)\u001b[0m\n\u001b[0;32m   3804\u001b[0m \u001b[38;5;28;01mtry\u001b[39;00m:\n\u001b[1;32m-> 3805\u001b[0m     \u001b[38;5;28;01mreturn\u001b[39;00m \u001b[38;5;28;43mself\u001b[39;49m\u001b[38;5;241;43m.\u001b[39;49m\u001b[43m_engine\u001b[49m\u001b[38;5;241;43m.\u001b[39;49m\u001b[43mget_loc\u001b[49m\u001b[43m(\u001b[49m\u001b[43mcasted_key\u001b[49m\u001b[43m)\u001b[49m\n\u001b[0;32m   3806\u001b[0m \u001b[38;5;28;01mexcept\u001b[39;00m \u001b[38;5;167;01mKeyError\u001b[39;00m \u001b[38;5;28;01mas\u001b[39;00m err:\n",
      "File \u001b[1;32mindex.pyx:167\u001b[0m, in \u001b[0;36mpandas._libs.index.IndexEngine.get_loc\u001b[1;34m()\u001b[0m\n",
      "File \u001b[1;32mindex.pyx:196\u001b[0m, in \u001b[0;36mpandas._libs.index.IndexEngine.get_loc\u001b[1;34m()\u001b[0m\n",
      "File \u001b[1;32mpandas\\\\_libs\\\\hashtable_class_helper.pxi:7081\u001b[0m, in \u001b[0;36mpandas._libs.hashtable.PyObjectHashTable.get_item\u001b[1;34m()\u001b[0m\n",
      "File \u001b[1;32mpandas\\\\_libs\\\\hashtable_class_helper.pxi:7089\u001b[0m, in \u001b[0;36mpandas._libs.hashtable.PyObjectHashTable.get_item\u001b[1;34m()\u001b[0m\n",
      "\u001b[1;31mKeyError\u001b[0m: 'representative_asset_id'",
      "\nThe above exception was the direct cause of the following exception:\n",
      "\u001b[1;31mKeyError\u001b[0m                                  Traceback (most recent call last)",
      "Cell \u001b[1;32mIn[113], line 3\u001b[0m\n\u001b[0;32m      1\u001b[0m \u001b[38;5;66;03m# 3. 시청기록 데이터에서 대푯값으로 asset_id 변경\u001b[39;00m\n\u001b[0;32m      2\u001b[0m \u001b[38;5;66;03m# full_asset_id와 대푯값 매핑 테이블 생성\u001b[39;00m\n\u001b[1;32m----> 3\u001b[0m id_mapping \u001b[38;5;241m=\u001b[39m \u001b[43mmart\u001b[49m\u001b[38;5;241;43m.\u001b[39;49m\u001b[43mset_index\u001b[49m\u001b[43m(\u001b[49m\u001b[38;5;124;43m\"\u001b[39;49m\u001b[38;5;124;43mfull_asset_id\u001b[39;49m\u001b[38;5;124;43m\"\u001b[39;49m\u001b[43m)\u001b[49m\u001b[43m[\u001b[49m\u001b[38;5;124;43m\"\u001b[39;49m\u001b[38;5;124;43mrepresentative_asset_id\u001b[39;49m\u001b[38;5;124;43m\"\u001b[39;49m\u001b[43m]\u001b[49m\u001b[38;5;241m.\u001b[39mto_dict()\n",
      "File \u001b[1;32mc:\\workspaces\\LGDXteam2\\.venv\\Lib\\site-packages\\pandas\\core\\frame.py:4102\u001b[0m, in \u001b[0;36mDataFrame.__getitem__\u001b[1;34m(self, key)\u001b[0m\n\u001b[0;32m   4100\u001b[0m \u001b[38;5;28;01mif\u001b[39;00m \u001b[38;5;28mself\u001b[39m\u001b[38;5;241m.\u001b[39mcolumns\u001b[38;5;241m.\u001b[39mnlevels \u001b[38;5;241m>\u001b[39m \u001b[38;5;241m1\u001b[39m:\n\u001b[0;32m   4101\u001b[0m     \u001b[38;5;28;01mreturn\u001b[39;00m \u001b[38;5;28mself\u001b[39m\u001b[38;5;241m.\u001b[39m_getitem_multilevel(key)\n\u001b[1;32m-> 4102\u001b[0m indexer \u001b[38;5;241m=\u001b[39m \u001b[38;5;28;43mself\u001b[39;49m\u001b[38;5;241;43m.\u001b[39;49m\u001b[43mcolumns\u001b[49m\u001b[38;5;241;43m.\u001b[39;49m\u001b[43mget_loc\u001b[49m\u001b[43m(\u001b[49m\u001b[43mkey\u001b[49m\u001b[43m)\u001b[49m\n\u001b[0;32m   4103\u001b[0m \u001b[38;5;28;01mif\u001b[39;00m is_integer(indexer):\n\u001b[0;32m   4104\u001b[0m     indexer \u001b[38;5;241m=\u001b[39m [indexer]\n",
      "File \u001b[1;32mc:\\workspaces\\LGDXteam2\\.venv\\Lib\\site-packages\\pandas\\core\\indexes\\base.py:3812\u001b[0m, in \u001b[0;36mIndex.get_loc\u001b[1;34m(self, key)\u001b[0m\n\u001b[0;32m   3807\u001b[0m     \u001b[38;5;28;01mif\u001b[39;00m \u001b[38;5;28misinstance\u001b[39m(casted_key, \u001b[38;5;28mslice\u001b[39m) \u001b[38;5;129;01mor\u001b[39;00m (\n\u001b[0;32m   3808\u001b[0m         \u001b[38;5;28misinstance\u001b[39m(casted_key, abc\u001b[38;5;241m.\u001b[39mIterable)\n\u001b[0;32m   3809\u001b[0m         \u001b[38;5;129;01mand\u001b[39;00m \u001b[38;5;28many\u001b[39m(\u001b[38;5;28misinstance\u001b[39m(x, \u001b[38;5;28mslice\u001b[39m) \u001b[38;5;28;01mfor\u001b[39;00m x \u001b[38;5;129;01min\u001b[39;00m casted_key)\n\u001b[0;32m   3810\u001b[0m     ):\n\u001b[0;32m   3811\u001b[0m         \u001b[38;5;28;01mraise\u001b[39;00m InvalidIndexError(key)\n\u001b[1;32m-> 3812\u001b[0m     \u001b[38;5;28;01mraise\u001b[39;00m \u001b[38;5;167;01mKeyError\u001b[39;00m(key) \u001b[38;5;28;01mfrom\u001b[39;00m \u001b[38;5;21;01merr\u001b[39;00m\n\u001b[0;32m   3813\u001b[0m \u001b[38;5;28;01mexcept\u001b[39;00m \u001b[38;5;167;01mTypeError\u001b[39;00m:\n\u001b[0;32m   3814\u001b[0m     \u001b[38;5;66;03m# If we have a listlike key, _check_indexing_error will raise\u001b[39;00m\n\u001b[0;32m   3815\u001b[0m     \u001b[38;5;66;03m#  InvalidIndexError. Otherwise we fall through and re-raise\u001b[39;00m\n\u001b[0;32m   3816\u001b[0m     \u001b[38;5;66;03m#  the TypeError.\u001b[39;00m\n\u001b[0;32m   3817\u001b[0m     \u001b[38;5;28mself\u001b[39m\u001b[38;5;241m.\u001b[39m_check_indexing_error(key)\n",
      "\u001b[1;31mKeyError\u001b[0m: 'representative_asset_id'"
     ]
    }
   ],
   "source": [
    "# 3. 시청기록 데이터에서 대푯값으로 asset_id 변경\n",
    "# full_asset_id와 대푯값 매핑 테이블 생성\n",
    "id_mapping = mart.set_index(\"full_asset_id\")[\"representative_asset_id\"].to_dict()"
   ]
  },
  {
   "cell_type": "code",
   "execution_count": 53,
   "metadata": {},
   "outputs": [],
   "source": [
    "# 시청기록의 asset 값을 대푯값으로 변경\n",
    "views[\"asset\"] = views[\"asset\"].map(id_mapping)"
   ]
  },
  {
   "cell_type": "code",
   "execution_count": 54,
   "metadata": {},
   "outputs": [
    {
     "data": {
      "text/plain": [
       "(71039, 20)"
      ]
     },
     "execution_count": 54,
     "metadata": {},
     "output_type": "execute_result"
    }
   ],
   "source": [
    "mart.shape"
   ]
  },
  {
   "cell_type": "markdown",
   "metadata": {},
   "source": [
    "#### *mart에서 같은 제목-대푯값 asset_id를 가진 데이터의 중복 제거*"
   ]
  },
  {
   "cell_type": "code",
   "execution_count": 63,
   "metadata": {},
   "outputs": [
    {
     "data": {
      "text/html": [
       "<div>\n",
       "<style scoped>\n",
       "    .dataframe tbody tr th:only-of-type {\n",
       "        vertical-align: middle;\n",
       "    }\n",
       "\n",
       "    .dataframe tbody tr th {\n",
       "        vertical-align: top;\n",
       "    }\n",
       "\n",
       "    .dataframe thead th {\n",
       "        text-align: right;\n",
       "    }\n",
       "</style>\n",
       "<table border=\"1\" class=\"dataframe\">\n",
       "  <thead>\n",
       "    <tr style=\"text-align: right;\">\n",
       "      <th></th>\n",
       "      <th>name</th>\n",
       "      <th>overview</th>\n",
       "      <th>orgnl_cntry</th>\n",
       "      <th>movie_id</th>\n",
       "      <th>release_date</th>\n",
       "      <th>adult</th>\n",
       "      <th>backdrop_path</th>\n",
       "      <th>original_language</th>\n",
       "      <th>original_title</th>\n",
       "      <th>poster_path</th>\n",
       "      <th>popularity</th>\n",
       "      <th>runtime</th>\n",
       "      <th>vote_average</th>\n",
       "      <th>vote_count</th>\n",
       "      <th>genre</th>\n",
       "      <th>release_year</th>\n",
       "      <th>full_asset_id</th>\n",
       "      <th>actr_disp</th>\n",
       "      <th>director</th>\n",
       "      <th>representative_asset_id</th>\n",
       "    </tr>\n",
       "  </thead>\n",
       "  <tbody>\n",
       "    <tr>\n",
       "      <th>29694</th>\n",
       "      <td>올빼미</td>\n",
       "      <td>맹인이지만 뛰어난 침술 실력을 지닌 경수는 어의 이형익에게 그 재주를 인정받아 궁으...</td>\n",
       "      <td>대한민국</td>\n",
       "      <td>806128</td>\n",
       "      <td>2022-11-23</td>\n",
       "      <td>False</td>\n",
       "      <td>/qpMRsjLBI9tVL8T6kzgojbhfyyh.jpg</td>\n",
       "      <td>ko</td>\n",
       "      <td>올빼미</td>\n",
       "      <td>/i1pkFRi96SsIqat5vIoFHCwysv1.jpg</td>\n",
       "      <td>8.423</td>\n",
       "      <td>118.0</td>\n",
       "      <td>7.4</td>\n",
       "      <td>51.0</td>\n",
       "      <td>스릴러, 미스터리</td>\n",
       "      <td>2022.0</td>\n",
       "      <td>cjc|M5165344LSVL72331901</td>\n",
       "      <td>류준열,유해진,최무성,조성하,박명훈,김성철,안은진,조윤서</td>\n",
       "      <td>안태진</td>\n",
       "      <td>cjc|M5165344LSVL72331901</td>\n",
       "    </tr>\n",
       "  </tbody>\n",
       "</table>\n",
       "</div>"
      ],
      "text/plain": [
       "      name                                           overview orgnl_cntry  \\\n",
       "29694  올빼미  맹인이지만 뛰어난 침술 실력을 지닌 경수는 어의 이형익에게 그 재주를 인정받아 궁으...        대한민국   \n",
       "\n",
       "       movie_id release_date  adult                     backdrop_path  \\\n",
       "29694    806128   2022-11-23  False  /qpMRsjLBI9tVL8T6kzgojbhfyyh.jpg   \n",
       "\n",
       "      original_language original_title                       poster_path  \\\n",
       "29694                ko            올빼미  /i1pkFRi96SsIqat5vIoFHCwysv1.jpg   \n",
       "\n",
       "       popularity  runtime  vote_average  vote_count      genre  release_year  \\\n",
       "29694       8.423    118.0           7.4        51.0  스릴러, 미스터리        2022.0   \n",
       "\n",
       "                  full_asset_id                        actr_disp director  \\\n",
       "29694  cjc|M5165344LSVL72331901  류준열,유해진,최무성,조성하,박명훈,김성철,안은진,조윤서      안태진   \n",
       "\n",
       "        representative_asset_id  \n",
       "29694  cjc|M5165344LSVL72331901  "
      ]
     },
     "execution_count": 63,
     "metadata": {},
     "output_type": "execute_result"
    }
   ],
   "source": [
    "vodmart_unique = mart.drop_duplicates(subset=[\"name\", \"movie_id\", \"representative_asset_id\"])\n",
    "vodmart_unique[vodmart_unique['name']=='올빼미']"
   ]
  },
  {
   "cell_type": "code",
   "execution_count": 64,
   "metadata": {},
   "outputs": [
    {
     "name": "stdout",
     "output_type": "stream",
     "text": [
      "(71039, 20)\n",
      "(14452, 20)\n"
     ]
    }
   ],
   "source": [
    "print(mart.shape)             # 7만 1039개\n",
    "print(vodmart_unique.shape)   # 1만 4452개"
   ]
  },
  {
   "cell_type": "markdown",
   "metadata": {},
   "source": [
    "#### *인덱스 재정렬 & 컬럼명 정리 & 사용하지 않을 컬럼 정리*"
   ]
  },
  {
   "cell_type": "code",
   "execution_count": 65,
   "metadata": {},
   "outputs": [
    {
     "data": {
      "text/html": [
       "<div>\n",
       "<style scoped>\n",
       "    .dataframe tbody tr th:only-of-type {\n",
       "        vertical-align: middle;\n",
       "    }\n",
       "\n",
       "    .dataframe tbody tr th {\n",
       "        vertical-align: top;\n",
       "    }\n",
       "\n",
       "    .dataframe thead th {\n",
       "        text-align: right;\n",
       "    }\n",
       "</style>\n",
       "<table border=\"1\" class=\"dataframe\">\n",
       "  <thead>\n",
       "    <tr style=\"text-align: right;\">\n",
       "      <th></th>\n",
       "      <th>name</th>\n",
       "      <th>overview</th>\n",
       "      <th>orgnl_cntry</th>\n",
       "      <th>movie_id</th>\n",
       "      <th>release_date</th>\n",
       "      <th>adult</th>\n",
       "      <th>backdrop_path</th>\n",
       "      <th>original_language</th>\n",
       "      <th>original_title</th>\n",
       "      <th>poster_path</th>\n",
       "      <th>popularity</th>\n",
       "      <th>runtime</th>\n",
       "      <th>vote_average</th>\n",
       "      <th>vote_count</th>\n",
       "      <th>genre</th>\n",
       "      <th>release_year</th>\n",
       "      <th>full_asset_id</th>\n",
       "      <th>actr_disp</th>\n",
       "      <th>director</th>\n",
       "      <th>representative_asset_id</th>\n",
       "    </tr>\n",
       "  </thead>\n",
       "  <tbody>\n",
       "    <tr>\n",
       "      <th>0</th>\n",
       "      <td>언니가 간다</td>\n",
       "      <td>서른 살, 화려한 의상 디자이너를 꿈꿨지만 장 의상실에서 디자인 보다는 주로 잡일을...</td>\n",
       "      <td>대한민국</td>\n",
       "      <td>109507</td>\n",
       "      <td>2007-01-04</td>\n",
       "      <td>False</td>\n",
       "      <td>/unnhYUBP8DGw1nNdpiroc7OPiA0.jpg</td>\n",
       "      <td>ko</td>\n",
       "      <td>언니가 간다</td>\n",
       "      <td>/ajItSHWXsPdZCPFMBf413PZTDM0.jpg</td>\n",
       "      <td>3.043</td>\n",
       "      <td>112.0</td>\n",
       "      <td>7.0</td>\n",
       "      <td>9.0</td>\n",
       "      <td>코미디, 로맨스</td>\n",
       "      <td>2007.0</td>\n",
       "      <td>cjc|M0003402LSVC35990401</td>\n",
       "      <td>고소영,이범수,유건,조안,이중문,오미희,옥고운,오달수,김성연,윤종신,박선혜</td>\n",
       "      <td>김창래</td>\n",
       "      <td>cjc|M0003402LSVC35990401</td>\n",
       "    </tr>\n",
       "    <tr>\n",
       "      <th>1</th>\n",
       "      <td>삼거리 극장</td>\n",
       "      <td>할머니와 단 둘이 살던 소녀 소단. 활동 사진 보러 간다는 말만 남기고 사라져 버린...</td>\n",
       "      <td>대한민국</td>\n",
       "      <td>72994</td>\n",
       "      <td>2006-11-23</td>\n",
       "      <td>False</td>\n",
       "      <td>/dE2IDhFlzLi1S5GDuIRHunodl1K.jpg</td>\n",
       "      <td>ko</td>\n",
       "      <td>삼거리 극장</td>\n",
       "      <td>/jBpiv0ct1HnFXIFB49ZSqQ8vQp9.jpg</td>\n",
       "      <td>1.714</td>\n",
       "      <td>120.0</td>\n",
       "      <td>5.1</td>\n",
       "      <td>10.0</td>\n",
       "      <td>공포, 코미디, 판타지</td>\n",
       "      <td>2006.0</td>\n",
       "      <td>cjc|M0007833LSVC36004501</td>\n",
       "      <td>김꽃비,천호진,박준면,조희봉,황강록,김동기,백경인,윤오성,최우혁,이덕재,한애리,박영수</td>\n",
       "      <td>전계수</td>\n",
       "      <td>cjc|M0007833LSVC36004501</td>\n",
       "    </tr>\n",
       "    <tr>\n",
       "      <th>2</th>\n",
       "      <td>4.4.4.</td>\n",
       "      <td>도대체 누가?  유명한 배우이자 모델인 제니퍼 트리는 어느날 정체를 알 수 없는 누...</td>\n",
       "      <td>미국</td>\n",
       "      <td>14125</td>\n",
       "      <td>2007-03-01</td>\n",
       "      <td>False</td>\n",
       "      <td>/pmkccdphrm1tHIjBjGXipOtnfuE.jpg</td>\n",
       "      <td>en</td>\n",
       "      <td>Captivity</td>\n",
       "      <td>/zemQbUeZvRT22EmAJuLOCZhCDJQ.jpg</td>\n",
       "      <td>11.930</td>\n",
       "      <td>85.0</td>\n",
       "      <td>4.9</td>\n",
       "      <td>425.0</td>\n",
       "      <td>범죄, 공포, 스릴러</td>\n",
       "      <td>2007.0</td>\n",
       "      <td>cjc|M0008465LSGM14346201</td>\n",
       "      <td>엘리샤 커스버트,다니엘 길리스,마이클 하니,라즈 알론소,매기 데이몬,프루이트 테일러...</td>\n",
       "      <td>롤랑 조페</td>\n",
       "      <td>cjc|M0008465LSGM14346201</td>\n",
       "    </tr>\n",
       "    <tr>\n",
       "      <th>3</th>\n",
       "      <td>여고생시집가기</td>\n",
       "      <td>때는 서기 570년경. 평강공주의 열 여섯번째 생일을 축하하기 위해 궁전안에 모여 ...</td>\n",
       "      <td>대한민국</td>\n",
       "      <td>63243</td>\n",
       "      <td>2004-12-23</td>\n",
       "      <td>False</td>\n",
       "      <td>/iGtpImtRwGXRibSbUEilt25xSyT.jpg</td>\n",
       "      <td>ko</td>\n",
       "      <td>여고생 시집가기</td>\n",
       "      <td>/iYARJ0XADYiojW7TxNBDReoJ4Ue.jpg</td>\n",
       "      <td>3.461</td>\n",
       "      <td>103.0</td>\n",
       "      <td>4.3</td>\n",
       "      <td>6.0</td>\n",
       "      <td>코미디, 로맨스</td>\n",
       "      <td>2004.0</td>\n",
       "      <td>cjc|M0017676LSGI69616001</td>\n",
       "      <td>은지원,임은경,임성언,심이영,박노식,황재석,김희성,박정율,신효진,김경환,민성주,정다...</td>\n",
       "      <td>오덕환</td>\n",
       "      <td>cjc|M0017676LSGI69616001</td>\n",
       "    </tr>\n",
       "    <tr>\n",
       "      <th>4</th>\n",
       "      <td>B형 남자친구</td>\n",
       "      <td>운명 같은 사랑을 믿는 여대생 하미는, 우연히 길거리에서 마주친 영빈에게 첫눈에 필...</td>\n",
       "      <td>대한민국</td>\n",
       "      <td>49206</td>\n",
       "      <td>2005-02-03</td>\n",
       "      <td>False</td>\n",
       "      <td>/4huJ8IwQdbtgJKIqkUVm5wDjdn8.jpg</td>\n",
       "      <td>ko</td>\n",
       "      <td>B형 남자친구</td>\n",
       "      <td>/mkuGXEcboQjKNWGbDvbIy5Dy3lf.jpg</td>\n",
       "      <td>3.475</td>\n",
       "      <td>96.0</td>\n",
       "      <td>6.3</td>\n",
       "      <td>10.0</td>\n",
       "      <td>코미디</td>\n",
       "      <td>2005.0</td>\n",
       "      <td>cjc|M0018751LSV795151801</td>\n",
       "      <td>이동건,한지혜</td>\n",
       "      <td>최석원</td>\n",
       "      <td>cjc|M0018751LSV795151801</td>\n",
       "    </tr>\n",
       "  </tbody>\n",
       "</table>\n",
       "</div>"
      ],
      "text/plain": [
       "      name                                           overview orgnl_cntry  \\\n",
       "0   언니가 간다  서른 살, 화려한 의상 디자이너를 꿈꿨지만 장 의상실에서 디자인 보다는 주로 잡일을...        대한민국   \n",
       "1   삼거리 극장  할머니와 단 둘이 살던 소녀 소단. 활동 사진 보러 간다는 말만 남기고 사라져 버린...        대한민국   \n",
       "2   4.4.4.  도대체 누가?  유명한 배우이자 모델인 제니퍼 트리는 어느날 정체를 알 수 없는 누...          미국   \n",
       "3  여고생시집가기  때는 서기 570년경. 평강공주의 열 여섯번째 생일을 축하하기 위해 궁전안에 모여 ...        대한민국   \n",
       "4  B형 남자친구  운명 같은 사랑을 믿는 여대생 하미는, 우연히 길거리에서 마주친 영빈에게 첫눈에 필...        대한민국   \n",
       "\n",
       "   movie_id release_date  adult                     backdrop_path  \\\n",
       "0    109507   2007-01-04  False  /unnhYUBP8DGw1nNdpiroc7OPiA0.jpg   \n",
       "1     72994   2006-11-23  False  /dE2IDhFlzLi1S5GDuIRHunodl1K.jpg   \n",
       "2     14125   2007-03-01  False  /pmkccdphrm1tHIjBjGXipOtnfuE.jpg   \n",
       "3     63243   2004-12-23  False  /iGtpImtRwGXRibSbUEilt25xSyT.jpg   \n",
       "4     49206   2005-02-03  False  /4huJ8IwQdbtgJKIqkUVm5wDjdn8.jpg   \n",
       "\n",
       "  original_language original_title                       poster_path  \\\n",
       "0                ko         언니가 간다  /ajItSHWXsPdZCPFMBf413PZTDM0.jpg   \n",
       "1                ko         삼거리 극장  /jBpiv0ct1HnFXIFB49ZSqQ8vQp9.jpg   \n",
       "2                en      Captivity  /zemQbUeZvRT22EmAJuLOCZhCDJQ.jpg   \n",
       "3                ko       여고생 시집가기  /iYARJ0XADYiojW7TxNBDReoJ4Ue.jpg   \n",
       "4                ko        B형 남자친구  /mkuGXEcboQjKNWGbDvbIy5Dy3lf.jpg   \n",
       "\n",
       "   popularity  runtime  vote_average  vote_count         genre  release_year  \\\n",
       "0       3.043    112.0           7.0         9.0      코미디, 로맨스        2007.0   \n",
       "1       1.714    120.0           5.1        10.0  공포, 코미디, 판타지        2006.0   \n",
       "2      11.930     85.0           4.9       425.0   범죄, 공포, 스릴러        2007.0   \n",
       "3       3.461    103.0           4.3         6.0      코미디, 로맨스        2004.0   \n",
       "4       3.475     96.0           6.3        10.0           코미디        2005.0   \n",
       "\n",
       "              full_asset_id  \\\n",
       "0  cjc|M0003402LSVC35990401   \n",
       "1  cjc|M0007833LSVC36004501   \n",
       "2  cjc|M0008465LSGM14346201   \n",
       "3  cjc|M0017676LSGI69616001   \n",
       "4  cjc|M0018751LSV795151801   \n",
       "\n",
       "                                           actr_disp director  \\\n",
       "0          고소영,이범수,유건,조안,이중문,오미희,옥고운,오달수,김성연,윤종신,박선혜      김창래   \n",
       "1    김꽃비,천호진,박준면,조희봉,황강록,김동기,백경인,윤오성,최우혁,이덕재,한애리,박영수      전계수   \n",
       "2  엘리샤 커스버트,다니엘 길리스,마이클 하니,라즈 알론소,매기 데이몬,프루이트 테일러...    롤랑 조페   \n",
       "3  은지원,임은경,임성언,심이영,박노식,황재석,김희성,박정율,신효진,김경환,민성주,정다...      오덕환   \n",
       "4                                            이동건,한지혜      최석원   \n",
       "\n",
       "    representative_asset_id  \n",
       "0  cjc|M0003402LSVC35990401  \n",
       "1  cjc|M0007833LSVC36004501  \n",
       "2  cjc|M0008465LSGM14346201  \n",
       "3  cjc|M0017676LSGI69616001  \n",
       "4  cjc|M0018751LSV795151801  "
      ]
     },
     "execution_count": 65,
     "metadata": {},
     "output_type": "execute_result"
    }
   ],
   "source": [
    "# 인덱스 초기화\n",
    "vodmart_unique.reset_index(inplace=True, drop=True)\n",
    "vodmart_unique.head(5)"
   ]
  },
  {
   "cell_type": "code",
   "execution_count": 71,
   "metadata": {},
   "outputs": [],
   "source": [
    "new = {\n",
    "  \"name\" : \"title\", \n",
    "  \"actr_disp\" : \"actors\",\n",
    "  \"representative_asset_id\":\"asset_id\"\n",
    "}\n",
    "\n",
    "# 컬럼명 변경 적용\n",
    "df_renamed = vodmart_unique.rename(columns=new)"
   ]
  },
  {
   "cell_type": "code",
   "execution_count": 72,
   "metadata": {},
   "outputs": [
    {
     "data": {
      "text/plain": [
       "(14452, 19)"
      ]
     },
     "execution_count": 72,
     "metadata": {},
     "output_type": "execute_result"
    }
   ],
   "source": [
    "df_drop = df_renamed.drop(\"full_asset_id\", axis=1)\n",
    "df_drop.shape"
   ]
  },
  {
   "cell_type": "code",
   "execution_count": 73,
   "metadata": {},
   "outputs": [
    {
     "data": {
      "text/html": [
       "<div>\n",
       "<style scoped>\n",
       "    .dataframe tbody tr th:only-of-type {\n",
       "        vertical-align: middle;\n",
       "    }\n",
       "\n",
       "    .dataframe tbody tr th {\n",
       "        vertical-align: top;\n",
       "    }\n",
       "\n",
       "    .dataframe thead th {\n",
       "        text-align: right;\n",
       "    }\n",
       "</style>\n",
       "<table border=\"1\" class=\"dataframe\">\n",
       "  <thead>\n",
       "    <tr style=\"text-align: right;\">\n",
       "      <th></th>\n",
       "      <th>title</th>\n",
       "      <th>overview</th>\n",
       "      <th>orgnl_cntry</th>\n",
       "      <th>movie_id</th>\n",
       "      <th>release_date</th>\n",
       "      <th>adult</th>\n",
       "      <th>backdrop_path</th>\n",
       "      <th>original_language</th>\n",
       "      <th>original_title</th>\n",
       "      <th>poster_path</th>\n",
       "      <th>popularity</th>\n",
       "      <th>runtime</th>\n",
       "      <th>vote_average</th>\n",
       "      <th>vote_count</th>\n",
       "      <th>genre</th>\n",
       "      <th>release_year</th>\n",
       "      <th>actors</th>\n",
       "      <th>director</th>\n",
       "      <th>asset_id</th>\n",
       "    </tr>\n",
       "  </thead>\n",
       "  <tbody>\n",
       "    <tr>\n",
       "      <th>0</th>\n",
       "      <td>언니가 간다</td>\n",
       "      <td>서른 살, 화려한 의상 디자이너를 꿈꿨지만 장 의상실에서 디자인 보다는 주로 잡일을...</td>\n",
       "      <td>대한민국</td>\n",
       "      <td>109507</td>\n",
       "      <td>2007-01-04</td>\n",
       "      <td>False</td>\n",
       "      <td>/unnhYUBP8DGw1nNdpiroc7OPiA0.jpg</td>\n",
       "      <td>ko</td>\n",
       "      <td>언니가 간다</td>\n",
       "      <td>/ajItSHWXsPdZCPFMBf413PZTDM0.jpg</td>\n",
       "      <td>3.043</td>\n",
       "      <td>112.0</td>\n",
       "      <td>7.0</td>\n",
       "      <td>9.0</td>\n",
       "      <td>코미디, 로맨스</td>\n",
       "      <td>2007.0</td>\n",
       "      <td>고소영,이범수,유건,조안,이중문,오미희,옥고운,오달수,김성연,윤종신,박선혜</td>\n",
       "      <td>김창래</td>\n",
       "      <td>cjc|M0003402LSVC35990401</td>\n",
       "    </tr>\n",
       "    <tr>\n",
       "      <th>1</th>\n",
       "      <td>삼거리 극장</td>\n",
       "      <td>할머니와 단 둘이 살던 소녀 소단. 활동 사진 보러 간다는 말만 남기고 사라져 버린...</td>\n",
       "      <td>대한민국</td>\n",
       "      <td>72994</td>\n",
       "      <td>2006-11-23</td>\n",
       "      <td>False</td>\n",
       "      <td>/dE2IDhFlzLi1S5GDuIRHunodl1K.jpg</td>\n",
       "      <td>ko</td>\n",
       "      <td>삼거리 극장</td>\n",
       "      <td>/jBpiv0ct1HnFXIFB49ZSqQ8vQp9.jpg</td>\n",
       "      <td>1.714</td>\n",
       "      <td>120.0</td>\n",
       "      <td>5.1</td>\n",
       "      <td>10.0</td>\n",
       "      <td>공포, 코미디, 판타지</td>\n",
       "      <td>2006.0</td>\n",
       "      <td>김꽃비,천호진,박준면,조희봉,황강록,김동기,백경인,윤오성,최우혁,이덕재,한애리,박영수</td>\n",
       "      <td>전계수</td>\n",
       "      <td>cjc|M0007833LSVC36004501</td>\n",
       "    </tr>\n",
       "    <tr>\n",
       "      <th>2</th>\n",
       "      <td>4.4.4.</td>\n",
       "      <td>도대체 누가?  유명한 배우이자 모델인 제니퍼 트리는 어느날 정체를 알 수 없는 누...</td>\n",
       "      <td>미국</td>\n",
       "      <td>14125</td>\n",
       "      <td>2007-03-01</td>\n",
       "      <td>False</td>\n",
       "      <td>/pmkccdphrm1tHIjBjGXipOtnfuE.jpg</td>\n",
       "      <td>en</td>\n",
       "      <td>Captivity</td>\n",
       "      <td>/zemQbUeZvRT22EmAJuLOCZhCDJQ.jpg</td>\n",
       "      <td>11.930</td>\n",
       "      <td>85.0</td>\n",
       "      <td>4.9</td>\n",
       "      <td>425.0</td>\n",
       "      <td>범죄, 공포, 스릴러</td>\n",
       "      <td>2007.0</td>\n",
       "      <td>엘리샤 커스버트,다니엘 길리스,마이클 하니,라즈 알론소,매기 데이몬,프루이트 테일러...</td>\n",
       "      <td>롤랑 조페</td>\n",
       "      <td>cjc|M0008465LSGM14346201</td>\n",
       "    </tr>\n",
       "  </tbody>\n",
       "</table>\n",
       "</div>"
      ],
      "text/plain": [
       "    title                                           overview orgnl_cntry  \\\n",
       "0  언니가 간다  서른 살, 화려한 의상 디자이너를 꿈꿨지만 장 의상실에서 디자인 보다는 주로 잡일을...        대한민국   \n",
       "1  삼거리 극장  할머니와 단 둘이 살던 소녀 소단. 활동 사진 보러 간다는 말만 남기고 사라져 버린...        대한민국   \n",
       "2  4.4.4.  도대체 누가?  유명한 배우이자 모델인 제니퍼 트리는 어느날 정체를 알 수 없는 누...          미국   \n",
       "\n",
       "   movie_id release_date  adult                     backdrop_path  \\\n",
       "0    109507   2007-01-04  False  /unnhYUBP8DGw1nNdpiroc7OPiA0.jpg   \n",
       "1     72994   2006-11-23  False  /dE2IDhFlzLi1S5GDuIRHunodl1K.jpg   \n",
       "2     14125   2007-03-01  False  /pmkccdphrm1tHIjBjGXipOtnfuE.jpg   \n",
       "\n",
       "  original_language original_title                       poster_path  \\\n",
       "0                ko         언니가 간다  /ajItSHWXsPdZCPFMBf413PZTDM0.jpg   \n",
       "1                ko         삼거리 극장  /jBpiv0ct1HnFXIFB49ZSqQ8vQp9.jpg   \n",
       "2                en      Captivity  /zemQbUeZvRT22EmAJuLOCZhCDJQ.jpg   \n",
       "\n",
       "   popularity  runtime  vote_average  vote_count         genre  release_year  \\\n",
       "0       3.043    112.0           7.0         9.0      코미디, 로맨스        2007.0   \n",
       "1       1.714    120.0           5.1        10.0  공포, 코미디, 판타지        2006.0   \n",
       "2      11.930     85.0           4.9       425.0   범죄, 공포, 스릴러        2007.0   \n",
       "\n",
       "                                              actors director  \\\n",
       "0          고소영,이범수,유건,조안,이중문,오미희,옥고운,오달수,김성연,윤종신,박선혜      김창래   \n",
       "1    김꽃비,천호진,박준면,조희봉,황강록,김동기,백경인,윤오성,최우혁,이덕재,한애리,박영수      전계수   \n",
       "2  엘리샤 커스버트,다니엘 길리스,마이클 하니,라즈 알론소,매기 데이몬,프루이트 테일러...    롤랑 조페   \n",
       "\n",
       "                   asset_id  \n",
       "0  cjc|M0003402LSVC35990401  \n",
       "1  cjc|M0007833LSVC36004501  \n",
       "2  cjc|M0008465LSGM14346201  "
      ]
     },
     "execution_count": 73,
     "metadata": {},
     "output_type": "execute_result"
    }
   ],
   "source": [
    "df_drop.head(3)"
   ]
  },
  {
   "cell_type": "code",
   "execution_count": 74,
   "metadata": {},
   "outputs": [],
   "source": [
    "df_drop.to_csv('../data/movies_mart_14452.csv', encoding='utf8', index=False)"
   ]
  },
  {
   "cell_type": "markdown",
   "metadata": {},
   "source": [
    "#### *시청기록 데이터*\n",
    "\n",
    "- 열 삭제 (sha2_hash, asset_nm, CT_CL, category)"
   ]
  },
  {
   "cell_type": "code",
   "execution_count": 119,
   "metadata": {},
   "outputs": [
    {
     "name": "stdout",
     "output_type": "stream",
     "text": [
      "(10387903, 4)\n"
     ]
    },
    {
     "data": {
      "text/html": [
       "<div>\n",
       "<style scoped>\n",
       "    .dataframe tbody tr th:only-of-type {\n",
       "        vertical-align: middle;\n",
       "    }\n",
       "\n",
       "    .dataframe tbody tr th {\n",
       "        vertical-align: top;\n",
       "    }\n",
       "\n",
       "    .dataframe thead th {\n",
       "        text-align: right;\n",
       "    }\n",
       "</style>\n",
       "<table border=\"1\" class=\"dataframe\">\n",
       "  <thead>\n",
       "    <tr style=\"text-align: right;\">\n",
       "      <th></th>\n",
       "      <th>asset</th>\n",
       "      <th>use_tms</th>\n",
       "      <th>strt_dt</th>\n",
       "      <th>user_id</th>\n",
       "    </tr>\n",
       "  </thead>\n",
       "  <tbody>\n",
       "    <tr>\n",
       "      <th>0</th>\n",
       "      <td>cjc|M5165334LSVL72332501</td>\n",
       "      <td>1301.0</td>\n",
       "      <td>2.023112e+13</td>\n",
       "      <td>user000001</td>\n",
       "    </tr>\n",
       "  </tbody>\n",
       "</table>\n",
       "</div>"
      ],
      "text/plain": [
       "                      asset  use_tms       strt_dt     user_id\n",
       "0  cjc|M5165334LSVL72332501   1301.0  2.023112e+13  user000001"
      ]
     },
     "execution_count": 119,
     "metadata": {},
     "output_type": "execute_result"
    }
   ],
   "source": [
    "# 열 삭제\n",
    "views_drop = views_in_mart.drop(['sha2_hash', 'asset_nm', 'CT_CL', 'category'], axis=1)\n",
    "print(views_drop.shape)\n",
    "views_drop.head(1)"
   ]
  },
  {
   "cell_type": "code",
   "execution_count": 121,
   "metadata": {},
   "outputs": [
    {
     "name": "stdout",
     "output_type": "stream",
     "text": [
      "(10387903, 4)\n"
     ]
    },
    {
     "data": {
      "text/html": [
       "<div>\n",
       "<style scoped>\n",
       "    .dataframe tbody tr th:only-of-type {\n",
       "        vertical-align: middle;\n",
       "    }\n",
       "\n",
       "    .dataframe tbody tr th {\n",
       "        vertical-align: top;\n",
       "    }\n",
       "\n",
       "    .dataframe thead th {\n",
       "        text-align: right;\n",
       "    }\n",
       "</style>\n",
       "<table border=\"1\" class=\"dataframe\">\n",
       "  <thead>\n",
       "    <tr style=\"text-align: right;\">\n",
       "      <th></th>\n",
       "      <th>asset_id</th>\n",
       "      <th>use_tms</th>\n",
       "      <th>date</th>\n",
       "      <th>user_id</th>\n",
       "    </tr>\n",
       "  </thead>\n",
       "  <tbody>\n",
       "    <tr>\n",
       "      <th>0</th>\n",
       "      <td>cjc|M5165334LSVL72332501</td>\n",
       "      <td>1301.0</td>\n",
       "      <td>2.023112e+13</td>\n",
       "      <td>user000001</td>\n",
       "    </tr>\n",
       "  </tbody>\n",
       "</table>\n",
       "</div>"
      ],
      "text/plain": [
       "                   asset_id  use_tms          date     user_id\n",
       "0  cjc|M5165334LSVL72332501   1301.0  2.023112e+13  user000001"
      ]
     },
     "execution_count": 121,
     "metadata": {},
     "output_type": "execute_result"
    }
   ],
   "source": [
    "new_col = {\n",
    "  \"asset\" : \"asset_id\", \n",
    "  \"strt_dt\": \"date\"\n",
    "}\n",
    "\n",
    "# 컬럼명 변경 적용\n",
    "views_rename = views_drop.rename(columns=new_col)\n",
    "print(views_rename.shape)\n",
    "views_rename.head(1)"
   ]
  },
  {
   "cell_type": "markdown",
   "metadata": {},
   "source": [
    "#### *마트에서 런타임 가져와서 시청기록에 추가*"
   ]
  },
  {
   "cell_type": "code",
   "execution_count": 129,
   "metadata": {},
   "outputs": [],
   "source": [
    "vod_runtime = df_drop[[\"asset_id\", \"runtime\"]]"
   ]
  },
  {
   "cell_type": "code",
   "execution_count": 131,
   "metadata": {},
   "outputs": [
    {
     "name": "stdout",
     "output_type": "stream",
     "text": [
      "(14452, 19)\n"
     ]
    },
    {
     "data": {
      "text/plain": [
       "asset_id\n",
       "cjc|M5151815LSGL39797301    6\n",
       "cjc|M4988458LSVI11194801    5\n",
       "cjc|M4665590LFOA69771901    4\n",
       "cjc|M4172280LSGJ60259301    3\n",
       "cjc|M4634198LSG988453701    3\n",
       "                           ..\n",
       "cjc|M5009850LSGJ35525901    1\n",
       "cjc|M5009854LSVL13077801    1\n",
       "cjc|M5009857LSGI59900801    1\n",
       "cjc|M5009859LSGL22957801    1\n",
       "cjc|M4401423LSGK67245801    1\n",
       "Name: count, Length: 14312, dtype: int64"
      ]
     },
     "execution_count": 131,
     "metadata": {},
     "output_type": "execute_result"
    }
   ],
   "source": [
    "print(df_drop.shape)\n",
    "df_drop['asset_id'].value_counts()"
   ]
  },
  {
   "cell_type": "code",
   "execution_count": 132,
   "metadata": {},
   "outputs": [
    {
     "data": {
      "text/html": [
       "<div>\n",
       "<style scoped>\n",
       "    .dataframe tbody tr th:only-of-type {\n",
       "        vertical-align: middle;\n",
       "    }\n",
       "\n",
       "    .dataframe tbody tr th {\n",
       "        vertical-align: top;\n",
       "    }\n",
       "\n",
       "    .dataframe thead th {\n",
       "        text-align: right;\n",
       "    }\n",
       "</style>\n",
       "<table border=\"1\" class=\"dataframe\">\n",
       "  <thead>\n",
       "    <tr style=\"text-align: right;\">\n",
       "      <th></th>\n",
       "      <th>title</th>\n",
       "      <th>overview</th>\n",
       "      <th>orgnl_cntry</th>\n",
       "      <th>movie_id</th>\n",
       "      <th>release_date</th>\n",
       "      <th>adult</th>\n",
       "      <th>backdrop_path</th>\n",
       "      <th>original_language</th>\n",
       "      <th>original_title</th>\n",
       "      <th>poster_path</th>\n",
       "      <th>popularity</th>\n",
       "      <th>runtime</th>\n",
       "      <th>vote_average</th>\n",
       "      <th>vote_count</th>\n",
       "      <th>genre</th>\n",
       "      <th>release_year</th>\n",
       "      <th>actors</th>\n",
       "      <th>director</th>\n",
       "      <th>asset_id</th>\n",
       "    </tr>\n",
       "  </thead>\n",
       "  <tbody>\n",
       "    <tr>\n",
       "      <th>13927</th>\n",
       "      <td>위험한 관계</td>\n",
       "      <td>작가인 안토니아와 맥스는 3살짜리 딸 줄리아를 둔 행복한 부부. 더이상 바랄게 없는...</td>\n",
       "      <td>남아프리카공화국,영국</td>\n",
       "      <td>7303</td>\n",
       "      <td>NaN</td>\n",
       "      <td>NaN</td>\n",
       "      <td>NaN</td>\n",
       "      <td>NaN</td>\n",
       "      <td>NaN</td>\n",
       "      <td>NaN</td>\n",
       "      <td>NaN</td>\n",
       "      <td>89.0</td>\n",
       "      <td>NaN</td>\n",
       "      <td>NaN</td>\n",
       "      <td>드라마</td>\n",
       "      <td>1991.0</td>\n",
       "      <td>저넬 티,펠릭스 로코</td>\n",
       "      <td>호세 하비에르 레예스</td>\n",
       "      <td>cjc|M5151815LSGL39797301</td>\n",
       "    </tr>\n",
       "    <tr>\n",
       "      <th>13928</th>\n",
       "      <td>위험한 관계</td>\n",
       "      <td>전직 군인인 블레이크는 에버린의 부탁으로 그녀의 남편 (미술품 위조단 두목) 레이몬...</td>\n",
       "      <td>미국</td>\n",
       "      <td>37658</td>\n",
       "      <td>NaN</td>\n",
       "      <td>NaN</td>\n",
       "      <td>NaN</td>\n",
       "      <td>NaN</td>\n",
       "      <td>NaN</td>\n",
       "      <td>NaN</td>\n",
       "      <td>NaN</td>\n",
       "      <td>92.0</td>\n",
       "      <td>NaN</td>\n",
       "      <td>NaN</td>\n",
       "      <td>드라마</td>\n",
       "      <td>1988.0</td>\n",
       "      <td>저넬 티,펠릭스 로코</td>\n",
       "      <td>호세 하비에르 레예스</td>\n",
       "      <td>cjc|M5151815LSGL39797301</td>\n",
       "    </tr>\n",
       "    <tr>\n",
       "      <th>13929</th>\n",
       "      <td>위험한 관계</td>\n",
       "      <td>항상 아버지의 부정을 보며 자라 사랑이란 느낌을 불결하게 느끼는 한 남자. 그에게 ...</td>\n",
       "      <td>이탈리아</td>\n",
       "      <td>42953</td>\n",
       "      <td>NaN</td>\n",
       "      <td>NaN</td>\n",
       "      <td>NaN</td>\n",
       "      <td>NaN</td>\n",
       "      <td>NaN</td>\n",
       "      <td>NaN</td>\n",
       "      <td>NaN</td>\n",
       "      <td>NaN</td>\n",
       "      <td>NaN</td>\n",
       "      <td>NaN</td>\n",
       "      <td>드라마</td>\n",
       "      <td>1974.0</td>\n",
       "      <td>저넬 티,펠릭스 로코</td>\n",
       "      <td>호세 하비에르 레예스</td>\n",
       "      <td>cjc|M5151815LSGL39797301</td>\n",
       "    </tr>\n",
       "    <tr>\n",
       "      <th>13930</th>\n",
       "      <td>위험한 관계</td>\n",
       "      <td>돈과 섹스가 결부되었을 땐 어느 누구도 믿을 수 없다!이는 셜리번 부인이 젊고 매력...</td>\n",
       "      <td>미국,캐나다</td>\n",
       "      <td>45261</td>\n",
       "      <td>NaN</td>\n",
       "      <td>NaN</td>\n",
       "      <td>NaN</td>\n",
       "      <td>NaN</td>\n",
       "      <td>NaN</td>\n",
       "      <td>NaN</td>\n",
       "      <td>NaN</td>\n",
       "      <td>90.0</td>\n",
       "      <td>NaN</td>\n",
       "      <td>NaN</td>\n",
       "      <td>드라마</td>\n",
       "      <td>1991.0</td>\n",
       "      <td>저넬 티,펠릭스 로코</td>\n",
       "      <td>호세 하비에르 레예스</td>\n",
       "      <td>cjc|M5151815LSGL39797301</td>\n",
       "    </tr>\n",
       "    <tr>\n",
       "      <th>13931</th>\n",
       "      <td>위험한 관계</td>\n",
       "      <td>외곽 지역의 한 모텔에서 밀회를 즐기는 두 남녀, 여자는 과거 국선변호사로서 이름을...</td>\n",
       "      <td>미국</td>\n",
       "      <td>44874</td>\n",
       "      <td>NaN</td>\n",
       "      <td>NaN</td>\n",
       "      <td>NaN</td>\n",
       "      <td>NaN</td>\n",
       "      <td>NaN</td>\n",
       "      <td>NaN</td>\n",
       "      <td>NaN</td>\n",
       "      <td>120.0</td>\n",
       "      <td>NaN</td>\n",
       "      <td>NaN</td>\n",
       "      <td>드라마</td>\n",
       "      <td>1984.0</td>\n",
       "      <td>저넬 티,펠릭스 로코</td>\n",
       "      <td>호세 하비에르 레예스</td>\n",
       "      <td>cjc|M5151815LSGL39797301</td>\n",
       "    </tr>\n",
       "    <tr>\n",
       "      <th>13932</th>\n",
       "      <td>위험한 관계</td>\n",
       "      <td>혜숙은 친구들과 등산을 갔다가 약혼자인 영훈의 친구 순철에게 겁탈당한 후 그와 결혼...</td>\n",
       "      <td>대한민국</td>\n",
       "      <td>2220</td>\n",
       "      <td>NaN</td>\n",
       "      <td>NaN</td>\n",
       "      <td>http://file.koreafilm.or.kr/thm/01/copy/00/23/...</td>\n",
       "      <td>NaN</td>\n",
       "      <td>NaN</td>\n",
       "      <td>http://file.koreafilm.or.kr/thm/02/00/02/38/tn...</td>\n",
       "      <td>NaN</td>\n",
       "      <td>98.0</td>\n",
       "      <td>NaN</td>\n",
       "      <td>NaN</td>\n",
       "      <td>드라마</td>\n",
       "      <td>1970.0</td>\n",
       "      <td>저넬 티,펠릭스 로코</td>\n",
       "      <td>호세 하비에르 레예스</td>\n",
       "      <td>cjc|M5151815LSGL39797301</td>\n",
       "    </tr>\n",
       "  </tbody>\n",
       "</table>\n",
       "</div>"
      ],
      "text/plain": [
       "        title                                           overview  orgnl_cntry  \\\n",
       "13927  위험한 관계  작가인 안토니아와 맥스는 3살짜리 딸 줄리아를 둔 행복한 부부. 더이상 바랄게 없는...  남아프리카공화국,영국   \n",
       "13928  위험한 관계  전직 군인인 블레이크는 에버린의 부탁으로 그녀의 남편 (미술품 위조단 두목) 레이몬...           미국   \n",
       "13929  위험한 관계  항상 아버지의 부정을 보며 자라 사랑이란 느낌을 불결하게 느끼는 한 남자. 그에게 ...         이탈리아   \n",
       "13930  위험한 관계  돈과 섹스가 결부되었을 땐 어느 누구도 믿을 수 없다!이는 셜리번 부인이 젊고 매력...       미국,캐나다   \n",
       "13931  위험한 관계  외곽 지역의 한 모텔에서 밀회를 즐기는 두 남녀, 여자는 과거 국선변호사로서 이름을...           미국   \n",
       "13932  위험한 관계  혜숙은 친구들과 등산을 갔다가 약혼자인 영훈의 친구 순철에게 겁탈당한 후 그와 결혼...         대한민국   \n",
       "\n",
       "       movie_id release_date adult  \\\n",
       "13927      7303          NaN   NaN   \n",
       "13928     37658          NaN   NaN   \n",
       "13929     42953          NaN   NaN   \n",
       "13930     45261          NaN   NaN   \n",
       "13931     44874          NaN   NaN   \n",
       "13932      2220          NaN   NaN   \n",
       "\n",
       "                                           backdrop_path original_language  \\\n",
       "13927                                                NaN               NaN   \n",
       "13928                                                NaN               NaN   \n",
       "13929                                                NaN               NaN   \n",
       "13930                                                NaN               NaN   \n",
       "13931                                                NaN               NaN   \n",
       "13932  http://file.koreafilm.or.kr/thm/01/copy/00/23/...               NaN   \n",
       "\n",
       "      original_title                                        poster_path  \\\n",
       "13927            NaN                                                NaN   \n",
       "13928            NaN                                                NaN   \n",
       "13929            NaN                                                NaN   \n",
       "13930            NaN                                                NaN   \n",
       "13931            NaN                                                NaN   \n",
       "13932            NaN  http://file.koreafilm.or.kr/thm/02/00/02/38/tn...   \n",
       "\n",
       "       popularity  runtime  vote_average  vote_count genre  release_year  \\\n",
       "13927         NaN     89.0           NaN         NaN   드라마        1991.0   \n",
       "13928         NaN     92.0           NaN         NaN   드라마        1988.0   \n",
       "13929         NaN      NaN           NaN         NaN   드라마        1974.0   \n",
       "13930         NaN     90.0           NaN         NaN   드라마        1991.0   \n",
       "13931         NaN    120.0           NaN         NaN   드라마        1984.0   \n",
       "13932         NaN     98.0           NaN         NaN   드라마        1970.0   \n",
       "\n",
       "            actors     director                  asset_id  \n",
       "13927  저넬 티,펠릭스 로코  호세 하비에르 레예스  cjc|M5151815LSGL39797301  \n",
       "13928  저넬 티,펠릭스 로코  호세 하비에르 레예스  cjc|M5151815LSGL39797301  \n",
       "13929  저넬 티,펠릭스 로코  호세 하비에르 레예스  cjc|M5151815LSGL39797301  \n",
       "13930  저넬 티,펠릭스 로코  호세 하비에르 레예스  cjc|M5151815LSGL39797301  \n",
       "13931  저넬 티,펠릭스 로코  호세 하비에르 레예스  cjc|M5151815LSGL39797301  \n",
       "13932  저넬 티,펠릭스 로코  호세 하비에르 레예스  cjc|M5151815LSGL39797301  "
      ]
     },
     "execution_count": 132,
     "metadata": {},
     "output_type": "execute_result"
    }
   ],
   "source": [
    "df_drop[df_drop['asset_id']=='cjc|M5151815LSGL39797301']"
   ]
  },
  {
   "cell_type": "code",
   "execution_count": 130,
   "metadata": {},
   "outputs": [
    {
     "data": {
      "text/plain": [
       "(10518803, 5)"
      ]
     },
     "execution_count": 130,
     "metadata": {},
     "output_type": "execute_result"
    }
   ],
   "source": [
    "views_w_runtime = pd.merge(views_rename, vod_runtime, on=\"asset_id\", how=\"left\")\n",
    "views_w_runtime.shape"
   ]
  },
  {
   "cell_type": "code",
   "execution_count": 104,
   "metadata": {},
   "outputs": [
    {
     "data": {
      "text/html": [
       "<div>\n",
       "<style scoped>\n",
       "    .dataframe tbody tr th:only-of-type {\n",
       "        vertical-align: middle;\n",
       "    }\n",
       "\n",
       "    .dataframe tbody tr th {\n",
       "        vertical-align: top;\n",
       "    }\n",
       "\n",
       "    .dataframe thead th {\n",
       "        text-align: right;\n",
       "    }\n",
       "</style>\n",
       "<table border=\"1\" class=\"dataframe\">\n",
       "  <thead>\n",
       "    <tr style=\"text-align: right;\">\n",
       "      <th></th>\n",
       "      <th>asset_id</th>\n",
       "      <th>use_tms</th>\n",
       "      <th>date</th>\n",
       "      <th>user_id</th>\n",
       "      <th>runtime</th>\n",
       "    </tr>\n",
       "  </thead>\n",
       "  <tbody>\n",
       "    <tr>\n",
       "      <th>0</th>\n",
       "      <td>cjc|M5165334LSVL72332501</td>\n",
       "      <td>1301.0</td>\n",
       "      <td>2.023112e+13</td>\n",
       "      <td>user000001</td>\n",
       "      <td>5280.0</td>\n",
       "    </tr>\n",
       "    <tr>\n",
       "      <th>1</th>\n",
       "      <td>cjc|M4136216LFOL77322201</td>\n",
       "      <td>163.0</td>\n",
       "      <td>2.023112e+13</td>\n",
       "      <td>user000002</td>\n",
       "      <td>7260.0</td>\n",
       "    </tr>\n",
       "    <tr>\n",
       "      <th>2</th>\n",
       "      <td>cjc|M4550583LSG861820101</td>\n",
       "      <td>5801.0</td>\n",
       "      <td>2.023112e+13</td>\n",
       "      <td>user000003</td>\n",
       "      <td>6300.0</td>\n",
       "    </tr>\n",
       "  </tbody>\n",
       "</table>\n",
       "</div>"
      ],
      "text/plain": [
       "                   asset_id  use_tms          date     user_id  runtime\n",
       "0  cjc|M5165334LSVL72332501   1301.0  2.023112e+13  user000001   5280.0\n",
       "1  cjc|M4136216LFOL77322201    163.0  2.023112e+13  user000002   7260.0\n",
       "2  cjc|M4550583LSG861820101   5801.0  2.023112e+13  user000003   6300.0"
      ]
     },
     "execution_count": 104,
     "metadata": {},
     "output_type": "execute_result"
    }
   ],
   "source": [
    "views_w_runtime['runtime'] = views_w_runtime['runtime'] * 60\n",
    "views_w_runtime.head(3)"
   ]
  },
  {
   "cell_type": "code",
   "execution_count": 106,
   "metadata": {},
   "outputs": [
    {
     "data": {
      "text/plain": [
       "(54019818, 5)"
      ]
     },
     "execution_count": 106,
     "metadata": {},
     "output_type": "execute_result"
    }
   ],
   "source": [
    "views_w_runtime.shape"
   ]
  },
  {
   "cell_type": "code",
   "execution_count": 105,
   "metadata": {},
   "outputs": [
    {
     "ename": "KeyboardInterrupt",
     "evalue": "",
     "output_type": "error",
     "traceback": [
      "\u001b[1;31m---------------------------------------------------------------------------\u001b[0m",
      "\u001b[1;31mKeyboardInterrupt\u001b[0m                         Traceback (most recent call last)",
      "Cell \u001b[1;32mIn[105], line 1\u001b[0m\n\u001b[1;32m----> 1\u001b[0m \u001b[43mviews_w_runtime\u001b[49m\u001b[38;5;241;43m.\u001b[39;49m\u001b[43mto_csv\u001b[49m\u001b[43m(\u001b[49m\u001b[38;5;124;43m'\u001b[39;49m\u001b[38;5;124;43m시청기록_열삭제ver.csv\u001b[39;49m\u001b[38;5;124;43m'\u001b[39;49m\u001b[43m,\u001b[49m\u001b[43m \u001b[49m\u001b[43mencoding\u001b[49m\u001b[38;5;241;43m=\u001b[39;49m\u001b[38;5;124;43m'\u001b[39;49m\u001b[38;5;124;43mutf8\u001b[39;49m\u001b[38;5;124;43m'\u001b[39;49m\u001b[43m,\u001b[49m\u001b[43m \u001b[49m\u001b[43mindex\u001b[49m\u001b[38;5;241;43m=\u001b[39;49m\u001b[38;5;28;43;01mFalse\u001b[39;49;00m\u001b[43m)\u001b[49m\n",
      "File \u001b[1;32mc:\\workspaces\\LGDXteam2\\.venv\\Lib\\site-packages\\pandas\\util\\_decorators.py:333\u001b[0m, in \u001b[0;36mdeprecate_nonkeyword_arguments.<locals>.decorate.<locals>.wrapper\u001b[1;34m(*args, **kwargs)\u001b[0m\n\u001b[0;32m    327\u001b[0m \u001b[38;5;28;01mif\u001b[39;00m \u001b[38;5;28mlen\u001b[39m(args) \u001b[38;5;241m>\u001b[39m num_allow_args:\n\u001b[0;32m    328\u001b[0m     warnings\u001b[38;5;241m.\u001b[39mwarn(\n\u001b[0;32m    329\u001b[0m         msg\u001b[38;5;241m.\u001b[39mformat(arguments\u001b[38;5;241m=\u001b[39m_format_argument_list(allow_args)),\n\u001b[0;32m    330\u001b[0m         \u001b[38;5;167;01mFutureWarning\u001b[39;00m,\n\u001b[0;32m    331\u001b[0m         stacklevel\u001b[38;5;241m=\u001b[39mfind_stack_level(),\n\u001b[0;32m    332\u001b[0m     )\n\u001b[1;32m--> 333\u001b[0m \u001b[38;5;28;01mreturn\u001b[39;00m \u001b[43mfunc\u001b[49m\u001b[43m(\u001b[49m\u001b[38;5;241;43m*\u001b[39;49m\u001b[43margs\u001b[49m\u001b[43m,\u001b[49m\u001b[43m \u001b[49m\u001b[38;5;241;43m*\u001b[39;49m\u001b[38;5;241;43m*\u001b[39;49m\u001b[43mkwargs\u001b[49m\u001b[43m)\u001b[49m\n",
      "File \u001b[1;32mc:\\workspaces\\LGDXteam2\\.venv\\Lib\\site-packages\\pandas\\core\\generic.py:3967\u001b[0m, in \u001b[0;36mNDFrame.to_csv\u001b[1;34m(self, path_or_buf, sep, na_rep, float_format, columns, header, index, index_label, mode, encoding, compression, quoting, quotechar, lineterminator, chunksize, date_format, doublequote, escapechar, decimal, errors, storage_options)\u001b[0m\n\u001b[0;32m   3956\u001b[0m df \u001b[38;5;241m=\u001b[39m \u001b[38;5;28mself\u001b[39m \u001b[38;5;28;01mif\u001b[39;00m \u001b[38;5;28misinstance\u001b[39m(\u001b[38;5;28mself\u001b[39m, ABCDataFrame) \u001b[38;5;28;01melse\u001b[39;00m \u001b[38;5;28mself\u001b[39m\u001b[38;5;241m.\u001b[39mto_frame()\n\u001b[0;32m   3958\u001b[0m formatter \u001b[38;5;241m=\u001b[39m DataFrameFormatter(\n\u001b[0;32m   3959\u001b[0m     frame\u001b[38;5;241m=\u001b[39mdf,\n\u001b[0;32m   3960\u001b[0m     header\u001b[38;5;241m=\u001b[39mheader,\n\u001b[1;32m   (...)\u001b[0m\n\u001b[0;32m   3964\u001b[0m     decimal\u001b[38;5;241m=\u001b[39mdecimal,\n\u001b[0;32m   3965\u001b[0m )\n\u001b[1;32m-> 3967\u001b[0m \u001b[38;5;28;01mreturn\u001b[39;00m \u001b[43mDataFrameRenderer\u001b[49m\u001b[43m(\u001b[49m\u001b[43mformatter\u001b[49m\u001b[43m)\u001b[49m\u001b[38;5;241;43m.\u001b[39;49m\u001b[43mto_csv\u001b[49m\u001b[43m(\u001b[49m\n\u001b[0;32m   3968\u001b[0m \u001b[43m    \u001b[49m\u001b[43mpath_or_buf\u001b[49m\u001b[43m,\u001b[49m\n\u001b[0;32m   3969\u001b[0m \u001b[43m    \u001b[49m\u001b[43mlineterminator\u001b[49m\u001b[38;5;241;43m=\u001b[39;49m\u001b[43mlineterminator\u001b[49m\u001b[43m,\u001b[49m\n\u001b[0;32m   3970\u001b[0m \u001b[43m    \u001b[49m\u001b[43msep\u001b[49m\u001b[38;5;241;43m=\u001b[39;49m\u001b[43msep\u001b[49m\u001b[43m,\u001b[49m\n\u001b[0;32m   3971\u001b[0m \u001b[43m    \u001b[49m\u001b[43mencoding\u001b[49m\u001b[38;5;241;43m=\u001b[39;49m\u001b[43mencoding\u001b[49m\u001b[43m,\u001b[49m\n\u001b[0;32m   3972\u001b[0m \u001b[43m    \u001b[49m\u001b[43merrors\u001b[49m\u001b[38;5;241;43m=\u001b[39;49m\u001b[43merrors\u001b[49m\u001b[43m,\u001b[49m\n\u001b[0;32m   3973\u001b[0m \u001b[43m    \u001b[49m\u001b[43mcompression\u001b[49m\u001b[38;5;241;43m=\u001b[39;49m\u001b[43mcompression\u001b[49m\u001b[43m,\u001b[49m\n\u001b[0;32m   3974\u001b[0m \u001b[43m    \u001b[49m\u001b[43mquoting\u001b[49m\u001b[38;5;241;43m=\u001b[39;49m\u001b[43mquoting\u001b[49m\u001b[43m,\u001b[49m\n\u001b[0;32m   3975\u001b[0m \u001b[43m    \u001b[49m\u001b[43mcolumns\u001b[49m\u001b[38;5;241;43m=\u001b[39;49m\u001b[43mcolumns\u001b[49m\u001b[43m,\u001b[49m\n\u001b[0;32m   3976\u001b[0m \u001b[43m    \u001b[49m\u001b[43mindex_label\u001b[49m\u001b[38;5;241;43m=\u001b[39;49m\u001b[43mindex_label\u001b[49m\u001b[43m,\u001b[49m\n\u001b[0;32m   3977\u001b[0m \u001b[43m    \u001b[49m\u001b[43mmode\u001b[49m\u001b[38;5;241;43m=\u001b[39;49m\u001b[43mmode\u001b[49m\u001b[43m,\u001b[49m\n\u001b[0;32m   3978\u001b[0m \u001b[43m    \u001b[49m\u001b[43mchunksize\u001b[49m\u001b[38;5;241;43m=\u001b[39;49m\u001b[43mchunksize\u001b[49m\u001b[43m,\u001b[49m\n\u001b[0;32m   3979\u001b[0m \u001b[43m    \u001b[49m\u001b[43mquotechar\u001b[49m\u001b[38;5;241;43m=\u001b[39;49m\u001b[43mquotechar\u001b[49m\u001b[43m,\u001b[49m\n\u001b[0;32m   3980\u001b[0m \u001b[43m    \u001b[49m\u001b[43mdate_format\u001b[49m\u001b[38;5;241;43m=\u001b[39;49m\u001b[43mdate_format\u001b[49m\u001b[43m,\u001b[49m\n\u001b[0;32m   3981\u001b[0m \u001b[43m    \u001b[49m\u001b[43mdoublequote\u001b[49m\u001b[38;5;241;43m=\u001b[39;49m\u001b[43mdoublequote\u001b[49m\u001b[43m,\u001b[49m\n\u001b[0;32m   3982\u001b[0m \u001b[43m    \u001b[49m\u001b[43mescapechar\u001b[49m\u001b[38;5;241;43m=\u001b[39;49m\u001b[43mescapechar\u001b[49m\u001b[43m,\u001b[49m\n\u001b[0;32m   3983\u001b[0m \u001b[43m    \u001b[49m\u001b[43mstorage_options\u001b[49m\u001b[38;5;241;43m=\u001b[39;49m\u001b[43mstorage_options\u001b[49m\u001b[43m,\u001b[49m\n\u001b[0;32m   3984\u001b[0m \u001b[43m\u001b[49m\u001b[43m)\u001b[49m\n",
      "File \u001b[1;32mc:\\workspaces\\LGDXteam2\\.venv\\Lib\\site-packages\\pandas\\io\\formats\\format.py:1014\u001b[0m, in \u001b[0;36mDataFrameRenderer.to_csv\u001b[1;34m(self, path_or_buf, encoding, sep, columns, index_label, mode, compression, quoting, quotechar, lineterminator, chunksize, date_format, doublequote, escapechar, errors, storage_options)\u001b[0m\n\u001b[0;32m    993\u001b[0m     created_buffer \u001b[38;5;241m=\u001b[39m \u001b[38;5;28;01mFalse\u001b[39;00m\n\u001b[0;32m    995\u001b[0m csv_formatter \u001b[38;5;241m=\u001b[39m CSVFormatter(\n\u001b[0;32m    996\u001b[0m     path_or_buf\u001b[38;5;241m=\u001b[39mpath_or_buf,\n\u001b[0;32m    997\u001b[0m     lineterminator\u001b[38;5;241m=\u001b[39mlineterminator,\n\u001b[1;32m   (...)\u001b[0m\n\u001b[0;32m   1012\u001b[0m     formatter\u001b[38;5;241m=\u001b[39m\u001b[38;5;28mself\u001b[39m\u001b[38;5;241m.\u001b[39mfmt,\n\u001b[0;32m   1013\u001b[0m )\n\u001b[1;32m-> 1014\u001b[0m \u001b[43mcsv_formatter\u001b[49m\u001b[38;5;241;43m.\u001b[39;49m\u001b[43msave\u001b[49m\u001b[43m(\u001b[49m\u001b[43m)\u001b[49m\n\u001b[0;32m   1016\u001b[0m \u001b[38;5;28;01mif\u001b[39;00m created_buffer:\n\u001b[0;32m   1017\u001b[0m     \u001b[38;5;28;01massert\u001b[39;00m \u001b[38;5;28misinstance\u001b[39m(path_or_buf, StringIO)\n",
      "File \u001b[1;32mc:\\workspaces\\LGDXteam2\\.venv\\Lib\\site-packages\\pandas\\io\\formats\\csvs.py:270\u001b[0m, in \u001b[0;36mCSVFormatter.save\u001b[1;34m(self)\u001b[0m\n\u001b[0;32m    251\u001b[0m \u001b[38;5;28;01mwith\u001b[39;00m get_handle(\n\u001b[0;32m    252\u001b[0m     \u001b[38;5;28mself\u001b[39m\u001b[38;5;241m.\u001b[39mfilepath_or_buffer,\n\u001b[0;32m    253\u001b[0m     \u001b[38;5;28mself\u001b[39m\u001b[38;5;241m.\u001b[39mmode,\n\u001b[1;32m   (...)\u001b[0m\n\u001b[0;32m    258\u001b[0m ) \u001b[38;5;28;01mas\u001b[39;00m handles:\n\u001b[0;32m    259\u001b[0m     \u001b[38;5;66;03m# Note: self.encoding is irrelevant here\u001b[39;00m\n\u001b[0;32m    260\u001b[0m     \u001b[38;5;28mself\u001b[39m\u001b[38;5;241m.\u001b[39mwriter \u001b[38;5;241m=\u001b[39m csvlib\u001b[38;5;241m.\u001b[39mwriter(\n\u001b[0;32m    261\u001b[0m         handles\u001b[38;5;241m.\u001b[39mhandle,\n\u001b[0;32m    262\u001b[0m         lineterminator\u001b[38;5;241m=\u001b[39m\u001b[38;5;28mself\u001b[39m\u001b[38;5;241m.\u001b[39mlineterminator,\n\u001b[1;32m   (...)\u001b[0m\n\u001b[0;32m    267\u001b[0m         quotechar\u001b[38;5;241m=\u001b[39m\u001b[38;5;28mself\u001b[39m\u001b[38;5;241m.\u001b[39mquotechar,\n\u001b[0;32m    268\u001b[0m     )\n\u001b[1;32m--> 270\u001b[0m     \u001b[38;5;28;43mself\u001b[39;49m\u001b[38;5;241;43m.\u001b[39;49m\u001b[43m_save\u001b[49m\u001b[43m(\u001b[49m\u001b[43m)\u001b[49m\n",
      "File \u001b[1;32mc:\\workspaces\\LGDXteam2\\.venv\\Lib\\site-packages\\pandas\\io\\formats\\csvs.py:275\u001b[0m, in \u001b[0;36mCSVFormatter._save\u001b[1;34m(self)\u001b[0m\n\u001b[0;32m    273\u001b[0m \u001b[38;5;28;01mif\u001b[39;00m \u001b[38;5;28mself\u001b[39m\u001b[38;5;241m.\u001b[39m_need_to_save_header:\n\u001b[0;32m    274\u001b[0m     \u001b[38;5;28mself\u001b[39m\u001b[38;5;241m.\u001b[39m_save_header()\n\u001b[1;32m--> 275\u001b[0m \u001b[38;5;28;43mself\u001b[39;49m\u001b[38;5;241;43m.\u001b[39;49m\u001b[43m_save_body\u001b[49m\u001b[43m(\u001b[49m\u001b[43m)\u001b[49m\n",
      "File \u001b[1;32mc:\\workspaces\\LGDXteam2\\.venv\\Lib\\site-packages\\pandas\\io\\formats\\csvs.py:313\u001b[0m, in \u001b[0;36mCSVFormatter._save_body\u001b[1;34m(self)\u001b[0m\n\u001b[0;32m    311\u001b[0m \u001b[38;5;28;01mif\u001b[39;00m start_i \u001b[38;5;241m>\u001b[39m\u001b[38;5;241m=\u001b[39m end_i:\n\u001b[0;32m    312\u001b[0m     \u001b[38;5;28;01mbreak\u001b[39;00m\n\u001b[1;32m--> 313\u001b[0m \u001b[38;5;28;43mself\u001b[39;49m\u001b[38;5;241;43m.\u001b[39;49m\u001b[43m_save_chunk\u001b[49m\u001b[43m(\u001b[49m\u001b[43mstart_i\u001b[49m\u001b[43m,\u001b[49m\u001b[43m \u001b[49m\u001b[43mend_i\u001b[49m\u001b[43m)\u001b[49m\n",
      "File \u001b[1;32mc:\\workspaces\\LGDXteam2\\.venv\\Lib\\site-packages\\pandas\\io\\formats\\csvs.py:323\u001b[0m, in \u001b[0;36mCSVFormatter._save_chunk\u001b[1;34m(self, start_i, end_i)\u001b[0m\n\u001b[0;32m    320\u001b[0m res \u001b[38;5;241m=\u001b[39m df\u001b[38;5;241m.\u001b[39m_get_values_for_csv(\u001b[38;5;241m*\u001b[39m\u001b[38;5;241m*\u001b[39m\u001b[38;5;28mself\u001b[39m\u001b[38;5;241m.\u001b[39m_number_format)\n\u001b[0;32m    321\u001b[0m data \u001b[38;5;241m=\u001b[39m \u001b[38;5;28mlist\u001b[39m(res\u001b[38;5;241m.\u001b[39m_iter_column_arrays())\n\u001b[1;32m--> 323\u001b[0m ix \u001b[38;5;241m=\u001b[39m \u001b[38;5;28;43mself\u001b[39;49m\u001b[38;5;241;43m.\u001b[39;49m\u001b[43mdata_index\u001b[49m\u001b[43m[\u001b[49m\u001b[43mslicer\u001b[49m\u001b[43m]\u001b[49m\u001b[38;5;241;43m.\u001b[39;49m\u001b[43m_get_values_for_csv\u001b[49m\u001b[43m(\u001b[49m\u001b[38;5;241;43m*\u001b[39;49m\u001b[38;5;241;43m*\u001b[39;49m\u001b[38;5;28;43mself\u001b[39;49m\u001b[38;5;241;43m.\u001b[39;49m\u001b[43m_number_format\u001b[49m\u001b[43m)\u001b[49m\n\u001b[0;32m    324\u001b[0m libwriters\u001b[38;5;241m.\u001b[39mwrite_csv_rows(\n\u001b[0;32m    325\u001b[0m     data,\n\u001b[0;32m    326\u001b[0m     ix,\n\u001b[1;32m   (...)\u001b[0m\n\u001b[0;32m    329\u001b[0m     \u001b[38;5;28mself\u001b[39m\u001b[38;5;241m.\u001b[39mwriter,\n\u001b[0;32m    330\u001b[0m )\n",
      "File \u001b[1;32mc:\\workspaces\\LGDXteam2\\.venv\\Lib\\site-packages\\pandas\\core\\indexes\\base.py:1479\u001b[0m, in \u001b[0;36mIndex._get_values_for_csv\u001b[1;34m(self, na_rep, decimal, float_format, date_format, quoting)\u001b[0m\n\u001b[0;32m   1469\u001b[0m \u001b[38;5;28;01mdef\u001b[39;00m \u001b[38;5;21m_get_values_for_csv\u001b[39m(\n\u001b[0;32m   1470\u001b[0m     \u001b[38;5;28mself\u001b[39m,\n\u001b[0;32m   1471\u001b[0m     \u001b[38;5;241m*\u001b[39m,\n\u001b[1;32m   (...)\u001b[0m\n\u001b[0;32m   1476\u001b[0m     quoting\u001b[38;5;241m=\u001b[39m\u001b[38;5;28;01mNone\u001b[39;00m,\n\u001b[0;32m   1477\u001b[0m ) \u001b[38;5;241m-\u001b[39m\u001b[38;5;241m>\u001b[39m npt\u001b[38;5;241m.\u001b[39mNDArray[np\u001b[38;5;241m.\u001b[39mobject_]:\n\u001b[0;32m   1478\u001b[0m     \u001b[38;5;28;01mreturn\u001b[39;00m get_values_for_csv(\n\u001b[1;32m-> 1479\u001b[0m         \u001b[38;5;28;43mself\u001b[39;49m\u001b[38;5;241;43m.\u001b[39;49m\u001b[43m_values\u001b[49m,\n\u001b[0;32m   1480\u001b[0m         na_rep\u001b[38;5;241m=\u001b[39mna_rep,\n\u001b[0;32m   1481\u001b[0m         decimal\u001b[38;5;241m=\u001b[39mdecimal,\n\u001b[0;32m   1482\u001b[0m         float_format\u001b[38;5;241m=\u001b[39mfloat_format,\n\u001b[0;32m   1483\u001b[0m         date_format\u001b[38;5;241m=\u001b[39mdate_format,\n\u001b[0;32m   1484\u001b[0m         quoting\u001b[38;5;241m=\u001b[39mquoting,\n\u001b[0;32m   1485\u001b[0m     )\n",
      "File \u001b[1;32mc:\\workspaces\\LGDXteam2\\.venv\\Lib\\site-packages\\pandas\\core\\indexes\\base.py:5168\u001b[0m, in \u001b[0;36mIndex._values\u001b[1;34m(self)\u001b[0m\n\u001b[0;32m   5144\u001b[0m \u001b[38;5;129m@property\u001b[39m\n\u001b[0;32m   5145\u001b[0m \u001b[38;5;28;01mdef\u001b[39;00m \u001b[38;5;21m_values\u001b[39m(\u001b[38;5;28mself\u001b[39m) \u001b[38;5;241m-\u001b[39m\u001b[38;5;241m>\u001b[39m ExtensionArray \u001b[38;5;241m|\u001b[39m np\u001b[38;5;241m.\u001b[39mndarray:\n\u001b[0;32m   5146\u001b[0m \u001b[38;5;250m    \u001b[39m\u001b[38;5;124;03m\"\"\"\u001b[39;00m\n\u001b[0;32m   5147\u001b[0m \u001b[38;5;124;03m    The best array representation.\u001b[39;00m\n\u001b[0;32m   5148\u001b[0m \n\u001b[1;32m   (...)\u001b[0m\n\u001b[0;32m   5166\u001b[0m \u001b[38;5;124;03m    values : Values\u001b[39;00m\n\u001b[0;32m   5167\u001b[0m \u001b[38;5;124;03m    \"\"\"\u001b[39;00m\n\u001b[1;32m-> 5168\u001b[0m     \u001b[38;5;28;01mreturn\u001b[39;00m \u001b[38;5;28;43mself\u001b[39;49m\u001b[38;5;241;43m.\u001b[39;49m\u001b[43m_data\u001b[49m\n",
      "File \u001b[1;32mproperties.pyx:36\u001b[0m, in \u001b[0;36mpandas._libs.properties.CachedProperty.__get__\u001b[1;34m()\u001b[0m\n",
      "File \u001b[1;32mc:\\workspaces\\LGDXteam2\\.venv\\Lib\\site-packages\\pandas\\core\\indexes\\range.py:244\u001b[0m, in \u001b[0;36mRangeIndex._data\u001b[1;34m(self)\u001b[0m\n\u001b[0;32m    237\u001b[0m \u001b[38;5;129m@cache_readonly\u001b[39m\n\u001b[0;32m    238\u001b[0m \u001b[38;5;28;01mdef\u001b[39;00m \u001b[38;5;21m_data\u001b[39m(\u001b[38;5;28mself\u001b[39m) \u001b[38;5;241m-\u001b[39m\u001b[38;5;241m>\u001b[39m np\u001b[38;5;241m.\u001b[39mndarray:  \u001b[38;5;66;03m# type: ignore[override]\u001b[39;00m\n\u001b[0;32m    239\u001b[0m \u001b[38;5;250m    \u001b[39m\u001b[38;5;124;03m\"\"\"\u001b[39;00m\n\u001b[0;32m    240\u001b[0m \u001b[38;5;124;03m    An int array that for performance reasons is created only when needed.\u001b[39;00m\n\u001b[0;32m    241\u001b[0m \n\u001b[0;32m    242\u001b[0m \u001b[38;5;124;03m    The constructed array is saved in ``_cache``.\u001b[39;00m\n\u001b[0;32m    243\u001b[0m \u001b[38;5;124;03m    \"\"\"\u001b[39;00m\n\u001b[1;32m--> 244\u001b[0m     \u001b[38;5;28;01mreturn\u001b[39;00m np\u001b[38;5;241m.\u001b[39marange(\u001b[38;5;28mself\u001b[39m\u001b[38;5;241m.\u001b[39mstart, \u001b[38;5;28mself\u001b[39m\u001b[38;5;241m.\u001b[39mstop, \u001b[38;5;28mself\u001b[39m\u001b[38;5;241m.\u001b[39mstep, dtype\u001b[38;5;241m=\u001b[39mnp\u001b[38;5;241m.\u001b[39mint64)\n",
      "\u001b[1;31mKeyboardInterrupt\u001b[0m: "
     ]
    }
   ],
   "source": [
    "views_w_runtime.to_csv('시청기록_열삭제ver.csv', encoding='utf8', index=False)"
   ]
  },
  {
   "cell_type": "code",
   "execution_count": null,
   "metadata": {},
   "outputs": [],
   "source": []
  }
 ],
 "metadata": {
  "kernelspec": {
   "display_name": ".venv",
   "language": "python",
   "name": "python3"
  },
  "language_info": {
   "codemirror_mode": {
    "name": "ipython",
    "version": 3
   },
   "file_extension": ".py",
   "mimetype": "text/x-python",
   "name": "python",
   "nbconvert_exporter": "python",
   "pygments_lexer": "ipython3",
   "version": "3.11.9"
  }
 },
 "nbformat": 4,
 "nbformat_minor": 2
}
