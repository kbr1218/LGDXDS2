{
 "cells": [
  {
   "cell_type": "markdown",
   "metadata": {},
   "source": [
    "# KMDB API\n",
    "- 호출 제한 횟수: 일일 1,000회\n",
    "- [KMDB API 요청인자 및 출력값](https://www.kmdb.or.kr/info/api/apiDetail/6)\n",
    "\n",
    "<br>\n",
    "\n",
    "[참고]  \n",
    "- https://velog.io/@ohy9205/project-Movyes-%EC%98%81%ED%99%94-%EC%BB%A4%EB%AE%A4%EB%8B%88%ED%8B%B0-React-%ED%94%84%EB%A1%9C%EC%A0%9D%ED%8A%B8-%EC%98%81%ED%99%94-%EC%A0%95%EB%B3%B4"
   ]
  },
  {
   "cell_type": "code",
   "execution_count": null,
   "metadata": {},
   "outputs": [],
   "source": []
  }
 ],
 "metadata": {
  "language_info": {
   "name": "python"
  }
 },
 "nbformat": 4,
 "nbformat_minor": 2
}
