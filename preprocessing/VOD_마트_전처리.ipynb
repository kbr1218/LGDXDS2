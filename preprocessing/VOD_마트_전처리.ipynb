{
 "cells": [
  {
   "cell_type": "markdown",
   "metadata": {},
   "source": [
    "# VOD 마트 데이터 전처리"
   ]
  },
  {
   "cell_type": "markdown",
   "metadata": {},
   "source": [
    "<br><hr>\n",
    "\n",
    "### 00. 기본 설정"
   ]
  },
  {
   "cell_type": "code",
   "execution_count": 28,
   "metadata": {},
   "outputs": [],
   "source": [
    "import pandas as pd\n",
    "import numpy as np\n",
    "\n",
    "# 경고 메시지 출력 X\n",
    "import warnings\n",
    "warnings.filterwarnings(\"ignore\")"
   ]
  },
  {
   "cell_type": "markdown",
   "metadata": {},
   "source": [
    "<br><hr>\n",
    "\n",
    "### 01. 데이터 불러오기"
   ]
  },
  {
   "cell_type": "code",
   "execution_count": 3,
   "metadata": {},
   "outputs": [
    {
     "name": "stdout",
     "output_type": "stream",
     "text": [
      "(14292, 19)\n"
     ]
    }
   ],
   "source": [
    "mart = pd.read_csv('../data/mart_0121.csv', encoding='utf8')\n",
    "print(mart.shape)   # 5만 3874개"
   ]
  },
  {
   "cell_type": "code",
   "execution_count": 4,
   "metadata": {},
   "outputs": [
    {
     "data": {
      "text/plain": [
       "Index(['asset_id', 'movie_id', 'title', 'original_title', 'genre', 'adult',\n",
       "       'runtime', 'release_year', 'release_date', 'actors', 'director',\n",
       "       'orgnl_cntry', 'original_language', 'vote_average', 'vote_count',\n",
       "       'popularity', 'poster_path', 'backdrop_path', 'overview'],\n",
       "      dtype='object')"
      ]
     },
     "execution_count": 4,
     "metadata": {},
     "output_type": "execute_result"
    }
   ],
   "source": [
    "mart.columns"
   ]
  },
  {
   "cell_type": "code",
   "execution_count": 5,
   "metadata": {},
   "outputs": [
    {
     "data": {
      "text/html": [
       "<div>\n",
       "<style scoped>\n",
       "    .dataframe tbody tr th:only-of-type {\n",
       "        vertical-align: middle;\n",
       "    }\n",
       "\n",
       "    .dataframe tbody tr th {\n",
       "        vertical-align: top;\n",
       "    }\n",
       "\n",
       "    .dataframe thead th {\n",
       "        text-align: right;\n",
       "    }\n",
       "</style>\n",
       "<table border=\"1\" class=\"dataframe\">\n",
       "  <thead>\n",
       "    <tr style=\"text-align: right;\">\n",
       "      <th></th>\n",
       "      <th>asset_id</th>\n",
       "      <th>movie_id</th>\n",
       "      <th>title</th>\n",
       "      <th>original_title</th>\n",
       "      <th>genre</th>\n",
       "      <th>adult</th>\n",
       "      <th>runtime</th>\n",
       "      <th>release_year</th>\n",
       "      <th>release_date</th>\n",
       "      <th>actors</th>\n",
       "      <th>director</th>\n",
       "      <th>orgnl_cntry</th>\n",
       "      <th>original_language</th>\n",
       "      <th>vote_average</th>\n",
       "      <th>vote_count</th>\n",
       "      <th>popularity</th>\n",
       "      <th>poster_path</th>\n",
       "      <th>backdrop_path</th>\n",
       "      <th>overview</th>\n",
       "    </tr>\n",
       "  </thead>\n",
       "  <tbody>\n",
       "    <tr>\n",
       "      <th>0</th>\n",
       "      <td>cjc|M4820686LSGE28658201</td>\n",
       "      <td>11</td>\n",
       "      <td>스타워즈 4-새로운 희망</td>\n",
       "      <td>Star Wars</td>\n",
       "      <td>모험, 액션, SF</td>\n",
       "      <td>False</td>\n",
       "      <td>121.0</td>\n",
       "      <td>1977.0</td>\n",
       "      <td>1977-05-25</td>\n",
       "      <td>마크 해밀,캐리 피셔,해리슨 포드,알렉 기네스,피터 커싱</td>\n",
       "      <td>조지 루카스</td>\n",
       "      <td>미국</td>\n",
       "      <td>en</td>\n",
       "      <td>8.204</td>\n",
       "      <td>20724.0</td>\n",
       "      <td>118.411</td>\n",
       "      <td>/7XFfURIFCJxN1mfBg0SAjk5yGzg.jpg</td>\n",
       "      <td>/4qCqAdHcNKeAHcK8tJ8wNJZa9cx.jpg</td>\n",
       "      <td>공화국이 붕괴하고 제국이 수립된 뒤 20년, 제다이 기사단은 전멸하고 강력한 제국군...</td>\n",
       "    </tr>\n",
       "  </tbody>\n",
       "</table>\n",
       "</div>"
      ],
      "text/plain": [
       "                   asset_id movie_id          title original_title  \\\n",
       "0  cjc|M4820686LSGE28658201       11  스타워즈 4-새로운 희망      Star Wars   \n",
       "\n",
       "        genre  adult  runtime  release_year release_date  \\\n",
       "0  모험, 액션, SF  False    121.0        1977.0   1977-05-25   \n",
       "\n",
       "                            actors director orgnl_cntry original_language  \\\n",
       "0  마크 해밀,캐리 피셔,해리슨 포드,알렉 기네스,피터 커싱   조지 루카스          미국                en   \n",
       "\n",
       "   vote_average  vote_count  popularity                       poster_path  \\\n",
       "0         8.204     20724.0     118.411  /7XFfURIFCJxN1mfBg0SAjk5yGzg.jpg   \n",
       "\n",
       "                      backdrop_path  \\\n",
       "0  /4qCqAdHcNKeAHcK8tJ8wNJZa9cx.jpg   \n",
       "\n",
       "                                            overview  \n",
       "0  공화국이 붕괴하고 제국이 수립된 뒤 20년, 제다이 기사단은 전멸하고 강력한 제국군...  "
      ]
     },
     "execution_count": 5,
     "metadata": {},
     "output_type": "execute_result"
    }
   ],
   "source": [
    "mart.head(1)"
   ]
  },
  {
   "cell_type": "markdown",
   "metadata": {},
   "source": [
    "<br><hr>\n",
    "\n",
    "### 02. orgnl_cntry 전처리\n",
    "- '중화인민공화국', '중화민국' >> '중국'\n",
    "- '타이' >> '태국'\n",
    "- '소련' >> '러시a아'\n",
    "- '서독' >> '독일'"
   ]
  },
  {
   "cell_type": "code",
   "execution_count": 14,
   "metadata": {},
   "outputs": [],
   "source": [
    "country_mapping = {\n",
    "    \"중화인민공화국\": \"중국\",\n",
    "    \"중화민국\": \"중국\",\n",
    "    \"타이\": \"태국\",\n",
    "    \"소련\": \"러시아\",\n",
    "    \"서독\": \"독일\"\n",
    "}"
   ]
  },
  {
   "cell_type": "code",
   "execution_count": 15,
   "metadata": {},
   "outputs": [],
   "source": [
    "# 'orgnl_cntry' 열의 값을 매핑에 따라 변경\n",
    "mart['orgnl_cntry'] = mart['orgnl_cntry'].replace(country_mapping)"
   ]
  },
  {
   "cell_type": "code",
   "execution_count": 20,
   "metadata": {},
   "outputs": [],
   "source": [
    "# 공백 제거 및 나라 순서 통일\n",
    "def clean_country_values(value):\n",
    "    # 값이 문자열인지 확인 (null값 또는 숫자는 건너뜀)\n",
    "    if isinstance(value, str):\n",
    "        value = value.replace(\" \", \"\")\n",
    "        countries = value.split(\",\")\n",
    "        sorted_countries = \",\".join(sorted(countries))\n",
    "        return sorted_countries\n",
    "    return value\n",
    "\n",
    "# orgnl_cntry 열에 적용\n",
    "mart['orgnl_cntry'] = mart['orgnl_cntry'].apply(clean_country_values)\n"
   ]
  },
  {
   "cell_type": "code",
   "execution_count": 25,
   "metadata": {},
   "outputs": [
    {
     "data": {
      "text/plain": [
       "orgnl_cntry\n",
       "미국                  4789\n",
       "대한민국                3411\n",
       "일본                  1236\n",
       "중국                   907\n",
       "홍콩                   636\n",
       "                    ... \n",
       "독일,미국,스페인,영국,프랑스       1\n",
       "독일,벨기에,캐나다,프랑스         1\n",
       "미국,인도                  1\n",
       "덴마크,미국,프랑스             1\n",
       "키프로스                   1\n",
       "Name: count, Length: 205, dtype: int64"
      ]
     },
     "execution_count": 25,
     "metadata": {},
     "output_type": "execute_result"
    }
   ],
   "source": [
    "mart['orgnl_cntry'].value_counts()"
   ]
  },
  {
   "cell_type": "markdown",
   "metadata": {},
   "source": [
    "<br><hr>\n",
    "\n",
    "### 03. actors 전처리\n",
    "\n",
    "- '-' >> null값으로 변경\n",
    "- ',' (반점) 뒤 공백 제거"
   ]
  },
  {
   "cell_type": "code",
   "execution_count": 30,
   "metadata": {},
   "outputs": [
    {
     "name": "stdout",
     "output_type": "stream",
     "text": [
      "actor 열의 null값: 0\n"
     ]
    },
    {
     "data": {
      "text/plain": [
       "actors\n",
       "-                                                              64\n",
       "금초군,하가경,범홍헌                                                     5\n",
       "신밧드,사나,알리,라자크                                                   4\n",
       "한삭,유관성                                                          4\n",
       "알렉산드라 보르티취,일리야 말라닌,데니스 쉬베도프                                     4\n",
       "                                                               ..\n",
       "송혜교,남지현,송상우,송창의,조미혜,박은진,김현승,박준열,김한얼,박태훈,윤방수,이종찬,김주엽,김지영,김수안     1\n",
       "공형진,김주혁,이윤지,이시영,오정세,조성걸,최정화,김형근,조달환,배슬기,조한철,김건우,정광재,장정숙,임동현     1\n",
       "스티브 오스틴,대니 트레조                                                  1\n",
       "로즈 번,패트릭 윌슨,린 샤예,타이 심킨스,바바라 허쉬,다니엘 비서티                          1\n",
       "러슬란 아스타미로브,말릭 압드라마노브                                            1\n",
       "Name: count, Length: 14076, dtype: int64"
      ]
     },
     "execution_count": 30,
     "metadata": {},
     "output_type": "execute_result"
    }
   ],
   "source": [
    "print(\"actor 열의 null값:\", mart['actors'].isnull().sum())\n",
    "mart['actors'].value_counts()"
   ]
  },
  {
   "cell_type": "code",
   "execution_count": 43,
   "metadata": {},
   "outputs": [
    {
     "name": "stdout",
     "output_type": "stream",
     "text": [
      "actor 열의 null값: 68\n"
     ]
    }
   ],
   "source": [
    "# null값 변경\n",
    "mart['actors'] = mart['actors'].replace([\"-\", \"미상\"], np.nan)\n",
    "print(\"actor 열의 null값:\", mart['actors'].isnull().sum())"
   ]
  },
  {
   "cell_type": "code",
   "execution_count": 44,
   "metadata": {},
   "outputs": [],
   "source": [
    "# 'actors' 열에서 , 뒤의 공백 제거\n",
    "mart['actors'] = mart['actors'].str.replace(r\",\\s+\", \",\", regex=True)"
   ]
  },
  {
   "cell_type": "code",
   "execution_count": 45,
   "metadata": {},
   "outputs": [
    {
     "data": {
      "text/plain": [
       "actors\n",
       "금초군,하가경,범홍헌                                                    5\n",
       "신밧드,사나,알리,라자크                                                  4\n",
       "한삭,유관성                                                         4\n",
       "강수진,김승준,이정구,정미숙                                                4\n",
       "이와시타 시마,카타세 리노                                                 4\n",
       "                                                              ..\n",
       "공형진,김주혁,이윤지,이시영,오정세,조성걸,최정화,김형근,조달환,배슬기,조한철,김건우,정광재,장정숙,임동현    1\n",
       "스티브 오스틴,대니 트레조                                                 1\n",
       "로즈 번,패트릭 윌슨,린 샤예,타이 심킨스,바바라 허쉬,다니엘 비서티                         1\n",
       "황정민,엄정화,정성화,오나라,박정민,박사랑,임호걸,정원영,안은정,라미란,이대연,이한위,최우리,천보근,권병길    1\n",
       "러슬란 아스타미로브,말릭 압드라마노브                                           1\n",
       "Name: count, Length: 14072, dtype: int64"
      ]
     },
     "execution_count": 45,
     "metadata": {},
     "output_type": "execute_result"
    }
   ],
   "source": [
    "mart['actors'].value_counts()"
   ]
  },
  {
   "cell_type": "code",
   "execution_count": 76,
   "metadata": {},
   "outputs": [],
   "source": [
    "# mart.to_csv('mart_전처리중.csv', encoding='utf8', index=False)"
   ]
  },
  {
   "cell_type": "markdown",
   "metadata": {},
   "source": [
    "<br><hr>\n",
    "\n",
    "### 04. assetid의 개수와 title-movie_id 개수 비교"
   ]
  },
  {
   "cell_type": "code",
   "execution_count": 48,
   "metadata": {},
   "outputs": [
    {
     "name": "stdout",
     "output_type": "stream",
     "text": [
      "14292\n",
      "14292\n",
      "14227\n"
     ]
    }
   ],
   "source": [
    "print(mart.shape[0])\n",
    "print(mart['asset_id'].nunique())\n",
    "print(mart[['title', 'movie_id']].drop_duplicates().shape[0])"
   ]
  },
  {
   "cell_type": "markdown",
   "metadata": {},
   "source": [
    "*65개(92-27)의 데이터 확인*"
   ]
  },
  {
   "cell_type": "code",
   "execution_count": 52,
   "metadata": {},
   "outputs": [
    {
     "data": {
      "text/plain": [
       "(130, 19)"
      ]
     },
     "execution_count": 52,
     "metadata": {},
     "output_type": "execute_result"
    }
   ],
   "source": [
    "duplicates = mart[mart.duplicated(subset=['title', 'movie_id'], keep=False)]\n",
    "duplicates.shape"
   ]
  },
  {
   "cell_type": "code",
   "execution_count": 82,
   "metadata": {},
   "outputs": [],
   "source": [
    "# 삭제할 값이 들어있는 데이터프레임 불러오기\n",
    "# todelete = pd.read_csv('rows_to_delete.csv', encoding='utf8')"
   ]
  },
  {
   "cell_type": "code",
   "execution_count": 83,
   "metadata": {},
   "outputs": [
    {
     "name": "stdout",
     "output_type": "stream",
     "text": [
      "14224\n",
      "14224\n",
      "14224\n"
     ]
    }
   ],
   "source": [
    "# mart_filtered = mart[~mart.isin(todelete.to_dict(orient=\"list\")).all(axis=1)]\n",
    "# difference_df = mart[~mart[['asset_id']].isin(todelete[['asset_id']].to_dict(orient=\"list\")).all(axis=1)]\n",
    "# difference_df = mart.loc[~mart.index.isin(todelete.index)]\n",
    "\n",
    "\n",
    "print(difference_df.shape[0])\n",
    "print(difference_df['asset_id'].nunique())\n",
    "print(difference_df[['title', 'movie_id']].drop_duplicates().shape[0])"
   ]
  },
  {
   "cell_type": "markdown",
   "metadata": {},
   "source": [
    "<br><hr>\n",
    "\n",
    "### 05. original_title 값 변경\n",
    "\n",
    "- cjc|M4983848LSVJ32283301(asset_id) 의 original_title 변경 ชัตเตอร์ กดติดวิญญาณ"
   ]
  },
  {
   "cell_type": "code",
   "execution_count": 85,
   "metadata": {},
   "outputs": [
    {
     "data": {
      "text/html": [
       "<div>\n",
       "<style scoped>\n",
       "    .dataframe tbody tr th:only-of-type {\n",
       "        vertical-align: middle;\n",
       "    }\n",
       "\n",
       "    .dataframe tbody tr th {\n",
       "        vertical-align: top;\n",
       "    }\n",
       "\n",
       "    .dataframe thead th {\n",
       "        text-align: right;\n",
       "    }\n",
       "</style>\n",
       "<table border=\"1\" class=\"dataframe\">\n",
       "  <thead>\n",
       "    <tr style=\"text-align: right;\">\n",
       "      <th></th>\n",
       "      <th>asset_id</th>\n",
       "      <th>movie_id</th>\n",
       "      <th>title</th>\n",
       "      <th>original_title</th>\n",
       "      <th>genre</th>\n",
       "      <th>adult</th>\n",
       "      <th>runtime</th>\n",
       "      <th>release_year</th>\n",
       "      <th>release_date</th>\n",
       "      <th>actors</th>\n",
       "      <th>director</th>\n",
       "      <th>orgnl_cntry</th>\n",
       "      <th>original_language</th>\n",
       "      <th>vote_average</th>\n",
       "      <th>vote_count</th>\n",
       "      <th>popularity</th>\n",
       "      <th>poster_path</th>\n",
       "      <th>backdrop_path</th>\n",
       "      <th>overview</th>\n",
       "    </tr>\n",
       "  </thead>\n",
       "  <tbody>\n",
       "    <tr>\n",
       "      <th>14256</th>\n",
       "      <td>cjc|M4983848LSVJ32283301</td>\n",
       "      <td>17111</td>\n",
       "      <td>셔터</td>\n",
       "      <td>ชัตเตอร์ กดติดวิญญาณ</td>\n",
       "      <td>공포, 미스터리, 스릴러</td>\n",
       "      <td>False</td>\n",
       "      <td>97.0</td>\n",
       "      <td>2004.0</td>\n",
       "      <td>2004-09-09</td>\n",
       "      <td>아난다 에버링햄,나타위라눗 통미,아치타 시카마나,운노프 찬파이불</td>\n",
       "      <td>반종 피산다나쿤</td>\n",
       "      <td>태국</td>\n",
       "      <td>th</td>\n",
       "      <td>7.293</td>\n",
       "      <td>1226.0</td>\n",
       "      <td>30.065</td>\n",
       "      <td>/igBvzh5ro0ySISCMUesLQsAweeY.jpg</td>\n",
       "      <td>/kyVSY4kJcC7ThHE6hQFXxtyaLJv.jpg</td>\n",
       "      <td>25살의 사진작가 '턴'과 그의 여자친구 '제인'. 대학동창의 결혼식에 다녀오던 길...</td>\n",
       "    </tr>\n",
       "  </tbody>\n",
       "</table>\n",
       "</div>"
      ],
      "text/plain": [
       "                       asset_id movie_id title        original_title  \\\n",
       "14256  cjc|M4983848LSVJ32283301    17111    셔터  ชัตเตอร์ กดติดวิญญาณ   \n",
       "\n",
       "               genre  adult  runtime  release_year release_date  \\\n",
       "14256  공포, 미스터리, 스릴러  False     97.0        2004.0   2004-09-09   \n",
       "\n",
       "                                    actors  director orgnl_cntry  \\\n",
       "14256  아난다 에버링햄,나타위라눗 통미,아치타 시카마나,운노프 찬파이불  반종 피산다나쿤          태국   \n",
       "\n",
       "      original_language  vote_average  vote_count  popularity  \\\n",
       "14256                th         7.293      1226.0      30.065   \n",
       "\n",
       "                            poster_path                     backdrop_path  \\\n",
       "14256  /igBvzh5ro0ySISCMUesLQsAweeY.jpg  /kyVSY4kJcC7ThHE6hQFXxtyaLJv.jpg   \n",
       "\n",
       "                                                overview  \n",
       "14256  25살의 사진작가 '턴'과 그의 여자친구 '제인'. 대학동창의 결혼식에 다녀오던 길...  "
      ]
     },
     "execution_count": 85,
     "metadata": {},
     "output_type": "execute_result"
    }
   ],
   "source": [
    "mart.loc[mart['asset_id'] == 'cjc|M4983848LSVJ32283301', 'original_title'] = \"ชัตเตอร์ กดติดวิญญาณ\"\n",
    "mart[mart['asset_id']=='cjc|M4983848LSVJ32283301']"
   ]
  },
  {
   "cell_type": "code",
   "execution_count": 87,
   "metadata": {},
   "outputs": [],
   "source": [
    "mart.to_csv(\"../data/movies_mart_0122.csv\", encoding='utf8', index=False)"
   ]
  },
  {
   "cell_type": "code",
   "execution_count": null,
   "metadata": {},
   "outputs": [],
   "source": []
  }
 ],
 "metadata": {
  "kernelspec": {
   "display_name": ".venv",
   "language": "python",
   "name": "python3"
  },
  "language_info": {
   "codemirror_mode": {
    "name": "ipython",
    "version": 3
   },
   "file_extension": ".py",
   "mimetype": "text/x-python",
   "name": "python",
   "nbconvert_exporter": "python",
   "pygments_lexer": "ipython3",
   "version": "3.11.9"
  }
 },
 "nbformat": 4,
 "nbformat_minor": 2
}
