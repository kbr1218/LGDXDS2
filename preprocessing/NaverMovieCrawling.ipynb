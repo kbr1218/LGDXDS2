{
 "cells": [
  {
   "cell_type": "markdown",
   "metadata": {},
   "source": [
    "## 네이버 영화 정보 크롤링\n",
    "\n",
    "[참고]  \n",
    "- https://github.com/arkjackson/NaverMovieCommentCrawling\n",
    "- https://github.com/JangBogwang/contentscrawling"
   ]
  },
  {
   "cell_type": "code",
   "execution_count": null,
   "metadata": {},
   "outputs": [],
   "source": []
  },
  {
   "cell_type": "markdown",
   "metadata": {},
   "source": [
    "## Watcha Pedia 크롤링 테스트"
   ]
  },
  {
   "cell_type": "code",
   "execution_count": 14,
   "metadata": {},
   "outputs": [],
   "source": [
    "from tqdm.notebook import tqdm\n",
    "from selenium.common.exceptions import NoSuchElementException\n",
    "\n",
    "import time\n",
    "import pandas as pd\n",
    "from selenium import webdriver\n",
    "from selenium.webdriver.common.by import By\n",
    "from selenium.webdriver.chrome.service import Service\n",
    "from selenium.webdriver.chrome.options import Options\n",
    "from selenium.webdriver.common.keys import Keys\n",
    "from selenium.webdriver.support.ui import WebDriverWait\n",
    "from selenium.webdriver.support import expected_conditions as EC"
   ]
  },
  {
   "cell_type": "code",
   "execution_count": 2,
   "metadata": {},
   "outputs": [
    {
     "data": {
      "text/html": [
       "<div>\n",
       "<style scoped>\n",
       "    .dataframe tbody tr th:only-of-type {\n",
       "        vertical-align: middle;\n",
       "    }\n",
       "\n",
       "    .dataframe tbody tr th {\n",
       "        vertical-align: top;\n",
       "    }\n",
       "\n",
       "    .dataframe thead th {\n",
       "        text-align: right;\n",
       "    }\n",
       "</style>\n",
       "<table border=\"1\" class=\"dataframe\">\n",
       "  <thead>\n",
       "    <tr style=\"text-align: right;\">\n",
       "      <th></th>\n",
       "      <th>title</th>\n",
       "    </tr>\n",
       "  </thead>\n",
       "  <tbody>\n",
       "    <tr>\n",
       "      <th>0</th>\n",
       "      <td>2001 스페이스 오디세이</td>\n",
       "    </tr>\n",
       "    <tr>\n",
       "      <th>1</th>\n",
       "      <td>티파니에서 아침을</td>\n",
       "    </tr>\n",
       "    <tr>\n",
       "      <th>2</th>\n",
       "      <td>미스 슬로운</td>\n",
       "    </tr>\n",
       "    <tr>\n",
       "      <th>3</th>\n",
       "      <td>휴일</td>\n",
       "    </tr>\n",
       "  </tbody>\n",
       "</table>\n",
       "</div>"
      ],
      "text/plain": [
       "            title\n",
       "0  2001 스페이스 오디세이\n",
       "1       티파니에서 아침을\n",
       "2          미스 슬로운\n",
       "3              휴일"
      ]
     },
     "execution_count": 2,
     "metadata": {},
     "output_type": "execute_result"
    }
   ],
   "source": [
    "data = [{'title': '2001 스페이스 오디세이'},\n",
    "        {'title': '티파니에서 아침을'},\n",
    "        {'title': '미스 슬로운'},\n",
    "        {'title': '휴일'}\n",
    "        ]\n",
    "\n",
    "title = pd.DataFrame(data)\n",
    "title"
   ]
  },
  {
   "cell_type": "code",
   "execution_count": 4,
   "metadata": {},
   "outputs": [
    {
     "data": {
      "text/plain": [
       "0    2001 스페이스 오디세이\n",
       "1         티파니에서 아침을\n",
       "2            미스 슬로운\n",
       "3                휴일\n",
       "Name: title, dtype: object"
      ]
     },
     "execution_count": 4,
     "metadata": {},
     "output_type": "execute_result"
    }
   ],
   "source": [
    "# 검색할 영화 추출\n",
    "inp = title['title']\n",
    "inp"
   ]
  },
  {
   "cell_type": "code",
   "execution_count": 24,
   "metadata": {},
   "outputs": [
    {
     "data": {
      "application/vnd.jupyter.widget-view+json": {
       "model_id": "6e16f92721ff4be8a961f009b4f60554",
       "version_major": 2,
       "version_minor": 0
      },
      "text/plain": [
       "  0%|          | 0/4 [00:00<?, ?it/s]"
      ]
     },
     "metadata": {},
     "output_type": "display_data"
    }
   ],
   "source": [
    "# 크롤링 \n",
    "chrome_options = Options()\n",
    "chrome_options.add_argument('--window-size=1800,1090')\n",
    "# chrome_options.add_argument(\"--headless\")\n",
    "chrome_options.add_argument(\"--disable-gpu\")\n",
    "chrome_options.add_argument(\"--no-sandbox\")\n",
    "chrome_options.add_argument(\"--disable-dev-shm-usage\")\n",
    "\n",
    "driver = webdriver.Chrome(options=chrome_options)\n",
    "driver.get(\"https://pedia.watcha.com/ko-KR\")\n",
    "driver.implicitly_wait(4)\n",
    "\n",
    "#크롤링 결과를 저장할 데이터 프레임 \n",
    "result = pd.DataFrame(data=None, columns=[\"title\",'img_url','year','genre','country', \"star\", 'smry',\"review\"])\n",
    "\n",
    "for title in tqdm(inp):\n",
    "    driver.get(\"https://pedia.watcha.com/ko-KR\")\n",
    "    driver.implicitly_wait(4)\n",
    "\n",
    "    try:\n",
    "        # 검색창에 영화 제목 입력\n",
    "        search_box = WebDriverWait(driver, 5).until(\n",
    "            EC.presence_of_element_located((By.ID, 'desktop-search-field'))\n",
    "        )\n",
    "        search_box.send_keys(title)\n",
    "        search_box.send_keys(Keys.RETURN)\n",
    "        search_box.clear()\n",
    "        driver.implicitly_wait(2)\n",
    "        # b =[]\n",
    "        # # 변수 선언 \n",
    "        # img_url = ''\n",
    "        # year = ''\n",
    "        # genre = ''\n",
    "        # point = ''\n",
    "        # smry =''\n",
    "\n",
    "        try:\n",
    "            first_result = WebDriverWait(driver, 5).until(\n",
    "                EC.presence_of_element_located((By.CSS_SELECTOR, \"ul.css-1gkas1x-VisualUl li a\"))\n",
    "            )\n",
    "            first_result.click()\n",
    "            time.sleep(3)  # 페이지 로딩 대기\n",
    "        except Exception as e:\n",
    "            print(f\"❌ '{title}' 검색 결과 없음: {e}\")\n",
    "            continue\n",
    "\n",
    "    try:\n",
    "        check = 0\n",
    "        if driver.find_element(By.CSS_SELECTOR, 'div.css-1x6fzl1.e1szkzar0 > div.css-13o7eu2.e1pww8ij0 > section > section:nth-child(2) > header > h2').text!='영화':\n",
    "            continue\n",
    "        else:\n",
    "            # 영화인지 체크 \n",
    "            movie_list = driver.find_elements(By.CSS_SELECTOR, '#root > div > div.css-126e3ta-NavContainer.ed8qmey1 > section > section > div.css-1x6fzl1.e1szkzar0 > div.css-13o7eu2.e1pww8ij0 > section > section:nth-child(2) > div > div.css-a50hm3.e1yzo30x5 > div > ul > li')\n",
    "            for i in range(1, len(movie_list)+1):\n",
    "                movie = driver.find_element(By.CSS_SELECTOR,'#root > div > div.css-126e3ta-NavContainer.ed8qmey1 > section > section > div.css-1x6fzl1.e1szkzar0 > div.css-13o7eu2.e1pww8ij0 > section > section:nth-child(2) > div > div.css-a50hm3.e1yzo30x5 > div > ul > li:nth-child(%d) > a > div.css-1pkjqps.e1ic68ft0 > div.css-m5a6g.e1ic68ft1 > div.css-9jne0z.e1gexyxq4'%(i))\n",
    "                if title== movie.text:\n",
    "                    check = 1    \n",
    "                    movie.click()\n",
    "                    break;                        \n",
    "        if check == 0:\n",
    "            continue\n",
    "\n",
    "        # 리뷰 url 저장  \n",
    "        Url=driver.current_url+\"/comments\"\n",
    "        \n",
    "        #장르 연도 크롤링\n",
    "        try:\n",
    "            info_list = driver.find_element(By.XPATH, '//*[@id=\"root\"]/div/div[1]/section/div/div[2]/div/div[1]/div/div[1]/div[4]/div/div[2]').text\n",
    "            info_list = info_list.split(' · ')\n",
    "            year = info_list[0]\n",
    "            genre = info_list[1]\n",
    "            country = info_list[2]\n",
    "        except NoSuchElementException:\n",
    "            pass\n",
    "        \n",
    "        #img url 저장 \n",
    "        try:\n",
    "            img = driver.find_element(By.XPATH,'//*[@id=\"root\"]/div/div[1]/section/div/div[2]/div/div[1]/div/div[2]/section/div[1]/div/div/img')\n",
    "            img_url = img.get_attribute('src')\n",
    "        except NoSuchElementException:\n",
    "            pass\n",
    "\n",
    "\n",
    "        #줄거리 요약, 만약 줄거리가 없을 경우 빈 내용 저장 \n",
    "        try:  \n",
    "            smry = driver.find_element(By.CSS_SELECTOR, '#root > div > div.css-126e3ta-NavContainer.ed8qmey1 > section > div > div.css-d3kywm.e11kyjwk3 > div > div.css-1oak90x.e11kyjwk1 > div > div.css-2tqido.e1yew2869 > section.css-3btvnx.e1yew2868 > div.css-g8juaf.e1yew2865 > section.css-291cts.e1yew2864').text\n",
    "        except NoSuchElementException:\n",
    "            pass\n",
    "\n",
    "        # 별점 저장 \n",
    "        try:\n",
    "            point = driver.find_element(By.CSS_SELECTOR, '#root > div > div.css-126e3ta-NavContainer.ed8qmey1 > section > div > div.css-d3kywm.e11kyjwk3 > div > div.css-1oak90x.e11kyjwk1 > div > div.css-2tqido.e1yew2869 > section > div.css-7ckxl2.e1yew2867 > section > span').text\n",
    "            point = point.strip('평균 ★')\n",
    "            point = point.split(\"(\")\n",
    "            star = point[0]\n",
    "        except NoSuchElementException:\n",
    "            pass\n",
    "\n",
    "        driver.get(Url)\n",
    "        #스크롤\n",
    "        driver.execute_script(\"window.scrollTo(0, 2000)\")\n",
    "        time.sleep(0.3)\n",
    "        driver.execute_script(\"window.scrollTo(2000, 4000)\")\n",
    "        time.sleep(0.3)\n",
    "        driver.execute_script(\"window.scrollTo(4000, 6000)\")\n",
    "        time.sleep(0.3)\n",
    "    \n",
    "        # 리뷰 및 평점 크롤링 \n",
    "        x = driver.find_elements(By.XPATH, '//*[@id=\"root\"]/div/div[1]/section/section/div/div/div/ul/div')\n",
    "        for i in range(0,len(x)-2) : \n",
    "            a = driver.find_element(By.CSS_SELECTOR,'#root > div > div.css-126e3ta-NavContainer.ed8qmey1 > section > section > div > div > div > ul > div:nth-child(%d) > div.css-2occzs.egj9y8a1'%(i+1)).text\n",
    "            a = a.replace('\\n','')\n",
    "            a = a.replace('#','')\n",
    "            b.append(a)\n",
    "\n",
    "        # 데이터 추가 \n",
    "        new = pd.DataFrame({\"title\":[title],'img_url':[img_url],'year':[year],'genre':[genre],'country':[country], \"star\":[star], 'smry':[smry],\"review\":[b]})\n",
    "        result = pd.concat([result, new], ignore_index=True)\n",
    "    except NoSuchElementException:\n",
    "        pass\n",
    "\n",
    "driver.close()"
   ]
  },
  {
   "cell_type": "code",
   "execution_count": 25,
   "metadata": {},
   "outputs": [
    {
     "data": {
      "text/html": [
       "<div>\n",
       "<style scoped>\n",
       "    .dataframe tbody tr th:only-of-type {\n",
       "        vertical-align: middle;\n",
       "    }\n",
       "\n",
       "    .dataframe tbody tr th {\n",
       "        vertical-align: top;\n",
       "    }\n",
       "\n",
       "    .dataframe thead th {\n",
       "        text-align: right;\n",
       "    }\n",
       "</style>\n",
       "<table border=\"1\" class=\"dataframe\">\n",
       "  <thead>\n",
       "    <tr style=\"text-align: right;\">\n",
       "      <th></th>\n",
       "      <th>title</th>\n",
       "      <th>img_url</th>\n",
       "      <th>year</th>\n",
       "      <th>genre</th>\n",
       "      <th>country</th>\n",
       "      <th>star</th>\n",
       "      <th>smry</th>\n",
       "      <th>review</th>\n",
       "    </tr>\n",
       "  </thead>\n",
       "  <tbody>\n",
       "  </tbody>\n",
       "</table>\n",
       "</div>"
      ],
      "text/plain": [
       "Empty DataFrame\n",
       "Columns: [title, img_url, year, genre, country, star, smry, review]\n",
       "Index: []"
      ]
     },
     "execution_count": 25,
     "metadata": {},
     "output_type": "execute_result"
    }
   ],
   "source": [
    "result"
   ]
  },
  {
   "cell_type": "code",
   "execution_count": null,
   "metadata": {},
   "outputs": [],
   "source": []
  },
  {
   "cell_type": "code",
   "execution_count": null,
   "metadata": {},
   "outputs": [],
   "source": []
  }
 ],
 "metadata": {
  "kernelspec": {
   "display_name": ".venv",
   "language": "python",
   "name": "python3"
  },
  "language_info": {
   "codemirror_mode": {
    "name": "ipython",
    "version": 3
   },
   "file_extension": ".py",
   "mimetype": "text/x-python",
   "name": "python",
   "nbconvert_exporter": "python",
   "pygments_lexer": "ipython3",
   "version": "3.11.9"
  }
 },
 "nbformat": 4,
 "nbformat_minor": 2
}
