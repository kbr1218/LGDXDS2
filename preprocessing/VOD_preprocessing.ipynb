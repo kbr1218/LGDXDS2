{
 "cells": [
  {
   "cell_type": "markdown",
   "metadata": {},
   "source": [
    "# 월별 VOD 시청기록 전처리 + 영화 시청기록 1월~11월 병합"
   ]
  },
  {
   "cell_type": "markdown",
   "metadata": {},
   "source": [
    "<br><hr>\n",
    "\n",
    "## 00. 기본 설정"
   ]
  },
  {
   "cell_type": "code",
   "execution_count": 1,
   "metadata": {},
   "outputs": [],
   "source": [
    "import pandas as pd\n",
    "import numpy as np\n",
    "import matplotlib.pyplot as plt\n",
    "import seaborn as sns\n",
    "\n",
    "# 경고 메시지 출력 X\n",
    "import warnings\n",
    "warnings.filterwarnings(\"ignore\")"
   ]
  },
  {
   "cell_type": "code",
   "execution_count": 2,
   "metadata": {},
   "outputs": [],
   "source": [
    "# 한글 font 설정\n",
    "import platform\n",
    "import matplotlib.font_manager as fm\n",
    "\n",
    "#matplotlib 패키지 한글 깨짐 처리 시작\n",
    "#------------------------------------------------------------------------------------\n",
    "# 운영체제별 한글 폰트 설정\n",
    "\n",
    "if platform.system() == 'Darwin': # Mac 환경 폰트 설정\n",
    "    plt.rc('font', family='AppleGothic')\n",
    "elif platform.system() == 'Windows': # Windows 환경 폰트 설정\n",
    "    plt.rc('font', family='Malgun Gothic')\n",
    "    \n",
    "plt.rcParams['axes.unicode_minus'] = False #한글 폰트 사용시 마이너스 폰트 깨짐 해결"
   ]
  },
  {
   "cell_type": "code",
   "execution_count": 3,
   "metadata": {},
   "outputs": [],
   "source": [
    "# 글씨 선명하게 출력하는 설정\n",
    "\n",
    "from IPython.display import set_matplotlib_formats\n",
    "set_matplotlib_formats(\"retina\")"
   ]
  },
  {
   "cell_type": "markdown",
   "metadata": {},
   "source": [
    "<br><hr>\n",
    "\n",
    "## 01. 데이터 불러오기"
   ]
  },
  {
   "cell_type": "code",
   "execution_count": 5,
   "metadata": {},
   "outputs": [
    {
     "name": "stdout",
     "output_type": "stream",
     "text": [
      "(6416074, 9)\n"
     ]
    }
   ],
   "source": [
    "zip_file_path = \"../data/vods/202311_VOD.zip\"\n",
    "m11 = pd.read_csv(zip_file_path)\n",
    "\n",
    "print(m11.shape) # 641만 74번"
   ]
  },
  {
   "cell_type": "code",
   "execution_count": 6,
   "metadata": {},
   "outputs": [
    {
     "data": {
      "text/html": [
       "<div>\n",
       "<style scoped>\n",
       "    .dataframe tbody tr th:only-of-type {\n",
       "        vertical-align: middle;\n",
       "    }\n",
       "\n",
       "    .dataframe tbody tr th {\n",
       "        vertical-align: top;\n",
       "    }\n",
       "\n",
       "    .dataframe thead th {\n",
       "        text-align: right;\n",
       "    }\n",
       "</style>\n",
       "<table border=\"1\" class=\"dataframe\">\n",
       "  <thead>\n",
       "    <tr style=\"text-align: right;\">\n",
       "      <th></th>\n",
       "      <th>sha2_hash</th>\n",
       "      <th>asset</th>\n",
       "      <th>asset_nm</th>\n",
       "      <th>CT_CL</th>\n",
       "      <th>genre_of_ct_cl</th>\n",
       "      <th>use_tms</th>\n",
       "      <th>disp_rtm</th>\n",
       "      <th>strt_dt</th>\n",
       "      <th>category</th>\n",
       "    </tr>\n",
       "  </thead>\n",
       "  <tbody>\n",
       "    <tr>\n",
       "      <th>0</th>\n",
       "      <td>f4234153897c4c350b6b6d45cb0aea9720604033e99e46...</td>\n",
       "      <td>cjc|M5151337LFON18981801</td>\n",
       "      <td>(FREE)천룡팔부: 교봉전(무료)</td>\n",
       "      <td>기타</td>\n",
       "      <td>기타</td>\n",
       "      <td>15</td>\n",
       "      <td>02:10</td>\n",
       "      <td>20231118114124</td>\n",
       "      <td>프리미엄 무료관/무료영화/무료 영화관</td>\n",
       "    </tr>\n",
       "  </tbody>\n",
       "</table>\n",
       "</div>"
      ],
      "text/plain": [
       "                                           sha2_hash  \\\n",
       "0  f4234153897c4c350b6b6d45cb0aea9720604033e99e46...   \n",
       "\n",
       "                      asset             asset_nm CT_CL genre_of_ct_cl  \\\n",
       "0  cjc|M5151337LFON18981801  (FREE)천룡팔부: 교봉전(무료)    기타             기타   \n",
       "\n",
       "   use_tms disp_rtm         strt_dt              category  \n",
       "0       15    02:10  20231118114124  프리미엄 무료관/무료영화/무료 영화관  "
      ]
     },
     "execution_count": 6,
     "metadata": {},
     "output_type": "execute_result"
    }
   ],
   "source": [
    "m11.head(1)"
   ]
  },
  {
   "cell_type": "markdown",
   "metadata": {},
   "source": [
    "<br><hr>\n",
    "\n",
    "## 02. 전처리"
   ]
  },
  {
   "cell_type": "code",
   "execution_count": 8,
   "metadata": {},
   "outputs": [
    {
     "data": {
      "text/plain": [
       "sha2_hash\n",
       "e97fd19c59c982cec8893fbbe72b4452214f6c0354da06fe52c84f449f6319be    8776\n",
       "f86007dc2cc79681797a0e54481eeaab58d2d4884fb0f5efbc91aebd97ae6cb3    7631\n",
       "fd26111ff64bd03c0c101ea5e1605a2990aa22dfa28f39b9033e4d725eb50f55    6995\n",
       "40c9accc74b3e87a22e8fa30a0482c543f5c1a938f54ea71d2ef4b0ffbfad734    6704\n",
       "dcffd93da703598c248d2bddf65061a4ccd34692628a5151bd2ddee7911efdd5    6443\n",
       "                                                                    ... \n",
       "84a0360cf74ec4c36aac6be1e1005575191658c8a04811eb7819e733691c1204       1\n",
       "5992cac24ee17d3fdb03550d6b80b716a6822e2cff962b5d803704d659e63944       1\n",
       "1700a0d597a69a67afbf05de4f32f14c3dcf99c715e7e35d8f39687a543c542a       1\n",
       "7309e4db35dd5585cfe98f64cc7c6f309937a81830d97bd40e91f5703f9bba89       1\n",
       "9e6cd41990d791c8877f45e2e9bcef4f2b80e1fb93ddb490da2dbff41722b7fe       1\n",
       "Name: count, Length: 300098, dtype: int64"
      ]
     },
     "execution_count": 8,
     "metadata": {},
     "output_type": "execute_result"
    }
   ],
   "source": [
    "# 인당 본 횟수\n",
    "subsr_value_counts = m11['sha2_hash'].value_counts()\n",
    "subsr_value_counts\n",
    "\n",
    "# 30만 98명"
   ]
  },
  {
   "cell_type": "code",
   "execution_count": 9,
   "metadata": {},
   "outputs": [
    {
     "data": {
      "text/plain": [
       "61172"
      ]
     },
     "execution_count": 9,
     "metadata": {},
     "output_type": "execute_result"
    }
   ],
   "source": [
    "# VOD를 한 번만 시청한 사용자\n",
    "unique_count = (subsr_value_counts == 1).sum()\n",
    "unique_count\n",
    "\n",
    "# 6만 1172명 (총 30만 98명) >> 1/5"
   ]
  },
  {
   "cell_type": "code",
   "execution_count": 13,
   "metadata": {},
   "outputs": [
    {
     "data": {
      "text/plain": [
       "256235"
      ]
     },
     "execution_count": 13,
     "metadata": {},
     "output_type": "execute_result"
    }
   ],
   "source": [
    "# VOD를 1000번 이하로 시청한 사용자\n",
    "unique_count = (subsr_value_counts <= 27).sum()\n",
    "unique_count\n",
    "# 25만 6235명이 27번 이하로 시청 (총 30만 98명)"
   ]
  },
  {
   "cell_type": "code",
   "execution_count": 17,
   "metadata": {},
   "outputs": [
    {
     "data": {
      "text/plain": [
       "153190"
      ]
     },
     "execution_count": 17,
     "metadata": {},
     "output_type": "execute_result"
    }
   ],
   "source": [
    "# VOD를 1000번 이하로 시청한 사용자\n",
    "unique_count = (subsr_value_counts <= 5).sum()\n",
    "unique_count\n",
    "# 25만 6235명이 27번 이하로 시청 (총 30만 98명)"
   ]
  },
  {
   "cell_type": "markdown",
   "metadata": {},
   "source": [
    "<br><hr>\n",
    "\n",
    "## 1월~11월 영화 시청기록 병합"
   ]
  },
  {
   "cell_type": "code",
   "execution_count": 41,
   "metadata": {},
   "outputs": [
    {
     "name": "stdout",
     "output_type": "stream",
     "text": [
      "(6416074, 9)\n",
      "(1178159, 9)\n",
      "(6919315, 9)\n"
     ]
    }
   ],
   "source": [
    "m11_file_path = \"../data/vods/202311_VOD.zip\"\n",
    "m10_file_path = \"../data/vods/202310_VOD.zip\"\n",
    "m09_file_path = \"../data/vods/202309_VOD.zip\"\n",
    "\n",
    "m11 = pd.read_csv(m11_file_path)\n",
    "m10 = pd.read_csv(m10_file_path)\n",
    "m09 = pd.read_csv(m09_file_path)\n",
    "\n",
    "print(m11.shape)\n",
    "print(m10.shape)\n",
    "print(m09.shape)"
   ]
  },
  {
   "cell_type": "code",
   "execution_count": 42,
   "metadata": {},
   "outputs": [
    {
     "name": "stdout",
     "output_type": "stream",
     "text": [
      "['기타' 'TV드라마' 'TV애니메이션' '키즈' '영화' 'TV 연예/오락' 'TV 시사/교양' '성인' '다큐' '우리동네'\n",
      " '라이프' '스포츠' '교육' nan '미분류']\n",
      "['TV애니메이션' '키즈' 'TV드라마' 'TV 시사/교양' '영화' '다큐' 'TV 연예/오락' '성인' '기타' '우리동네'\n",
      " '라이프' '스포츠' '미분류' nan '교육' '공연/음악']\n",
      "['TV드라마' 'TV 연예/오락' '영화' '성인' 'TV애니메이션' '키즈' 'TV 시사/교양' '기타' '우리동네' '다큐'\n",
      " '라이프' '미분류' '교육' '스포츠' nan '공연/음악']\n"
     ]
    }
   ],
   "source": [
    "print(m11['CT_CL'].unique())\n",
    "print(m10['CT_CL'].unique())\n",
    "print(m09['CT_CL'].unique())"
   ]
  },
  {
   "cell_type": "code",
   "execution_count": 43,
   "metadata": {},
   "outputs": [
    {
     "name": "stdout",
     "output_type": "stream",
     "text": [
      "m11 shape: (1422513, 9)\n",
      "m10 shape: (250182, 9)\n",
      "m09 shape: (1373404, 9)\n"
     ]
    }
   ],
   "source": [
    "m11_movies = m11[m11['CT_CL'] == '영화']\n",
    "m10_movies = m10[m10['CT_CL'] == '영화']\n",
    "m09_movies = m09[m09['CT_CL'] == '영화']\n",
    "print('m11 shape:', m11_movies.shape)\n",
    "print('m10 shape:', m10_movies.shape)\n",
    "print('m09 shape:', m09_movies.shape)"
   ]
  },
  {
   "cell_type": "code",
   "execution_count": 44,
   "metadata": {},
   "outputs": [],
   "source": [
    "m08_file_path = \"../data/vods/202308_VOD.zip\"\n",
    "m07_file_path = \"../data/vods/202307_VOD.zip\"\n",
    "m06_file_path = \"../data/vods/202306_VOD.zip\"\n",
    "\n",
    "m08 = pd.read_csv(m08_file_path)\n",
    "m07 = pd.read_csv(m07_file_path)\n",
    "m06 = pd.read_csv(m06_file_path)\n",
    "\n",
    "print(m08.shape)\n",
    "print(m07.shape)\n",
    "print(m06.shape)"
   ]
  },
  {
   "cell_type": "code",
   "execution_count": 45,
   "metadata": {},
   "outputs": [
    {
     "name": "stdout",
     "output_type": "stream",
     "text": [
      "m08 shape: (1579962, 9)\n",
      "m07 shape: (1890441, 9)\n",
      "m06 shape: (1849426, 9)\n"
     ]
    }
   ],
   "source": [
    "m08_movies = m08[m08['CT_CL'] == '영화']\n",
    "m07_movies = m07[m07['CT_CL'] == '영화']\n",
    "m06_movies = m06[m06['CT_CL'] == '영화']\n",
    "print('m08 shape:', m08_movies.shape)\n",
    "print('m07 shape:', m07_movies.shape)\n",
    "print('m06 shape:', m06_movies.shape)"
   ]
  },
  {
   "cell_type": "code",
   "execution_count": 46,
   "metadata": {},
   "outputs": [
    {
     "name": "stdout",
     "output_type": "stream",
     "text": [
      "(7712374, 9)\n",
      "(1971241, 9)\n",
      "(7662099, 9)\n"
     ]
    }
   ],
   "source": [
    "m05_file_path = \"../data/vods/202305_VOD.zip\"\n",
    "m04_file_path = \"../data/vods/202304_VOD.zip\"\n",
    "m03_file_path = \"../data/vods/202303_VOD.zip\"\n",
    "\n",
    "m05 = pd.read_csv(m05_file_path)\n",
    "m04 = pd.read_csv(m04_file_path)\n",
    "m03 = pd.read_csv(m03_file_path)\n",
    "\n",
    "print(m05.shape)\n",
    "print(m04.shape)\n",
    "print(m03.shape)"
   ]
  },
  {
   "cell_type": "code",
   "execution_count": 47,
   "metadata": {},
   "outputs": [
    {
     "name": "stdout",
     "output_type": "stream",
     "text": [
      "m05 shape: (1775975, 9)\n",
      "m04 shape: (463937, 9)\n",
      "m03 shape: (1878906, 9)\n"
     ]
    }
   ],
   "source": [
    "m05_movies = m05[m05['CT_CL'] == '영화']\n",
    "m04_movies = m04[m04['CT_CL'] == '영화']\n",
    "m03_movies = m03[m03['CT_CL'] == '영화']\n",
    "print('m05 shape:', m05_movies.shape)\n",
    "print('m04 shape:', m04_movies.shape)\n",
    "print('m03 shape:', m03_movies.shape)"
   ]
  },
  {
   "cell_type": "code",
   "execution_count": 48,
   "metadata": {},
   "outputs": [
    {
     "name": "stdout",
     "output_type": "stream",
     "text": [
      "(7350110, 9)\n",
      "(6325398, 9)\n"
     ]
    }
   ],
   "source": [
    "m02_file_path = \"../data/vods/202302_VOD.zip\"\n",
    "m01_file_path = \"../data/vods/202301_VOD.zip\"\n",
    "\n",
    "m02 = pd.read_csv(m02_file_path)\n",
    "m01 = pd.read_csv(m01_file_path)\n",
    "\n",
    "print(m02.shape)\n",
    "print(m01.shape)"
   ]
  },
  {
   "cell_type": "code",
   "execution_count": 49,
   "metadata": {},
   "outputs": [
    {
     "name": "stdout",
     "output_type": "stream",
     "text": [
      "m02 shape: (1593025, 9)\n",
      "m01 shape: (1257149, 9)\n"
     ]
    }
   ],
   "source": [
    "m02_movies = m02[m02['CT_CL'] == '영화']\n",
    "m01_movies = m01[m01['CT_CL'] == '영화']\n",
    "print('m02 shape:', m02_movies.shape)\n",
    "print('m01 shape:', m01_movies.shape)"
   ]
  },
  {
   "cell_type": "code",
   "execution_count": 50,
   "metadata": {},
   "outputs": [],
   "source": [
    "# 11개의 데이터프레임 리스트\n",
    "dataframes = [m11_movies, m10_movies, m09_movies, m08_movies, m07_movies, \n",
    "              m06_movies, m05_movies, m04_movies, m03_movies, m02_movies, m01_movies]"
   ]
  },
  {
   "cell_type": "code",
   "execution_count": 51,
   "metadata": {},
   "outputs": [
    {
     "name": "stdout",
     "output_type": "stream",
     "text": [
      "(15334920, 9)\n"
     ]
    }
   ],
   "source": [
    "# 데이터프레임 병합\n",
    "combined_df = pd.concat(dataframes, ignore_index=True)\n",
    "\n",
    "# 결과 출력\n",
    "print(combined_df.shape)"
   ]
  },
  {
   "cell_type": "code",
   "execution_count": 52,
   "metadata": {},
   "outputs": [],
   "source": [
    "combined_df.to_csv('../data/2023_VOD_movies.csv', index=False, encoding='utf8')"
   ]
  }
 ],
 "metadata": {
  "kernelspec": {
   "display_name": ".venv",
   "language": "python",
   "name": "python3"
  },
  "language_info": {
   "codemirror_mode": {
    "name": "ipython",
    "version": 3
   },
   "file_extension": ".py",
   "mimetype": "text/x-python",
   "name": "python",
   "nbconvert_exporter": "python",
   "pygments_lexer": "ipython3",
   "version": "3.11.9"
  }
 },
 "nbformat": 4,
 "nbformat_minor": 2
}
