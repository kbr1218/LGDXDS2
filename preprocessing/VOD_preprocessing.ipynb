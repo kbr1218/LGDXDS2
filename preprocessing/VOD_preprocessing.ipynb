{
 "cells": [
  {
   "cell_type": "markdown",
   "metadata": {},
   "source": [
    "## 월별 VOD 시청기록"
   ]
  },
  {
   "cell_type": "markdown",
   "metadata": {},
   "source": [
    "<br><hr>\n",
    "\n",
    "### 00. 기본 설정"
   ]
  },
  {
   "cell_type": "code",
   "execution_count": 4,
   "metadata": {},
   "outputs": [],
   "source": [
    "import pandas as pd\n",
    "import zipfile\n",
    "\n",
    "# 경고 메시지 출력 X\n",
    "import warnings\n",
    "warnings.filterwarnings(\"ignore\")"
   ]
  },
  {
   "cell_type": "markdown",
   "metadata": {},
   "source": [
    "<br><hr>\n",
    "\n",
    "### 01. 데이터 불러오기"
   ]
  },
  {
   "cell_type": "code",
   "execution_count": 6,
   "metadata": {},
   "outputs": [],
   "source": [
    "dataframes = []\n",
    "\n",
    "for month in range(1, 12):  # 1부터 11까지 반복\n",
    "    file_path = f\"../data/vods/2023{str(month).zfill(2)}_VOD.zip\"  # 파일 경로 생성\n",
    "    try:\n",
    "        # ZIP 파일 내 CSV 읽기\n",
    "        df = pd.read_csv(file_path, compression='zip')  # ZIP 파일 내 CSV 읽기\n",
    "        dataframes.append(df)  # 데이터프레임 리스트에 추가\n",
    "    except Exception as e:\n",
    "        print(f\"Error reading file {file_path}: {e}\")"
   ]
  },
  {
   "cell_type": "markdown",
   "metadata": {},
   "source": [
    "<br><hr>\n",
    "\n",
    "### 02. 1월~11월 영화 시청기록 병합"
   ]
  },
  {
   "cell_type": "code",
   "execution_count": 7,
   "metadata": {},
   "outputs": [
    {
     "name": "stdout",
     "output_type": "stream",
     "text": [
      "(6325398, 9)\n",
      "(7350110, 9)\n",
      "(7662099, 9)\n",
      "(1971241, 9)\n",
      "(7712374, 9)\n",
      "(7165520, 9)\n",
      "(8004336, 9)\n",
      "(7665944, 9)\n",
      "(6919315, 9)\n",
      "(1178159, 9)\n",
      "(6416074, 9)\n"
     ]
    }
   ],
   "source": [
    "# shape 확인\n",
    "for i in range(11):\n",
    "  print(dataframes[i].shape)"
   ]
  },
  {
   "cell_type": "code",
   "execution_count": 13,
   "metadata": {},
   "outputs": [
    {
     "name": "stdout",
     "output_type": "stream",
     "text": [
      "01월: (1257149, 9)\n",
      "02월: (1593025, 9)\n",
      "03월: (1878906, 9)\n",
      "04월: (463937, 9)\n",
      "05월: (1775975, 9)\n",
      "06월: (1849426, 9)\n",
      "07월: (1890441, 9)\n",
      "08월: (1579962, 9)\n",
      "09월: (1373404, 9)\n",
      "10월: (250182, 9)\n",
      "11월: (1422513, 9)\n"
     ]
    }
   ],
   "source": [
    "dataframes_movies = {}\n",
    "\n",
    "for idx, df in enumerate(dataframes, start=1):\n",
    "    month = str(idx).zfill(2)\n",
    "    var_name = f\"m{month}_movies\"\n",
    "    \n",
    "    # 'CT_CL' 값이 '영화'인 행 필터링\n",
    "    df_movies = df[df['CT_CL'] == '영화']\n",
    "    dataframes_movies[var_name] = df_movies\n",
    "\n",
    "    # shape 확인\n",
    "    print(f\"{month}월: {dataframes_movies[var_name].shape}\")"
   ]
  },
  {
   "cell_type": "code",
   "execution_count": 14,
   "metadata": {},
   "outputs": [
    {
     "name": "stdout",
     "output_type": "stream",
     "text": [
      "(15334920, 9)\n"
     ]
    }
   ],
   "source": [
    "# 데이터프레임 병합\n",
    "combined_movies = pd.concat(dataframes_movies.values(), ignore_index=True)\n",
    "\n",
    "# 결과 출력\n",
    "print(combined_movies.shape)"
   ]
  },
  {
   "cell_type": "markdown",
   "metadata": {},
   "source": [
    "<br><hr>\n",
    "\n",
    "### 03. 병합 데이터 전처리\n",
    "\n",
    "- 장르 삭제 ('성인', '에로틱', '영화해설')\n",
    "- 사용자 hash id 변경"
   ]
  },
  {
   "cell_type": "code",
   "execution_count": 18,
   "metadata": {},
   "outputs": [
    {
     "data": {
      "text/html": [
       "<div>\n",
       "<style scoped>\n",
       "    .dataframe tbody tr th:only-of-type {\n",
       "        vertical-align: middle;\n",
       "    }\n",
       "\n",
       "    .dataframe tbody tr th {\n",
       "        vertical-align: top;\n",
       "    }\n",
       "\n",
       "    .dataframe thead th {\n",
       "        text-align: right;\n",
       "    }\n",
       "</style>\n",
       "<table border=\"1\" class=\"dataframe\">\n",
       "  <thead>\n",
       "    <tr style=\"text-align: right;\">\n",
       "      <th></th>\n",
       "      <th>sha2_hash</th>\n",
       "      <th>asset</th>\n",
       "      <th>asset_nm</th>\n",
       "      <th>CT_CL</th>\n",
       "      <th>genre_of_ct_cl</th>\n",
       "      <th>use_tms</th>\n",
       "      <th>disp_rtm</th>\n",
       "      <th>strt_dt</th>\n",
       "      <th>category</th>\n",
       "    </tr>\n",
       "  </thead>\n",
       "  <tbody>\n",
       "    <tr>\n",
       "      <th>0</th>\n",
       "      <td>ea62338ac5b6b11cf02ef8bf1889d1a063cec2c2493937...</td>\n",
       "      <td>cjc|M5140475LSGL08601501</td>\n",
       "      <td>압꾸정</td>\n",
       "      <td>영화</td>\n",
       "      <td>코미디</td>\n",
       "      <td>2.0</td>\n",
       "      <td>01:51</td>\n",
       "      <td>2.023012e+13</td>\n",
       "      <td>영화/(HD)극장동시상영관</td>\n",
       "    </tr>\n",
       "  </tbody>\n",
       "</table>\n",
       "</div>"
      ],
      "text/plain": [
       "                                           sha2_hash  \\\n",
       "0  ea62338ac5b6b11cf02ef8bf1889d1a063cec2c2493937...   \n",
       "\n",
       "                      asset asset_nm CT_CL genre_of_ct_cl  use_tms disp_rtm  \\\n",
       "0  cjc|M5140475LSGL08601501      압꾸정    영화            코미디      2.0    01:51   \n",
       "\n",
       "        strt_dt        category  \n",
       "0  2.023012e+13  영화/(HD)극장동시상영관  "
      ]
     },
     "execution_count": 18,
     "metadata": {},
     "output_type": "execute_result"
    }
   ],
   "source": [
    "combined_movies.head(1)"
   ]
  },
  {
   "cell_type": "code",
   "execution_count": 19,
   "metadata": {},
   "outputs": [
    {
     "data": {
      "text/plain": [
       "genre_of_ct_cl\n",
       "액션/어드벤쳐    3617254\n",
       "성인         3446828\n",
       "멜로         2605584\n",
       "드라마        2120459\n",
       "코미디         976739\n",
       "공포/스릴러      636281\n",
       "기타          630081\n",
       "애니메이션       628804\n",
       "SF/환타지      304701\n",
       "무협          184352\n",
       "다큐멘터리        93639\n",
       "로맨틱코미디       41518\n",
       "역사           26005\n",
       "단편           18792\n",
       "뮤지컬           2772\n",
       "서부             957\n",
       "에로틱            151\n",
       "영화해설             3\n",
       "Name: count, dtype: int64"
      ]
     },
     "execution_count": 19,
     "metadata": {},
     "output_type": "execute_result"
    }
   ],
   "source": [
    "# 장르 확인\n",
    "combined_movies['genre_of_ct_cl'].value_counts()"
   ]
  },
  {
   "cell_type": "code",
   "execution_count": 26,
   "metadata": {},
   "outputs": [
    {
     "data": {
      "text/plain": [
       "(11887938, 9)"
      ]
     },
     "execution_count": 26,
     "metadata": {},
     "output_type": "execute_result"
    }
   ],
   "source": [
    "# '성인', '에로틱', '영화해설' 삭제\n",
    "movies_filtered = combined_movies[~combined_movies['genre_of_ct_cl'].isin(['성인', '에로틱', '영화해설'])]\n",
    "# 인덱스 초기화\n",
    "movies_filtered.reset_index(inplace=True, drop=True)\n",
    "movies_filtered.shape    # 1533만 4920개 >> 1188만 7938개 (344만 6982개 삭제)"
   ]
  },
  {
   "cell_type": "code",
   "execution_count": 27,
   "metadata": {},
   "outputs": [
    {
     "data": {
      "text/plain": [
       "574019"
      ]
     },
     "execution_count": 27,
     "metadata": {},
     "output_type": "execute_result"
    }
   ],
   "source": [
    "# 전체 사용자 수 확인\n",
    "movies_filtered[\"sha2_hash\"].nunique()  # 57만 4019명"
   ]
  },
  {
   "cell_type": "code",
   "execution_count": 29,
   "metadata": {},
   "outputs": [],
   "source": [
    "# 사용자 hash id 다시 지정\n",
    "unique_users = movies_filtered[\"sha2_hash\"].unique()\n",
    "user_mapping = {user_id: f\"user{str(i+1).zfill(6)}\" for i, user_id in enumerate(unique_users)}\n",
    "\n",
    "# 사용자 ID를 매핑된 값으로 수정\n",
    "movies_filtered[\"userId\"] = movies_filtered[\"sha2_hash\"].map(user_mapping)"
   ]
  },
  {
   "cell_type": "markdown",
   "metadata": {},
   "source": [
    "##### *열 삭제 전 csv 저장*"
   ]
  },
  {
   "cell_type": "code",
   "execution_count": null,
   "metadata": {},
   "outputs": [],
   "source": [
    "movies_filtered.to_csv('../data/movies_시청기록병합_열전체.csv', encoding='utf8', index=False)"
   ]
  },
  {
   "cell_type": "markdown",
   "metadata": {},
   "source": [
    "<br><hr>\n",
    "\n",
    "### 03. 병합 데이터 전처리 - 2\n",
    "\n",
    "- 사용하지 않을 column 삭제 (`'sha2_hash', 'CT_CL', 'genre_of_ct_cl', 'category'`)"
   ]
  },
  {
   "cell_type": "code",
   "execution_count": 31,
   "metadata": {},
   "outputs": [
    {
     "data": {
      "text/plain": [
       "Index(['sha2_hash', 'asset', 'asset_nm', 'CT_CL', 'genre_of_ct_cl', 'use_tms',\n",
       "       'disp_rtm', 'strt_dt', 'category', 'userId'],\n",
       "      dtype='object')"
      ]
     },
     "execution_count": 31,
     "metadata": {},
     "output_type": "execute_result"
    }
   ],
   "source": [
    "movies_filtered.columns"
   ]
  },
  {
   "cell_type": "code",
   "execution_count": 35,
   "metadata": {},
   "outputs": [
    {
     "name": "stdout",
     "output_type": "stream",
     "text": [
      "(11887938, 6)\n"
     ]
    }
   ],
   "source": [
    "movies_dropped = movies_filtered.drop(['sha2_hash', 'CT_CL', 'genre_of_ct_cl', 'category'], axis=1)\n",
    "print(movies_dropped.shape)"
   ]
  },
  {
   "cell_type": "code",
   "execution_count": 37,
   "metadata": {},
   "outputs": [],
   "source": [
    "movies_dropped.to_csv('../data/movies_시청기록병합.csv', index=False, encoding='utf8')"
   ]
  }
 ],
 "metadata": {
  "kernelspec": {
   "display_name": ".venv",
   "language": "python",
   "name": "python3"
  },
  "language_info": {
   "codemirror_mode": {
    "name": "ipython",
    "version": 3
   },
   "file_extension": ".py",
   "mimetype": "text/x-python",
   "name": "python",
   "nbconvert_exporter": "python",
   "pygments_lexer": "ipython3",
   "version": "3.11.9"
  }
 },
 "nbformat": 4,
 "nbformat_minor": 2
}
