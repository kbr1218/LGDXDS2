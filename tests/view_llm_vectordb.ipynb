{
 "cells": [
  {
   "cell_type": "markdown",
   "metadata": {},
   "source": [
    "# LLM VectorDB 저장\n",
    "#### w/ FAISS"
   ]
  },
  {
   "cell_type": "code",
   "execution_count": 1,
   "metadata": {},
   "outputs": [],
   "source": [
    "from langchain_community.embeddings import HuggingFaceEmbeddings\n",
    "from langchain_community.document_loaders.csv_loader import CSVLoader\n",
    "\n",
    "from langchain.schema import Document\n",
    "from langchain.text_splitter import RecursiveCharacterTextSplitter\n",
    "\n",
    "import pandas as pd\n",
    "\n",
    "# VectorDB - FAISS\n",
    "from langchain_community.vectorstores import FAISS"
   ]
  },
  {
   "cell_type": "code",
   "execution_count": 10,
   "metadata": {},
   "outputs": [],
   "source": [
    "### 벡터스토어 값 추가/제거/수정 테스트를 위한 데이터 만들기\n",
    "csv_path = '../data/view_for_vectorstore.csv'\n",
    "df1 = pd.read_csv(csv_path, encoding='utf8')\n",
    "colnames = df1.columns"
   ]
  },
  {
   "cell_type": "code",
   "execution_count": 11,
   "metadata": {},
   "outputs": [
    {
     "data": {
      "text/plain": [
       "(100, 5)"
      ]
     },
     "execution_count": 11,
     "metadata": {},
     "output_type": "execute_result"
    }
   ],
   "source": [
    "view_for_test100 = df1[:100]\n",
    "view_for_test100.shape"
   ]
  },
  {
   "cell_type": "code",
   "execution_count": 12,
   "metadata": {},
   "outputs": [],
   "source": [
    "view_for_test100.to_csv('../data/view_for_test100.csv', encoding='utf8', index=False)"
   ]
  },
  {
   "cell_type": "markdown",
   "metadata": {},
   "source": [
    "## 100개의 데이터만으로 벡터스토어에 저장"
   ]
  },
  {
   "cell_type": "code",
   "execution_count": 13,
   "metadata": {},
   "outputs": [
    {
     "name": "stdout",
     "output_type": "stream",
     "text": [
      "문서의 수: 100\n"
     ]
    }
   ],
   "source": [
    "### 01. CSV 파일에서 문서 로드 ###\n",
    "loader = CSVLoader('../data/view_for_test100.csv', encoding='utf8')\n",
    "docs = loader.load()\n",
    "print(f\"문서의 수: {len(docs)}\")\n",
    "\n",
    "### 02. pandas로 데이터프레임 칼럼명 가져오기\n",
    "csv_path = '../data/view_for_test100.csv'\n",
    "df2 = pd.read_csv(csv_path, encoding='utf8')\n",
    "colnames = df2.columns"
   ]
  },
  {
   "cell_type": "code",
   "execution_count": 14,
   "metadata": {},
   "outputs": [
    {
     "data": {
      "text/plain": [
       "Index(['user_id', 'asset_id', 'use_tms/runtime', 'runtime', 'datetime'], dtype='object')"
      ]
     },
     "execution_count": 14,
     "metadata": {},
     "output_type": "execute_result"
    }
   ],
   "source": [
    "colnames"
   ]
  },
  {
   "cell_type": "code",
   "execution_count": 16,
   "metadata": {},
   "outputs": [
    {
     "data": {
      "text/html": [
       "<div>\n",
       "<style scoped>\n",
       "    .dataframe tbody tr th:only-of-type {\n",
       "        vertical-align: middle;\n",
       "    }\n",
       "\n",
       "    .dataframe tbody tr th {\n",
       "        vertical-align: top;\n",
       "    }\n",
       "\n",
       "    .dataframe thead th {\n",
       "        text-align: right;\n",
       "    }\n",
       "</style>\n",
       "<table border=\"1\" class=\"dataframe\">\n",
       "  <thead>\n",
       "    <tr style=\"text-align: right;\">\n",
       "      <th></th>\n",
       "      <th>user_id</th>\n",
       "      <th>asset_id</th>\n",
       "      <th>use_tms/runtime</th>\n",
       "      <th>runtime</th>\n",
       "      <th>datetime</th>\n",
       "    </tr>\n",
       "  </thead>\n",
       "  <tbody>\n",
       "    <tr>\n",
       "      <th>0</th>\n",
       "      <td>user000001</td>\n",
       "      <td>cjc|M5147122LFON18980301</td>\n",
       "      <td>0.246</td>\n",
       "      <td>5280.0</td>\n",
       "      <td>2023-11-18 08:17:57</td>\n",
       "    </tr>\n",
       "    <tr>\n",
       "      <th>1</th>\n",
       "      <td>user000002</td>\n",
       "      <td>cjc|M4550583LSG861820101</td>\n",
       "      <td>0.504</td>\n",
       "      <td>6300.0</td>\n",
       "      <td>2023-11-18 15:42:42</td>\n",
       "    </tr>\n",
       "    <tr>\n",
       "      <th>2</th>\n",
       "      <td>user000003</td>\n",
       "      <td>cjc|M4721638LFOL80567201</td>\n",
       "      <td>0.163</td>\n",
       "      <td>6420.0</td>\n",
       "      <td>2023-11-18 20:19:46</td>\n",
       "    </tr>\n",
       "    <tr>\n",
       "      <th>3</th>\n",
       "      <td>user000004</td>\n",
       "      <td>cjc|M4458473LFON21067001</td>\n",
       "      <td>0.116</td>\n",
       "      <td>5700.0</td>\n",
       "      <td>2023-11-18 15:48:32</td>\n",
       "    </tr>\n",
       "    <tr>\n",
       "      <th>4</th>\n",
       "      <td>user000005</td>\n",
       "      <td>cjc|M4864275LFOL85031701</td>\n",
       "      <td>0.471</td>\n",
       "      <td>4560.0</td>\n",
       "      <td>2023-11-18 17:30:09</td>\n",
       "    </tr>\n",
       "    <tr>\n",
       "      <th>...</th>\n",
       "      <td>...</td>\n",
       "      <td>...</td>\n",
       "      <td>...</td>\n",
       "      <td>...</td>\n",
       "      <td>...</td>\n",
       "    </tr>\n",
       "    <tr>\n",
       "      <th>95</th>\n",
       "      <td>user000090</td>\n",
       "      <td>cjc|M5210797LFON08638801</td>\n",
       "      <td>0.138</td>\n",
       "      <td>7560.0</td>\n",
       "      <td>2023-11-18 12:03:26</td>\n",
       "    </tr>\n",
       "    <tr>\n",
       "      <th>96</th>\n",
       "      <td>user000091</td>\n",
       "      <td>cjc|M4126866LSG815329501</td>\n",
       "      <td>0.912</td>\n",
       "      <td>6300.0</td>\n",
       "      <td>2023-11-18 11:53:05</td>\n",
       "    </tr>\n",
       "    <tr>\n",
       "      <th>97</th>\n",
       "      <td>user000092</td>\n",
       "      <td>cjc|M5092074LSVK57904801</td>\n",
       "      <td>0.081</td>\n",
       "      <td>6000.0</td>\n",
       "      <td>2023-11-18 08:10:52</td>\n",
       "    </tr>\n",
       "    <tr>\n",
       "      <th>98</th>\n",
       "      <td>user000093</td>\n",
       "      <td>cjc|M4653683LFOM20024801</td>\n",
       "      <td>0.177</td>\n",
       "      <td>5640.0</td>\n",
       "      <td>2023-11-18 22:16:58</td>\n",
       "    </tr>\n",
       "    <tr>\n",
       "      <th>99</th>\n",
       "      <td>user000094</td>\n",
       "      <td>cjc|M4126866LSG815329501</td>\n",
       "      <td>0.966</td>\n",
       "      <td>6300.0</td>\n",
       "      <td>2023-11-18 13:48:03</td>\n",
       "    </tr>\n",
       "  </tbody>\n",
       "</table>\n",
       "<p>100 rows × 5 columns</p>\n",
       "</div>"
      ],
      "text/plain": [
       "       user_id                  asset_id  use_tms/runtime  runtime  \\\n",
       "0   user000001  cjc|M5147122LFON18980301            0.246   5280.0   \n",
       "1   user000002  cjc|M4550583LSG861820101            0.504   6300.0   \n",
       "2   user000003  cjc|M4721638LFOL80567201            0.163   6420.0   \n",
       "3   user000004  cjc|M4458473LFON21067001            0.116   5700.0   \n",
       "4   user000005  cjc|M4864275LFOL85031701            0.471   4560.0   \n",
       "..         ...                       ...              ...      ...   \n",
       "95  user000090  cjc|M5210797LFON08638801            0.138   7560.0   \n",
       "96  user000091  cjc|M4126866LSG815329501            0.912   6300.0   \n",
       "97  user000092  cjc|M5092074LSVK57904801            0.081   6000.0   \n",
       "98  user000093  cjc|M4653683LFOM20024801            0.177   5640.0   \n",
       "99  user000094  cjc|M4126866LSG815329501            0.966   6300.0   \n",
       "\n",
       "               datetime  \n",
       "0   2023-11-18 08:17:57  \n",
       "1   2023-11-18 15:42:42  \n",
       "2   2023-11-18 20:19:46  \n",
       "3   2023-11-18 15:48:32  \n",
       "4   2023-11-18 17:30:09  \n",
       "..                  ...  \n",
       "95  2023-11-18 12:03:26  \n",
       "96  2023-11-18 11:53:05  \n",
       "97  2023-11-18 08:10:52  \n",
       "98  2023-11-18 22:16:58  \n",
       "99  2023-11-18 13:48:03  \n",
       "\n",
       "[100 rows x 5 columns]"
      ]
     },
     "execution_count": 16,
     "metadata": {},
     "output_type": "execute_result"
    }
   ],
   "source": [
    "df2"
   ]
  },
  {
   "cell_type": "code",
   "execution_count": 17,
   "metadata": {},
   "outputs": [
    {
     "name": "stdout",
     "output_type": "stream",
     "text": [
      "문서의 수: 100\n",
      "[메타데이터 예시]\n",
      " {'user_id': 'user000050', 'asset_id': 'cjc|M4948857LFOJ44377301'}\n"
     ]
    }
   ],
   "source": [
    "### 03. 메타데이터 추가 ###\n",
    "docs = []\n",
    "for _, row in df2.iterrows():\n",
    "  # 필요한 메타데이터 설정\n",
    "  metadata = {\n",
    "    'user_id': row['user_id'],\n",
    "    'asset_id':row['asset_id'],\n",
    "  }\n",
    "  # 각 행의 데이터를 문서로 변환\n",
    "  doc = Document(\n",
    "    page_content=str(row.to_dict()),\n",
    "    metadata=metadata\n",
    "  )\n",
    "  docs.append(doc)\n",
    "\n",
    "print(f\"문서의 수: {len(docs)}\")\n",
    "print('[메타데이터 예시]\\n', docs[50].metadata)"
   ]
  },
  {
   "cell_type": "code",
   "execution_count": 18,
   "metadata": {},
   "outputs": [
    {
     "name": "stdout",
     "output_type": "stream",
     "text": [
      "split된 문서의 수: 100\n"
     ]
    }
   ],
   "source": [
    "### 04. 데이터 청크 나누기 ###\n",
    "text_splitter = RecursiveCharacterTextSplitter(\n",
    "  chunk_size=150, chunk_overlap=0\n",
    ")\n",
    "splits = text_splitter.split_documents(docs)\n",
    "print(\"split된 문서의 수:\", len(splits))"
   ]
  },
  {
   "cell_type": "code",
   "execution_count": 19,
   "metadata": {},
   "outputs": [
    {
     "name": "stderr",
     "output_type": "stream",
     "text": [
      "C:\\Users\\USER\\AppData\\Local\\Temp\\ipykernel_36540\\3636801640.py:3: LangChainDeprecationWarning: The class `HuggingFaceEmbeddings` was deprecated in LangChain 0.2.2 and will be removed in 1.0. An updated version of the class exists in the :class:`~langchain-huggingface package and should be used instead. To use it run `pip install -U :class:`~langchain-huggingface` and import as `from :class:`~langchain_huggingface import HuggingFaceEmbeddings``.\n",
      "  embeddings = HuggingFaceEmbeddings(model_name='ibm-granite/granite-embedding-278m-multilingual')\n",
      "c:\\workspaces\\LGDXteam2\\.venv\\Lib\\site-packages\\transformers\\tokenization_utils_base.py:1601: FutureWarning: `clean_up_tokenization_spaces` was not set. It will be set to `True` by default. This behavior will be depracted in transformers v4.45, and will be then set to `False` by default. For more details check this issue: https://github.com/huggingface/transformers/issues/31884\n",
      "  warnings.warn(\n"
     ]
    }
   ],
   "source": [
    "### 05. 임베딩 모델 생성\n",
    "# https://huggingface.co/ibm-granite/granite-embedding-278m-multilingual\n",
    "embeddings = HuggingFaceEmbeddings(model_name='ibm-granite/granite-embedding-278m-multilingual')"
   ]
  },
  {
   "cell_type": "code",
   "execution_count": 20,
   "metadata": {},
   "outputs": [
    {
     "name": "stdout",
     "output_type": "stream",
     "text": [
      "FIASS 벡터스토어 생성 완료!\n"
     ]
    }
   ],
   "source": [
    "### 06. 벡터스토어 생성 ###\n",
    "## FAISS\n",
    "vectorstore = FAISS.from_documents(\n",
    "  documents=splits,\n",
    "  embedding=embeddings,\n",
    ")\n",
    "\n",
    "# 벡터스토어 로컬에 저장\n",
    "vectorstore.save_local(\"views_FAISS_test100\")\n",
    "print(\"FIASS 벡터스토어 생성 완료!\")"
   ]
  },
  {
   "cell_type": "code",
   "execution_count": 53,
   "metadata": {},
   "outputs": [],
   "source": [
    "# 벡터스토어 로드\n",
    "# new_vector_store = FAISS.load_local(\"movies_FAISS_1630_0123\",\n",
    "                                    # embeddings=embeddings,\n",
    "                                    # allow_dangerous_deserialization=True)"
   ]
  },
  {
   "cell_type": "code",
   "execution_count": null,
   "metadata": {},
   "outputs": [],
   "source": []
  }
 ],
 "metadata": {
  "kernelspec": {
   "display_name": ".venv",
   "language": "python",
   "name": "python3"
  },
  "language_info": {
   "codemirror_mode": {
    "name": "ipython",
    "version": 3
   },
   "file_extension": ".py",
   "mimetype": "text/x-python",
   "name": "python",
   "nbconvert_exporter": "python",
   "pygments_lexer": "ipython3",
   "version": "3.11.9"
  }
 },
 "nbformat": 4,
 "nbformat_minor": 4
}
