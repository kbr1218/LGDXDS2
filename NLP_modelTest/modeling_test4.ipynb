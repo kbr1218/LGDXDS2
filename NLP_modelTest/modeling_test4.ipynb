{
 "cells": [
  {
   "cell_type": "markdown",
   "id": "9c4d7bd1-65f2-45d9-b562-3ced077211ca",
   "metadata": {},
   "source": [
    "# **Modeling Test #4**\n",
    "### 장르별로 분류된 줄거리 Clustering w/ KoBART"
   ]
  },
  {
   "cell_type": "markdown",
   "id": "c2fd4abb-df99-46fb-8efd-7607c86008e0",
   "metadata": {},
   "source": [
    "<br><br><hr>\n",
    "\n",
    "## **✅ 00. 기본 설정**"
   ]
  },
  {
   "cell_type": "code",
   "execution_count": 1,
   "id": "f2c024eb-513e-4239-a7df-2f989ff6ed92",
   "metadata": {},
   "outputs": [],
   "source": [
    "import pandas as pd\n",
    "import numpy as np\n",
    "import matplotlib.pyplot as plt\n",
    "import seaborn as sns\n",
    "\n",
    "# 경고 메시지 출력 X\n",
    "import warnings\n",
    "warnings.filterwarnings(\"ignore\")"
   ]
  },
  {
   "cell_type": "code",
   "execution_count": 2,
   "id": "eef425d0-421c-4780-8781-60a49b48adcf",
   "metadata": {},
   "outputs": [],
   "source": [
    "# 한글 font 설정\n",
    "import platform\n",
    "import matplotlib.font_manager as fm\n",
    "\n",
    "#matplotlib 패키지 한글 깨짐 처리 시작\n",
    "#------------------------------------------------------------------------------------\n",
    "# 운영체제별 한글 폰트 설정\n",
    "\n",
    "if platform.system() == 'Darwin': # Mac 환경 폰트 설정\n",
    "    plt.rc('font', family='AppleGothic')\n",
    "elif platform.system() == 'Windows': # Windows 환경 폰트 설정\n",
    "    plt.rc('font', family='Malgun Gothic')\n",
    "    \n",
    "plt.rcParams['axes.unicode_minus'] = False #한글 폰트 사용시 마이너스 폰트 깨짐 해결"
   ]
  },
  {
   "cell_type": "code",
   "execution_count": 3,
   "id": "31c1f612-3961-4dab-9d76-0b40250ef585",
   "metadata": {},
   "outputs": [],
   "source": [
    "# 글씨 선명하게 출력하는 설정\n",
    "\n",
    "from IPython.display import set_matplotlib_formats\n",
    "set_matplotlib_formats(\"retina\")"
   ]
  },
  {
   "cell_type": "markdown",
   "id": "014e0130-dd8c-4a87-9b58-12256d747f81",
   "metadata": {},
   "source": [
    "<br><br><br><hr>\n",
    "\n",
    "## **✅ 01. 데이터 불러오기**"
   ]
  },
  {
   "cell_type": "code",
   "execution_count": 4,
   "id": "0e41d97b-22c3-415c-9034-455d4138bc19",
   "metadata": {},
   "outputs": [
    {
     "name": "stdout",
     "output_type": "stream",
     "text": [
      "(4241, 6)\n"
     ]
    },
    {
     "data": {
      "text/html": [
       "<div>\n",
       "<style scoped>\n",
       "    .dataframe tbody tr th:only-of-type {\n",
       "        vertical-align: middle;\n",
       "    }\n",
       "\n",
       "    .dataframe tbody tr th {\n",
       "        vertical-align: top;\n",
       "    }\n",
       "\n",
       "    .dataframe thead th {\n",
       "        text-align: right;\n",
       "    }\n",
       "</style>\n",
       "<table border=\"1\" class=\"dataframe\">\n",
       "  <thead>\n",
       "    <tr style=\"text-align: right;\">\n",
       "      <th></th>\n",
       "      <th>asset_nm_전처리</th>\n",
       "      <th>ct_cl</th>\n",
       "      <th>genre_of_ct_cl</th>\n",
       "      <th>summary_최신순</th>\n",
       "      <th>최신순</th>\n",
       "      <th>genre_tmdb</th>\n",
       "    </tr>\n",
       "  </thead>\n",
       "  <tbody>\n",
       "    <tr>\n",
       "      <th>0</th>\n",
       "      <td>귀멸의 칼날: 남매의 연</td>\n",
       "      <td>영화</td>\n",
       "      <td>애니메이션</td>\n",
       "      <td>혈귀의 습격으로 가족을 잃은 소년 ‘탄지로’. 유일하게 살아남은 여동생 ‘네즈코’마...</td>\n",
       "      <td>2019-03-29</td>\n",
       "      <td>Animation, Action, Fantasy, Thriller</td>\n",
       "    </tr>\n",
       "    <tr>\n",
       "      <th>1</th>\n",
       "      <td>색에 놀다</td>\n",
       "      <td>영화</td>\n",
       "      <td>에로틱</td>\n",
       "      <td>하얀 색의 순수하고 착한 사랑을 꿈꾸는 25살 모태 솔로 지수. 그녀의 짝사랑 상대...</td>\n",
       "      <td>2017-01-01</td>\n",
       "      <td>Thriller, Drama, Romance</td>\n",
       "    </tr>\n",
       "    <tr>\n",
       "      <th>2</th>\n",
       "      <td>돌이킬 수 없는 주말</td>\n",
       "      <td>영화</td>\n",
       "      <td>공포/스릴러</td>\n",
       "      <td>베키는 결혼을 앞두고 친구 수잔과 함께 다트무어로 여행을 떠난다. 그곳에서 신비한 ...</td>\n",
       "      <td>2015-09-18</td>\n",
       "      <td>Drama, Horror, Mystery</td>\n",
       "    </tr>\n",
       "  </tbody>\n",
       "</table>\n",
       "</div>"
      ],
      "text/plain": [
       "    asset_nm_전처리 ct_cl genre_of_ct_cl  \\\n",
       "0  귀멸의 칼날: 남매의 연    영화          애니메이션   \n",
       "1          색에 놀다    영화            에로틱   \n",
       "2    돌이킬 수 없는 주말    영화         공포/스릴러   \n",
       "\n",
       "                                         summary_최신순         최신순  \\\n",
       "0  혈귀의 습격으로 가족을 잃은 소년 ‘탄지로’. 유일하게 살아남은 여동생 ‘네즈코’마...  2019-03-29   \n",
       "1  하얀 색의 순수하고 착한 사랑을 꿈꾸는 25살 모태 솔로 지수. 그녀의 짝사랑 상대...  2017-01-01   \n",
       "2  베키는 결혼을 앞두고 친구 수잔과 함께 다트무어로 여행을 떠난다. 그곳에서 신비한 ...  2015-09-18   \n",
       "\n",
       "                             genre_tmdb  \n",
       "0  Animation, Action, Fantasy, Thriller  \n",
       "1              Thriller, Drama, Romance  \n",
       "2                Drama, Horror, Mystery  "
      ]
     },
     "execution_count": 4,
     "metadata": {},
     "output_type": "execute_result"
    }
   ],
   "source": [
    "movies = pd.read_csv('..\\data\\movies_4000_tmdb_genre.csv')\n",
    "print(movies.shape)   # (4241, 6)\n",
    "movies.head(3)"
   ]
  },
  {
   "cell_type": "markdown",
   "id": "c9f62704-ca29-41a0-8c15-cc9b81ec6952",
   "metadata": {},
   "source": [
    "<br>\n",
    "\n",
    "#### *>> 장르가 '성인' 또는 '기타'인 행와 장르의 value_counts가 40개 미만인 행은 삭제*"
   ]
  },
  {
   "cell_type": "code",
   "execution_count": 5,
   "id": "5c3da76a-216d-42f5-90d5-a501f2ce45f7",
   "metadata": {},
   "outputs": [],
   "source": [
    "# 각 장르의 수 를 genre_counts 변수에 저장\n",
    "genre_counts = movies['genre_of_ct_cl'].value_counts()"
   ]
  },
  {
   "cell_type": "code",
   "execution_count": 6,
   "id": "d251913f-82a8-4bf7-a848-c2b50603ee1c",
   "metadata": {},
   "outputs": [],
   "source": [
    "# 삭제할 조건 생성\n",
    "delete_conditions = (movies['genre_of_ct_cl'] == '성인') | (movies['genre_of_ct_cl'] == '기타') | (movies['genre_of_ct_cl'].isin(genre_counts[genre_counts < 40].index))\n",
    "filtered_movies = movies[~delete_conditions]"
   ]
  },
  {
   "cell_type": "code",
   "execution_count": 7,
   "id": "2bf15aae-da13-4966-9997-2f4faef367e3",
   "metadata": {},
   "outputs": [
    {
     "name": "stdout",
     "output_type": "stream",
     "text": [
      "(3675, 6)\n"
     ]
    },
    {
     "data": {
      "text/plain": [
       "genre_of_ct_cl\n",
       "드라마        1011\n",
       "액션/어드벤쳐     977\n",
       "공포/스릴러      639\n",
       "멜로          329\n",
       "코미디         265\n",
       "애니메이션       169\n",
       "SF/환타지      159\n",
       "다큐멘터리       126\n",
       "Name: count, dtype: int64"
      ]
     },
     "execution_count": 7,
     "metadata": {},
     "output_type": "execute_result"
    }
   ],
   "source": [
    "# 결과 확인\n",
    "print(filtered_movies.shape)\n",
    "filtered_movies['genre_of_ct_cl'].value_counts()\n",
    "\n",
    "### (4241, 6) >> (3675, 6) >> 566개의 행 삭제"
   ]
  },
  {
   "cell_type": "markdown",
   "id": "51cc641f-a255-4ead-8f76-5125751584a9",
   "metadata": {},
   "source": [
    "<br>\n",
    "\n",
    "#### *>> 사용하지 않을 열 drop*"
   ]
  },
  {
   "cell_type": "code",
   "execution_count": 8,
   "id": "dbb3d1b6-54ed-4a14-bd7f-991361d93ad1",
   "metadata": {},
   "outputs": [
    {
     "data": {
      "text/html": [
       "<div>\n",
       "<style scoped>\n",
       "    .dataframe tbody tr th:only-of-type {\n",
       "        vertical-align: middle;\n",
       "    }\n",
       "\n",
       "    .dataframe tbody tr th {\n",
       "        vertical-align: top;\n",
       "    }\n",
       "\n",
       "    .dataframe thead th {\n",
       "        text-align: right;\n",
       "    }\n",
       "</style>\n",
       "<table border=\"1\" class=\"dataframe\">\n",
       "  <thead>\n",
       "    <tr style=\"text-align: right;\">\n",
       "      <th></th>\n",
       "      <th>asset_nm_전처리</th>\n",
       "      <th>genre_of_ct_cl</th>\n",
       "      <th>summary_최신순</th>\n",
       "    </tr>\n",
       "  </thead>\n",
       "  <tbody>\n",
       "    <tr>\n",
       "      <th>0</th>\n",
       "      <td>귀멸의 칼날: 남매의 연</td>\n",
       "      <td>애니메이션</td>\n",
       "      <td>혈귀의 습격으로 가족을 잃은 소년 ‘탄지로’. 유일하게 살아남은 여동생 ‘네즈코’마...</td>\n",
       "    </tr>\n",
       "    <tr>\n",
       "      <th>2</th>\n",
       "      <td>돌이킬 수 없는 주말</td>\n",
       "      <td>공포/스릴러</td>\n",
       "      <td>베키는 결혼을 앞두고 친구 수잔과 함께 다트무어로 여행을 떠난다. 그곳에서 신비한 ...</td>\n",
       "    </tr>\n",
       "    <tr>\n",
       "      <th>3</th>\n",
       "      <td>섹스 앤 머니</td>\n",
       "      <td>액션/어드벤쳐</td>\n",
       "      <td>갱단 두목 페페는 라이벌 갱단 두목 조조와 세력 다툼을 벌이다 쫓기는 신세가 된다....</td>\n",
       "    </tr>\n",
       "  </tbody>\n",
       "</table>\n",
       "</div>"
      ],
      "text/plain": [
       "    asset_nm_전처리 genre_of_ct_cl  \\\n",
       "0  귀멸의 칼날: 남매의 연          애니메이션   \n",
       "2    돌이킬 수 없는 주말         공포/스릴러   \n",
       "3        섹스 앤 머니        액션/어드벤쳐   \n",
       "\n",
       "                                         summary_최신순  \n",
       "0  혈귀의 습격으로 가족을 잃은 소년 ‘탄지로’. 유일하게 살아남은 여동생 ‘네즈코’마...  \n",
       "2  베키는 결혼을 앞두고 친구 수잔과 함께 다트무어로 여행을 떠난다. 그곳에서 신비한 ...  \n",
       "3  갱단 두목 페페는 라이벌 갱단 두목 조조와 세력 다툼을 벌이다 쫓기는 신세가 된다....  "
      ]
     },
     "execution_count": 8,
     "metadata": {},
     "output_type": "execute_result"
    }
   ],
   "source": [
    "col_to_drop = ['ct_cl', '최신순', 'genre_tmdb']\n",
    "drop_movies = filtered_movies.drop(columns=col_to_drop, axis=1)\n",
    "\n",
    "drop_movies.head(3)"
   ]
  },
  {
   "cell_type": "markdown",
   "id": "d7a287e3-c32d-43f6-9440-86a9a671581d",
   "metadata": {},
   "source": [
    "<br><br><br><hr>\n",
    "\n",
    "## **✅02. 특수문자/숫자 제거 및 불용어 가져오기**"
   ]
  },
  {
   "cell_type": "code",
   "execution_count": 9,
   "id": "e62f4681-5c44-47c2-8a69-2fc0cc573d4f",
   "metadata": {},
   "outputs": [],
   "source": [
    "import re"
   ]
  },
  {
   "cell_type": "code",
   "execution_count": 10,
   "id": "d1664dec-3cf9-4d36-889f-7036bdbd408b",
   "metadata": {},
   "outputs": [],
   "source": [
    "# 정규표현식을 이용해 숫자를 공백으로 변경 (정규 표현식으로 \\d는 숫자 의미)\n",
    "drop_movies['summary_최신순'] = drop_movies['summary_최신순'].apply(lambda x : re.sub(r\"\\d+\", \"\", x))"
   ]
  },
  {
   "cell_type": "code",
   "execution_count": 11,
   "id": "bcb06fb8-b363-4eed-b325-6287fd7580e9",
   "metadata": {},
   "outputs": [],
   "source": [
    "# 정규표현식을 이용해 특수문자를 공백으로 변경\n",
    "drop_movies['summary_최신순'] = drop_movies['summary_최신순'].apply(lambda x: re.sub(r\"[^가-힣a-zA-Z0-9\\s]\", \"\", x))"
   ]
  },
  {
   "cell_type": "code",
   "execution_count": 12,
   "id": "99cee267-a13c-4d40-b505-7016663ca11e",
   "metadata": {},
   "outputs": [],
   "source": [
    "# stopwords 가져오기\n",
    "with open('..\\data\\stopwords\\combined_stopwords.txt', 'r', encoding='utf-8') as stopwords_file:\n",
    "    custom_stopwords = stopwords_file.read().splitlines()"
   ]
  },
  {
   "cell_type": "markdown",
   "id": "fd070601-513d-4520-aa87-ae7c619b3cd9",
   "metadata": {},
   "source": [
    "<br><br><br><hr>\n",
    "\n",
    "## **✅ 03. 장르별 데이터프레임 생성**"
   ]
  },
  {
   "cell_type": "code",
   "execution_count": 13,
   "id": "e3168172-b859-4545-8d77-0de1d6c8e069",
   "metadata": {},
   "outputs": [
    {
     "name": "stdout",
     "output_type": "stream",
     "text": [
      "(1011, 3)\n"
     ]
    },
    {
     "data": {
      "text/html": [
       "<div>\n",
       "<style scoped>\n",
       "    .dataframe tbody tr th:only-of-type {\n",
       "        vertical-align: middle;\n",
       "    }\n",
       "\n",
       "    .dataframe tbody tr th {\n",
       "        vertical-align: top;\n",
       "    }\n",
       "\n",
       "    .dataframe thead th {\n",
       "        text-align: right;\n",
       "    }\n",
       "</style>\n",
       "<table border=\"1\" class=\"dataframe\">\n",
       "  <thead>\n",
       "    <tr style=\"text-align: right;\">\n",
       "      <th></th>\n",
       "      <th>asset_nm_전처리</th>\n",
       "      <th>genre_of_ct_cl</th>\n",
       "      <th>summary_최신순</th>\n",
       "    </tr>\n",
       "  </thead>\n",
       "  <tbody>\n",
       "    <tr>\n",
       "      <th>0</th>\n",
       "      <td>서울의 봄</td>\n",
       "      <td>드라마</td>\n",
       "      <td>박 대통령의 암살 이후 계엄령이 선포된다 국군보안사령관 전두광과 그를 따르는 장교들...</td>\n",
       "    </tr>\n",
       "    <tr>\n",
       "      <th>1</th>\n",
       "      <td>연평해전</td>\n",
       "      <td>드라마</td>\n",
       "      <td>월드컵의 열기로 뜨거웠던 년 월 해군 출신 아버지의 자랑스러운 아들이자 참수리 호 ...</td>\n",
       "    </tr>\n",
       "    <tr>\n",
       "      <th>2</th>\n",
       "      <td>몽상가들</td>\n",
       "      <td>드라마</td>\n",
       "      <td>자유를 외치는 젊은이들의 뜨거운 열기로 가득한 년 파리 영화광인 미국인 유학생 매튜...</td>\n",
       "    </tr>\n",
       "  </tbody>\n",
       "</table>\n",
       "</div>"
      ],
      "text/plain": [
       "  asset_nm_전처리 genre_of_ct_cl  \\\n",
       "0        서울의 봄            드라마   \n",
       "1         연평해전            드라마   \n",
       "2         몽상가들            드라마   \n",
       "\n",
       "                                         summary_최신순  \n",
       "0  박 대통령의 암살 이후 계엄령이 선포된다 국군보안사령관 전두광과 그를 따르는 장교들...  \n",
       "1  월드컵의 열기로 뜨거웠던 년 월 해군 출신 아버지의 자랑스러운 아들이자 참수리 호 ...  \n",
       "2  자유를 외치는 젊은이들의 뜨거운 열기로 가득한 년 파리 영화광인 미국인 유학생 매튜...  "
      ]
     },
     "execution_count": 13,
     "metadata": {},
     "output_type": "execute_result"
    }
   ],
   "source": [
    "drama = drop_movies[drop_movies['genre_of_ct_cl']=='드라마']\n",
    "print(drama.shape)\n",
    "\n",
    "# 인덱스 정렬\n",
    "# 데이터 인덱스 재설정\n",
    "drama = drama.reset_index(drop=True)\n",
    "drama.head(3)"
   ]
  },
  {
   "cell_type": "markdown",
   "id": "531d90ea-5699-4868-ab6c-3baddecb8e34",
   "metadata": {},
   "source": [
    "<br><br><br><hr>\n",
    "\n",
    "## **✅ 04. 줄거리 clustering**"
   ]
  },
  {
   "cell_type": "code",
   "execution_count": 16,
   "id": "78e01bfe-9d4d-45f0-91fa-139f3c2212fc",
   "metadata": {},
   "outputs": [],
   "source": [
    "from transformers import BartModel\n",
    "from kobart import get_pytorch_kobart_model, get_kobart_tokenizer"
   ]
  },
  {
   "cell_type": "code",
   "execution_count": 17,
   "id": "a252006f-3e9c-41a9-b18a-c77b892d96aa",
   "metadata": {},
   "outputs": [
    {
     "name": "stdout",
     "output_type": "stream",
     "text": [
      "using cached model. c:\\workspaces\\10_proj\\model-test\\model_test\\.cache\\kobart_base_tokenizer_cased_cf74400bce.zip\n"
     ]
    },
    {
     "name": "stderr",
     "output_type": "stream",
     "text": [
      "You passed along `num_labels=3` with an incompatible id to label map: {'0': 'NEGATIVE', '1': 'POSITIVE'}. The number of labels wil be overwritten to 2.\n"
     ]
    },
    {
     "name": "stdout",
     "output_type": "stream",
     "text": [
      "using cached model. c:\\workspaces\\10_proj\\model-test\\model_test\\.cache\\kobart_base_cased_ff4bda5738.zip\n"
     ]
    }
   ],
   "source": [
    "# KoBART 모델과 토크나이저 불러오기\n",
    "kobart_tokenizer = get_kobart_tokenizer()\n",
    "kobart_model = BartModel.from_pretrained(get_pytorch_kobart_model())"
   ]
  },
  {
   "cell_type": "markdown",
   "id": "8aaf891a-35c7-41be-8d8d-bcf6f69ef3db",
   "metadata": {},
   "source": [
    "<br><br><br><hr>\n",
    "\n",
    "## **✅ 05. VOD 줄거리 벡터화**"
   ]
  },
  {
   "cell_type": "code",
   "execution_count": 18,
   "id": "9051d07a-a78a-4dfd-b717-6f527536cbe4",
   "metadata": {},
   "outputs": [],
   "source": [
    "import sys\n",
    "import ipywidgets"
   ]
  },
  {
   "cell_type": "code",
   "execution_count": 19,
   "id": "53029eb9-6b84-4c03-bf20-16a93f25cc39",
   "metadata": {},
   "outputs": [
    {
     "data": {
      "text/html": [
       "<div>\n",
       "<style scoped>\n",
       "    .dataframe tbody tr th:only-of-type {\n",
       "        vertical-align: middle;\n",
       "    }\n",
       "\n",
       "    .dataframe tbody tr th {\n",
       "        vertical-align: top;\n",
       "    }\n",
       "\n",
       "    .dataframe thead th {\n",
       "        text-align: right;\n",
       "    }\n",
       "</style>\n",
       "<table border=\"1\" class=\"dataframe\">\n",
       "  <thead>\n",
       "    <tr style=\"text-align: right;\">\n",
       "      <th></th>\n",
       "      <th>asset_nm_전처리</th>\n",
       "      <th>genre_of_ct_cl</th>\n",
       "      <th>summary_최신순</th>\n",
       "    </tr>\n",
       "  </thead>\n",
       "  <tbody>\n",
       "  </tbody>\n",
       "</table>\n",
       "</div>"
      ],
      "text/plain": [
       "Empty DataFrame\n",
       "Columns: [asset_nm_전처리, genre_of_ct_cl, summary_최신순]\n",
       "Index: []"
      ]
     },
     "execution_count": 19,
     "metadata": {},
     "output_type": "execute_result"
    }
   ],
   "source": [
    "# 특수문자가 잘 제거되었는지 확인\n",
    "drama[drama['summary_최신순'].str.contains(r'\\.', na=False)]"
   ]
  },
  {
   "cell_type": "code",
   "execution_count": 20,
   "id": "cf34037d-1368-434d-bf7f-6c54a9f0a199",
   "metadata": {},
   "outputs": [
    {
     "data": {
      "text/plain": [
       "transformers.modeling_outputs.Seq2SeqModelOutput"
      ]
     },
     "execution_count": 20,
     "metadata": {},
     "output_type": "execute_result"
    }
   ],
   "source": [
    "# 1. test 문장을 넣어주면 모델에서 context만 빼기\n",
    "kobart_inputs = kobart_tokenizer(['반가워요. 나는 지금 여기에 있어요.'],\n",
    "                                 return_tensors='pt',\n",
    "                                 add_special_tokens=True)\n",
    "kobart_context = kobart_model(kobart_inputs['input_ids'])\n",
    "type(kobart_context)"
   ]
  },
  {
   "cell_type": "code",
   "execution_count": 21,
   "id": "56375f6c-ecd7-455a-b3b2-86347e8e7905",
   "metadata": {},
   "outputs": [
    {
     "name": "stdout",
     "output_type": "stream",
     "text": [
      "토큰 리스트: ['▁반가', '워', '요.', '▁나는', '▁지금', '▁여기에', '▁있어요.']\n"
     ]
    }
   ],
   "source": [
    "# 2. 토큰화된 값의 리스트 출력\n",
    "kobart_tokens = kobart_tokenizer.convert_ids_to_tokens(kobart_inputs['input_ids'][0])\n",
    "print(\"토큰 리스트:\", kobart_tokens)"
   ]
  },
  {
   "cell_type": "code",
   "execution_count": 22,
   "id": "3724dffe-477d-46d1-8eff-34fe1e88462b",
   "metadata": {},
   "outputs": [
    {
     "data": {
      "text/plain": [
       "(1011, 768)"
      ]
     },
     "execution_count": 22,
     "metadata": {},
     "output_type": "execute_result"
    }
   ],
   "source": [
    "kobart_contexts = np.zeros([drama.shape[0], kobart_context.encoder_last_hidden_state.shape[-1]])\n",
    "kobart_contexts.shape\n",
    "\n",
    "# 영화 대상으로 768차원의 빈 벡터 배열(contexts) 생성"
   ]
  },
  {
   "cell_type": "code",
   "execution_count": 23,
   "id": "b82959c2-05c8-43d4-9526-d3b99c2b8d4c",
   "metadata": {},
   "outputs": [
    {
     "name": "stdout",
     "output_type": "stream",
     "text": [
      "[1011/1011] 마담 프루스트의 비밀정원                                                       "
     ]
    }
   ],
   "source": [
    "for i, row in enumerate(drama.itertuples(index=False), start=0):\n",
    "  # 1. 줄거리 토크나이징\n",
    "  kobart_inputs = kobart_tokenizer([row.summary_최신순], return_tensors='pt')\n",
    "\n",
    "  # 2. 토큰화된 값 가져오기\n",
    "  # kobart_tokens = kobart_tokenizer.convert_ids_to_tokens(kobart_inputs['input_ids'][0])\n",
    "\n",
    "  # 3. 모델에 입력하여 context vector 생성\n",
    "  kobart_context = kobart_model(kobart_inputs['input_ids'])\n",
    "\n",
    "  # 4. 첫 번째 토큰의 벡터를 저장(VOD 하나가 768차원에 저장되는 것)\n",
    "  kobart_contexts[i, :] = kobart_context.encoder_last_hidden_state.detach().numpy()[0, 0, :]\n",
    "\n",
    "  # 진행상황 출력\n",
    "  sys.stdout.write('\\r' + ' ' * 80)  # 기존 출력 덮어쓰기\n",
    "  sys.stdout.write(f'\\r[{i + 1:04d}/{drama.shape[0]:04d}] {row.asset_nm_전처리}')"
   ]
  },
  {
   "cell_type": "markdown",
   "id": "55267470-1d8d-4bfe-9f45-123e79cb55ab",
   "metadata": {},
   "source": [
    "<br><br><br><hr>\n",
    "\n",
    "## **✅06-1. 최적의 K값 찾기: 엘보우 방법**"
   ]
  },
  {
   "cell_type": "code",
   "execution_count": 24,
   "id": "11c25d8c-691c-4a2f-9a5e-e29e3b1d5268",
   "metadata": {},
   "outputs": [],
   "source": [
    "# k-means clustering\n",
    "from sklearn.cluster import KMeans\n",
    "from scipy.spatial.distance import cdist\n",
    "from sklearn.metrics.pairwise import cosine_similarity\n",
    "\n",
    "# 실루엣 분석\n",
    "from sklearn.metrics import silhouette_score"
   ]
  },
  {
   "cell_type": "code",
   "execution_count": 25,
   "id": "68b95d3b-2427-4553-bfc0-381edf92b8b6",
   "metadata": {},
   "outputs": [
    {
     "data": {
      "image/png": "[encoded data removed]",
      "text/plain": [
       "<Figure size 640x480 with 1 Axes>"
      ]
     },
     "metadata": {
      "image/png": {
       "height": 433,
       "width": 583
      }
     },
     "output_type": "display_data"
    }
   ],
   "source": [
    "# 엘보우 방법을 사용하여 최적의 K값 탐색\n",
    "\n",
    "# 1. 각 K값에 대한 SSE 값을 저장할 빈 리스트 생성\n",
    "sse = []\n",
    "\n",
    "start_num = 10\n",
    "finish_num = 100\n",
    "\n",
    "for k in range(start_num, finish_num):  # 클러스터의 개수 (K)를 start_num부터 finish_num까지 변화시키면서 SSE 값 계산\n",
    "    kmeans = KMeans(n_clusters=k, random_state=42)\n",
    "    kmeans.fit(kobart_contexts)\n",
    "    sse.append(kmeans.inertia_)         # inertia_: KMeans 모델이 계산한 SSE 값\n",
    "\n",
    "# SSE 그래프 확인\n",
    "plt.plot(range(start_num, finish_num), sse, marker='o', markersize=3)\n",
    "plt.xlabel('클러스터의 수')\n",
    "plt.ylabel('SSE')\n",
    "plt.show()"
   ]
  },
  {
   "cell_type": "markdown",
   "id": "237dd9b5-4ab2-43f9-8a85-7b59c9fe70ac",
   "metadata": {},
   "source": [
    "<br><br><br><hr>\n",
    "\n",
    "## **✅07. K-means Clustering**"
   ]
  },
  {
   "cell_type": "code",
   "execution_count": 44,
   "id": "e25c7c53-ab4d-4fb3-b2fa-d78e15e24204",
   "metadata": {},
   "outputs": [
    {
     "data": {
      "text/html": [
       "<style>#sk-container-id-3 {\n",
       "  /* Definition of color scheme common for light and dark mode */\n",
       "  --sklearn-color-text: #000;\n",
       "  --sklearn-color-text-muted: #666;\n",
       "  --sklearn-color-line: gray;\n",
       "  /* Definition of color scheme for unfitted estimators */\n",
       "  --sklearn-color-unfitted-level-0: #fff5e6;\n",
       "  --sklearn-color-unfitted-level-1: #f6e4d2;\n",
       "  --sklearn-color-unfitted-level-2: #ffe0b3;\n",
       "  --sklearn-color-unfitted-level-3: chocolate;\n",
       "  /* Definition of color scheme for fitted estimators */\n",
       "  --sklearn-color-fitted-level-0: #f0f8ff;\n",
       "  --sklearn-color-fitted-level-1: #d4ebff;\n",
       "  --sklearn-color-fitted-level-2: #b3dbfd;\n",
       "  --sklearn-color-fitted-level-3: cornflowerblue;\n",
       "\n",
       "  /* Specific color for light theme */\n",
       "  --sklearn-color-text-on-default-background: var(--sg-text-color, var(--theme-code-foreground, var(--jp-content-font-color1, black)));\n",
       "  --sklearn-color-background: var(--sg-background-color, var(--theme-background, var(--jp-layout-color0, white)));\n",
       "  --sklearn-color-border-box: var(--sg-text-color, var(--theme-code-foreground, var(--jp-content-font-color1, black)));\n",
       "  --sklearn-color-icon: #696969;\n",
       "\n",
       "  @media (prefers-color-scheme: dark) {\n",
       "    /* Redefinition of color scheme for dark theme */\n",
       "    --sklearn-color-text-on-default-background: var(--sg-text-color, var(--theme-code-foreground, var(--jp-content-font-color1, white)));\n",
       "    --sklearn-color-background: var(--sg-background-color, var(--theme-background, var(--jp-layout-color0, #111)));\n",
       "    --sklearn-color-border-box: var(--sg-text-color, var(--theme-code-foreground, var(--jp-content-font-color1, white)));\n",
       "    --sklearn-color-icon: #878787;\n",
       "  }\n",
       "}\n",
       "\n",
       "#sk-container-id-3 {\n",
       "  color: var(--sklearn-color-text);\n",
       "}\n",
       "\n",
       "#sk-container-id-3 pre {\n",
       "  padding: 0;\n",
       "}\n",
       "\n",
       "#sk-container-id-3 input.sk-hidden--visually {\n",
       "  border: 0;\n",
       "  clip: rect(1px 1px 1px 1px);\n",
       "  clip: rect(1px, 1px, 1px, 1px);\n",
       "  height: 1px;\n",
       "  margin: -1px;\n",
       "  overflow: hidden;\n",
       "  padding: 0;\n",
       "  position: absolute;\n",
       "  width: 1px;\n",
       "}\n",
       "\n",
       "#sk-container-id-3 div.sk-dashed-wrapped {\n",
       "  border: 1px dashed var(--sklearn-color-line);\n",
       "  margin: 0 0.4em 0.5em 0.4em;\n",
       "  box-sizing: border-box;\n",
       "  padding-bottom: 0.4em;\n",
       "  background-color: var(--sklearn-color-background);\n",
       "}\n",
       "\n",
       "#sk-container-id-3 div.sk-container {\n",
       "  /* jupyter's `normalize.less` sets `[hidden] { display: none; }`\n",
       "     but bootstrap.min.css set `[hidden] { display: none !important; }`\n",
       "     so we also need the `!important` here to be able to override the\n",
       "     default hidden behavior on the sphinx rendered scikit-learn.org.\n",
       "     See: https://github.com/scikit-learn/scikit-learn/issues/21755 */\n",
       "  display: inline-block !important;\n",
       "  position: relative;\n",
       "}\n",
       "\n",
       "#sk-container-id-3 div.sk-text-repr-fallback {\n",
       "  display: none;\n",
       "}\n",
       "\n",
       "div.sk-parallel-item,\n",
       "div.sk-serial,\n",
       "div.sk-item {\n",
       "  /* draw centered vertical line to link estimators */\n",
       "  background-image: linear-gradient(var(--sklearn-color-text-on-default-background), var(--sklearn-color-text-on-default-background));\n",
       "  background-size: 2px 100%;\n",
       "  background-repeat: no-repeat;\n",
       "  background-position: center center;\n",
       "}\n",
       "\n",
       "/* Parallel-specific style estimator block */\n",
       "\n",
       "#sk-container-id-3 div.sk-parallel-item::after {\n",
       "  content: \"\";\n",
       "  width: 100%;\n",
       "  border-bottom: 2px solid var(--sklearn-color-text-on-default-background);\n",
       "  flex-grow: 1;\n",
       "}\n",
       "\n",
       "#sk-container-id-3 div.sk-parallel {\n",
       "  display: flex;\n",
       "  align-items: stretch;\n",
       "  justify-content: center;\n",
       "  background-color: var(--sklearn-color-background);\n",
       "  position: relative;\n",
       "}\n",
       "\n",
       "#sk-container-id-3 div.sk-parallel-item {\n",
       "  display: flex;\n",
       "  flex-direction: column;\n",
       "}\n",
       "\n",
       "#sk-container-id-3 div.sk-parallel-item:first-child::after {\n",
       "  align-self: flex-end;\n",
       "  width: 50%;\n",
       "}\n",
       "\n",
       "#sk-container-id-3 div.sk-parallel-item:last-child::after {\n",
       "  align-self: flex-start;\n",
       "  width: 50%;\n",
       "}\n",
       "\n",
       "#sk-container-id-3 div.sk-parallel-item:only-child::after {\n",
       "  width: 0;\n",
       "}\n",
       "\n",
       "/* Serial-specific style estimator block */\n",
       "\n",
       "#sk-container-id-3 div.sk-serial {\n",
       "  display: flex;\n",
       "  flex-direction: column;\n",
       "  align-items: center;\n",
       "  background-color: var(--sklearn-color-background);\n",
       "  padding-right: 1em;\n",
       "  padding-left: 1em;\n",
       "}\n",
       "\n",
       "\n",
       "/* Toggleable style: style used for estimator/Pipeline/ColumnTransformer box that is\n",
       "clickable and can be expanded/collapsed.\n",
       "- Pipeline and ColumnTransformer use this feature and define the default style\n",
       "- Estimators will overwrite some part of the style using the `sk-estimator` class\n",
       "*/\n",
       "\n",
       "/* Pipeline and ColumnTransformer style (default) */\n",
       "\n",
       "#sk-container-id-3 div.sk-toggleable {\n",
       "  /* Default theme specific background. It is overwritten whether we have a\n",
       "  specific estimator or a Pipeline/ColumnTransformer */\n",
       "  background-color: var(--sklearn-color-background);\n",
       "}\n",
       "\n",
       "/* Toggleable label */\n",
       "#sk-container-id-3 label.sk-toggleable__label {\n",
       "  cursor: pointer;\n",
       "  display: flex;\n",
       "  width: 100%;\n",
       "  margin-bottom: 0;\n",
       "  padding: 0.5em;\n",
       "  box-sizing: border-box;\n",
       "  text-align: center;\n",
       "  align-items: start;\n",
       "  justify-content: space-between;\n",
       "  gap: 0.5em;\n",
       "}\n",
       "\n",
       "#sk-container-id-3 label.sk-toggleable__label .caption {\n",
       "  font-size: 0.6rem;\n",
       "  font-weight: lighter;\n",
       "  color: var(--sklearn-color-text-muted);\n",
       "}\n",
       "\n",
       "#sk-container-id-3 label.sk-toggleable__label-arrow:before {\n",
       "  /* Arrow on the left of the label */\n",
       "  content: \"▸\";\n",
       "  float: left;\n",
       "  margin-right: 0.25em;\n",
       "  color: var(--sklearn-color-icon);\n",
       "}\n",
       "\n",
       "#sk-container-id-3 label.sk-toggleable__label-arrow:hover:before {\n",
       "  color: var(--sklearn-color-text);\n",
       "}\n",
       "\n",
       "/* Toggleable content - dropdown */\n",
       "\n",
       "#sk-container-id-3 div.sk-toggleable__content {\n",
       "  max-height: 0;\n",
       "  max-width: 0;\n",
       "  overflow: hidden;\n",
       "  text-align: left;\n",
       "  /* unfitted */\n",
       "  background-color: var(--sklearn-color-unfitted-level-0);\n",
       "}\n",
       "\n",
       "#sk-container-id-3 div.sk-toggleable__content.fitted {\n",
       "  /* fitted */\n",
       "  background-color: var(--sklearn-color-fitted-level-0);\n",
       "}\n",
       "\n",
       "#sk-container-id-3 div.sk-toggleable__content pre {\n",
       "  margin: 0.2em;\n",
       "  border-radius: 0.25em;\n",
       "  color: var(--sklearn-color-text);\n",
       "  /* unfitted */\n",
       "  background-color: var(--sklearn-color-unfitted-level-0);\n",
       "}\n",
       "\n",
       "#sk-container-id-3 div.sk-toggleable__content.fitted pre {\n",
       "  /* unfitted */\n",
       "  background-color: var(--sklearn-color-fitted-level-0);\n",
       "}\n",
       "\n",
       "#sk-container-id-3 input.sk-toggleable__control:checked~div.sk-toggleable__content {\n",
       "  /* Expand drop-down */\n",
       "  max-height: 200px;\n",
       "  max-width: 100%;\n",
       "  overflow: auto;\n",
       "}\n",
       "\n",
       "#sk-container-id-3 input.sk-toggleable__control:checked~label.sk-toggleable__label-arrow:before {\n",
       "  content: \"▾\";\n",
       "}\n",
       "\n",
       "/* Pipeline/ColumnTransformer-specific style */\n",
       "\n",
       "#sk-container-id-3 div.sk-label input.sk-toggleable__control:checked~label.sk-toggleable__label {\n",
       "  color: var(--sklearn-color-text);\n",
       "  background-color: var(--sklearn-color-unfitted-level-2);\n",
       "}\n",
       "\n",
       "#sk-container-id-3 div.sk-label.fitted input.sk-toggleable__control:checked~label.sk-toggleable__label {\n",
       "  background-color: var(--sklearn-color-fitted-level-2);\n",
       "}\n",
       "\n",
       "/* Estimator-specific style */\n",
       "\n",
       "/* Colorize estimator box */\n",
       "#sk-container-id-3 div.sk-estimator input.sk-toggleable__control:checked~label.sk-toggleable__label {\n",
       "  /* unfitted */\n",
       "  background-color: var(--sklearn-color-unfitted-level-2);\n",
       "}\n",
       "\n",
       "#sk-container-id-3 div.sk-estimator.fitted input.sk-toggleable__control:checked~label.sk-toggleable__label {\n",
       "  /* fitted */\n",
       "  background-color: var(--sklearn-color-fitted-level-2);\n",
       "}\n",
       "\n",
       "#sk-container-id-3 div.sk-label label.sk-toggleable__label,\n",
       "#sk-container-id-3 div.sk-label label {\n",
       "  /* The background is the default theme color */\n",
       "  color: var(--sklearn-color-text-on-default-background);\n",
       "}\n",
       "\n",
       "/* On hover, darken the color of the background */\n",
       "#sk-container-id-3 div.sk-label:hover label.sk-toggleable__label {\n",
       "  color: var(--sklearn-color-text);\n",
       "  background-color: var(--sklearn-color-unfitted-level-2);\n",
       "}\n",
       "\n",
       "/* Label box, darken color on hover, fitted */\n",
       "#sk-container-id-3 div.sk-label.fitted:hover label.sk-toggleable__label.fitted {\n",
       "  color: var(--sklearn-color-text);\n",
       "  background-color: var(--sklearn-color-fitted-level-2);\n",
       "}\n",
       "\n",
       "/* Estimator label */\n",
       "\n",
       "#sk-container-id-3 div.sk-label label {\n",
       "  font-family: monospace;\n",
       "  font-weight: bold;\n",
       "  display: inline-block;\n",
       "  line-height: 1.2em;\n",
       "}\n",
       "\n",
       "#sk-container-id-3 div.sk-label-container {\n",
       "  text-align: center;\n",
       "}\n",
       "\n",
       "/* Estimator-specific */\n",
       "#sk-container-id-3 div.sk-estimator {\n",
       "  font-family: monospace;\n",
       "  border: 1px dotted var(--sklearn-color-border-box);\n",
       "  border-radius: 0.25em;\n",
       "  box-sizing: border-box;\n",
       "  margin-bottom: 0.5em;\n",
       "  /* unfitted */\n",
       "  background-color: var(--sklearn-color-unfitted-level-0);\n",
       "}\n",
       "\n",
       "#sk-container-id-3 div.sk-estimator.fitted {\n",
       "  /* fitted */\n",
       "  background-color: var(--sklearn-color-fitted-level-0);\n",
       "}\n",
       "\n",
       "/* on hover */\n",
       "#sk-container-id-3 div.sk-estimator:hover {\n",
       "  /* unfitted */\n",
       "  background-color: var(--sklearn-color-unfitted-level-2);\n",
       "}\n",
       "\n",
       "#sk-container-id-3 div.sk-estimator.fitted:hover {\n",
       "  /* fitted */\n",
       "  background-color: var(--sklearn-color-fitted-level-2);\n",
       "}\n",
       "\n",
       "/* Specification for estimator info (e.g. \"i\" and \"?\") */\n",
       "\n",
       "/* Common style for \"i\" and \"?\" */\n",
       "\n",
       ".sk-estimator-doc-link,\n",
       "a:link.sk-estimator-doc-link,\n",
       "a:visited.sk-estimator-doc-link {\n",
       "  float: right;\n",
       "  font-size: smaller;\n",
       "  line-height: 1em;\n",
       "  font-family: monospace;\n",
       "  background-color: var(--sklearn-color-background);\n",
       "  border-radius: 1em;\n",
       "  height: 1em;\n",
       "  width: 1em;\n",
       "  text-decoration: none !important;\n",
       "  margin-left: 0.5em;\n",
       "  text-align: center;\n",
       "  /* unfitted */\n",
       "  border: var(--sklearn-color-unfitted-level-1) 1pt solid;\n",
       "  color: var(--sklearn-color-unfitted-level-1);\n",
       "}\n",
       "\n",
       ".sk-estimator-doc-link.fitted,\n",
       "a:link.sk-estimator-doc-link.fitted,\n",
       "a:visited.sk-estimator-doc-link.fitted {\n",
       "  /* fitted */\n",
       "  border: var(--sklearn-color-fitted-level-1) 1pt solid;\n",
       "  color: var(--sklearn-color-fitted-level-1);\n",
       "}\n",
       "\n",
       "/* On hover */\n",
       "div.sk-estimator:hover .sk-estimator-doc-link:hover,\n",
       ".sk-estimator-doc-link:hover,\n",
       "div.sk-label-container:hover .sk-estimator-doc-link:hover,\n",
       ".sk-estimator-doc-link:hover {\n",
       "  /* unfitted */\n",
       "  background-color: var(--sklearn-color-unfitted-level-3);\n",
       "  color: var(--sklearn-color-background);\n",
       "  text-decoration: none;\n",
       "}\n",
       "\n",
       "div.sk-estimator.fitted:hover .sk-estimator-doc-link.fitted:hover,\n",
       ".sk-estimator-doc-link.fitted:hover,\n",
       "div.sk-label-container:hover .sk-estimator-doc-link.fitted:hover,\n",
       ".sk-estimator-doc-link.fitted:hover {\n",
       "  /* fitted */\n",
       "  background-color: var(--sklearn-color-fitted-level-3);\n",
       "  color: var(--sklearn-color-background);\n",
       "  text-decoration: none;\n",
       "}\n",
       "\n",
       "/* Span, style for the box shown on hovering the info icon */\n",
       ".sk-estimator-doc-link span {\n",
       "  display: none;\n",
       "  z-index: 9999;\n",
       "  position: relative;\n",
       "  font-weight: normal;\n",
       "  right: .2ex;\n",
       "  padding: .5ex;\n",
       "  margin: .5ex;\n",
       "  width: min-content;\n",
       "  min-width: 20ex;\n",
       "  max-width: 50ex;\n",
       "  color: var(--sklearn-color-text);\n",
       "  box-shadow: 2pt 2pt 4pt #999;\n",
       "  /* unfitted */\n",
       "  background: var(--sklearn-color-unfitted-level-0);\n",
       "  border: .5pt solid var(--sklearn-color-unfitted-level-3);\n",
       "}\n",
       "\n",
       ".sk-estimator-doc-link.fitted span {\n",
       "  /* fitted */\n",
       "  background: var(--sklearn-color-fitted-level-0);\n",
       "  border: var(--sklearn-color-fitted-level-3);\n",
       "}\n",
       "\n",
       ".sk-estimator-doc-link:hover span {\n",
       "  display: block;\n",
       "}\n",
       "\n",
       "/* \"?\"-specific style due to the `<a>` HTML tag */\n",
       "\n",
       "#sk-container-id-3 a.estimator_doc_link {\n",
       "  float: right;\n",
       "  font-size: 1rem;\n",
       "  line-height: 1em;\n",
       "  font-family: monospace;\n",
       "  background-color: var(--sklearn-color-background);\n",
       "  border-radius: 1rem;\n",
       "  height: 1rem;\n",
       "  width: 1rem;\n",
       "  text-decoration: none;\n",
       "  /* unfitted */\n",
       "  color: var(--sklearn-color-unfitted-level-1);\n",
       "  border: var(--sklearn-color-unfitted-level-1) 1pt solid;\n",
       "}\n",
       "\n",
       "#sk-container-id-3 a.estimator_doc_link.fitted {\n",
       "  /* fitted */\n",
       "  border: var(--sklearn-color-fitted-level-1) 1pt solid;\n",
       "  color: var(--sklearn-color-fitted-level-1);\n",
       "}\n",
       "\n",
       "/* On hover */\n",
       "#sk-container-id-3 a.estimator_doc_link:hover {\n",
       "  /* unfitted */\n",
       "  background-color: var(--sklearn-color-unfitted-level-3);\n",
       "  color: var(--sklearn-color-background);\n",
       "  text-decoration: none;\n",
       "}\n",
       "\n",
       "#sk-container-id-3 a.estimator_doc_link.fitted:hover {\n",
       "  /* fitted */\n",
       "  background-color: var(--sklearn-color-fitted-level-3);\n",
       "}\n",
       "</style><div id=\"sk-container-id-3\" class=\"sk-top-container\"><div class=\"sk-text-repr-fallback\"><pre>KMeans(n_clusters=3)</pre><b>In a Jupyter environment, please rerun this cell to show the HTML representation or trust the notebook. <br />On GitHub, the HTML representation is unable to render, please try loading this page with nbviewer.org.</b></div><div class=\"sk-container\" hidden><div class=\"sk-item\"><div class=\"sk-estimator fitted sk-toggleable\"><input class=\"sk-toggleable__control sk-hidden--visually\" id=\"sk-estimator-id-3\" type=\"checkbox\" checked><label for=\"sk-estimator-id-3\" class=\"sk-toggleable__label fitted sk-toggleable__label-arrow\"><div><div>KMeans</div></div><div><a class=\"sk-estimator-doc-link fitted\" rel=\"noreferrer\" target=\"_blank\" href=\"https://scikit-learn.org/1.6/modules/generated/sklearn.cluster.KMeans.html\">?<span>Documentation for KMeans</span></a><span class=\"sk-estimator-doc-link fitted\">i<span>Fitted</span></span></div></label><div class=\"sk-toggleable__content fitted\"><pre>KMeans(n_clusters=3)</pre></div> </div></div></div></div>"
      ],
      "text/plain": [
       "KMeans(n_clusters=3)"
      ]
     },
     "execution_count": 44,
     "metadata": {},
     "output_type": "execute_result"
    }
   ],
   "source": [
    "# kmeans 클러스터링 진행\n",
    "n_clusters = 3\n",
    "clt = KMeans(n_clusters=n_clusters)\n",
    "clt.fit(kobart_contexts)"
   ]
  },
  {
   "cell_type": "code",
   "execution_count": 45,
   "id": "2032ff77-3c92-46a1-b497-922d58e23f3c",
   "metadata": {},
   "outputs": [
    {
     "data": {
      "text/plain": [
       "(3, 768)"
      ]
     },
     "execution_count": 45,
     "metadata": {},
     "output_type": "execute_result"
    }
   ],
   "source": [
    "# 중심점 간의 거리를 교차 계산\n",
    "# centroids의 좌표를 담고 있는 배열 \n",
    "# e.g. (클러스터의 수, 차원) == (15, 768)\n",
    "kobart_centroid = clt.cluster_centers_.astype(np.int64())\n",
    "\n",
    "# 중심점들 간의 유클리디안 거리 계산 (15, 15)\n",
    "kobart_dist = cdist(kobart_centroid, kobart_centroid)\n",
    "kobart_centroid.shape"
   ]
  },
  {
   "cell_type": "code",
   "execution_count": 46,
   "id": "f8d1de98-062b-4345-8cd9-28fb51d11cc1",
   "metadata": {},
   "outputs": [
    {
     "data": {
      "text/plain": [
       "(1011, 1)"
      ]
     },
     "execution_count": 46,
     "metadata": {},
     "output_type": "execute_result"
    }
   ],
   "source": [
    "# 각 VOD 콘텐츠별로 소속 클러스터로 매핑\n",
    "\n",
    "# 각 데이터가 어떤 클러스터에 소속되어있는지 예측\n",
    "kobart_xdata = clt.predict(kobart_contexts)\n",
    "# 1차원 형태의 배열을 2차원 배열로 변환 (x, 1) 형태\n",
    "kobart_xdata = kobart_xdata.reshape(kobart_xdata.shape[0], 1)\n",
    "\n",
    "kobart_xdata.shape"
   ]
  },
  {
   "cell_type": "markdown",
   "id": "bbfee760-f02b-436f-be45-ce1a3fef9bb6",
   "metadata": {},
   "source": [
    "<br><br><br><hr>\n",
    "\n",
    "## **✅08. 클러스터별 데이터 확인**"
   ]
  },
  {
   "cell_type": "code",
   "execution_count": 14,
   "id": "c123f25a-550d-4a18-8154-7a2fee3e0a05",
   "metadata": {},
   "outputs": [
    {
     "ename": "NameError",
     "evalue": "name 'ipywidgets' is not defined",
     "output_type": "error",
     "traceback": [
      "\u001b[1;31m---------------------------------------------------------------------------\u001b[0m",
      "\u001b[1;31mNameError\u001b[0m                                 Traceback (most recent call last)",
      "Cell \u001b[1;32mIn[14], line 30\u001b[0m\n\u001b[0;32m     27\u001b[0m   plt\u001b[38;5;241m.\u001b[39mtitle(\u001b[38;5;124mf\u001b[39m\u001b[38;5;124m\"\u001b[39m\u001b[38;5;124m군집 \u001b[39m\u001b[38;5;132;01m{\u001b[39;00mcnum\u001b[38;5;132;01m}\u001b[39;00m\u001b[38;5;124m의 코사인 유사도 히트맵 시각화\u001b[39m\u001b[38;5;124m\"\u001b[39m)\n\u001b[0;32m     28\u001b[0m   plt\u001b[38;5;241m.\u001b[39mshow()\n\u001b[1;32m---> 30\u001b[0m \u001b[43mipywidgets\u001b[49m\u001b[38;5;241m.\u001b[39minteract(kobart_display_cluster_image, cnum\u001b[38;5;241m=\u001b[39m(\u001b[38;5;241m0\u001b[39m, n_clusters\u001b[38;5;241m-\u001b[39m\u001b[38;5;241m1\u001b[39m, \u001b[38;5;241m1\u001b[39m))\n\u001b[0;32m     31\u001b[0m \u001b[38;5;66;03m# cnum: 해당 클러스터에 포함된 영화 제목 출력\u001b[39;00m\n",
      "\u001b[1;31mNameError\u001b[0m: name 'ipywidgets' is not defined"
     ]
    }
   ],
   "source": [
    "def kobart_display_cluster_image(cnum=0):\n",
    "  # 해당 클러스터의 데이터 인덱스 찾기\n",
    "  kobart_cluster_indices = np.where(kobart_xdata == cnum)[0]\n",
    "\n",
    "  # 해당 클러스터에 포함된 데이터 출력\n",
    "  kobart_cluster_data = drama.iloc[kobart_cluster_indices][['asset_nm_전처리']]\n",
    "  print(f\"\\nCluster {cnum}:\")\n",
    "  print(kobart_cluster_data)\n",
    "  print(\"\")\n",
    "\n",
    "  # 클러스터 벡터 추출\n",
    "  kobart_cluster_embeddings = kobart_contexts[kobart_xdata.flatten() == cnum]\n",
    "\n",
    "  # 코사인 유사도 계산\n",
    "  kobart_similarities = cosine_similarity(kobart_cluster_embeddings)\n",
    "\n",
    "  # 히트맵으로 시각화\n",
    "  plt.figure(figsize=(14, 14))\n",
    "  sns.heatmap(kobart_similarities,\n",
    "              # annot=True,\n",
    "              # fmt='.2f',\n",
    "              # annot_kws={'size':8},\n",
    "              cmap='Blues',\n",
    "              square=True,\n",
    "              linewidth=.1,\n",
    "              cbar_kws={\"shrink\": .6})  # 컬러바 크기 줄이기\n",
    "  plt.title(f\"군집 {cnum}의 코사인 유사도 히트맵 시각화\")\n",
    "  plt.show()\n",
    "\n",
    "ipywidgets.interact(kobart_display_cluster_image, cnum=(0, n_clusters-1, 1))\n",
    "# cnum: 해당 클러스터에 포함된 영화 제목 출력"
   ]
  },
  {
   "cell_type": "markdown",
   "id": "b2778e89-ef2d-46e9-8c1e-b8d77e20abde",
   "metadata": {},
   "source": [
    "<br><br><br><hr>\n",
    "\n",
    "## **✅09. 군집별 빈도수 top20 단어 확인 및 워드클라우드 시각화**"
   ]
  },
  {
   "cell_type": "code",
   "execution_count": 48,
   "id": "7369b98a-284c-4182-b02a-dcee2cb7d677",
   "metadata": {},
   "outputs": [],
   "source": [
    "from collections import Counter\n",
    "from konlpy.tag import Okt\n",
    "from wordcloud import WordCloud"
   ]
  },
  {
   "cell_type": "code",
   "execution_count": 59,
   "id": "4ceabba1",
   "metadata": {},
   "outputs": [],
   "source": [
    "# 불용어 리스트에 해지, 시청, 가능, 서비스 추가\n",
    "additional_stop_words = ['해지', '시청', '가능', '서비스', '평생', '소장', '시작', '사랑', '받다', '만나다',\n",
    "                         '더', '말', '다시', '사람', '사건', '곳', '없다', '그렇다', '대한', '이야기']\n",
    "custom_stopwords.extend(additional_stop_words)"
   ]
  },
  {
   "cell_type": "code",
   "execution_count": 60,
   "id": "4bef55b3-6714-40d1-aa51-f98313a5bb05",
   "metadata": {},
   "outputs": [],
   "source": [
    "okt = Okt()"
   ]
  },
  {
   "cell_type": "code",
   "execution_count": 61,
   "id": "3096092d-ba4a-4636-8e82-cb62445133e1",
   "metadata": {},
   "outputs": [
    {
     "data": {
      "application/vnd.jupyter.widget-view+json": {
       "model_id": "82eb46ab630a42fb8bc4938e75784bdb",
       "version_major": 2,
       "version_minor": 0
      },
      "text/plain": [
       "interactive(children=(IntSlider(value=0, description='cnum', max=2), Output()), _dom_classes=('widget-interact…"
      ]
     },
     "metadata": {},
     "output_type": "display_data"
    },
    {
     "data": {
      "text/plain": [
       "<function __main__.kobart_display_cluster_with_adj(cnum=0)>"
      ]
     },
     "execution_count": 61,
     "metadata": {},
     "output_type": "execute_result"
    }
   ],
   "source": [
    "def kobart_display_cluster_with_adj(cnum=0):\n",
    "    kobart_cluster_indices = np.where(kobart_xdata == cnum)[0]\n",
    "    kobart_cluster_data = drama.iloc[kobart_cluster_indices]['summary_최신순']\n",
    "    cluster_size = len(kobart_cluster_indices)\n",
    "    kobart_combined_text = \" \".join(kobart_cluster_data)\n",
    "    \n",
    "    # Okt로 명사와 형용사 추출\n",
    "    kobart_pos = okt.pos(kobart_combined_text, norm=True, stem=True)  # 형태소 분석 (표준화 및 어근화)\n",
    "    kobart_words = [word for word, tag in kobart_pos if tag in ['Noun', 'Adjective', 'Verb']]  # 명사와 형용사 필터링\n",
    "\n",
    "    filtered_words = [word for word in kobart_words if word not in custom_stopwords]\n",
    "    word_counts = Counter(filtered_words)\n",
    "    top_words = word_counts.most_common(20)\n",
    "\n",
    "    print(f\"\\nCluster {cnum}({cluster_size})의 Top 20 명사/형용사:\")\n",
    "    for word, count in top_words:\n",
    "        print(f\"{word}: {count}\")\n",
    "\n",
    "    wordcloud = WordCloud(\n",
    "        font_path='../etc/D2Coding-Ver1.3.2-20180524.ttf',\n",
    "        width=1000, \n",
    "        height=600, \n",
    "        background_color='white',\n",
    "        colormap='Set2'\n",
    "    ).generate_from_frequencies(word_counts)\n",
    "\n",
    "    plt.figure(figsize=(12, 10))\n",
    "    plt.imshow(wordcloud, interpolation=\"bilinear\")\n",
    "    plt.axis('off')\n",
    "    plt.title(f\"KoBART - Cluster {cnum}의 명사+형용사 워드클라우드 ({cluster_size})\")\n",
    "    plt.show()\n",
    "    \n",
    "# ipywidgets로 군집 선택\n",
    "ipywidgets.interact(kobart_display_cluster_with_adj, cnum=(0, n_clusters - 1, 1))"
   ]
  },
  {
   "cell_type": "code",
   "execution_count": null,
   "id": "f4409648-888a-4e74-bb8e-b05171372e1e",
   "metadata": {},
   "outputs": [],
   "source": []
  }
 ],
 "metadata": {
  "kernelspec": {
   "display_name": "Python 3 (ipykernel)",
   "language": "python",
   "name": "python3"
  },
  "language_info": {
   "codemirror_mode": {
    "name": "ipython",
    "version": 3
   },
   "file_extension": ".py",
   "mimetype": "text/x-python",
   "name": "python",
   "nbconvert_exporter": "python",
   "pygments_lexer": "ipython3",
   "version": "3.11.9"
  }
 },
 "nbformat": 4,
 "nbformat_minor": 5
}
