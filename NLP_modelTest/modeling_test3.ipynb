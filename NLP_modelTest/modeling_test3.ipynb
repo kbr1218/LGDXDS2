{
 "cells": [
  {
   "cell_type": "markdown",
   "metadata": {},
   "source": [
    "# **Modeling Test #3**\n",
    "### 줄거리 Clustering w/ KoBERT & KoBART"
   ]
  },
  {
   "cell_type": "markdown",
   "metadata": {},
   "source": [
    "<br><br><hr>\n",
    "\n",
    "## **✅ 00. 기본 설정**"
   ]
  },
  {
   "cell_type": "code",
   "execution_count": 1,
   "metadata": {},
   "outputs": [],
   "source": [
    "import pandas as pd\n",
    "import numpy as np\n",
    "import matplotlib.pyplot as plt\n",
    "import seaborn as sns\n",
    "\n",
    "# 경고 메시지 출력 X\n",
    "import warnings\n",
    "warnings.filterwarnings(\"ignore\")"
   ]
  },
  {
   "cell_type": "code",
   "execution_count": 2,
   "metadata": {},
   "outputs": [],
   "source": [
    "# 한글 font 설정\n",
    "import platform\n",
    "import matplotlib.font_manager as fm\n",
    "\n",
    "#matplotlib 패키지 한글 깨짐 처리 시작\n",
    "#------------------------------------------------------------------------------------\n",
    "# 운영체제별 한글 폰트 설정\n",
    "\n",
    "if platform.system() == 'Darwin': # Mac 환경 폰트 설정\n",
    "    plt.rc('font', family='AppleGothic')\n",
    "elif platform.system() == 'Windows': # Windows 환경 폰트 설정\n",
    "    plt.rc('font', family='Malgun Gothic')\n",
    "    \n",
    "plt.rcParams['axes.unicode_minus'] = False #한글 폰트 사용시 마이너스 폰트 깨짐 해결"
   ]
  },
  {
   "cell_type": "code",
   "execution_count": 3,
   "metadata": {},
   "outputs": [],
   "source": [
    "# 글씨 선명하게 출력하는 설정\n",
    "\n",
    "from IPython.display import set_matplotlib_formats\n",
    "set_matplotlib_formats(\"retina\")"
   ]
  },
  {
   "cell_type": "markdown",
   "metadata": {},
   "source": [
    "<br><br><br><hr>\n",
    "\n",
    "## **✅ 01. 데이터 불러오기**"
   ]
  },
  {
   "cell_type": "code",
   "execution_count": 4,
   "metadata": {},
   "outputs": [
    {
     "name": "stdout",
     "output_type": "stream",
     "text": [
      "(4241, 6)\n"
     ]
    },
    {
     "data": {
      "text/html": [
       "<div>\n",
       "<style scoped>\n",
       "    .dataframe tbody tr th:only-of-type {\n",
       "        vertical-align: middle;\n",
       "    }\n",
       "\n",
       "    .dataframe tbody tr th {\n",
       "        vertical-align: top;\n",
       "    }\n",
       "\n",
       "    .dataframe thead th {\n",
       "        text-align: right;\n",
       "    }\n",
       "</style>\n",
       "<table border=\"1\" class=\"dataframe\">\n",
       "  <thead>\n",
       "    <tr style=\"text-align: right;\">\n",
       "      <th></th>\n",
       "      <th>asset_nm_전처리</th>\n",
       "      <th>ct_cl</th>\n",
       "      <th>genre_of_ct_cl</th>\n",
       "      <th>summary_최신순</th>\n",
       "      <th>최신순</th>\n",
       "      <th>genre_tmdb</th>\n",
       "    </tr>\n",
       "  </thead>\n",
       "  <tbody>\n",
       "    <tr>\n",
       "      <th>0</th>\n",
       "      <td>귀멸의 칼날: 남매의 연</td>\n",
       "      <td>영화</td>\n",
       "      <td>애니메이션</td>\n",
       "      <td>혈귀의 습격으로 가족을 잃은 소년 ‘탄지로’. 유일하게 살아남은 여동생 ‘네즈코’마...</td>\n",
       "      <td>2019-03-29</td>\n",
       "      <td>Animation, Action, Fantasy, Thriller</td>\n",
       "    </tr>\n",
       "    <tr>\n",
       "      <th>1</th>\n",
       "      <td>색에 놀다</td>\n",
       "      <td>영화</td>\n",
       "      <td>에로틱</td>\n",
       "      <td>하얀 색의 순수하고 착한 사랑을 꿈꾸는 25살 모태 솔로 지수. 그녀의 짝사랑 상대...</td>\n",
       "      <td>2017-01-01</td>\n",
       "      <td>Thriller, Drama, Romance</td>\n",
       "    </tr>\n",
       "    <tr>\n",
       "      <th>2</th>\n",
       "      <td>돌이킬 수 없는 주말</td>\n",
       "      <td>영화</td>\n",
       "      <td>공포/스릴러</td>\n",
       "      <td>베키는 결혼을 앞두고 친구 수잔과 함께 다트무어로 여행을 떠난다. 그곳에서 신비한 ...</td>\n",
       "      <td>2015-09-18</td>\n",
       "      <td>Drama, Horror, Mystery</td>\n",
       "    </tr>\n",
       "  </tbody>\n",
       "</table>\n",
       "</div>"
      ],
      "text/plain": [
       "    asset_nm_전처리 ct_cl genre_of_ct_cl  \\\n",
       "0  귀멸의 칼날: 남매의 연    영화          애니메이션   \n",
       "1          색에 놀다    영화            에로틱   \n",
       "2    돌이킬 수 없는 주말    영화         공포/스릴러   \n",
       "\n",
       "                                         summary_최신순         최신순  \\\n",
       "0  혈귀의 습격으로 가족을 잃은 소년 ‘탄지로’. 유일하게 살아남은 여동생 ‘네즈코’마...  2019-03-29   \n",
       "1  하얀 색의 순수하고 착한 사랑을 꿈꾸는 25살 모태 솔로 지수. 그녀의 짝사랑 상대...  2017-01-01   \n",
       "2  베키는 결혼을 앞두고 친구 수잔과 함께 다트무어로 여행을 떠난다. 그곳에서 신비한 ...  2015-09-18   \n",
       "\n",
       "                             genre_tmdb  \n",
       "0  Animation, Action, Fantasy, Thriller  \n",
       "1              Thriller, Drama, Romance  \n",
       "2                Drama, Horror, Mystery  "
      ]
     },
     "execution_count": 4,
     "metadata": {},
     "output_type": "execute_result"
    }
   ],
   "source": [
    "movies = pd.read_csv('..\\data\\movies_4000_tmdb_genre.csv')\n",
    "print(movies.shape)   # (4241, 6)\n",
    "movies.head(3)"
   ]
  },
  {
   "cell_type": "markdown",
   "metadata": {},
   "source": [
    "<br>\n",
    "\n",
    "#### *>> 장르가 '성인' 또는 '기타'인 행와 장르의 value_counts가 40개 미만인 행은 삭제*"
   ]
  },
  {
   "cell_type": "code",
   "execution_count": 5,
   "metadata": {},
   "outputs": [],
   "source": [
    "# 각 장르의 수 를 genre_counts 변수에 저장\n",
    "genre_counts = movies['genre_of_ct_cl'].value_counts()"
   ]
  },
  {
   "cell_type": "code",
   "execution_count": 6,
   "metadata": {},
   "outputs": [],
   "source": [
    "# 삭제할 조건 생성\n",
    "delete_conditions = (movies['genre_of_ct_cl'] == '성인') | (movies['genre_of_ct_cl'] == '기타') | (movies['genre_of_ct_cl'].isin(genre_counts[genre_counts < 40].index))\n",
    "filtered_movies = movies[~delete_conditions]"
   ]
  },
  {
   "cell_type": "code",
   "execution_count": 7,
   "metadata": {},
   "outputs": [
    {
     "name": "stdout",
     "output_type": "stream",
     "text": [
      "(3675, 6)\n"
     ]
    },
    {
     "data": {
      "text/plain": [
       "genre_of_ct_cl\n",
       "드라마        1011\n",
       "액션/어드벤쳐     977\n",
       "공포/스릴러      639\n",
       "멜로          329\n",
       "코미디         265\n",
       "애니메이션       169\n",
       "SF/환타지      159\n",
       "다큐멘터리       126\n",
       "Name: count, dtype: int64"
      ]
     },
     "execution_count": 7,
     "metadata": {},
     "output_type": "execute_result"
    }
   ],
   "source": [
    "# 결과 확인\n",
    "print(filtered_movies.shape)\n",
    "filtered_movies['genre_of_ct_cl'].value_counts()\n",
    "\n",
    "### (4241, 6) >> (3675, 6) >> 566개의 행 삭제"
   ]
  },
  {
   "cell_type": "markdown",
   "metadata": {},
   "source": [
    "<br>\n",
    "\n",
    "#### *>> 사용하지 않을 열 drop*"
   ]
  },
  {
   "cell_type": "code",
   "execution_count": 8,
   "metadata": {},
   "outputs": [
    {
     "data": {
      "text/html": [
       "<div>\n",
       "<style scoped>\n",
       "    .dataframe tbody tr th:only-of-type {\n",
       "        vertical-align: middle;\n",
       "    }\n",
       "\n",
       "    .dataframe tbody tr th {\n",
       "        vertical-align: top;\n",
       "    }\n",
       "\n",
       "    .dataframe thead th {\n",
       "        text-align: right;\n",
       "    }\n",
       "</style>\n",
       "<table border=\"1\" class=\"dataframe\">\n",
       "  <thead>\n",
       "    <tr style=\"text-align: right;\">\n",
       "      <th></th>\n",
       "      <th>asset_nm_전처리</th>\n",
       "      <th>genre_of_ct_cl</th>\n",
       "      <th>summary_최신순</th>\n",
       "    </tr>\n",
       "  </thead>\n",
       "  <tbody>\n",
       "    <tr>\n",
       "      <th>0</th>\n",
       "      <td>귀멸의 칼날: 남매의 연</td>\n",
       "      <td>애니메이션</td>\n",
       "      <td>혈귀의 습격으로 가족을 잃은 소년 ‘탄지로’. 유일하게 살아남은 여동생 ‘네즈코’마...</td>\n",
       "    </tr>\n",
       "    <tr>\n",
       "      <th>2</th>\n",
       "      <td>돌이킬 수 없는 주말</td>\n",
       "      <td>공포/스릴러</td>\n",
       "      <td>베키는 결혼을 앞두고 친구 수잔과 함께 다트무어로 여행을 떠난다. 그곳에서 신비한 ...</td>\n",
       "    </tr>\n",
       "    <tr>\n",
       "      <th>3</th>\n",
       "      <td>섹스 앤 머니</td>\n",
       "      <td>액션/어드벤쳐</td>\n",
       "      <td>갱단 두목 페페는 라이벌 갱단 두목 조조와 세력 다툼을 벌이다 쫓기는 신세가 된다....</td>\n",
       "    </tr>\n",
       "  </tbody>\n",
       "</table>\n",
       "</div>"
      ],
      "text/plain": [
       "    asset_nm_전처리 genre_of_ct_cl  \\\n",
       "0  귀멸의 칼날: 남매의 연          애니메이션   \n",
       "2    돌이킬 수 없는 주말         공포/스릴러   \n",
       "3        섹스 앤 머니        액션/어드벤쳐   \n",
       "\n",
       "                                         summary_최신순  \n",
       "0  혈귀의 습격으로 가족을 잃은 소년 ‘탄지로’. 유일하게 살아남은 여동생 ‘네즈코’마...  \n",
       "2  베키는 결혼을 앞두고 친구 수잔과 함께 다트무어로 여행을 떠난다. 그곳에서 신비한 ...  \n",
       "3  갱단 두목 페페는 라이벌 갱단 두목 조조와 세력 다툼을 벌이다 쫓기는 신세가 된다....  "
      ]
     },
     "execution_count": 8,
     "metadata": {},
     "output_type": "execute_result"
    }
   ],
   "source": [
    "col_to_drop = ['ct_cl', '최신순', 'genre_tmdb']\n",
    "drop_movies = filtered_movies.drop(columns=col_to_drop, axis=1)\n",
    "\n",
    "drop_movies.head(3)"
   ]
  },
  {
   "cell_type": "markdown",
   "metadata": {},
   "source": [
    "<br><br><br><hr>\n",
    "\n",
    "## **✅02. 특수문자/숫자 제거**"
   ]
  },
  {
   "cell_type": "code",
   "execution_count": 9,
   "metadata": {},
   "outputs": [],
   "source": [
    "import re"
   ]
  },
  {
   "cell_type": "code",
   "execution_count": 10,
   "metadata": {},
   "outputs": [],
   "source": [
    "# 정규표현식을 이용해 숫자를 공백으로 변경 (정규 표현식으로 \\d는 숫자 의미)\n",
    "drop_movies['summary_최신순'] = drop_movies['summary_최신순'].apply(lambda x : re.sub(r\"\\d+\", \"\", x))"
   ]
  },
  {
   "cell_type": "code",
   "execution_count": 11,
   "metadata": {},
   "outputs": [],
   "source": [
    "# 정규표현식을 이용해 특수문자를 공백으로 변경\n",
    "drop_movies['summary_최신순'] = drop_movies['summary_최신순'].apply(lambda x: re.sub(r\"[^가-힣a-zA-Z0-9\\s]\", \"\", x))"
   ]
  },
  {
   "cell_type": "code",
   "execution_count": 12,
   "metadata": {},
   "outputs": [
    {
     "data": {
      "text/html": [
       "<div>\n",
       "<style scoped>\n",
       "    .dataframe tbody tr th:only-of-type {\n",
       "        vertical-align: middle;\n",
       "    }\n",
       "\n",
       "    .dataframe tbody tr th {\n",
       "        vertical-align: top;\n",
       "    }\n",
       "\n",
       "    .dataframe thead th {\n",
       "        text-align: right;\n",
       "    }\n",
       "</style>\n",
       "<table border=\"1\" class=\"dataframe\">\n",
       "  <thead>\n",
       "    <tr style=\"text-align: right;\">\n",
       "      <th></th>\n",
       "      <th>asset_nm_전처리</th>\n",
       "      <th>genre_of_ct_cl</th>\n",
       "      <th>summary_최신순</th>\n",
       "    </tr>\n",
       "  </thead>\n",
       "  <tbody>\n",
       "    <tr>\n",
       "      <th>0</th>\n",
       "      <td>귀멸의 칼날: 남매의 연</td>\n",
       "      <td>애니메이션</td>\n",
       "      <td>혈귀의 습격으로 가족을 잃은 소년 탄지로 유일하게 살아남은 여동생 네즈코마저 혈귀로...</td>\n",
       "    </tr>\n",
       "    <tr>\n",
       "      <th>1</th>\n",
       "      <td>돌이킬 수 없는 주말</td>\n",
       "      <td>공포/스릴러</td>\n",
       "      <td>베키는 결혼을 앞두고 친구 수잔과 함께 다트무어로 여행을 떠난다 그곳에서 신비한 매...</td>\n",
       "    </tr>\n",
       "    <tr>\n",
       "      <th>2</th>\n",
       "      <td>섹스 앤 머니</td>\n",
       "      <td>액션/어드벤쳐</td>\n",
       "      <td>갱단 두목 페페는 라이벌 갱단 두목 조조와 세력 다툼을 벌이다 쫓기는 신세가 된다 ...</td>\n",
       "    </tr>\n",
       "  </tbody>\n",
       "</table>\n",
       "</div>"
      ],
      "text/plain": [
       "    asset_nm_전처리 genre_of_ct_cl  \\\n",
       "0  귀멸의 칼날: 남매의 연          애니메이션   \n",
       "1    돌이킬 수 없는 주말         공포/스릴러   \n",
       "2        섹스 앤 머니        액션/어드벤쳐   \n",
       "\n",
       "                                         summary_최신순  \n",
       "0  혈귀의 습격으로 가족을 잃은 소년 탄지로 유일하게 살아남은 여동생 네즈코마저 혈귀로...  \n",
       "1  베키는 결혼을 앞두고 친구 수잔과 함께 다트무어로 여행을 떠난다 그곳에서 신비한 매...  \n",
       "2  갱단 두목 페페는 라이벌 갱단 두목 조조와 세력 다툼을 벌이다 쫓기는 신세가 된다 ...  "
      ]
     },
     "execution_count": 12,
     "metadata": {},
     "output_type": "execute_result"
    }
   ],
   "source": [
    "# 인덱스 정렬\n",
    "# 데이터 인덱스 재설정\n",
    "drop_movies = drop_movies.reset_index(drop=True)\n",
    "drop_movies.head(3)"
   ]
  },
  {
   "cell_type": "markdown",
   "metadata": {},
   "source": [
    "<br><br><br><hr>\n",
    "\n",
    "## **✅ 03. 토크나이저/모델 불러오기**\n",
    "\n",
    "<br>\n",
    "\n",
    "### ***KoBART--------------------------------------------------------***\n",
    "- SKT에서 공개한 pretrained KoBART 소스를 활용하여 클러스터링 알고리즘으로 VOD 줄거리 군집화\n",
    "- 참고 동영상 : https://youtu.be/BgVXl61GC5E?feature=shared"
   ]
  },
  {
   "cell_type": "code",
   "execution_count": 35,
   "metadata": {},
   "outputs": [],
   "source": [
    "# pip install git+https://github.com/SKT-AI/KoBART#egg=kobart"
   ]
  },
  {
   "cell_type": "code",
   "execution_count": 13,
   "metadata": {},
   "outputs": [],
   "source": [
    "from transformers import BartModel\n",
    "from kobart import get_pytorch_kobart_model, get_kobart_tokenizer"
   ]
  },
  {
   "cell_type": "code",
   "execution_count": 14,
   "metadata": {},
   "outputs": [
    {
     "name": "stdout",
     "output_type": "stream",
     "text": [
      "using cached model. c:\\workspaces\\10_proj\\model-test\\model_test\\.cache\\kobart_base_tokenizer_cased_cf74400bce.zip\n"
     ]
    },
    {
     "name": "stderr",
     "output_type": "stream",
     "text": [
      "You passed along `num_labels=3` with an incompatible id to label map: {'0': 'NEGATIVE', '1': 'POSITIVE'}. The number of labels wil be overwritten to 2.\n"
     ]
    },
    {
     "name": "stdout",
     "output_type": "stream",
     "text": [
      "using cached model. c:\\workspaces\\10_proj\\model-test\\model_test\\.cache\\kobart_base_cased_ff4bda5738.zip\n"
     ]
    }
   ],
   "source": [
    "# KoBART 모델과 토크나이저 불러오기\n",
    "kobart_tokenizer = get_kobart_tokenizer()\n",
    "kobart_model = BartModel.from_pretrained(get_pytorch_kobart_model())\n",
    "\n",
    "# 이미 다운로드되어서 캐시 파일에 있던 걸 불러옴"
   ]
  },
  {
   "cell_type": "markdown",
   "metadata": {},
   "source": [
    "<br><br><br>\n",
    "\n",
    "### ***KoBERT--------------------------------------------------------***\n",
    "- SKT의 KoBERT 소스를 활용하여 클러스터링 알고리즘으로 VOD 줄거리 군집화\n",
    "- `git+https://git@github.com/SKTBrain/KoBERT.git@master`\n",
    "- 참고 github: https://github.com/SKTBrain/KoBERT\n",
    "- **huggingface transformers API**: https://github.com/SKTBrain/KoBERT/tree/master/kobert_hf"
   ]
  },
  {
   "cell_type": "code",
   "execution_count": 38,
   "metadata": {},
   "outputs": [
    {
     "data": {
      "text/plain": [
       "'\\nPython >= 3.6\\nPyTorch >= 1.8.1\\ntransformers >= 4.8.2\\nsentencepiece >= 0.1.91\\n'"
      ]
     },
     "execution_count": 38,
     "metadata": {},
     "output_type": "execute_result"
    }
   ],
   "source": [
    "# !pip install 'git+https://github.com/SKTBrain/KoBERT.git#egg=kobert_tokenizer&subdirectory=kobert_hf'\n",
    "\n",
    "# requirement list\n",
    "'''\n",
    "Python >= 3.6\n",
    "PyTorch >= 1.8.1\n",
    "transformers >= 4.8.2\n",
    "sentencepiece >= 0.1.91\n",
    "'''"
   ]
  },
  {
   "cell_type": "code",
   "execution_count": 39,
   "metadata": {},
   "outputs": [],
   "source": [
    "from transformers import BertModel\n",
    "from kobert_tokenizer import KoBERTTokenizer"
   ]
  },
  {
   "cell_type": "code",
   "execution_count": 40,
   "metadata": {},
   "outputs": [
    {
     "name": "stderr",
     "output_type": "stream",
     "text": [
      "The tokenizer class you load from this checkpoint is not the same type as the class this function is called from. It may result in unexpected tokenization. \n",
      "The tokenizer class you load from this checkpoint is 'XLNetTokenizer'. \n",
      "The class this function is called from is 'KoBERTTokenizer'.\n"
     ]
    }
   ],
   "source": [
    "kobert_tokenizer = KoBERTTokenizer.from_pretrained('skt/kobert-base-v1')\n",
    "kobert_model = BertModel.from_pretrained('skt/kobert-base-v1')\n",
    "# 서비스에 적합한 띄어쓰기에 강건한 모델로 튜닝 가능\n",
    "# kobert_tokenizer = KoBERTTokenizer.from_pretrained('skt/kobert-base-v1', sp_model_kwargs={'nbest_size': -1, 'alpha': 0.6, 'enable_sampling': True})"
   ]
  },
  {
   "cell_type": "markdown",
   "metadata": {},
   "source": [
    "<br><br><br><hr>\n",
    "\n",
    "## **✅ 04. test 문장을 넣어 context 확인**\n",
    "\n",
    "<br>\n",
    "\n",
    "### ***KoBART--------------------------------------------------------***"
   ]
  },
  {
   "cell_type": "code",
   "execution_count": 15,
   "metadata": {},
   "outputs": [
    {
     "data": {
      "text/plain": [
       "transformers.modeling_outputs.Seq2SeqModelOutput"
      ]
     },
     "execution_count": 15,
     "metadata": {},
     "output_type": "execute_result"
    }
   ],
   "source": [
    "# 1. test 문장을 넣어주면 모델에서 context만 빼기\n",
    "kobart_inputs = kobart_tokenizer(['반가워요. 나는 지금 여기에 있어요.'],\n",
    "                                 return_tensors='pt',\n",
    "                                 add_special_tokens=True)\n",
    "kobart_context = kobart_model(kobart_inputs['input_ids'])\n",
    "type(kobart_context)"
   ]
  },
  {
   "cell_type": "code",
   "execution_count": 16,
   "metadata": {},
   "outputs": [
    {
     "name": "stdout",
     "output_type": "stream",
     "text": [
      "토큰 리스트: ['▁반가', '워', '요.', '▁나는', '▁지금', '▁여기에', '▁있어요.']\n"
     ]
    }
   ],
   "source": [
    "# 2. 토큰화된 값의 리스트 출력\n",
    "kobart_tokens = kobart_tokenizer.convert_ids_to_tokens(kobart_inputs['input_ids'][0])\n",
    "print(\"토큰 리스트:\", kobart_tokens)"
   ]
  },
  {
   "cell_type": "code",
   "execution_count": 17,
   "metadata": {},
   "outputs": [
    {
     "name": "stdout",
     "output_type": "stream",
     "text": [
      "토큰의 ID: [27571, 11933, 14543, 14651, 14446, 16730, 29629]\n"
     ]
    }
   ],
   "source": [
    "# 3. 토큰의 정수 ID 확인\n",
    "print(\"토큰의 ID:\", kobart_inputs['input_ids'][0].tolist())"
   ]
  },
  {
   "cell_type": "code",
   "execution_count": 18,
   "metadata": {},
   "outputs": [
    {
     "name": "stdout",
     "output_type": "stream",
     "text": [
      "kobart_context의 shape: torch.Size([1, 7, 768])\n"
     ]
    }
   ],
   "source": [
    "# 4. 모델에서 context 출력 (선택 사항)\n",
    "kobart_context = kobart_model(kobart_inputs['input_ids'])\n",
    "print(\"kobart_context의 shape:\", kobart_context.encoder_last_hidden_state.shape)\n",
    "\n",
    "# 테스트 문장은 7개의 토큰으로 나눠짐 >> 7개의 토큰에 대해 각 768차원의 임베딩 벡터 생성\n",
    "# [1, 7, 768] >> 하나의 문장, 7개의 토큰, 768차원"
   ]
  },
  {
   "cell_type": "markdown",
   "metadata": {},
   "source": [
    "<br><br><br>\n",
    "\n",
    "### ***KoBERT--------------------------------------------------------***"
   ]
  },
  {
   "cell_type": "code",
   "execution_count": 45,
   "metadata": {},
   "outputs": [
    {
     "data": {
      "text/plain": [
       "transformers.modeling_outputs.BaseModelOutputWithPoolingAndCrossAttentions"
      ]
     },
     "execution_count": 45,
     "metadata": {},
     "output_type": "execute_result"
    }
   ],
   "source": [
    "# 1. test 문장을 넣어주면 모델에서 context만 빼기\n",
    "kobert_inputs = kobert_tokenizer(['반가워요. 나는 지금 여기에 있어요.'],\n",
    "                                 return_tensors='pt',\n",
    "                                 add_special_tokens=True)\n",
    "kobert_context = kobert_model(kobert_inputs['input_ids'])\n",
    "type(kobert_context)"
   ]
  },
  {
   "cell_type": "code",
   "execution_count": 46,
   "metadata": {},
   "outputs": [
    {
     "name": "stdout",
     "output_type": "stream",
     "text": [
      "토큰 리스트: ['[CLS]', '▁반', '가', '워', '요', '.', '▁나는', '▁지금', '▁여기에', '▁있어', '요', '.', '[SEP]']\n"
     ]
    }
   ],
   "source": [
    "# 2. 토큰화된 값의 리스트 출력\n",
    "kobert_tokens = kobert_tokenizer.convert_ids_to_tokens(kobert_inputs['input_ids'][0])\n",
    "print(\"토큰 리스트:\", kobert_tokens)"
   ]
  },
  {
   "cell_type": "code",
   "execution_count": 47,
   "metadata": {},
   "outputs": [
    {
     "name": "stdout",
     "output_type": "stream",
     "text": [
      "토큰의 ID: [2, 2207, 5330, 7018, 6999, 54, 1375, 4299, 3302, 3868, 6999, 54, 3]\n"
     ]
    }
   ],
   "source": [
    "# 3. 토큰의 정수 ID 확인\n",
    "print(\"토큰의 ID:\", kobert_inputs['input_ids'][0].tolist())"
   ]
  },
  {
   "cell_type": "code",
   "execution_count": 48,
   "metadata": {},
   "outputs": [
    {
     "name": "stdout",
     "output_type": "stream",
     "text": [
      "kobert_context의 shape: torch.Size([1, 13, 768])\n"
     ]
    }
   ],
   "source": [
    "# 4. 모델에서 context 출력 (선택 사항)\n",
    "kobert_context = kobert_model(kobert_inputs['input_ids'])\n",
    "print(\"kobert_context의 shape:\", kobert_context.last_hidden_state.shape)\n",
    "\n",
    "# 테스트 문장은 13개의 토큰으로 나눠짐 >> 13개의 토큰에 대해 각 768차원의 임베딩 벡터 생성\n",
    "# [1, 13, 768] >> 하나의 문장, 7개의 토큰, 768차원"
   ]
  },
  {
   "cell_type": "markdown",
   "metadata": {},
   "source": [
    "<br><br><br><hr>\n",
    "\n",
    "## **✅ 05. VOD 줄거리 벡터화**"
   ]
  },
  {
   "cell_type": "code",
   "execution_count": 19,
   "metadata": {},
   "outputs": [],
   "source": [
    "import sys\n",
    "import ipywidgets"
   ]
  },
  {
   "cell_type": "code",
   "execution_count": 20,
   "metadata": {},
   "outputs": [
    {
     "name": "stdout",
     "output_type": "stream",
     "text": [
      "(3675, 3)\n"
     ]
    }
   ],
   "source": [
    "# 전처리가 완료된 데이터프레임 복사\n",
    "data = drop_movies.copy()\n",
    "print(data.shape)"
   ]
  },
  {
   "cell_type": "code",
   "execution_count": 21,
   "metadata": {},
   "outputs": [
    {
     "data": {
      "text/html": [
       "<div>\n",
       "<style scoped>\n",
       "    .dataframe tbody tr th:only-of-type {\n",
       "        vertical-align: middle;\n",
       "    }\n",
       "\n",
       "    .dataframe tbody tr th {\n",
       "        vertical-align: top;\n",
       "    }\n",
       "\n",
       "    .dataframe thead th {\n",
       "        text-align: right;\n",
       "    }\n",
       "</style>\n",
       "<table border=\"1\" class=\"dataframe\">\n",
       "  <thead>\n",
       "    <tr style=\"text-align: right;\">\n",
       "      <th></th>\n",
       "      <th>asset_nm_전처리</th>\n",
       "      <th>genre_of_ct_cl</th>\n",
       "      <th>summary_최신순</th>\n",
       "    </tr>\n",
       "  </thead>\n",
       "  <tbody>\n",
       "  </tbody>\n",
       "</table>\n",
       "</div>"
      ],
      "text/plain": [
       "Empty DataFrame\n",
       "Columns: [asset_nm_전처리, genre_of_ct_cl, summary_최신순]\n",
       "Index: []"
      ]
     },
     "execution_count": 21,
     "metadata": {},
     "output_type": "execute_result"
    }
   ],
   "source": [
    "# 특수문자가 잘 제거되었는지 확인\n",
    "data[data['summary_최신순'].str.contains(r'\\.', na=False)]"
   ]
  },
  {
   "cell_type": "markdown",
   "metadata": {},
   "source": [
    "<br>\n",
    "\n",
    "### ***KoBART--------------------------------------------------------***"
   ]
  },
  {
   "cell_type": "code",
   "execution_count": 52,
   "metadata": {},
   "outputs": [
    {
     "data": {
      "text/plain": [
       "(3675, 768)"
      ]
     },
     "execution_count": 52,
     "metadata": {},
     "output_type": "execute_result"
    }
   ],
   "source": [
    "kobart_contexts = np.zeros([data.shape[0], kobart_context.encoder_last_hidden_state.shape[-1]])\n",
    "kobart_contexts.shape\n",
    "\n",
    "# 영화 대상으로 768차원의 빈 벡터 배열(contexts) 생성"
   ]
  },
  {
   "cell_type": "code",
   "execution_count": 57,
   "metadata": {},
   "outputs": [
    {
     "name": "stdout",
     "output_type": "stream",
     "text": [
      "[3675/3675] 딥 임팩트 파이널                                                           "
     ]
    }
   ],
   "source": [
    "for i, row in enumerate(data.itertuples(index=False), start=0):\n",
    "  # if i >= data.shape[0]:\n",
    "  #     break\n",
    "    \n",
    "  # 1. 줄거리 토크나이징\n",
    "  # return_tensors='pt': 입력 데이터를 PyTorch 텐서 형태로 반환 (KoBART와 같은 PyTorch 모델은 데이터를 텐서로 받음)\n",
    "  # kobart_inputs에는 PyTorch 텐서로 구성된 딕셔너리 형태의 값이 들어있음\n",
    "    # e.g. {'input_ids': tensor([[x, x, x, ...]]), 'attention_mask': tensor([[1, 1, 1, 1, ...]])}\n",
    "    # input_ids: 각 단어(토큰)을 숫자 ID로 변환한 값\n",
    "    # attention_mask: 각 토큰의 유효성 (1은 유효한 토큰, 0은 패딩 또는 무시할 토큰)\n",
    "  kobart_inputs = kobart_tokenizer([row.summary_최신순], return_tensors='pt')\n",
    "\n",
    "  # 2. 토큰화된 값 가져오기\n",
    "  # input_ids에 있는 숫자 ID를 문자열로 변환하여 리스트로 반환\n",
    "    # output e.g. ['[CLS]', '▁반', '가', '워', '요', '.', '▁나는', '▁지금', '▁여기에', '▁있어', '요', '.', '[SEP]']\n",
    "    # 언더바 (_)는 공백 의미\n",
    "  kobart_tokens = kobart_tokenizer.convert_ids_to_tokens(kobart_inputs['input_ids'][0])\n",
    "\n",
    "  # 3. 모델에 입력하여 context vector 생성\n",
    "  # 토큰화된 입력 데이터(kobart_inputs['input_ids']를 KoBART 모델에 전달하여 문맥 정보 추출\n",
    "  # KoBART 모델은 입력된 텍스트를 처리하여 각 토큰에 임베딩 벡터(768차원) 생성\n",
    "  kobart_context = kobart_model(kobart_inputs['input_ids'])\n",
    "\n",
    "  # 4. 첫 번째 토큰의 벡터를 저장(VOD 하나가 768차원에 저장되는 것)\n",
    "  # KoBART 모델에서 출력된 문맥 벡터 중 첫 번째 토큰([CLS])의 벡터 저장\n",
    "    # >> 참고) [CLS]는 Transformer 모델에서 문장 또는 텍스트 전체의 대표 임베딩을 생성하기 위해 사용되는 특별 토큰!\n",
    "  # 각 VOD 콘텐츠의 768차원 벡터를 kobart_contexts 변수에 저장하여 나중에 클러스터링에 사용\n",
    "    # last_hidden_state: 모델이 생성한 각 토큰의 문맥 임베딩 벡터 ([배치 크기, 토큰 수, 임베딩 차원])\n",
    "    # 여기서 배치 크기는 1 (한 번에 처리하는 문장이 하나 이므로)\n",
    "  # kobart_contexts 변수는 이전에 (3675, 768) 형태에 0을 넣으면서 초기화를 했음\n",
    "    # 각 행마다 VOD 콘텐츠 하나에 대한 768차원의 벡터가 저장됨\n",
    "    # e.g. kobart_contexts[0, :] => 첫 번째 VOD 콘텐츠의 벡터\n",
    "    # e.g. kobart_contexts[1, :] => 두 번째 VOD 콘텐츠의 벡터\n",
    "  kobart_contexts[i, :] = kobart_context.encoder_last_hidden_state.detach().numpy()[0, 0, :]\n",
    "\n",
    "  # 진행상황 출력\n",
    "  sys.stdout.write('\\r' + ' ' * 80)  # 기존 출력 덮어쓰기\n",
    "  sys.stdout.write(f'\\r[{i + 1:04d}/{data.shape[0]:04d}] {row.asset_nm_전처리}')\n",
    "\n",
    "  # 768개의 차원에 VOD 콘텐츠 수만큼의 점을 뿌리면 k-means clustering을 실행할 수 있음\n",
    "  # context_vector(여기서는 kobart_contexts)는 문맥을 가지고 있음 >> 줄거리의 문맥이 유사한 친구들끼리 모인다"
   ]
  },
  {
   "cell_type": "code",
   "execution_count": 22,
   "metadata": {},
   "outputs": [
    {
     "ename": "NameError",
     "evalue": "name 'kobart_contexts' is not defined",
     "output_type": "error",
     "traceback": [
      "\u001b[1;31m---------------------------------------------------------------------------\u001b[0m",
      "\u001b[1;31mNameError\u001b[0m                                 Traceback (most recent call last)",
      "Cell \u001b[1;32mIn[22], line 2\u001b[0m\n\u001b[0;32m      1\u001b[0m \u001b[38;5;66;03m# 벡터화된 데이터 저장\u001b[39;00m\n\u001b[1;32m----> 2\u001b[0m np\u001b[38;5;241m.\u001b[39msave(\u001b[38;5;124m'\u001b[39m\u001b[38;5;124m../data/context_vector/kobart_contexts.npy\u001b[39m\u001b[38;5;124m'\u001b[39m, \u001b[43mkobart_contexts\u001b[49m)\n",
      "\u001b[1;31mNameError\u001b[0m: name 'kobart_contexts' is not defined"
     ]
    }
   ],
   "source": [
    "# 벡터화된 데이터 저장\n",
    "np.save('../data/context_vector/kobart_contexts.npy', kobart_contexts)"
   ]
  },
  {
   "cell_type": "code",
   "execution_count": 23,
   "metadata": {},
   "outputs": [
    {
     "data": {
      "text/plain": [
       "(3675, 768)"
      ]
     },
     "execution_count": 23,
     "metadata": {},
     "output_type": "execute_result"
    }
   ],
   "source": [
    "# 저장된 벡터 데이터 불러오기\n",
    "kobart_contexts = np.load('../data/context_vector/kobart_contexts.npy')\n",
    "kobart_contexts.shape"
   ]
  },
  {
   "cell_type": "markdown",
   "metadata": {},
   "source": [
    "<br>\n",
    "\n",
    "### ***KoBERT--------------------------------------------------------***"
   ]
  },
  {
   "cell_type": "code",
   "execution_count": 61,
   "metadata": {},
   "outputs": [
    {
     "data": {
      "text/plain": [
       "(3675, 768)"
      ]
     },
     "execution_count": 61,
     "metadata": {},
     "output_type": "execute_result"
    }
   ],
   "source": [
    "kobert_contexts = np.zeros([data.shape[0], kobert_context.last_hidden_state.shape[-1]])\n",
    "kobert_contexts.shape\n",
    "\n",
    "# 영화 대상으로 768차원의 빈 벡터 배열(contexts) 생성"
   ]
  },
  {
   "cell_type": "markdown",
   "metadata": {},
   "source": [
    "**참고) KoBART에서는 `encoder_last_hidden_state`를 사용하고 KoBERT에서는 `last_hidden_state`를 사용하는 이유**\n",
    "\n",
    "- KoBART는 인코더-디코더 구조이므로, 텍스트의 문맥 임베딩(context_vector)는 인코더 출력인 `encoder_last_hidden_state`에서 가져옴\n",
    "- KoBERT는 단일 인코더 구조이므로, 텍스트의 임베딩 벡터가 바로 최종 출력으로 제공됨"
   ]
  },
  {
   "cell_type": "code",
   "execution_count": 63,
   "metadata": {},
   "outputs": [
    {
     "name": "stdout",
     "output_type": "stream",
     "text": [
      "[3675/3675] 딥 임팩트 파이널                                                           "
     ]
    }
   ],
   "source": [
    "for i, row in enumerate(data.itertuples(index=False), start=0):\n",
    "  # 1. 줄거리 토크나이징\n",
    "  kobert_inputs = kobert_tokenizer([row.summary_최신순],\n",
    "                                   return_tensors='pt',\n",
    "                                   max_length=512,\n",
    "                                   truncation=True,         # 입력 초과시 값 자르기\n",
    "                                   padding=\"max_length\")    # padding 추가\n",
    "\n",
    "  # 2. 토큰화된 값 가져오기\n",
    "  kobert_tokens = kobert_tokenizer.convert_ids_to_tokens(kobert_inputs['input_ids'][0])\n",
    "\n",
    "    \n",
    "  # 3. 모델에 입력하여 context vector 추출\n",
    "  kobert_context = kobert_model(kobert_inputs['input_ids'],\n",
    "                                attention_mask=kobert_inputs[\"attention_mask\"])\n",
    "\n",
    "  # 첫 번째 토큰의 벡터를 저장(VOD 하나가 768차원에 저장되는 것)\n",
    "  kobert_contexts[i, :] = kobert_context.last_hidden_state.detach().numpy()[0, 0, :]\n",
    "\n",
    "    \n",
    "  # 진행상황 출력\n",
    "  sys.stdout.write('\\r' + ' ' * 80)  # 기존 출력 덮어쓰기\n",
    "  sys.stdout.write(f'\\r[{i + 1:04d}/{data.shape[0]:04d}] {row.asset_nm_전처리}')"
   ]
  },
  {
   "cell_type": "code",
   "execution_count": 64,
   "metadata": {},
   "outputs": [],
   "source": [
    "# 벡터화된 데이터 저장\n",
    "np.save('../data/context_vector/kobert_contexts.npy', kobert_contexts)"
   ]
  },
  {
   "cell_type": "code",
   "execution_count": 65,
   "metadata": {},
   "outputs": [
    {
     "data": {
      "text/plain": [
       "(3675, 768)"
      ]
     },
     "execution_count": 65,
     "metadata": {},
     "output_type": "execute_result"
    }
   ],
   "source": [
    "# 저장된 벡터 데이터 불러오기\n",
    "kobert_contexts = np.load('../data/context_vector/kobert_contexts.npy')\n",
    "kobert_contexts.shape"
   ]
  },
  {
   "cell_type": "markdown",
   "metadata": {},
   "source": [
    "<br>\n",
    "\n",
    "##### ***Q. 줄거리를 정수형 숫자로 tokenizing하는 이유는?***\n",
    "- 자연어 처리(NLP) 모델이 텍스트를 이해하려면 숫자로 변환해야 함\n",
    "- 특히 Transformer 기반의 KoBART 모델과 같은 딥러닝 모델은 **토큰의 정수 배열**을 입력으로 받아 학습/추론\n",
    "\n",
    "<br>\n",
    "\n",
    "##### ***Q. KoBERT에는 padding을 추가하고, KoBART에는 추가하지 않은 이유는?***\n",
    "1. **KoBART**\n",
    "   - `data.iterrows()`를 사용해 데이터를 **한 줄씩 처리** 하고 있기 때문\n",
    "   - 한 번에 하나의 줄거리를 모델에 입력하므로 모든 입력 데이터의 길이가 동일할 필요 없다..!\n",
    "   - KoBERT는 입력 토큰에 대해 **self-attention**을 수행하며, 입력 길이가 고정되어있지 않아도 가능\n",
    "   - 참고) 다수의 시퀀스를 batch로 처리할 때 padding 필요\n",
    "\n",
    "<br>\n",
    "\n",
    "2. **KoBERT**\n",
    "   - transformer 모델에서 **고정된 길이의 입력을 설정**했기 때문\n",
    "   - 입력 토큰의 길이를 최대 512로 설정했고, 입력 시퀀스가 512보다 짧으면 padding으로 길이를 맞추고, 길면 truncation으로 초과 부분을 잘라냄"
   ]
  },
  {
   "cell_type": "markdown",
   "metadata": {},
   "source": [
    "<br><br><br><hr>\n",
    "\n",
    "## **✅06-1. 최적의 K값 찾기: 엘보우 방법**"
   ]
  },
  {
   "cell_type": "markdown",
   "metadata": {},
   "source": [
    "<br>\n",
    "\n",
    "### ***KoBART--------------------------------------------------------***"
   ]
  },
  {
   "cell_type": "code",
   "execution_count": 25,
   "metadata": {},
   "outputs": [],
   "source": [
    "# k-means clustering\n",
    "from sklearn.cluster import KMeans\n",
    "from scipy.spatial.distance import cdist\n",
    "from sklearn.metrics.pairwise import cosine_similarity\n",
    "\n",
    "# 실루엣 분석\n",
    "from sklearn.metrics import silhouette_score"
   ]
  },
  {
   "cell_type": "code",
   "execution_count": 67,
   "metadata": {},
   "outputs": [
    {
     "data": {
      "image/png": "[encoded data removed]",
      "text/plain": [
       "<Figure size 640x480 with 1 Axes>"
      ]
     },
     "metadata": {
      "image/png": {
       "height": 433,
       "width": 591
      }
     },
     "output_type": "display_data"
    }
   ],
   "source": [
    "# 엘보우 방법을 사용하여 최적의 K값 탐색\n",
    "\n",
    "# 1. 각 K값에 대한 SSE 값을 저장할 빈 리스트 생성\n",
    "sse = []\n",
    "\n",
    "start_num = 10\n",
    "finish_num = 1000\n",
    "\n",
    "for k in range(start_num, finish_num):  # 클러스터의 개수 (K)를 start_num부터 finish_num까지 변화시키면서 SSE 값 계산\n",
    "    kmeans = KMeans(n_clusters=k, random_state=42)\n",
    "    kmeans.fit(kobart_contexts)\n",
    "    sse.append(kmeans.inertia_)         # inertia_: KMeans 모델이 계산한 SSE 값\n",
    "\n",
    "# SSE 그래프 확인\n",
    "plt.plot(range(start_num, finish_num), sse, marker='o', markersize=3)\n",
    "plt.xlabel('클러스터의 수')\n",
    "plt.ylabel('SSE')\n",
    "plt.show()"
   ]
  },
  {
   "cell_type": "markdown",
   "metadata": {},
   "source": [
    "<br><br><br><hr>\n",
    "\n",
    "## **✅06-2. 최적의 K값 찾기: 실루엣 분석**"
   ]
  },
  {
   "cell_type": "markdown",
   "metadata": {},
   "source": [
    "<br>\n",
    "\n",
    "### ***KoBERT--------------------------------------------------------***"
   ]
  },
  {
   "cell_type": "code",
   "execution_count": 89,
   "metadata": {},
   "outputs": [
    {
     "data": {
      "image/png": "[encoded data removed]",
      "text/plain": [
       "<Figure size 640x480 with 1 Axes>"
      ]
     },
     "metadata": {
      "image/png": {
       "height": 433,
       "width": 591
      }
     },
     "output_type": "display_data"
    }
   ],
   "source": [
    "# 실루엣 분석을 사용하여 최적의 K값 탐색\n",
    "silhouette_scores = []\n",
    "\n",
    "for k in range(start_num, finish_num):\n",
    "    kmeans = KMeans(n_clusters=k, random_state=42)\n",
    "    kmeans.fit(kobert_contexts)\n",
    "    score = silhouette_score(kobert_contexts, kmeans.labels_)\n",
    "    silhouette_scores.append(score)\n",
    "\n",
    "# 실루엣 분석 그래프 확인\n",
    "plt.plot(range(start_num, finish_num), sse, marker='o', markersize=3)\n",
    "plt.xlabel('클러스터의 수')\n",
    "plt.ylabel('SSE')\n",
    "plt.show()"
   ]
  },
  {
   "cell_type": "markdown",
   "metadata": {},
   "source": [
    "<br><br><br><hr>\n",
    "\n",
    "## **✅07. K-means Clustering**\n",
    "\n",
    "<br>\n",
    "\n",
    "### ***KoBART--------------------------------------------------------***\n",
    "- KoBART로 생성한 영화 줄거리 벡터를 입력으로 K-means 클러스터링 수행"
   ]
  },
  {
   "cell_type": "code",
   "execution_count": 46,
   "metadata": {},
   "outputs": [
    {
     "data": {
      "text/html": [
       "<style>#sk-container-id-2 {\n",
       "  /* Definition of color scheme common for light and dark mode */\n",
       "  --sklearn-color-text: #000;\n",
       "  --sklearn-color-text-muted: #666;\n",
       "  --sklearn-color-line: gray;\n",
       "  /* Definition of color scheme for unfitted estimators */\n",
       "  --sklearn-color-unfitted-level-0: #fff5e6;\n",
       "  --sklearn-color-unfitted-level-1: #f6e4d2;\n",
       "  --sklearn-color-unfitted-level-2: #ffe0b3;\n",
       "  --sklearn-color-unfitted-level-3: chocolate;\n",
       "  /* Definition of color scheme for fitted estimators */\n",
       "  --sklearn-color-fitted-level-0: #f0f8ff;\n",
       "  --sklearn-color-fitted-level-1: #d4ebff;\n",
       "  --sklearn-color-fitted-level-2: #b3dbfd;\n",
       "  --sklearn-color-fitted-level-3: cornflowerblue;\n",
       "\n",
       "  /* Specific color for light theme */\n",
       "  --sklearn-color-text-on-default-background: var(--sg-text-color, var(--theme-code-foreground, var(--jp-content-font-color1, black)));\n",
       "  --sklearn-color-background: var(--sg-background-color, var(--theme-background, var(--jp-layout-color0, white)));\n",
       "  --sklearn-color-border-box: var(--sg-text-color, var(--theme-code-foreground, var(--jp-content-font-color1, black)));\n",
       "  --sklearn-color-icon: #696969;\n",
       "\n",
       "  @media (prefers-color-scheme: dark) {\n",
       "    /* Redefinition of color scheme for dark theme */\n",
       "    --sklearn-color-text-on-default-background: var(--sg-text-color, var(--theme-code-foreground, var(--jp-content-font-color1, white)));\n",
       "    --sklearn-color-background: var(--sg-background-color, var(--theme-background, var(--jp-layout-color0, #111)));\n",
       "    --sklearn-color-border-box: var(--sg-text-color, var(--theme-code-foreground, var(--jp-content-font-color1, white)));\n",
       "    --sklearn-color-icon: #878787;\n",
       "  }\n",
       "}\n",
       "\n",
       "#sk-container-id-2 {\n",
       "  color: var(--sklearn-color-text);\n",
       "}\n",
       "\n",
       "#sk-container-id-2 pre {\n",
       "  padding: 0;\n",
       "}\n",
       "\n",
       "#sk-container-id-2 input.sk-hidden--visually {\n",
       "  border: 0;\n",
       "  clip: rect(1px 1px 1px 1px);\n",
       "  clip: rect(1px, 1px, 1px, 1px);\n",
       "  height: 1px;\n",
       "  margin: -1px;\n",
       "  overflow: hidden;\n",
       "  padding: 0;\n",
       "  position: absolute;\n",
       "  width: 1px;\n",
       "}\n",
       "\n",
       "#sk-container-id-2 div.sk-dashed-wrapped {\n",
       "  border: 1px dashed var(--sklearn-color-line);\n",
       "  margin: 0 0.4em 0.5em 0.4em;\n",
       "  box-sizing: border-box;\n",
       "  padding-bottom: 0.4em;\n",
       "  background-color: var(--sklearn-color-background);\n",
       "}\n",
       "\n",
       "#sk-container-id-2 div.sk-container {\n",
       "  /* jupyter's `normalize.less` sets `[hidden] { display: none; }`\n",
       "     but bootstrap.min.css set `[hidden] { display: none !important; }`\n",
       "     so we also need the `!important` here to be able to override the\n",
       "     default hidden behavior on the sphinx rendered scikit-learn.org.\n",
       "     See: https://github.com/scikit-learn/scikit-learn/issues/21755 */\n",
       "  display: inline-block !important;\n",
       "  position: relative;\n",
       "}\n",
       "\n",
       "#sk-container-id-2 div.sk-text-repr-fallback {\n",
       "  display: none;\n",
       "}\n",
       "\n",
       "div.sk-parallel-item,\n",
       "div.sk-serial,\n",
       "div.sk-item {\n",
       "  /* draw centered vertical line to link estimators */\n",
       "  background-image: linear-gradient(var(--sklearn-color-text-on-default-background), var(--sklearn-color-text-on-default-background));\n",
       "  background-size: 2px 100%;\n",
       "  background-repeat: no-repeat;\n",
       "  background-position: center center;\n",
       "}\n",
       "\n",
       "/* Parallel-specific style estimator block */\n",
       "\n",
       "#sk-container-id-2 div.sk-parallel-item::after {\n",
       "  content: \"\";\n",
       "  width: 100%;\n",
       "  border-bottom: 2px solid var(--sklearn-color-text-on-default-background);\n",
       "  flex-grow: 1;\n",
       "}\n",
       "\n",
       "#sk-container-id-2 div.sk-parallel {\n",
       "  display: flex;\n",
       "  align-items: stretch;\n",
       "  justify-content: center;\n",
       "  background-color: var(--sklearn-color-background);\n",
       "  position: relative;\n",
       "}\n",
       "\n",
       "#sk-container-id-2 div.sk-parallel-item {\n",
       "  display: flex;\n",
       "  flex-direction: column;\n",
       "}\n",
       "\n",
       "#sk-container-id-2 div.sk-parallel-item:first-child::after {\n",
       "  align-self: flex-end;\n",
       "  width: 50%;\n",
       "}\n",
       "\n",
       "#sk-container-id-2 div.sk-parallel-item:last-child::after {\n",
       "  align-self: flex-start;\n",
       "  width: 50%;\n",
       "}\n",
       "\n",
       "#sk-container-id-2 div.sk-parallel-item:only-child::after {\n",
       "  width: 0;\n",
       "}\n",
       "\n",
       "/* Serial-specific style estimator block */\n",
       "\n",
       "#sk-container-id-2 div.sk-serial {\n",
       "  display: flex;\n",
       "  flex-direction: column;\n",
       "  align-items: center;\n",
       "  background-color: var(--sklearn-color-background);\n",
       "  padding-right: 1em;\n",
       "  padding-left: 1em;\n",
       "}\n",
       "\n",
       "\n",
       "/* Toggleable style: style used for estimator/Pipeline/ColumnTransformer box that is\n",
       "clickable and can be expanded/collapsed.\n",
       "- Pipeline and ColumnTransformer use this feature and define the default style\n",
       "- Estimators will overwrite some part of the style using the `sk-estimator` class\n",
       "*/\n",
       "\n",
       "/* Pipeline and ColumnTransformer style (default) */\n",
       "\n",
       "#sk-container-id-2 div.sk-toggleable {\n",
       "  /* Default theme specific background. It is overwritten whether we have a\n",
       "  specific estimator or a Pipeline/ColumnTransformer */\n",
       "  background-color: var(--sklearn-color-background);\n",
       "}\n",
       "\n",
       "/* Toggleable label */\n",
       "#sk-container-id-2 label.sk-toggleable__label {\n",
       "  cursor: pointer;\n",
       "  display: flex;\n",
       "  width: 100%;\n",
       "  margin-bottom: 0;\n",
       "  padding: 0.5em;\n",
       "  box-sizing: border-box;\n",
       "  text-align: center;\n",
       "  align-items: start;\n",
       "  justify-content: space-between;\n",
       "  gap: 0.5em;\n",
       "}\n",
       "\n",
       "#sk-container-id-2 label.sk-toggleable__label .caption {\n",
       "  font-size: 0.6rem;\n",
       "  font-weight: lighter;\n",
       "  color: var(--sklearn-color-text-muted);\n",
       "}\n",
       "\n",
       "#sk-container-id-2 label.sk-toggleable__label-arrow:before {\n",
       "  /* Arrow on the left of the label */\n",
       "  content: \"▸\";\n",
       "  float: left;\n",
       "  margin-right: 0.25em;\n",
       "  color: var(--sklearn-color-icon);\n",
       "}\n",
       "\n",
       "#sk-container-id-2 label.sk-toggleable__label-arrow:hover:before {\n",
       "  color: var(--sklearn-color-text);\n",
       "}\n",
       "\n",
       "/* Toggleable content - dropdown */\n",
       "\n",
       "#sk-container-id-2 div.sk-toggleable__content {\n",
       "  max-height: 0;\n",
       "  max-width: 0;\n",
       "  overflow: hidden;\n",
       "  text-align: left;\n",
       "  /* unfitted */\n",
       "  background-color: var(--sklearn-color-unfitted-level-0);\n",
       "}\n",
       "\n",
       "#sk-container-id-2 div.sk-toggleable__content.fitted {\n",
       "  /* fitted */\n",
       "  background-color: var(--sklearn-color-fitted-level-0);\n",
       "}\n",
       "\n",
       "#sk-container-id-2 div.sk-toggleable__content pre {\n",
       "  margin: 0.2em;\n",
       "  border-radius: 0.25em;\n",
       "  color: var(--sklearn-color-text);\n",
       "  /* unfitted */\n",
       "  background-color: var(--sklearn-color-unfitted-level-0);\n",
       "}\n",
       "\n",
       "#sk-container-id-2 div.sk-toggleable__content.fitted pre {\n",
       "  /* unfitted */\n",
       "  background-color: var(--sklearn-color-fitted-level-0);\n",
       "}\n",
       "\n",
       "#sk-container-id-2 input.sk-toggleable__control:checked~div.sk-toggleable__content {\n",
       "  /* Expand drop-down */\n",
       "  max-height: 200px;\n",
       "  max-width: 100%;\n",
       "  overflow: auto;\n",
       "}\n",
       "\n",
       "#sk-container-id-2 input.sk-toggleable__control:checked~label.sk-toggleable__label-arrow:before {\n",
       "  content: \"▾\";\n",
       "}\n",
       "\n",
       "/* Pipeline/ColumnTransformer-specific style */\n",
       "\n",
       "#sk-container-id-2 div.sk-label input.sk-toggleable__control:checked~label.sk-toggleable__label {\n",
       "  color: var(--sklearn-color-text);\n",
       "  background-color: var(--sklearn-color-unfitted-level-2);\n",
       "}\n",
       "\n",
       "#sk-container-id-2 div.sk-label.fitted input.sk-toggleable__control:checked~label.sk-toggleable__label {\n",
       "  background-color: var(--sklearn-color-fitted-level-2);\n",
       "}\n",
       "\n",
       "/* Estimator-specific style */\n",
       "\n",
       "/* Colorize estimator box */\n",
       "#sk-container-id-2 div.sk-estimator input.sk-toggleable__control:checked~label.sk-toggleable__label {\n",
       "  /* unfitted */\n",
       "  background-color: var(--sklearn-color-unfitted-level-2);\n",
       "}\n",
       "\n",
       "#sk-container-id-2 div.sk-estimator.fitted input.sk-toggleable__control:checked~label.sk-toggleable__label {\n",
       "  /* fitted */\n",
       "  background-color: var(--sklearn-color-fitted-level-2);\n",
       "}\n",
       "\n",
       "#sk-container-id-2 div.sk-label label.sk-toggleable__label,\n",
       "#sk-container-id-2 div.sk-label label {\n",
       "  /* The background is the default theme color */\n",
       "  color: var(--sklearn-color-text-on-default-background);\n",
       "}\n",
       "\n",
       "/* On hover, darken the color of the background */\n",
       "#sk-container-id-2 div.sk-label:hover label.sk-toggleable__label {\n",
       "  color: var(--sklearn-color-text);\n",
       "  background-color: var(--sklearn-color-unfitted-level-2);\n",
       "}\n",
       "\n",
       "/* Label box, darken color on hover, fitted */\n",
       "#sk-container-id-2 div.sk-label.fitted:hover label.sk-toggleable__label.fitted {\n",
       "  color: var(--sklearn-color-text);\n",
       "  background-color: var(--sklearn-color-fitted-level-2);\n",
       "}\n",
       "\n",
       "/* Estimator label */\n",
       "\n",
       "#sk-container-id-2 div.sk-label label {\n",
       "  font-family: monospace;\n",
       "  font-weight: bold;\n",
       "  display: inline-block;\n",
       "  line-height: 1.2em;\n",
       "}\n",
       "\n",
       "#sk-container-id-2 div.sk-label-container {\n",
       "  text-align: center;\n",
       "}\n",
       "\n",
       "/* Estimator-specific */\n",
       "#sk-container-id-2 div.sk-estimator {\n",
       "  font-family: monospace;\n",
       "  border: 1px dotted var(--sklearn-color-border-box);\n",
       "  border-radius: 0.25em;\n",
       "  box-sizing: border-box;\n",
       "  margin-bottom: 0.5em;\n",
       "  /* unfitted */\n",
       "  background-color: var(--sklearn-color-unfitted-level-0);\n",
       "}\n",
       "\n",
       "#sk-container-id-2 div.sk-estimator.fitted {\n",
       "  /* fitted */\n",
       "  background-color: var(--sklearn-color-fitted-level-0);\n",
       "}\n",
       "\n",
       "/* on hover */\n",
       "#sk-container-id-2 div.sk-estimator:hover {\n",
       "  /* unfitted */\n",
       "  background-color: var(--sklearn-color-unfitted-level-2);\n",
       "}\n",
       "\n",
       "#sk-container-id-2 div.sk-estimator.fitted:hover {\n",
       "  /* fitted */\n",
       "  background-color: var(--sklearn-color-fitted-level-2);\n",
       "}\n",
       "\n",
       "/* Specification for estimator info (e.g. \"i\" and \"?\") */\n",
       "\n",
       "/* Common style for \"i\" and \"?\" */\n",
       "\n",
       ".sk-estimator-doc-link,\n",
       "a:link.sk-estimator-doc-link,\n",
       "a:visited.sk-estimator-doc-link {\n",
       "  float: right;\n",
       "  font-size: smaller;\n",
       "  line-height: 1em;\n",
       "  font-family: monospace;\n",
       "  background-color: var(--sklearn-color-background);\n",
       "  border-radius: 1em;\n",
       "  height: 1em;\n",
       "  width: 1em;\n",
       "  text-decoration: none !important;\n",
       "  margin-left: 0.5em;\n",
       "  text-align: center;\n",
       "  /* unfitted */\n",
       "  border: var(--sklearn-color-unfitted-level-1) 1pt solid;\n",
       "  color: var(--sklearn-color-unfitted-level-1);\n",
       "}\n",
       "\n",
       ".sk-estimator-doc-link.fitted,\n",
       "a:link.sk-estimator-doc-link.fitted,\n",
       "a:visited.sk-estimator-doc-link.fitted {\n",
       "  /* fitted */\n",
       "  border: var(--sklearn-color-fitted-level-1) 1pt solid;\n",
       "  color: var(--sklearn-color-fitted-level-1);\n",
       "}\n",
       "\n",
       "/* On hover */\n",
       "div.sk-estimator:hover .sk-estimator-doc-link:hover,\n",
       ".sk-estimator-doc-link:hover,\n",
       "div.sk-label-container:hover .sk-estimator-doc-link:hover,\n",
       ".sk-estimator-doc-link:hover {\n",
       "  /* unfitted */\n",
       "  background-color: var(--sklearn-color-unfitted-level-3);\n",
       "  color: var(--sklearn-color-background);\n",
       "  text-decoration: none;\n",
       "}\n",
       "\n",
       "div.sk-estimator.fitted:hover .sk-estimator-doc-link.fitted:hover,\n",
       ".sk-estimator-doc-link.fitted:hover,\n",
       "div.sk-label-container:hover .sk-estimator-doc-link.fitted:hover,\n",
       ".sk-estimator-doc-link.fitted:hover {\n",
       "  /* fitted */\n",
       "  background-color: var(--sklearn-color-fitted-level-3);\n",
       "  color: var(--sklearn-color-background);\n",
       "  text-decoration: none;\n",
       "}\n",
       "\n",
       "/* Span, style for the box shown on hovering the info icon */\n",
       ".sk-estimator-doc-link span {\n",
       "  display: none;\n",
       "  z-index: 9999;\n",
       "  position: relative;\n",
       "  font-weight: normal;\n",
       "  right: .2ex;\n",
       "  padding: .5ex;\n",
       "  margin: .5ex;\n",
       "  width: min-content;\n",
       "  min-width: 20ex;\n",
       "  max-width: 50ex;\n",
       "  color: var(--sklearn-color-text);\n",
       "  box-shadow: 2pt 2pt 4pt #999;\n",
       "  /* unfitted */\n",
       "  background: var(--sklearn-color-unfitted-level-0);\n",
       "  border: .5pt solid var(--sklearn-color-unfitted-level-3);\n",
       "}\n",
       "\n",
       ".sk-estimator-doc-link.fitted span {\n",
       "  /* fitted */\n",
       "  background: var(--sklearn-color-fitted-level-0);\n",
       "  border: var(--sklearn-color-fitted-level-3);\n",
       "}\n",
       "\n",
       ".sk-estimator-doc-link:hover span {\n",
       "  display: block;\n",
       "}\n",
       "\n",
       "/* \"?\"-specific style due to the `<a>` HTML tag */\n",
       "\n",
       "#sk-container-id-2 a.estimator_doc_link {\n",
       "  float: right;\n",
       "  font-size: 1rem;\n",
       "  line-height: 1em;\n",
       "  font-family: monospace;\n",
       "  background-color: var(--sklearn-color-background);\n",
       "  border-radius: 1rem;\n",
       "  height: 1rem;\n",
       "  width: 1rem;\n",
       "  text-decoration: none;\n",
       "  /* unfitted */\n",
       "  color: var(--sklearn-color-unfitted-level-1);\n",
       "  border: var(--sklearn-color-unfitted-level-1) 1pt solid;\n",
       "}\n",
       "\n",
       "#sk-container-id-2 a.estimator_doc_link.fitted {\n",
       "  /* fitted */\n",
       "  border: var(--sklearn-color-fitted-level-1) 1pt solid;\n",
       "  color: var(--sklearn-color-fitted-level-1);\n",
       "}\n",
       "\n",
       "/* On hover */\n",
       "#sk-container-id-2 a.estimator_doc_link:hover {\n",
       "  /* unfitted */\n",
       "  background-color: var(--sklearn-color-unfitted-level-3);\n",
       "  color: var(--sklearn-color-background);\n",
       "  text-decoration: none;\n",
       "}\n",
       "\n",
       "#sk-container-id-2 a.estimator_doc_link.fitted:hover {\n",
       "  /* fitted */\n",
       "  background-color: var(--sklearn-color-fitted-level-3);\n",
       "}\n",
       "</style><div id=\"sk-container-id-2\" class=\"sk-top-container\"><div class=\"sk-text-repr-fallback\"><pre>KMeans(n_clusters=30)</pre><b>In a Jupyter environment, please rerun this cell to show the HTML representation or trust the notebook. <br />On GitHub, the HTML representation is unable to render, please try loading this page with nbviewer.org.</b></div><div class=\"sk-container\" hidden><div class=\"sk-item\"><div class=\"sk-estimator fitted sk-toggleable\"><input class=\"sk-toggleable__control sk-hidden--visually\" id=\"sk-estimator-id-2\" type=\"checkbox\" checked><label for=\"sk-estimator-id-2\" class=\"sk-toggleable__label fitted sk-toggleable__label-arrow\"><div><div>KMeans</div></div><div><a class=\"sk-estimator-doc-link fitted\" rel=\"noreferrer\" target=\"_blank\" href=\"https://scikit-learn.org/1.6/modules/generated/sklearn.cluster.KMeans.html\">?<span>Documentation for KMeans</span></a><span class=\"sk-estimator-doc-link fitted\">i<span>Fitted</span></span></div></label><div class=\"sk-toggleable__content fitted\"><pre>KMeans(n_clusters=30)</pre></div> </div></div></div></div>"
      ],
      "text/plain": [
       "KMeans(n_clusters=30)"
      ]
     },
     "execution_count": 46,
     "metadata": {},
     "output_type": "execute_result"
    }
   ],
   "source": [
    "# kmeans 클러스터링 진행\n",
    "n_clusters = 30\n",
    "clt = KMeans(n_clusters=n_clusters)\n",
    "clt.fit(kobart_contexts)"
   ]
  },
  {
   "cell_type": "code",
   "execution_count": 47,
   "metadata": {},
   "outputs": [
    {
     "data": {
      "text/plain": [
       "(30, 768)"
      ]
     },
     "execution_count": 47,
     "metadata": {},
     "output_type": "execute_result"
    }
   ],
   "source": [
    "# 중심점 간의 거리를 교차 계산\n",
    "# centroids의 좌표를 담고 있는 배열 \n",
    "# e.g. (클러스터의 수, 차원) == (15, 768)\n",
    "kobart_centroid = clt.cluster_centers_.astype(np.int64())\n",
    "\n",
    "# 중심점들 간의 유클리디안 거리 계산 (15, 15)\n",
    "kobart_dist = cdist(kobart_centroid, kobart_centroid)\n",
    "kobart_centroid.shape"
   ]
  },
  {
   "cell_type": "code",
   "execution_count": 48,
   "metadata": {},
   "outputs": [
    {
     "data": {
      "text/plain": [
       "(3675, 1)"
      ]
     },
     "execution_count": 48,
     "metadata": {},
     "output_type": "execute_result"
    }
   ],
   "source": [
    "# 각 VOD 콘텐츠별로 소속 클러스터로 매핑\n",
    "\n",
    "# 각 데이터가 어떤 클러스터에 소속되어있는지 예측\n",
    "kobart_xdata = clt.predict(kobart_contexts)\n",
    "# 1차원 형태의 배열을 2차원 배열로 변환 (x, 1) 형태\n",
    "kobart_xdata = kobart_xdata.reshape(kobart_xdata.shape[0], 1)\n",
    "\n",
    "kobart_xdata.shape"
   ]
  },
  {
   "cell_type": "markdown",
   "metadata": {},
   "source": [
    "<br><br><br>\n",
    "\n",
    "### ***KoBERT--------------------------------------------------------***\n",
    "\n",
    "- KoBERT로 생성한 영화 줄거리 벡터를 입력으로 K-means 클러스터링 수행"
   ]
  },
  {
   "cell_type": "code",
   "execution_count": 29,
   "metadata": {},
   "outputs": [
    {
     "ename": "NameError",
     "evalue": "name 'kobert_contexts' is not defined",
     "output_type": "error",
     "traceback": [
      "\u001b[1;31m---------------------------------------------------------------------------\u001b[0m",
      "\u001b[1;31mNameError\u001b[0m                                 Traceback (most recent call last)",
      "Cell \u001b[1;32mIn[29], line 4\u001b[0m\n\u001b[0;32m      2\u001b[0m n_clusters \u001b[38;5;241m=\u001b[39m \u001b[38;5;241m35\u001b[39m\n\u001b[0;32m      3\u001b[0m clt \u001b[38;5;241m=\u001b[39m KMeans(n_clusters\u001b[38;5;241m=\u001b[39mn_clusters)\n\u001b[1;32m----> 4\u001b[0m clt\u001b[38;5;241m.\u001b[39mfit(\u001b[43mkobert_contexts\u001b[49m)\n",
      "\u001b[1;31mNameError\u001b[0m: name 'kobert_contexts' is not defined"
     ]
    }
   ],
   "source": [
    "# kmeans 클러스터링 진행\n",
    "n_clusters = 35\n",
    "clt = KMeans(n_clusters=n_clusters)\n",
    "clt.fit(kobert_contexts)"
   ]
  },
  {
   "cell_type": "code",
   "execution_count": 143,
   "metadata": {},
   "outputs": [
    {
     "data": {
      "text/plain": [
       "(35, 768)"
      ]
     },
     "execution_count": 143,
     "metadata": {},
     "output_type": "execute_result"
    }
   ],
   "source": [
    "# 중심점 간의 거리를 교차 계산\n",
    "# centroids의 좌표를 담고 있는 배열 \n",
    "# e.g. (클러스터의 수, 차원) == (15, 768)\n",
    "kobert_centroid = clt.cluster_centers_.astype(np.int64())\n",
    "\n",
    "# 중심점들 간의 유클리디안 거리 계산 (15, 15)\n",
    "kobert_dist = cdist(kobert_centroid, kobert_centroid)\n",
    "kobert_centroid.shape"
   ]
  },
  {
   "cell_type": "code",
   "execution_count": 144,
   "metadata": {},
   "outputs": [
    {
     "data": {
      "text/plain": [
       "(3675, 1)"
      ]
     },
     "execution_count": 144,
     "metadata": {},
     "output_type": "execute_result"
    }
   ],
   "source": [
    "# 각 VOD 콘텐츠별로 소속 클러스터로 매핑\n",
    "\n",
    "# 각 데이터가 어떤 클러스터에 소속되어있는지 예측\n",
    "kobert_xdata = clt.predict(kobert_contexts)\n",
    "# 1차원 형태의 배열을 2차원 배열로 변환 (x, 1) 형태\n",
    "kobert_xdata = kobert_xdata.reshape(kobert_xdata.shape[0], 1)\n",
    "\n",
    "kobert_xdata.shape"
   ]
  },
  {
   "cell_type": "markdown",
   "metadata": {},
   "source": [
    "<br><br><br><hr>\n",
    "\n",
    "## **✅08. 클러스터별 데이터 확인**\n",
    "\n",
    "<br>\n",
    "\n",
    "### ***KoBART--------------------------------------------------------***"
   ]
  },
  {
   "cell_type": "code",
   "execution_count": 49,
   "metadata": {},
   "outputs": [
    {
     "data": {
      "application/vnd.jupyter.widget-view+json": {
       "model_id": "de030e4d9996473aa92c0edb42ec12f5",
       "version_major": 2,
       "version_minor": 0
      },
      "text/plain": [
       "interactive(children=(IntSlider(value=0, description='cnum', max=29), Output()), _dom_classes=('widget-interac…"
      ]
     },
     "metadata": {},
     "output_type": "display_data"
    },
    {
     "data": {
      "text/plain": [
       "<function __main__.kobart_display_cluster_image(cnum=0)>"
      ]
     },
     "execution_count": 49,
     "metadata": {},
     "output_type": "execute_result"
    }
   ],
   "source": [
    "def kobart_display_cluster_image(cnum=0):\n",
    "  # 해당 클러스터의 데이터 인덱스 찾기\n",
    "  kobart_cluster_indices = np.where(kobart_xdata == cnum)[0]\n",
    "\n",
    "  # 해당 클러스터에 포함된 데이터 출력\n",
    "  kobart_cluster_data = data.iloc[kobart_cluster_indices][['asset_nm_전처리', 'genre_of_ct_cl']]\n",
    "  print(f\"\\nCluster {cnum}:\")\n",
    "  print(kobart_cluster_data)\n",
    "  print(\"\")\n",
    "\n",
    "  # 클러스터 벡터 추출\n",
    "  kobart_cluster_embeddings = kobart_contexts[kobart_xdata.flatten() == cnum]\n",
    "\n",
    "  # 코사인 유사도 계산\n",
    "  kobart_similarities = cosine_similarity(kobart_cluster_embeddings)\n",
    "\n",
    "  # 히트맵으로 시각화\n",
    "  plt.figure(figsize=(10, 10))\n",
    "  sns.heatmap(kobart_similarities,\n",
    "              # annot=True,\n",
    "              # fmt='.2f',\n",
    "              # annot_kws={'size':8},\n",
    "              cmap='Blues',\n",
    "              square=True,\n",
    "              linewidth=.1,\n",
    "              cbar_kws={\"shrink\": .6})  # 컬러바 크기 줄이기\n",
    "  plt.title(f\"군집 {cnum}의 코사인 유사도 히트맵 시각화\")\n",
    "  plt.show()\n",
    "\n",
    "\n",
    "ipywidgets.interact(kobart_display_cluster_image, cnum=(0, n_clusters-1, 1))\n",
    "# cnum: 해당 클러스터에 포함된 영화 제목 출력"
   ]
  },
  {
   "cell_type": "code",
   "execution_count": 164,
   "metadata": {},
   "outputs": [],
   "source": [
    "# neural network가 차원축소를 굉장히 잘 해줌\n",
    "# 복잡한 문장을 768개의 벡터로 차원 축소하여 축소된 공간 안에 텍스트의 문맥이 들어있음\n",
    "# 클러스터링 알고리즘을 사용하여 데이터를 확인할 수 있음\n",
    "# 하지만 차원이 넓고 데이터 차원이 적은 경우 k-means보다 dbscan 방식이 소집단이 모여있는 공간으로 찾아갈 가능성이 높다\n",
    "# kmeans는 처음에 뿌려진 random 값의 위치에 따라서 이질적인 문장들이 같은 클러스터로 구분될 가능성이 있음"
   ]
  },
  {
   "cell_type": "markdown",
   "metadata": {},
   "source": [
    "<br><br><br>\n",
    "\n",
    "### ***KoBERT--------------------------------------------------------***"
   ]
  },
  {
   "cell_type": "code",
   "execution_count": 96,
   "metadata": {},
   "outputs": [
    {
     "data": {
      "application/vnd.jupyter.widget-view+json": {
       "model_id": "5b0f6542b5aa4e388e90871e4f705dcc",
       "version_major": 2,
       "version_minor": 0
      },
      "text/plain": [
       "interactive(children=(IntSlider(value=0, description='cnum', max=24), Output()), _dom_classes=('widget-interac…"
      ]
     },
     "metadata": {},
     "output_type": "display_data"
    },
    {
     "data": {
      "text/plain": [
       "<function __main__.kobert_display_cluster_image(cnum=0)>"
      ]
     },
     "execution_count": 96,
     "metadata": {},
     "output_type": "execute_result"
    }
   ],
   "source": [
    "def kobert_display_cluster_image(cnum=0):\n",
    "  # 해당 클러스터의 데이터 인덱스 찾기\n",
    "  kobert_cluster_indices = np.where(kobert_xdata == cnum)[0]\n",
    "\n",
    "  # 해당 클러스터에 포함된 데이터 출력\n",
    "  kobert_cluster_data = data.iloc[kobert_cluster_indices][['asset_nm_전처리', 'genre_of_ct_cl']]\n",
    "  print(f\"\\nCluster {cnum}:\")\n",
    "  print(kobert_cluster_data)\n",
    "  print(\"\")\n",
    "\n",
    "  # 클러스터 벡터 추출\n",
    "  kobert_cluster_embeddings = kobert_contexts[kobert_xdata.flatten() == cnum]\n",
    "\n",
    "  # 코사인 유사도 계산\n",
    "  kobert_similarities = cosine_similarity(kobert_cluster_embeddings)\n",
    "\n",
    "  # 히트맵으로 시각화\n",
    "  plt.figure(figsize=(12, 12))\n",
    "  sns.heatmap(kobert_similarities,\n",
    "              # annot=True,\n",
    "              # fmt='.2f',\n",
    "              # annot_kws={'size':8},\n",
    "              cmap='Blues',\n",
    "              square=True,\n",
    "              linewidth=.1)\n",
    "  plt.title(f\"군집 {cnum}의 코사인 유사도 히트맵 시각화\")\n",
    "  plt.show()\n",
    "\n",
    "\n",
    "ipywidgets.interact(kobert_display_cluster_image, cnum=(0, n_clusters-1, 1))\n",
    "# cnum: 해당 클러스터에 포함된 영화 제목 출력"
   ]
  },
  {
   "cell_type": "markdown",
   "metadata": {},
   "source": [
    "<br><br><br><hr>\n",
    "\n",
    "## **✅09. 군집별 빈도수 top10 단어 확인 및 워드클라우드 시각화**\n",
    "- [색상표참고](https://coolhamstersneversleep.tistory.com/entry/Python-%EC%9B%8C%EB%93%9C%ED%81%B4%EB%9D%BC%EC%9A%B0%EB%93%9C-%EC%83%89%EC%83%81%ED%91%9C)"
   ]
  },
  {
   "cell_type": "code",
   "execution_count": 50,
   "metadata": {},
   "outputs": [],
   "source": [
    "# stopwords 가져오기\n",
    "with open('..\\data\\stopwords\\combined_stopwords.txt', 'r', encoding='utf-8') as stopwords_file:\n",
    "    custom_stopwords = stopwords_file.read().splitlines()"
   ]
  },
  {
   "cell_type": "code",
   "execution_count": 51,
   "metadata": {},
   "outputs": [],
   "source": [
    "# 불용어 리스트에 해지, 시청, 가능, 서비스 추가\n",
    "additional_stop_words = ['해지', '시청', '가능', '서비스', '평생', '소장', '시작', '사랑',\n",
    "                         '더', '말', '다시', '사람', '사건', '곳', '없다', '그렇다']\n",
    "custom_stopwords.extend(additional_stop_words)"
   ]
  },
  {
   "cell_type": "code",
   "execution_count": 52,
   "metadata": {},
   "outputs": [],
   "source": [
    "from collections import Counter\n",
    "from konlpy.tag import Okt\n",
    "from wordcloud import WordCloud"
   ]
  },
  {
   "cell_type": "code",
   "execution_count": 53,
   "metadata": {},
   "outputs": [],
   "source": [
    "okt = Okt()"
   ]
  },
  {
   "cell_type": "markdown",
   "metadata": {},
   "source": [
    "<br>\n",
    "\n",
    "### ***KoBART--------------------------------------------------------***"
   ]
  },
  {
   "cell_type": "code",
   "execution_count": 58,
   "metadata": {},
   "outputs": [
    {
     "data": {
      "application/vnd.jupyter.widget-view+json": {
       "model_id": "5002985c94bd4de297cecbd528c13de3",
       "version_major": 2,
       "version_minor": 0
      },
      "text/plain": [
       "interactive(children=(IntSlider(value=0, description='cnum', max=29), Output()), _dom_classes=('widget-interac…"
      ]
     },
     "metadata": {},
     "output_type": "display_data"
    },
    {
     "data": {
      "text/plain": [
       "<function __main__.kobart_display_cluster_info(cnum=0)>"
      ]
     },
     "execution_count": 58,
     "metadata": {},
     "output_type": "execute_result"
    }
   ],
   "source": [
    "def kobart_display_cluster_info(cnum=0):\n",
    "    # 해당 클러스터의 데이터 인덱스 찾기\n",
    "    kobart_cluster_indices = np.where(kobart_xdata == cnum)[0]\n",
    "\n",
    "    # 해당 클러스터 데이터 추출\n",
    "    kobart_cluster_data = data.iloc[kobart_cluster_indices]['summary_최신순']\n",
    "\n",
    "    # 클러스터에 속한 값의 개수 계산\n",
    "    cluster_size = len(kobart_cluster_indices)\n",
    "\n",
    "    # 클러스터 내 모든 줄거리 텍스트를 합치기\n",
    "    kobart_combined_text = \" \".join(kobart_cluster_data)\n",
    "\n",
    "    # Okt로 명사 추출\n",
    "    kobart_nouns = okt.nouns(kobart_combined_text)\n",
    "\n",
    "    # 불용어 제거\n",
    "    filtered_nouns = [noun for noun in kobart_nouns if noun not in custom_stopwords]\n",
    "    \n",
    "    # 명사 빈도 계산\n",
    "    noun_counts = Counter(filtered_nouns)\n",
    "\n",
    "    # 단어가 없는 경우 처리\n",
    "    if not noun_counts:\n",
    "        print(f\"\\nCluster {cnum}: 유효한 단어가 없습니다.\")\n",
    "        return\n",
    "    \n",
    "    # Top 20 명사 추출\n",
    "    top_nouns = noun_counts.most_common(20)\n",
    "\n",
    "    # 결과 출력\n",
    "    print(f\"\\nCluster {cnum}({cluster_size})의 Top 20 명사:\")\n",
    "    for noun, count in top_nouns:\n",
    "        print(f\"{noun}: {count}\")\n",
    "\n",
    "    # 워드클라우드 데이터 생성\n",
    "    wordcloud = WordCloud(\n",
    "        font_path='../etc/D2Coding-Ver1.3.2-20180524.ttf',\n",
    "        width=1000, \n",
    "        height=600, \n",
    "        background_color='white',\n",
    "        colormap='Set2'\n",
    "    ).generate_from_frequencies(noun_counts)\n",
    "\n",
    "    # 워드클라우드 시각화\n",
    "    plt.figure(figsize=(12, 10))\n",
    "    plt.imshow(wordcloud, interpolation=\"bilinear\")\n",
    "    plt.axis('off')\n",
    "    plt.title(f\"KoBART - Cluster {cnum}의 명사 워드클라우드 ({cluster_size})\")\n",
    "    plt.show()\n",
    "    \n",
    "# ipywidgets로 군집 선택\n",
    "ipywidgets.interact(kobart_display_cluster_info, cnum=(0, n_clusters - 1, 1))"
   ]
  },
  {
   "cell_type": "markdown",
   "metadata": {},
   "source": [
    "<br><br><br>\n",
    "\n",
    "### ***KoBERT--------------------------------------------------------***"
   ]
  },
  {
   "cell_type": "code",
   "execution_count": 86,
   "metadata": {},
   "outputs": [
    {
     "data": {
      "application/vnd.jupyter.widget-view+json": {
       "model_id": "38cf89cf56aa4667ae648b7684176003",
       "version_major": 2,
       "version_minor": 0
      },
      "text/plain": [
       "interactive(children=(IntSlider(value=0, description='cnum', max=49), Output()), _dom_classes=('widget-interac…"
      ]
     },
     "metadata": {},
     "output_type": "display_data"
    },
    {
     "data": {
      "text/plain": [
       "<function __main__.kobert_display_cluster_info(cnum=0)>"
      ]
     },
     "execution_count": 86,
     "metadata": {},
     "output_type": "execute_result"
    }
   ],
   "source": [
    "def kobert_display_cluster_info(cnum=0):\n",
    "    # 해당 클러스터의 데이터 인덱스 찾기\n",
    "    kobert_cluster_indices = np.where(kobert_xdata == cnum)[0]\n",
    "\n",
    "    # 해당 클러스터 데이터 추출\n",
    "    kobert_cluster_data = data.iloc[kobert_cluster_indices]['summary_최신순']\n",
    "\n",
    "    # 클러스터에 속한 값의 개수 계산\n",
    "    cluster_size = len(kobert_cluster_indices)\n",
    "\n",
    "    # 클러스터 내 모든 줄거리 텍스트를 합치기\n",
    "    kobert_combined_text = \" \".join(kobert_cluster_data)\n",
    "\n",
    "    # Okt로 명사 추출\n",
    "    kobert_nouns = okt.nouns(kobert_combined_text)\n",
    "\n",
    "    # 불용어 제거\n",
    "    filtered_nouns = [noun for noun in kobert_nouns if noun not in custom_stopwords]\n",
    "    \n",
    "    # 명사 빈도 계산\n",
    "    noun_counts = Counter(filtered_nouns)\n",
    "\n",
    "    # 단어가 없는 경우 처리\n",
    "    if not noun_counts:\n",
    "        print(f\"\\nCluster {cnum}: 유효한 단어가 없습니다.\")\n",
    "        return\n",
    "    \n",
    "    # Top 20 명사 추출\n",
    "    top_nouns = noun_counts.most_common(20)\n",
    "\n",
    "    # 결과 출력\n",
    "    print(f\"\\nCluster {cnum}({cluster_size})의 Top 20 명사:\")\n",
    "    for noun, count in top_nouns:\n",
    "        print(f\"{noun}: {count}\")\n",
    "\n",
    "    # 워드클라우드 데이터 생성\n",
    "    wordcloud = WordCloud(\n",
    "        font_path='../etc/D2Coding-Ver1.3.2-20180524.ttf',\n",
    "        width=1000, \n",
    "        height=600, \n",
    "        background_color='white',\n",
    "        colormap='Set2'\n",
    "    ).generate_from_frequencies(noun_counts)\n",
    "\n",
    "    # 워드클라우드 시각화\n",
    "    plt.figure(figsize=(12, 10))\n",
    "    plt.imshow(wordcloud, interpolation=\"bilinear\")\n",
    "    plt.axis('off')\n",
    "    plt.title(f\"KoBERT - Cluster {cnum}의 명사 워드클라우드 ({cluster_size})\")\n",
    "    plt.show()\n",
    "    \n",
    "# ipywidgets로 군집 선택\n",
    "ipywidgets.interact(kobert_display_cluster_info, cnum=(0, n_clusters - 1, 1))"
   ]
  },
  {
   "cell_type": "markdown",
   "metadata": {},
   "source": [
    "<br><br><br><hr>\n",
    "\n",
    "## **✅+) 형용사를 추가해서 빈도수 확인 및 워드클라우드 시각화**"
   ]
  },
  {
   "cell_type": "markdown",
   "metadata": {},
   "source": [
    "<br><br><br>\n",
    "\n",
    "### ***KoBART--------------------------------------------------------***"
   ]
  },
  {
   "cell_type": "code",
   "execution_count": 55,
   "metadata": {},
   "outputs": [
    {
     "data": {
      "application/vnd.jupyter.widget-view+json": {
       "model_id": "adf8f40a728642a7a858371c85814b97",
       "version_major": 2,
       "version_minor": 0
      },
      "text/plain": [
       "interactive(children=(IntSlider(value=0, description='cnum', max=29), Output()), _dom_classes=('widget-interac…"
      ]
     },
     "metadata": {},
     "output_type": "display_data"
    },
    {
     "data": {
      "text/plain": [
       "<function __main__.kobart_display_cluster_with_adj(cnum=0)>"
      ]
     },
     "execution_count": 55,
     "metadata": {},
     "output_type": "execute_result"
    }
   ],
   "source": [
    "def kobart_display_cluster_with_adj(cnum=0):\n",
    "    kobart_cluster_indices = np.where(kobart_xdata == cnum)[0]\n",
    "    kobart_cluster_data = data.iloc[kobart_cluster_indices]['summary_최신순']\n",
    "    cluster_size = len(kobart_cluster_indices)\n",
    "    kobart_combined_text = \" \".join(kobart_cluster_data)\n",
    "    \n",
    "    # Okt로 명사와 형용사 추출\n",
    "    kobart_pos = okt.pos(kobart_combined_text, norm=True, stem=True)  # 형태소 분석 (표준화 및 어근화)\n",
    "    kobart_words = [word for word, tag in kobart_pos if tag in ['Noun', 'Adjective']]  # 명사와 형용사 필터링\n",
    "\n",
    "    filtered_words = [word for word in kobart_words if word not in custom_stopwords]\n",
    "    word_counts = Counter(filtered_words)\n",
    "    top_words = word_counts.most_common(10)\n",
    "\n",
    "    print(f\"\\nCluster {cnum}({cluster_size})의 Top 10 명사/형용사:\")\n",
    "    for word, count in top_words:\n",
    "        print(f\"{word}: {count}\")\n",
    "\n",
    "    wordcloud = WordCloud(\n",
    "        font_path='../etc/D2Coding-Ver1.3.2-20180524.ttf',\n",
    "        width=1000, \n",
    "        height=600, \n",
    "        background_color='white',\n",
    "        colormap='Set2'\n",
    "    ).generate_from_frequencies(word_counts)\n",
    "\n",
    "    plt.figure(figsize=(12, 10))\n",
    "    plt.imshow(wordcloud, interpolation=\"bilinear\")\n",
    "    plt.axis('off')\n",
    "    plt.title(f\"KoBART - Cluster {cnum}의 명사+형용사 워드클라우드 ({cluster_size})\")\n",
    "    plt.show()\n",
    "    \n",
    "# ipywidgets로 군집 선택\n",
    "ipywidgets.interact(kobart_display_cluster_with_adj, cnum=(0, n_clusters - 1, 1))"
   ]
  },
  {
   "cell_type": "markdown",
   "metadata": {},
   "source": [
    "<br><br><br>\n",
    "\n",
    "### ***KoBERT--------------------------------------------------------***"
   ]
  },
  {
   "cell_type": "code",
   "execution_count": 261,
   "metadata": {},
   "outputs": [
    {
     "data": {
      "application/vnd.jupyter.widget-view+json": {
       "model_id": "8519574ab04e41a6982c9c1a5bef58b3",
       "version_major": 2,
       "version_minor": 0
      },
      "text/plain": [
       "interactive(children=(IntSlider(value=0, description='cnum', max=49), Output()), _dom_classes=('widget-interac…"
      ]
     },
     "metadata": {},
     "output_type": "display_data"
    },
    {
     "data": {
      "text/plain": [
       "<function __main__.kobert_display_cluster_with_adj(cnum=0)>"
      ]
     },
     "execution_count": 261,
     "metadata": {},
     "output_type": "execute_result"
    }
   ],
   "source": [
    "def kobert_display_cluster_with_adj(cnum=0):\n",
    "    kobert_cluster_indices = np.where(kobert_xdata == cnum)[0]\n",
    "    kobert_cluster_data = data.iloc[kobert_cluster_indices]['summary_최신순']\n",
    "    cluster_size = len(kobert_cluster_indices)\n",
    "    kobert_combined_text = \" \".join(kobert_cluster_data)\n",
    "\n",
    "    # Okt로 명사와 형용사 추출\n",
    "    kobert_pos = okt.pos(kobert_combined_text, norm=True, stem=True)  # 형태소 분석 (표준화 및 어근화)\n",
    "    kobert_words = [word for word, tag in kobert_pos if tag in ['Noun', 'Adjective']]  # 명사와 형용사 필터링\n",
    "\n",
    "    filtered_words = [word for word in kobert_words if word not in custom_stopwords]\n",
    "    word_counts = Counter(filtered_words)\n",
    "\n",
    "    # 단어가 없는 경우 처리\n",
    "    if not word_counts:\n",
    "        print(f\"\\nCluster {cnum}: 유효한 단어가 없습니다.\")\n",
    "        return\n",
    "    \n",
    "    top_words = word_counts.most_common(20)\n",
    "\n",
    "    print(f\"\\nCluster {cnum}({cluster_size})의 Top 20 명사/형용사:\")\n",
    "    for word, count in top_words:\n",
    "        print(f\"{word}: {count}\")\n",
    "\n",
    "    wordcloud = WordCloud(\n",
    "        font_path='../etc/D2Coding-Ver1.3.2-20180524.ttf',\n",
    "        width=1000, \n",
    "        height=600, \n",
    "        background_color='white',\n",
    "        colormap='Set2'\n",
    "    ).generate_from_frequencies(word_counts)\n",
    "\n",
    "    plt.figure(figsize=(12, 10))\n",
    "    plt.imshow(wordcloud, interpolation=\"bilinear\")\n",
    "    plt.axis('off')\n",
    "    plt.title(f\"KoBERT - Cluster {cnum}의 명사+형용사 워드클라우드 ({cluster_size})\")\n",
    "    plt.show()\n",
    "    \n",
    "# ipywidgets로 군집 선택\n",
    "ipywidgets.interact(kobert_display_cluster_with_adj, cnum=(0, n_clusters - 1, 1))"
   ]
  },
  {
   "cell_type": "markdown",
   "metadata": {},
   "source": [
    "<br><br><br><hr>\n",
    "\n",
    "## **✅10. 사용자 입력**\n",
    "\n",
    "- 사용자 입력 텍스트를 기반으로 가장 가까운 군집을 찾는 함수 정의\n",
    "- 가장 가까운 군집의 번호와 해당 군집과의 거리 (유사도) return"
   ]
  },
  {
   "cell_type": "code",
   "execution_count": 56,
   "metadata": {},
   "outputs": [],
   "source": [
    "def find_closest_cluster(user_input, tokenizer, centroids, xdata, data):\n",
    "    # 1. 사용자 입력값 토크나이징\n",
    "    inputs = tokenizer([user_input], return_tensors='pt')\n",
    "  \n",
    "    # 모델을 통해 임베딩 벡터 생성\n",
    "    outputs = kobart_model(inputs['input_ids'], attention_mask=inputs['attention_mask'])\n",
    "\n",
    "    # 첫 번째 토큰의 벡터를 저장\n",
    "    user_vector = outputs.encoder_last_hidden_state.detach().numpy()[0, 0, :]\n",
    "\n",
    "    # 군집 중심점과 사용자 입력 벡터 간 코사인 유사도 계산\n",
    "    similarities = cosine_similarity([user_vector], centroids)\n",
    "\n",
    "    # 가장 가까운 군집 찾기\n",
    "    closest_cluster = np.argmax(similarities)\n",
    "    closest_similarity = np.max(similarities)\n",
    "\n",
    "    # 가장 가까운 군집에 속한 영화 제목 가져오기\n",
    "    cluster_indices = np.where(xdata == closest_cluster)[0]\n",
    "    cluster_titles = data.iloc[cluster_indices]['asset_nm_전처리']\n",
    "\n",
    "    # 랜덤으로 10개의 영화 제목 선택\n",
    "    random_titles = cluster_titles.sample(n=min(10, len(cluster_titles))).tolist()\n",
    "\n",
    "    # 결과 출력\n",
    "    print(f\"가장 가까운 군집: Cluster {closest_cluster}\")\n",
    "    print(f\"유사도: {closest_similarity:.4f}\")\n",
    "    print(f\"\\n{closest_cluster}번 군집에 속한 영화:\")\n",
    "    for title in random_titles:\n",
    "        print(f\"- {title}\")"
   ]
  },
  {
   "cell_type": "code",
   "execution_count": 57,
   "metadata": {},
   "outputs": [
    {
     "name": "stdout",
     "output_type": "stream",
     "text": [
      "가장 가까운 군집: Cluster 20\n",
      "유사도: 0.6466\n",
      "\n",
      "20번 군집에 속한 영화:\n",
      "- 10일간의 애인\n",
      "- 원 세컨드\n",
      "- 블랙 앤 블루\n",
      "- 허황옥 3일, 잃어버린 2천 년의 기억\n",
      "- 인질\n",
      "- 엔젤 해즈 폴른\n",
      "- 지옥만세\n",
      "- 49\n",
      "- 시카다 3301\n",
      "- 택시운전사\n"
     ]
    }
   ],
   "source": [
    "user_input = \"미국 뉴욕 배경의 스파이 영화\"\n",
    "\n",
    "find_closest_cluster(\n",
    "    user_input=user_input, \n",
    "    tokenizer=kobart_tokenizer, \n",
    "    centroids=clt.cluster_centers_,\n",
    "    xdata=kobart_xdata, \n",
    "    data=data\n",
    ")"
   ]
  },
  {
   "cell_type": "code",
   "execution_count": 121,
   "metadata": {},
   "outputs": [
    {
     "data": {
      "text/html": [
       "<div>\n",
       "<style scoped>\n",
       "    .dataframe tbody tr th:only-of-type {\n",
       "        vertical-align: middle;\n",
       "    }\n",
       "\n",
       "    .dataframe tbody tr th {\n",
       "        vertical-align: top;\n",
       "    }\n",
       "\n",
       "    .dataframe thead th {\n",
       "        text-align: right;\n",
       "    }\n",
       "</style>\n",
       "<table border=\"1\" class=\"dataframe\">\n",
       "  <thead>\n",
       "    <tr style=\"text-align: right;\">\n",
       "      <th></th>\n",
       "      <th>asset_nm_전처리</th>\n",
       "      <th>genre_of_ct_cl</th>\n",
       "      <th>summary_최신순</th>\n",
       "    </tr>\n",
       "  </thead>\n",
       "  <tbody>\n",
       "    <tr>\n",
       "      <th>3361</th>\n",
       "      <td>스트레스 제로</td>\n",
       "      <td>애니메이션</td>\n",
       "      <td>어느 날 도심 곳곳에 정체를 알 수 없는 거대한 불괴물이 나타나 대한민국은 혼란에 빠진다 불괴물의 습격으로 졸지에 직장을 잃은 짱돌은 친구 고박사 타조와 함께 스트레스 제로를 팔아 백수 탈출을 하고자 하지만 이 음료가 바로 불괴물을 막을 수 있는 유일한 비밀임을 알게 되는데 갑자기 히어로가 된 아빠 짱돌과 친구들은 과연 불괴물을 잡고 세상을 구할 수 있을까</td>\n",
       "    </tr>\n",
       "  </tbody>\n",
       "</table>\n",
       "</div>"
      ],
      "text/plain": [
       "     asset_nm_전처리 genre_of_ct_cl  \\\n",
       "3361      스트레스 제로          애니메이션   \n",
       "\n",
       "                                                                                                                                                                                                   summary_최신순  \n",
       "3361  어느 날 도심 곳곳에 정체를 알 수 없는 거대한 불괴물이 나타나 대한민국은 혼란에 빠진다 불괴물의 습격으로 졸지에 직장을 잃은 짱돌은 친구 고박사 타조와 함께 스트레스 제로를 팔아 백수 탈출을 하고자 하지만 이 음료가 바로 불괴물을 막을 수 있는 유일한 비밀임을 알게 되는데 갑자기 히어로가 된 아빠 짱돌과 친구들은 과연 불괴물을 잡고 세상을 구할 수 있을까  "
      ]
     },
     "execution_count": 121,
     "metadata": {},
     "output_type": "execute_result"
    }
   ],
   "source": [
    "pd.options.display.max_colwidth = None\n",
    "\n",
    "data[data['asset_nm_전처리']=='스트레스 제로']"
   ]
  },
  {
   "cell_type": "markdown",
   "metadata": {},
   "source": [
    "<hr>\n",
    "\n",
    "#### *줄거리 TEST*  \n",
    "\"마을에서 일어난 미스터리한 살인 사건.\"  \n",
    "\"소년이 꿈을 찾아 떠나는 이야기.\"  \n",
    "\"우주의 침략자들과의 대결.\"  \n",
    "\"작은 마을의 따뜻한 가족 이야기.\"  \n",
    "\"사랑과 전쟁 사이에 놓인 두 연인의 운명.\"  \n",
    "\n",
    "\"어느 날 갑자기 나타난 외계인으로 인해 세계가 혼란에 빠진다. 주인공은 이를 막기 위해 노력한다.\"  \n",
    "\"한 소녀가 과거의 비밀을 찾아 떠나며 성장하는 과정을 그린 감동적인 이야기.\"  \n",
    "\"도시에서 벌어진 연쇄 살인 사건을 추적하는 형사와 그의 파트너.\"  \n",
    "\"과학자가 시간 여행을 가능하게 만들며 벌어지는 모험과 위기.\"  \n",
    "\"전설적인 검사가 법정에서 부패를 폭로하며 위협을 무릅쓰는 이야기.\"  \n",
    "\"거대한 로봇들이 지구를 침공하자, 사람들은 이를 막기 위해 힘을 합친다.\"  \n",
    "\"비밀스러운 섬에서 일어난 사건과 이를 해결하려는 탐정의 이야기.\"  \n",
    "\"어느 시골 마을에서 일어난 귀신의 전설과 이를 조사하는 사람들.\"  \n",
    "\"자신의 정체성을 찾아 떠나는 한 청년의 감동적인 여정.\"  \n",
    "\"왕국을 구하기 위해 모험에 나선 용감한 기사와 그의 동료들.\"   "
   ]
  },
  {
   "cell_type": "code",
   "execution_count": null,
   "metadata": {},
   "outputs": [],
   "source": []
  }
 ],
 "metadata": {
  "kernelspec": {
   "display_name": "Python 3 (ipykernel)",
   "language": "python",
   "name": "python3"
  },
  "language_info": {
   "codemirror_mode": {
    "name": "ipython",
    "version": 3
   },
   "file_extension": ".py",
   "mimetype": "text/x-python",
   "name": "python",
   "nbconvert_exporter": "python",
   "pygments_lexer": "ipython3",
   "version": "3.11.9"
  }
 },
 "nbformat": 4,
 "nbformat_minor": 4
}
