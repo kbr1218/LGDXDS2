{
 "cells": [
  {
   "cell_type": "markdown",
   "id": "60325567",
   "metadata": {},
   "source": [
    "# Modeling Test #1\n",
    "### 사용자 입력값 + VOD 줄거리"
   ]
  },
  {
   "cell_type": "markdown",
   "id": "25269705",
   "metadata": {},
   "source": [
    "<br><hr>\n",
    "\n",
    "## 00. 기본 설정"
   ]
  },
  {
   "cell_type": "code",
   "execution_count": 2,
   "id": "fc973670",
   "metadata": {},
   "outputs": [],
   "source": [
    "import pandas as pd\n",
    "import numpy as np\n",
    "import matplotlib.pyplot as plt\n",
    "import seaborn as sns\n",
    "\n",
    "import google.generativeai as genai\n",
    "import typing_extensions as typing\n",
    "from dotenv import load_dotenv\n",
    "import os\n",
    "\n",
    "import json\n",
    "\n",
    "# 경고 메시지 출력 X\n",
    "import warnings\n",
    "warnings.filterwarnings(\"ignore\")"
   ]
  },
  {
   "cell_type": "code",
   "execution_count": 3,
   "id": "c3c92585",
   "metadata": {},
   "outputs": [],
   "source": [
    "# 한글 font 설정\n",
    "import platform\n",
    "import matplotlib.font_manager as fm\n",
    "\n",
    "#matplotlib 패키지 한글 깨짐 처리 시작\n",
    "#------------------------------------------------------------------------------------\n",
    "# 운영체제별 한글 폰트 설정\n",
    "\n",
    "if platform.system() == 'Darwin': # Mac 환경 폰트 설정\n",
    "    plt.rc('font', family='AppleGothic')\n",
    "elif platform.system() == 'Windows': # Windows 환경 폰트 설정\n",
    "    plt.rc('font', family='Malgun Gothic')\n",
    "    \n",
    "plt.rcParams['axes.unicode_minus'] = False #한글 폰트 사용시 마이너스 폰트 깨짐 해결"
   ]
  },
  {
   "cell_type": "code",
   "execution_count": 4,
   "id": "226e04f3",
   "metadata": {},
   "outputs": [],
   "source": [
    "# 글씨 선명하게 출력하는 설정\n",
    "\n",
    "from IPython.display import set_matplotlib_formats\n",
    "set_matplotlib_formats(\"retina\")"
   ]
  },
  {
   "cell_type": "markdown",
   "id": "e3844e16",
   "metadata": {},
   "source": [
    "<br><br><hr>\n",
    "\n",
    "## 01. Gemini API 환경설정 및 초기화"
   ]
  },
  {
   "cell_type": "code",
   "execution_count": 1,
   "id": "fe80840b",
   "metadata": {},
   "outputs": [
    {
     "ename": "NameError",
     "evalue": "name 'load_dotenv' is not defined",
     "output_type": "error",
     "traceback": [
      "\u001b[1;31m---------------------------------------------------------------------------\u001b[0m",
      "\u001b[1;31mNameError\u001b[0m                                 Traceback (most recent call last)",
      "Cell \u001b[1;32mIn[1], line 2\u001b[0m\n\u001b[0;32m      1\u001b[0m \u001b[38;5;66;03m# .env 파일에서 Gemini API Key 가져오기\u001b[39;00m\n\u001b[1;32m----> 2\u001b[0m \u001b[43mload_dotenv\u001b[49m()\n\u001b[0;32m      3\u001b[0m Gemini_API_KEY \u001b[38;5;241m=\u001b[39m os\u001b[38;5;241m.\u001b[39menviron\u001b[38;5;241m.\u001b[39mget(\u001b[38;5;124m'\u001b[39m\u001b[38;5;124mAPI_KEY_GEMINI\u001b[39m\u001b[38;5;124m'\u001b[39m)\n",
      "\u001b[1;31mNameError\u001b[0m: name 'load_dotenv' is not defined"
     ]
    }
   ],
   "source": [
    "# .env 파일에서 Gemini API Key 가져오기\n",
    "load_dotenv()\n",
    "Gemini_API_KEY = os.environ.get('API_KEY_GEMINI')"
   ]
  },
  {
   "cell_type": "code",
   "execution_count": 6,
   "id": "cd5d67f9",
   "metadata": {},
   "outputs": [],
   "source": [
    "# gemini API key 및 model 설정\n",
    "genai.configure(api_key=Gemini_API_KEY)\n",
    "model = genai.GenerativeModel('gemini-1.5-flash')"
   ]
  },
  {
   "cell_type": "markdown",
   "id": "95ebe4a2",
   "metadata": {},
   "source": [
    "<br><br><hr>\n",
    "\n",
    "## 02. 사용자 입력 키워드 추출 w/ Gemini"
   ]
  },
  {
   "cell_type": "code",
   "execution_count": 7,
   "id": "2b06fc72",
   "metadata": {},
   "outputs": [],
   "source": [
    "# 응답으로 받을 JSON 형식 정의\n",
    "class Keyword(typing.TypedDict):\n",
    "  user_id: int                    # 사용자를 구분하기 위한 셋톱박스ID\n",
    "  keywords: list[str]             # 키워드를 리스트에 저장 "
   ]
  },
  {
   "cell_type": "code",
   "execution_count": 8,
   "id": "577e9231",
   "metadata": {},
   "outputs": [],
   "source": [
    "# 사용자 입력 텍스트에서 키워드를 추출하는 함수 정의\n",
    "def extract_keywords(user_input, user_id):\n",
    "\n",
    "  # model.generate_content 메서드로 Gemini에게 사용자 입력 텍스트 전달 \n",
    "  response = model.generate_content(\n",
    "    # 전달된 prompt에는 사용자ID와 사용자의 채팅이 포함됨\n",
    "    f\"\"\"\n",
    "    사용자ID: {user_id}\n",
    "    문장: \"{user_input}\"\n",
    "    위의 입력에서 주요 키워드를 추출하여 다음 JSON 스키마에 맞게 반환하세요:\n",
    "    \"\"\",\n",
    "    \n",
    "    generation_config=genai.GenerationConfig(   # 응답 형식 지정\n",
    "      response_mime_type=\"application/json\",    # JSON 형식으로 응답을 받기 위한 설정\n",
    "      response_schema=Keyword                   # 응답이 위에서 정의한 Keyword의 구조를 따르도록 함\n",
    "    ),\n",
    "  )\n",
    "\n",
    "  # 결과 텍스트 파싱\n",
    "  try:\n",
    "    # 반환된 텍스트에서 JSON 데이터 추출\n",
    "    raw_response = response.candidates[0].content.parts[0].text\n",
    "\n",
    "    # 텍스트는 JSON 형식으로 되어있으므로 json.loads를 사용하여 dict. 자료형으로 변환하여 parsed_response 변수에 저장\n",
    "    parsed_response = json.loads(raw_response)\n",
    "\n",
    "    # user_id와 keywords 추출하여 변수에 저장\n",
    "    user_id = parsed_response.get(\"user_id\", None)\n",
    "    keywords = parsed_response.get(\"keywords\", [])\n",
    "\n",
    "    # 결과를 형식화하여 반환\n",
    "    result_text = f\"{user_id}: {keywords}\"\n",
    "    return result_text\n",
    "  \n",
    "  # 예외처리\n",
    "  except Exception as e:\n",
    "    print(f\"Error parsing response: {e}\")\n",
    "    return None"
   ]
  },
  {
   "cell_type": "code",
   "execution_count": 10,
   "id": "9d0758ed",
   "metadata": {},
   "outputs": [
    {
     "name": "stdout",
     "output_type": "stream",
     "text": [
      "사용자 입력: 킬링타임용 영화를 추천해줘\n",
      "123456: ['킬링타임', '영화', '추천']\n"
     ]
    }
   ],
   "source": [
    "# 사용자 입력값\n",
    "user_input = \"킬링타임용 영화를 추천해줘\"\n",
    "# extract_keywords함수 호출\n",
    "keywords = extract_keywords(user_input, user_id=123456)\n",
    "\n",
    "print(\"사용자 입력:\", user_input)\n",
    "print(keywords)"
   ]
  },
  {
   "cell_type": "markdown",
   "id": "4c2b7ed2",
   "metadata": {},
   "source": [
    "<br><br><hr>\n",
    "\n",
    "## 03. 영화 데이터 로드"
   ]
  },
  {
   "cell_type": "code",
   "execution_count": 11,
   "id": "05c380a2",
   "metadata": {},
   "outputs": [
    {
     "name": "stdout",
     "output_type": "stream",
     "text": [
      "(4241, 6)\n"
     ]
    },
    {
     "data": {
      "text/html": [
       "<div>\n",
       "<style scoped>\n",
       "    .dataframe tbody tr th:only-of-type {\n",
       "        vertical-align: middle;\n",
       "    }\n",
       "\n",
       "    .dataframe tbody tr th {\n",
       "        vertical-align: top;\n",
       "    }\n",
       "\n",
       "    .dataframe thead th {\n",
       "        text-align: right;\n",
       "    }\n",
       "</style>\n",
       "<table border=\"1\" class=\"dataframe\">\n",
       "  <thead>\n",
       "    <tr style=\"text-align: right;\">\n",
       "      <th></th>\n",
       "      <th>asset_nm_전처리</th>\n",
       "      <th>ct_cl</th>\n",
       "      <th>genre_of_ct_cl</th>\n",
       "      <th>summary_최신순</th>\n",
       "      <th>최신순</th>\n",
       "      <th>genre_tmdb</th>\n",
       "    </tr>\n",
       "  </thead>\n",
       "  <tbody>\n",
       "    <tr>\n",
       "      <th>0</th>\n",
       "      <td>귀멸의 칼날: 남매의 연</td>\n",
       "      <td>영화</td>\n",
       "      <td>애니메이션</td>\n",
       "      <td>혈귀의 습격으로 가족을 잃은 소년 ‘탄지로’. 유일하게 살아남은 여동생 ‘네즈코’마...</td>\n",
       "      <td>2019-03-29</td>\n",
       "      <td>Animation, Action, Fantasy, Thriller</td>\n",
       "    </tr>\n",
       "    <tr>\n",
       "      <th>1</th>\n",
       "      <td>색에 놀다</td>\n",
       "      <td>영화</td>\n",
       "      <td>에로틱</td>\n",
       "      <td>하얀 색의 순수하고 착한 사랑을 꿈꾸는 25살 모태 솔로 지수. 그녀의 짝사랑 상대...</td>\n",
       "      <td>2017-01-01</td>\n",
       "      <td>Thriller, Drama, Romance</td>\n",
       "    </tr>\n",
       "    <tr>\n",
       "      <th>2</th>\n",
       "      <td>돌이킬 수 없는 주말</td>\n",
       "      <td>영화</td>\n",
       "      <td>공포/스릴러</td>\n",
       "      <td>베키는 결혼을 앞두고 친구 수잔과 함께 다트무어로 여행을 떠난다. 그곳에서 신비한 ...</td>\n",
       "      <td>2015-09-18</td>\n",
       "      <td>Drama, Horror, Mystery</td>\n",
       "    </tr>\n",
       "  </tbody>\n",
       "</table>\n",
       "</div>"
      ],
      "text/plain": [
       "    asset_nm_전처리 ct_cl genre_of_ct_cl  \\\n",
       "0  귀멸의 칼날: 남매의 연    영화          애니메이션   \n",
       "1          색에 놀다    영화            에로틱   \n",
       "2    돌이킬 수 없는 주말    영화         공포/스릴러   \n",
       "\n",
       "                                         summary_최신순         최신순  \\\n",
       "0  혈귀의 습격으로 가족을 잃은 소년 ‘탄지로’. 유일하게 살아남은 여동생 ‘네즈코’마...  2019-03-29   \n",
       "1  하얀 색의 순수하고 착한 사랑을 꿈꾸는 25살 모태 솔로 지수. 그녀의 짝사랑 상대...  2017-01-01   \n",
       "2  베키는 결혼을 앞두고 친구 수잔과 함께 다트무어로 여행을 떠난다. 그곳에서 신비한 ...  2015-09-18   \n",
       "\n",
       "                             genre_tmdb  \n",
       "0  Animation, Action, Fantasy, Thriller  \n",
       "1              Thriller, Drama, Romance  \n",
       "2                Drama, Horror, Mystery  "
      ]
     },
     "execution_count": 11,
     "metadata": {},
     "output_type": "execute_result"
    }
   ],
   "source": [
    "movies = pd.read_csv('..\\data\\movies_4000_tmdb_genre.csv')\n",
    "print(movies.shape)   # (4241, 6)\n",
    "movies.head(3)"
   ]
  },
  {
   "cell_type": "code",
   "execution_count": 12,
   "id": "6e4ec846",
   "metadata": {},
   "outputs": [
    {
     "data": {
      "text/plain": [
       "genre_of_ct_cl\n",
       "드라마        1011\n",
       "액션/어드벤쳐     977\n",
       "공포/스릴러      639\n",
       "성인          340\n",
       "멜로          329\n",
       "코미디         265\n",
       "애니메이션       169\n",
       "SF/환타지      159\n",
       "다큐멘터리       126\n",
       "기타           88\n",
       "무협           37\n",
       "로맨틱코미디       37\n",
       "에로틱          35\n",
       "단편           12\n",
       "서부            7\n",
       "뮤지컬           6\n",
       "역사            2\n",
       "인물            2\n",
       "Name: count, dtype: int64"
      ]
     },
     "execution_count": 12,
     "metadata": {},
     "output_type": "execute_result"
    }
   ],
   "source": [
    "movies['genre_of_ct_cl'].value_counts()"
   ]
  },
  {
   "cell_type": "markdown",
   "id": "2397018c",
   "metadata": {},
   "source": [
    "##### *>> 장르가 '성인' 또는 '기타'인 행와 장르의 value_counts가 40개 미만인 행은 삭제*"
   ]
  },
  {
   "cell_type": "code",
   "execution_count": 13,
   "id": "8f0c79a9",
   "metadata": {},
   "outputs": [],
   "source": [
    "# 각 장르의 수 를 genre_counts 변수에 저장\n",
    "genre_counts = movies['genre_of_ct_cl'].value_counts()"
   ]
  },
  {
   "cell_type": "code",
   "execution_count": 14,
   "id": "3160acf3",
   "metadata": {},
   "outputs": [],
   "source": [
    "# 삭제할 조건 생성\n",
    "delete_conditions = (movies['genre_of_ct_cl'] == '성인') | (movies['genre_of_ct_cl'] == '기타') | (movies['genre_of_ct_cl'].isin(genre_counts[genre_counts < 40].index))\n",
    "filtered_movies = movies[~delete_conditions]"
   ]
  },
  {
   "cell_type": "code",
   "execution_count": 15,
   "id": "c3c1a270",
   "metadata": {},
   "outputs": [
    {
     "name": "stdout",
     "output_type": "stream",
     "text": [
      "(3675, 6)\n"
     ]
    },
    {
     "data": {
      "text/plain": [
       "genre_of_ct_cl\n",
       "드라마        1011\n",
       "액션/어드벤쳐     977\n",
       "공포/스릴러      639\n",
       "멜로          329\n",
       "코미디         265\n",
       "애니메이션       169\n",
       "SF/환타지      159\n",
       "다큐멘터리       126\n",
       "Name: count, dtype: int64"
      ]
     },
     "execution_count": 15,
     "metadata": {},
     "output_type": "execute_result"
    }
   ],
   "source": [
    "# 결과 확인\n",
    "print(filtered_movies.shape)\n",
    "filtered_movies['genre_of_ct_cl'].value_counts()\n",
    "\n",
    "### (4241, 6) >> (3675, 6) >> 566개의 행 삭제"
   ]
  },
  {
   "cell_type": "markdown",
   "id": "6083d8af",
   "metadata": {},
   "source": [
    "##### *>> 사용하지 않을 열 drop*"
   ]
  },
  {
   "cell_type": "code",
   "execution_count": 16,
   "id": "433b293e",
   "metadata": {},
   "outputs": [
    {
     "data": {
      "text/html": [
       "<div>\n",
       "<style scoped>\n",
       "    .dataframe tbody tr th:only-of-type {\n",
       "        vertical-align: middle;\n",
       "    }\n",
       "\n",
       "    .dataframe tbody tr th {\n",
       "        vertical-align: top;\n",
       "    }\n",
       "\n",
       "    .dataframe thead th {\n",
       "        text-align: right;\n",
       "    }\n",
       "</style>\n",
       "<table border=\"1\" class=\"dataframe\">\n",
       "  <thead>\n",
       "    <tr style=\"text-align: right;\">\n",
       "      <th></th>\n",
       "      <th>asset_nm_전처리</th>\n",
       "      <th>genre_of_ct_cl</th>\n",
       "      <th>summary_최신순</th>\n",
       "    </tr>\n",
       "  </thead>\n",
       "  <tbody>\n",
       "    <tr>\n",
       "      <th>0</th>\n",
       "      <td>귀멸의 칼날: 남매의 연</td>\n",
       "      <td>애니메이션</td>\n",
       "      <td>혈귀의 습격으로 가족을 잃은 소년 ‘탄지로’. 유일하게 살아남은 여동생 ‘네즈코’마...</td>\n",
       "    </tr>\n",
       "    <tr>\n",
       "      <th>2</th>\n",
       "      <td>돌이킬 수 없는 주말</td>\n",
       "      <td>공포/스릴러</td>\n",
       "      <td>베키는 결혼을 앞두고 친구 수잔과 함께 다트무어로 여행을 떠난다. 그곳에서 신비한 ...</td>\n",
       "    </tr>\n",
       "    <tr>\n",
       "      <th>3</th>\n",
       "      <td>섹스 앤 머니</td>\n",
       "      <td>액션/어드벤쳐</td>\n",
       "      <td>갱단 두목 페페는 라이벌 갱단 두목 조조와 세력 다툼을 벌이다 쫓기는 신세가 된다....</td>\n",
       "    </tr>\n",
       "  </tbody>\n",
       "</table>\n",
       "</div>"
      ],
      "text/plain": [
       "    asset_nm_전처리 genre_of_ct_cl  \\\n",
       "0  귀멸의 칼날: 남매의 연          애니메이션   \n",
       "2    돌이킬 수 없는 주말         공포/스릴러   \n",
       "3        섹스 앤 머니        액션/어드벤쳐   \n",
       "\n",
       "                                         summary_최신순  \n",
       "0  혈귀의 습격으로 가족을 잃은 소년 ‘탄지로’. 유일하게 살아남은 여동생 ‘네즈코’마...  \n",
       "2  베키는 결혼을 앞두고 친구 수잔과 함께 다트무어로 여행을 떠난다. 그곳에서 신비한 ...  \n",
       "3  갱단 두목 페페는 라이벌 갱단 두목 조조와 세력 다툼을 벌이다 쫓기는 신세가 된다....  "
      ]
     },
     "execution_count": 16,
     "metadata": {},
     "output_type": "execute_result"
    }
   ],
   "source": [
    "col_to_drop = ['ct_cl', '최신순', 'genre_tmdb']\n",
    "drop_movies = filtered_movies.drop(columns=col_to_drop, axis=1)\n",
    "\n",
    "drop_movies.head(3)"
   ]
  },
  {
   "cell_type": "markdown",
   "id": "3565b836",
   "metadata": {},
   "source": [
    "<br><br><hr>\n",
    "\n",
    "## 04. 영화 줄거리 벡터화\n",
    "\n",
    "##### *a. 텍스트 임베딩 생성 (w/ SBERT | OpenAI Embedding API)*"
   ]
  },
  {
   "cell_type": "code",
   "execution_count": 17,
   "id": "525c07ee",
   "metadata": {},
   "outputs": [],
   "source": [
    "import faiss\n",
    "from sentence_transformers import SentenceTransformer"
   ]
  },
  {
   "cell_type": "code",
   "execution_count": 33,
   "id": "5f890604",
   "metadata": {},
   "outputs": [
    {
     "data": {
      "application/vnd.jupyter.widget-view+json": {
       "model_id": "aa1da156968e4ac982c359c3d87ffa70",
       "version_major": 2,
       "version_minor": 0
      },
      "text/plain": [
       "modules.json:   0%|          | 0.00/229 [00:00<?, ?B/s]"
      ]
     },
     "metadata": {},
     "output_type": "display_data"
    },
    {
     "data": {
      "application/vnd.jupyter.widget-view+json": {
       "model_id": "6fb5f995e5f949faa98d77ab44f5b379",
       "version_major": 2,
       "version_minor": 0
      },
      "text/plain": [
       "config_sentence_transformers.json:   0%|          | 0.00/122 [00:00<?, ?B/s]"
      ]
     },
     "metadata": {},
     "output_type": "display_data"
    },
    {
     "data": {
      "application/vnd.jupyter.widget-view+json": {
       "model_id": "907830fc859e4dac961b883b635acb86",
       "version_major": 2,
       "version_minor": 0
      },
      "text/plain": [
       "README.md:   0%|          | 0.00/4.12k [00:00<?, ?B/s]"
      ]
     },
     "metadata": {},
     "output_type": "display_data"
    },
    {
     "data": {
      "application/vnd.jupyter.widget-view+json": {
       "model_id": "afdc6963b3834df08abbbef75ded56e0",
       "version_major": 2,
       "version_minor": 0
      },
      "text/plain": [
       "sentence_bert_config.json:   0%|          | 0.00/53.0 [00:00<?, ?B/s]"
      ]
     },
     "metadata": {},
     "output_type": "display_data"
    },
    {
     "data": {
      "application/vnd.jupyter.widget-view+json": {
       "model_id": "fe0b4773a6854e7fbd886eac56f5b573",
       "version_major": 2,
       "version_minor": 0
      },
      "text/plain": [
       "config.json:   0%|          | 0.00/645 [00:00<?, ?B/s]"
      ]
     },
     "metadata": {},
     "output_type": "display_data"
    },
    {
     "data": {
      "application/vnd.jupyter.widget-view+json": {
       "model_id": "187c685e52644ee4bcdab6d8799bff15",
       "version_major": 2,
       "version_minor": 0
      },
      "text/plain": [
       "model.safetensors:   0%|          | 0.00/471M [00:00<?, ?B/s]"
      ]
     },
     "metadata": {},
     "output_type": "display_data"
    },
    {
     "data": {
      "application/vnd.jupyter.widget-view+json": {
       "model_id": "7c8d82bd57814193a832327078d25e54",
       "version_major": 2,
       "version_minor": 0
      },
      "text/plain": [
       "tokenizer_config.json:   0%|          | 0.00/480 [00:00<?, ?B/s]"
      ]
     },
     "metadata": {},
     "output_type": "display_data"
    },
    {
     "data": {
      "application/vnd.jupyter.widget-view+json": {
       "model_id": "cd29d59f36384b5aad82145114d67c2a",
       "version_major": 2,
       "version_minor": 0
      },
      "text/plain": [
       "tokenizer.json:   0%|          | 0.00/9.08M [00:00<?, ?B/s]"
      ]
     },
     "metadata": {},
     "output_type": "display_data"
    },
    {
     "data": {
      "application/vnd.jupyter.widget-view+json": {
       "model_id": "d22c3aea3700458484ca9eefc1859686",
       "version_major": 2,
       "version_minor": 0
      },
      "text/plain": [
       "special_tokens_map.json:   0%|          | 0.00/239 [00:00<?, ?B/s]"
      ]
     },
     "metadata": {},
     "output_type": "display_data"
    },
    {
     "data": {
      "application/vnd.jupyter.widget-view+json": {
       "model_id": "f489ea8ba1f145a79a2544c5dac77d32",
       "version_major": 2,
       "version_minor": 0
      },
      "text/plain": [
       "1_Pooling/config.json:   0%|          | 0.00/190 [00:00<?, ?B/s]"
      ]
     },
     "metadata": {},
     "output_type": "display_data"
    }
   ],
   "source": [
    "# 1. 텍스트를 임베딩(숫자 벡터)로 변환하기 위한 모델 로드 (Sentence-BERT)\n",
    "# embedding_model = SentenceTransformer('all-MiniLM-L6-v2')\n",
    "\n",
    "# 임베딩 모델 출처: https://huggingface.co/sentence-transformers/paraphrase-multilingual-MiniLM-L12-v2\n",
    "embedding_model = SentenceTransformer('paraphrase-multilingual-MiniLM-L12-v2')"
   ]
  },
  {
   "cell_type": "code",
   "execution_count": 34,
   "id": "8e37fbb3",
   "metadata": {},
   "outputs": [
    {
     "data": {
      "application/vnd.jupyter.widget-view+json": {
       "model_id": "573c75e0cf0c4baca6de2d8c7b57e188",
       "version_major": 2,
       "version_minor": 0
      },
      "text/plain": [
       "Batches:   0%|          | 0/115 [00:00<?, ?it/s]"
      ]
     },
     "metadata": {},
     "output_type": "display_data"
    },
    {
     "data": {
      "text/plain": [
       "array([[-0.01222587,  0.26877487, -0.03638799, ..., -0.02020498,\n",
       "         0.08367279, -0.07963274],\n",
       "       [ 0.06627268, -0.10923017, -0.00191216, ..., -0.04519046,\n",
       "        -0.13687882, -0.10875412],\n",
       "       [-0.00652586,  0.14733294,  0.00066011, ...,  0.06406496,\n",
       "         0.01523128,  0.05121128],\n",
       "       ...,\n",
       "       [ 0.05330199,  0.06797754, -0.48861244, ...,  0.07119494,\n",
       "        -0.13342021,  0.14347412],\n",
       "       [ 0.04077281,  0.17732199, -0.14524025, ..., -0.12641034,\n",
       "         0.17938673,  0.07783416],\n",
       "       [ 0.19016382,  0.144844  ,  0.02407256, ...,  0.09320447,\n",
       "        -0.14046723,  0.16669984]], shape=(3675, 384), dtype=float32)"
      ]
     },
     "execution_count": 34,
     "metadata": {},
     "output_type": "execute_result"
    }
   ],
   "source": [
    "# 2. 영화 데이터 줄거리 ('summary_최신순') 벡터화\n",
    "\n",
    "# 각 영화의 줄거리를 리스트로 가져와서 >> 각 줄거리를 고정된 크기의 벡터로 변환하여 movie_embeddings 변수에 저장 \n",
    "movie_embeddings = embedding_model.encode(drop_movies['summary_최신순'].tolist(), show_progress_bar=True)\n",
    "\n",
    "# FAISS에서 처리 가능하도록 벡터를 float32 형식으로 변환\n",
    "movie_embeddings = np.array(movie_embeddings).astype('float32')\n",
    "movie_embeddings"
   ]
  },
  {
   "cell_type": "code",
   "execution_count": 36,
   "id": "6a985e09",
   "metadata": {},
   "outputs": [
    {
     "name": "stdout",
     "output_type": "stream",
     "text": [
      "384\n"
     ]
    }
   ],
   "source": [
    "# 3. Faiss로 벡터 색인화 (정렬)\n",
    "dimension = movie_embeddings.shape[1]        # 임베딩 벡터의 차원 수 확인\n",
    "print(dimension)                             # >> 384차원"
   ]
  },
  {
   "cell_type": "code",
   "execution_count": 40,
   "id": "918f9c0f",
   "metadata": {},
   "outputs": [
    {
     "name": "stdout",
     "output_type": "stream",
     "text": [
      "FAISS Index에 3675개의 영화 벡터 추가\n"
     ]
    }
   ],
   "source": [
    "# 4-1. 코사인 거리 기반 유사도 측정\n",
    "index_cos = faiss.IndexFlatIP(dimension)\n",
    "faiss.normalize_L2(movie_embeddings)         # 인덱스를 생성하기 전 정규화\n",
    "index_cos.add(movie_embeddings)              # 정규화를 한 후 add\n",
    "print(f\"FAISS Index에 {index_cos.ntotal}개의 영화 벡터 추가\")"
   ]
  },
  {
   "cell_type": "code",
   "execution_count": 39,
   "id": "b98699b5",
   "metadata": {},
   "outputs": [
    {
     "name": "stdout",
     "output_type": "stream",
     "text": [
      "FAISS Index에 3675개의 영화 벡터 추가\n"
     ]
    }
   ],
   "source": [
    "# 4-2. 유클리디안 거리 기반 유사도 측정\n",
    "index_l2 = faiss.IndexFlatL2(dimension)      # 얘는 굳이 정규화하지 않고\n",
    "index_l2.add(movie_embeddings)               # 바로 add\n",
    "print(f\"FAISS Index에 {index_l2.ntotal}개의 영화 벡터 추가\")\n",
    "\n",
    "# 유클리디안 거리를 구할 때 정규화를 하지 않는 이유는?\n",
    "# >> 벡터 크기를 포함하고 있기 떄문"
   ]
  },
  {
   "cell_type": "markdown",
   "id": "54072f54",
   "metadata": {},
   "source": [
    "##### *b. FAISS로 유사도 검색*"
   ]
  },
  {
   "cell_type": "code",
   "execution_count": 66,
   "id": "c6ff931e",
   "metadata": {},
   "outputs": [],
   "source": [
    "# 5-1. 키워드 기반 추천 함수 (코사인)\n",
    "def recommend_vods_cos(user_input, k):\n",
    "  # keywords = extract_keywords(user_input, user_id=123456)\n",
    "  # print(\"키워드: \", keywords)\n",
    "\n",
    "  # if not keywords:\n",
    "  #   print(\"키워드 추출 실패 흑흑\")\n",
    "  #   return []\n",
    "  \n",
    "  # # 키워드를 문장으로 조합\n",
    "  # keyword_to_sentence = \" \".join(keywords)\n",
    "\n",
    "  # 조합한 키워드 문장 벡터화 + 정규화\n",
    "  user_input_embedding = embedding_model.encode([user_input])\n",
    "  user_input_embedding = np.array(user_input_embedding).astype('float32')\n",
    "  faiss.normalize_L2(user_input_embedding)\n",
    "\n",
    "  # FAISS 코사인 유사도 검색\n",
    "  distance, indices = index_cos.search(user_input_embedding, k)\n",
    "\n",
    "  # 결과 출력\n",
    "  recommendations = []\n",
    "  for idx, dist in zip(indices[0], distance[0]):\n",
    "    recommendations.append({\n",
    "      \"제목\": movies.iloc[idx]['asset_nm_전처리'],\n",
    "      \"장르\": movies.iloc[idx]['genre_of_ct_cl'],\n",
    "      \"줄거리\": movies.iloc[idx]['summary_최신순'],\n",
    "      \"코사인 유사도\": dist\n",
    "    })\n",
    "  return recommendations"
   ]
  },
  {
   "cell_type": "code",
   "execution_count": 67,
   "id": "f648a6e0",
   "metadata": {},
   "outputs": [],
   "source": [
    "# 5-2. 키워드 기반 추천 함수 (유클리디안)\n",
    "def recommend_vods_l2(user_input, k):\n",
    "  # keywords = extract_keywords(user_input, user_id=123456)\n",
    "  # print(\"키워드: \", keywords)\n",
    "\n",
    "  # if not keywords:\n",
    "  #   print(\"키워드 추출 실패 흑흑\")\n",
    "  #   return []\n",
    "  \n",
    "  # 키워드를 문장으로 조합\n",
    "  # keyword_to_sentence = \" \".join(keywords)\n",
    "\n",
    "  # 조합한 키워드 문장 벡터화 + 정규화\n",
    "  user_input_embedding = embedding_model.encode([user_input])\n",
    "  user_input_embedding = np.array(user_input_embedding).astype('float32')\n",
    "\n",
    "  # FAISS 유클리디안 거리 검색\n",
    "  distance, indices = index_l2.search(user_input_embedding, k)\n",
    "\n",
    "  # 결과 출력\n",
    "  recommendations = []\n",
    "  for idx, dist in zip(indices[0], distance[0]):\n",
    "    recommendations.append({\n",
    "      \"제목\": movies.iloc[idx]['asset_nm_전처리'],\n",
    "      \"장르\": movies.iloc[idx]['genre_of_ct_cl'],\n",
    "      \"줄거리\": movies.iloc[idx]['summary_최신순'],\n",
    "      \"유클리디안 거리\": dist\n",
    "    })\n",
    "  return recommendations"
   ]
  },
  {
   "cell_type": "markdown",
   "id": "a62e4094",
   "metadata": {},
   "source": [
    "##### *c. 유사도가 가장 높은 N개의 영화 추천*"
   ]
  },
  {
   "cell_type": "code",
   "execution_count": 71,
   "id": "ab9296fb",
   "metadata": {},
   "outputs": [
    {
     "name": "stdout",
     "output_type": "stream",
     "text": [
      "\n",
      "코사인 유사도 기반으로 추천된 콘텐츠:\n",
      "쁘띠 마망 - 드라마, \t\t 코사인 유사도: 0.6906\")\n",
      "타워 - 드라마, \t\t 코사인 유사도: 0.6744\")\n",
      "꽉 물어주는 여자 - 성인, \t\t 코사인 유사도: 0.6236\")\n",
      "앤트맨과 와스프 - 액션/어드벤쳐, \t\t 코사인 유사도: 0.6236\")\n",
      "천로역정: 천국을 찾아서 - 애니메이션, \t\t 코사인 유사도: 0.6067\")\n",
      "\n",
      "--------------------------------------\n",
      "\n",
      "\n",
      "유클리디안 거리 기반으로 추천된 콘텐츠:\n",
      "쁘띠 마망 - 드라마 \t\t 유클리디안 거리: 7.0853\")\n",
      "타워 - 드라마 \t\t 유클리디안 거리: 7.1909\")\n",
      "앤트맨과 와스프 - 액션/어드벤쳐 \t\t 유클리디안 거리: 7.5214\")\n",
      "꽉 물어주는 여자 - 성인 \t\t 유클리디안 거리: 7.5214\")\n",
      "천로역정: 천국을 찾아서 - 애니메이션 \t\t 유클리디안 거리: 7.6313\")\n"
     ]
    }
   ],
   "source": [
    "# 6-1. 사용자 입력 (코사인 유사도)\n",
    "user_input = \"소녀 버니스와 친구들의 탈출 시도\"\n",
    "recommendations_cos = recommend_vods_cos(user_input, 5)\n",
    "\n",
    "# 코사인 유사도 추천 결과 출력\n",
    "print(\"\\n코사인 유사도 기반으로 추천된 콘텐츠:\")\n",
    "for rec in recommendations_cos:\n",
    "    print(f\"\"\"{rec['제목']} - {rec['장르']}, \\t\\t 코사인 유사도: {rec['코사인 유사도']:.4f}\")\"\"\")\n",
    "\n",
    "\n",
    "print(\"\\n--------------------------------------\\n\")\n",
    "# 6-2. 사용자 입력 (유클리디안 거리 유사도)\n",
    "recommendations_l2 = recommend_vods_l2(user_input, 5)\n",
    "\n",
    "# 유클리디안 거리 추천 결과 출력\n",
    "print(\"\\n유클리디안 거리 기반으로 추천된 콘텐츠:\")\n",
    "for rec in recommendations_l2:\n",
    "    print(f\"\"\"{rec['제목']} - {rec['장르']} \\t\\t 유클리디안 거리: {rec['유클리디안 거리']:.4f}\")\"\"\")"
   ]
  },
  {
   "cell_type": "code",
   "execution_count": null,
   "id": "bdb0a18d",
   "metadata": {},
   "outputs": [],
   "source": []
  }
 ],
 "metadata": {
  "kernelspec": {
   "display_name": "Python 3 (ipykernel)",
   "language": "python",
   "name": "python3"
  },
  "language_info": {
   "codemirror_mode": {
    "name": "ipython",
    "version": 3
   },
   "file_extension": ".py",
   "mimetype": "text/x-python",
   "name": "python",
   "nbconvert_exporter": "python",
   "pygments_lexer": "ipython3",
   "version": "3.11.9"
  }
 },
 "nbformat": 4,
 "nbformat_minor": 5
}
