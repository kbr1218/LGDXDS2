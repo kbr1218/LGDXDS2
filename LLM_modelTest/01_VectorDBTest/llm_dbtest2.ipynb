{
 "cells": [
  {
   "cell_type": "markdown",
   "metadata": {},
   "source": [
    "# LLM ModelTest #2\n",
    "#### w/ Chroma"
   ]
  },
  {
   "cell_type": "code",
   "execution_count": 12,
   "metadata": {},
   "outputs": [],
   "source": [
    "# API KEY를 환경변수로 관리하기 위한 설정 파일\n",
    "from dotenv import load_dotenv\n",
    "import os\n",
    "\n",
    "# API KEY 정보로드\n",
    "load_dotenv()\n",
    "GEMINI_API_KEY = os.getenv('API_KEY_GEMINI')"
   ]
  },
  {
   "cell_type": "code",
   "execution_count": 13,
   "metadata": {},
   "outputs": [
    {
     "name": "stdout",
     "output_type": "stream",
     "text": [
      "LangSmith 추적을 시작합니다.\n",
      "[프로젝트명]\n",
      "lgdx_team2\n"
     ]
    }
   ],
   "source": [
    "# LangSmith 추적을 설정합니다. https://smith.langchain.com\n",
    "# !pip install langchain-teddynote\n",
    "from langchain_teddynote import logging\n",
    "\n",
    "# 프로젝트 이름을 입력합니다.\n",
    "logging.langsmith(\"lgdx_team2\")"
   ]
  },
  {
   "cell_type": "code",
   "execution_count": 3,
   "metadata": {},
   "outputs": [],
   "source": [
    "from langchain_community.embeddings import HuggingFaceEmbeddings\n",
    "from langchain_community.document_loaders.csv_loader import CSVLoader\n",
    "\n",
    "from langchain_community.vectorstores import Chroma\n",
    "\n",
    "from langchain.schema import Document\n",
    "from langchain.text_splitter import RecursiveCharacterTextSplitter\n",
    "\n",
    "import pandas as pd\n",
    "\n",
    "# 랭체인 환경 설정\n",
    "from langchain_core.runnables import RunnablePassthrough\n",
    "from langchain_core.output_parsers import StrOutputParser\n",
    "from langchain.prompts import ChatPromptTemplate\n",
    "from langchain_google_genai import ChatGoogleGenerativeAI"
   ]
  },
  {
   "cell_type": "code",
   "execution_count": 5,
   "metadata": {},
   "outputs": [
    {
     "name": "stdout",
     "output_type": "stream",
     "text": [
      "문서의 수: 3901\n"
     ]
    }
   ],
   "source": [
    "### 01. CSV 파일에서 문서 로드 ###\n",
    "loader = CSVLoader('../../data/movie_4000_preprocessed.csv', encoding='utf8')\n",
    "docs = loader.load()\n",
    "print(f\"문서의 수: {len(docs)}\")\n",
    "\n",
    "### 02. pandas로 데이터프레임 칼럼명 가져오기\n",
    "csv_path = '../../data/movie_4000_preprocessed.csv'\n",
    "df = pd.read_csv(csv_path, encoding='utf8')\n",
    "colnames = df.columns"
   ]
  },
  {
   "cell_type": "code",
   "execution_count": 6,
   "metadata": {},
   "outputs": [
    {
     "name": "stdout",
     "output_type": "stream",
     "text": [
      "문서의 수: 3901\n",
      "[메타데이터 예시]\n",
      " {'title': '아름답다', 'genre': '드라마'}\n"
     ]
    }
   ],
   "source": [
    "### 03. 메타데이터 추가 ###\n",
    "docs = []\n",
    "for _, row in df.iterrows():\n",
    "  # 필요한 메타데이터 설정\n",
    "  metadata = {\n",
    "    'title': row['movie_title'],\n",
    "    'genre': row['genre']\n",
    "  }\n",
    "  # 각 행의 데이터를 문서로 변환\n",
    "  doc = Document(\n",
    "    page_content=str(row.to_dict()),\n",
    "    metadata=metadata\n",
    "  )\n",
    "  docs.append(doc)\n",
    "\n",
    "print(f\"문서의 수: {len(docs)}\")\n",
    "print('[메타데이터 예시]\\n', docs[100].metadata)"
   ]
  },
  {
   "cell_type": "code",
   "execution_count": 7,
   "metadata": {},
   "outputs": [
    {
     "name": "stdout",
     "output_type": "stream",
     "text": [
      "split된 문서의 수: 3901\n"
     ]
    }
   ],
   "source": [
    "### 04. 데이터 청크 나누기 ###\n",
    "text_splitter = RecursiveCharacterTextSplitter(\n",
    "  chunk_size=1090, chunk_overlap=0\n",
    ")\n",
    "splits = text_splitter.split_documents(docs)\n",
    "print(\"split된 문서의 수:\", len(splits))"
   ]
  },
  {
   "cell_type": "code",
   "execution_count": 8,
   "metadata": {},
   "outputs": [
    {
     "name": "stderr",
     "output_type": "stream",
     "text": [
      "C:\\Users\\USER\\AppData\\Local\\Temp\\ipykernel_11492\\3636801640.py:3: LangChainDeprecationWarning: The class `HuggingFaceEmbeddings` was deprecated in LangChain 0.2.2 and will be removed in 1.0. An updated version of the class exists in the :class:`~langchain-huggingface package and should be used instead. To use it run `pip install -U :class:`~langchain-huggingface` and import as `from :class:`~langchain_huggingface import HuggingFaceEmbeddings``.\n",
      "  embeddings = HuggingFaceEmbeddings(model_name='ibm-granite/granite-embedding-278m-multilingual')\n",
      "C:\\workspaces\\LGDXteam2\\.venv\\Lib\\site-packages\\transformers\\tokenization_utils_base.py:1601: FutureWarning: `clean_up_tokenization_spaces` was not set. It will be set to `True` by default. This behavior will be depracted in transformers v4.45, and will be then set to `False` by default. For more details check this issue: https://github.com/huggingface/transformers/issues/31884\n",
      "  warnings.warn(\n"
     ]
    }
   ],
   "source": [
    "### 05. 임베딩 모델 생성\n",
    "# https://huggingface.co/ibm-granite/granite-embedding-278m-multilingual\n",
    "embeddings = HuggingFaceEmbeddings(model_name='ibm-granite/granite-embedding-278m-multilingual')"
   ]
  },
  {
   "cell_type": "code",
   "execution_count": 39,
   "metadata": {},
   "outputs": [
    {
     "name": "stdout",
     "output_type": "stream",
     "text": [
      "벡터스토어 저장 완료!\n"
     ]
    }
   ],
   "source": [
    "### 06. 벡터스토어 생성 ###\n",
    "DB_PATH = '../movie_4000_vectorstore_2'\n",
    "\n",
    "## Chroma\n",
    "# vectorstore = Chroma.from_documents(\n",
    "#   documents=splits,\n",
    "#   embedding=embeddings,\n",
    "#   persist_directory=DB_PATH,\n",
    "# )\n",
    "# print(\"벡터스토어 저장 완료!\")"
   ]
  },
  {
   "cell_type": "code",
   "execution_count": 10,
   "metadata": {},
   "outputs": [],
   "source": [
    "# Chroma 벡터스토어 로드\n",
    "vectorstore = Chroma(persist_directory=\"../movie_4000_vectorstore_2\", embedding_function=embeddings)"
   ]
  },
  {
   "cell_type": "code",
   "execution_count": 11,
   "metadata": {},
   "outputs": [
    {
     "name": "stdout",
     "output_type": "stream",
     "text": [
      "🎬 제목: 학살기관\n",
      "🎭 장르: 애니메이션\n",
      "📄 요약: {'movie_title': '학살기관', 'genre': '애니메이션', 'summary': '테러의 위험에 계속해서 노출되고 있는 미국은 그 공포에 대항하기 위해 철저한 정보 관리 시스템을 구축하고 있다.  한편, 미국 이외의 세계 각지에서는 분쟁의 격화게 계속되고 있다.  세계의 분쟁지를 돌아다니는 미군 특수부대 클라비스 셰퍼드 대위에게 수수께기로 둘...\n",
      "⭐ 유사도 점수: 0.6420\n",
      "================================================================================\n",
      "🎬 제목: 아메리칸 시빌 워\n",
      "🎭 장르: 공포/스릴러\n",
      "📄 요약: {'movie_title': '아메리칸 시빌 워', 'genre': '공포/스릴러', 'summary': '미국에서 벌어지는 우익과 좌익 간의 내전을 배경으로, 보수의 성향을 가진 어느 민주주의 소모임의 구성원들은 정부의 탄압을 피해 외딴 산장에 납치로 위장된 채 도착한다. 그들은 종전 이후 산장을 빠져나갈 생각을 하며 하루하루 버티는데, 시골 산장지기의 ...\n",
      "⭐ 유사도 점수: 0.6297\n",
      "================================================================================\n",
      "🎬 제목: 원샷\n",
      "🎭 장르: 액션/어드벤쳐\n",
      "📄 요약: {'movie_title': '원샷', 'genre': '액션/어드벤쳐', 'summary': '\"단 원테이크의 리얼타임 액션 액션의 패러다임이 바뀐다.\" 악명 높은 테러리스트들이 수감된 일급비밀의 섬. 예고된 워싱턴 테러의 배후를 아는 `놈`을 이송하려 네이비 씰과 CIA 분석관이 도착한다. 그때 `놈` 탈옥시키려는 테러단의 공격이 시작되는데…  단 한순...\n",
      "⭐ 유사도 점수: 0.6207\n",
      "================================================================================\n",
      "🎬 제목: 엽표행동\n",
      "🎭 장르: 액션/어드벤쳐\n",
      "📄 요약: {'movie_title': '엽표행동', 'genre': '액션/어드벤쳐', 'summary': '홍콩 경시청과 미국 CIA 요원이 국제 거물 동양을 미국으로 호송하는 도중 폭력조직으로부터 습격을 받는다. 배신한 동양으로부터 전자칩을 빼내려고 폭력단의 두목 차부가 한낮의 습격전을 벌인 것이다. 거물급 스파이 동양을 호송하기 위해 홍콩에 온 CIA 아용, ...\n",
      "⭐ 유사도 점수: 0.6103\n",
      "================================================================================\n",
      "🎬 제목: 생존자들: 더 레스큐\n",
      "🎭 장르: 다큐멘터리\n",
      "📄 요약: {'movie_title': '생존자들: 더 레스큐', 'genre': '다큐멘터리', 'summary': '제2차 세계대전 당시, 일본과의 격렬한 전쟁 속에서 수없이 많은 전투기들이 격추되고, 이에 미국은 `항공구조대`를 조직, 보다 빠르게 군인들을 구조하기 위해 나선다.', 'genre_tmdb': 'Documentary, History, War'}...\n",
      "⭐ 유사도 점수: 0.6040\n",
      "================================================================================\n"
     ]
    }
   ],
   "source": [
    "# 검색 테스트\n",
    "results = vectorstore.similarity_search_with_relevance_scores(\n",
    "    query=\"미국 배경의 액션 영화\",\n",
    "    k=5)\n",
    "\n",
    "# 유사도 점수 높은 순으로 정렬\n",
    "sorted_results = sorted(results, key=lambda x: x[1], reverse=True)\n",
    "\n",
    "# 결과 출력\n",
    "for doc, score in sorted_results:\n",
    "    print(f\"🎬 제목: {doc.metadata.get('title', 'N/A')}\")\n",
    "    print(f\"🎭 장르: {doc.metadata.get('genre', 'N/A')}\")\n",
    "    print(f\"📄 요약: {doc.page_content[:200]}...\")  # 요약 일부만 출력\n",
    "    print(f\"⭐ 유사도 점수: {score:.4f}\")  # 소수점 4자리까지 출력\n",
    "    print(\"=\" * 80)  # 구분선"
   ]
  },
  {
   "cell_type": "markdown",
   "metadata": {},
   "source": [
    "<br><hr>"
   ]
  },
  {
   "cell_type": "code",
   "execution_count": 58,
   "metadata": {},
   "outputs": [
    {
     "name": "stdout",
     "output_type": "stream",
     "text": [
      ">>>>>>> model loaded...\n"
     ]
    }
   ],
   "source": [
    "### 03. 랭체인 구성 ###\n",
    "# 검색기 생성\n",
    "retriever = vectorstore.as_retriever(\n",
    "    search_type=\"mmr\",   \n",
    "    search_kwargs={\"k\": 20,              # 반환할 문서 수 (default: 4)\n",
    "                   \"fetch_k\": 50,       # MMR 알고리즘에 전달할 문서 수\n",
    "                   \"lambda_mult\": 0.5,    # 결과 다양성 조절 (default: 0.5),\n",
    "                   }\n",
    ")\n",
    "\n",
    "# 프롬프트 템플릿 설정\n",
    "template = \"\"\"\n",
    "You are a movie-recommendation chatbot.\n",
    "You must only answer based on the given context.\n",
    "Do not generate answers that are not directly supported by the context.\n",
    "\n",
    "[Context]:\n",
    "{retrieved_context}\n",
    "\n",
    "[Question]:\n",
    "{query}\n",
    "\n",
    "[Answer]:\n",
    "\"\"\"\n",
    "prompt = ChatPromptTemplate.from_template(template)\n",
    "\n",
    "# Google Gemini 모델 생성\n",
    "def load_gemini(system_instruction):\n",
    "    model = ChatGoogleGenerativeAI(\n",
    "        model='gemini-1.5-flash',\n",
    "        temperature=0.3,\n",
    "        max_tokens=5000,\n",
    "        system_instruction=system_instruction,\n",
    "        api_key=GEMINI_API_KEY\n",
    "    )\n",
    "    print(\">>>>>>> model loaded...\")\n",
    "    return model\n",
    "\n",
    "system_instruction = \"\"\"you are a movie-recommendation chatbot. you must answer based on given data.\"\"\"\n",
    "llm = load_gemini(system_instruction)"
   ]
  },
  {
   "cell_type": "code",
   "execution_count": 59,
   "metadata": {},
   "outputs": [],
   "source": [
    "# langchain 체인 구성\n",
    "rag_chain = (\n",
    "  {\"query\":RunnablePassthrough(),\n",
    "    \"retrieved_context\": retriever,\n",
    "  }\n",
    "  # question(사용자의 질문) 기반으로 연관성이 높은 문서 retriever 수행 >> format_docs로 문서를 하나로 만듦\n",
    "  | prompt               # 하나로 만든 문서를 prompt에 넘겨주고\n",
    "  | llm                  # llm이 원하는 답변을 만듦\n",
    "  | StrOutputParser()\n",
    ")"
   ]
  },
  {
   "cell_type": "code",
   "execution_count": 64,
   "metadata": {},
   "outputs": [
    {
     "name": "stdout",
     "output_type": "stream",
     "text": [
      "쇼미더고스트와 좀비 사용 설명서를 추천합니다.\n",
      "\n"
     ]
    }
   ],
   "source": [
    "### 04. 모델 테스트 ###\n",
    "user_query='코미디면서 호러 장르의 영화를 추천해줘'\n",
    "response = rag_chain.invoke(user_query)\n",
    "print(response)"
   ]
  },
  {
   "cell_type": "code",
   "execution_count": null,
   "metadata": {},
   "outputs": [],
   "source": []
  }
 ],
 "metadata": {
  "kernelspec": {
   "display_name": "Python 3 (ipykernel)",
   "language": "python",
   "name": "python3"
  },
  "language_info": {
   "codemirror_mode": {
    "name": "ipython",
    "version": 3
   },
   "file_extension": ".py",
   "mimetype": "text/x-python",
   "name": "python",
   "nbconvert_exporter": "python",
   "pygments_lexer": "ipython3",
   "version": "3.11.9"
  }
 },
 "nbformat": 4,
 "nbformat_minor": 4
}
