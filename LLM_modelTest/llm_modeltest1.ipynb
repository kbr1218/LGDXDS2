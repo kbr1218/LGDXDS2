{
 "cells": [
  {
   "cell_type": "markdown",
   "metadata": {},
   "source": [
    "# LLM ModelTest #1\n",
    "##### *jhgan/ko-sroberta-multitask*"
   ]
  },
  {
   "cell_type": "code",
   "execution_count": 4,
   "metadata": {},
   "outputs": [],
   "source": [
    "# API KEY를 환경변수로 관리하기 위한 설정 파일\n",
    "from dotenv import load_dotenv\n",
    "import os\n",
    "\n",
    "# API KEY 정보로드\n",
    "load_dotenv()\n",
    "GEMINI_API_KEY = os.getenv('API_KEY_GEMINI')"
   ]
  },
  {
   "cell_type": "code",
   "execution_count": 5,
   "metadata": {},
   "outputs": [
    {
     "name": "stdout",
     "output_type": "stream",
     "text": [
      "LangSmith 추적을 시작합니다.\n",
      "[프로젝트명]\n",
      "lgdx_team2\n"
     ]
    }
   ],
   "source": [
    "# LangSmith 추적을 설정합니다. https://smith.langchain.com\n",
    "# !pip install langchain-teddynote\n",
    "from langchain_teddynote import logging\n",
    "\n",
    "# 프로젝트 이름을 입력합니다.\n",
    "logging.langsmith(\"lgdx_team2\")"
   ]
  },
  {
   "cell_type": "code",
   "execution_count": 6,
   "metadata": {},
   "outputs": [],
   "source": [
    "from langchain_community.embeddings import HuggingFaceEmbeddings\n",
    "from langchain_community.document_loaders.csv_loader import CSVLoader\n",
    "\n",
    "from langchain_community.vectorstores import Chroma\n",
    "\n",
    "from langchain.schema import Document\n",
    "from langchain.text_splitter import RecursiveCharacterTextSplitter\n",
    "\n",
    "import pandas as pd\n",
    "\n",
    "# 랭체인 환경 설정\n",
    "from langchain_core.runnables import RunnablePassthrough\n",
    "from langchain_core.output_parsers import StrOutputParser\n",
    "from langchain.prompts import ChatPromptTemplate\n",
    "from langchain_google_genai import ChatGoogleGenerativeAI"
   ]
  },
  {
   "cell_type": "code",
   "execution_count": 5,
   "metadata": {},
   "outputs": [
    {
     "name": "stdout",
     "output_type": "stream",
     "text": [
      "문서의 수: 3901\n"
     ]
    }
   ],
   "source": [
    "### 01. CSV 파일에서 문서 로드 ###\n",
    "loader = CSVLoader('../data/movie_4000_preprocessed.csv', encoding='utf8')\n",
    "docs = loader.load()\n",
    "print(f\"문서의 수: {len(docs)}\")\n",
    "\n",
    "### 02. pandas로 데이터프레임 칼럼명 가져오기\n",
    "csv_path = '../data/movie_4000_preprocessed.csv'\n",
    "df = pd.read_csv(csv_path, encoding='utf8')\n",
    "colnames = df.columns"
   ]
  },
  {
   "cell_type": "code",
   "execution_count": 6,
   "metadata": {},
   "outputs": [
    {
     "name": "stdout",
     "output_type": "stream",
     "text": [
      "문서의 수: 3901\n",
      "[메타데이터 예시]\n",
      " {'title': '아름답다', 'genre': '드라마'}\n"
     ]
    }
   ],
   "source": [
    "### 03. 메타데이터 추가 ###\n",
    "docs = []\n",
    "for _, row in df.iterrows():\n",
    "  # 필요한 메타데이터 설정\n",
    "  metadata = {\n",
    "    'title': row['movie_title'],\n",
    "    'genre': row['genre']\n",
    "  }\n",
    "  # 각 행의 데이터를 문서로 변환\n",
    "  doc = Document(\n",
    "    page_content=str(row.to_dict()),\n",
    "    metadata=metadata\n",
    "  )\n",
    "  docs.append(doc)\n",
    "\n",
    "print(f\"문서의 수: {len(docs)}\")\n",
    "print('[메타데이터 예시]\\n', docs[100].metadata)"
   ]
  },
  {
   "cell_type": "code",
   "execution_count": 7,
   "metadata": {},
   "outputs": [
    {
     "name": "stdout",
     "output_type": "stream",
     "text": [
      "split된 문서의 수: 3901\n"
     ]
    }
   ],
   "source": [
    "### 04. 데이터 청크 나누기 ###\n",
    "text_splitter = RecursiveCharacterTextSplitter(\n",
    "  chunk_size=1200, chunk_overlap=0\n",
    ")\n",
    "splits = text_splitter.split_documents(docs)\n",
    "print(\"split된 문서의 수:\", len(splits))"
   ]
  },
  {
   "cell_type": "code",
   "execution_count": 8,
   "metadata": {},
   "outputs": [
    {
     "name": "stderr",
     "output_type": "stream",
     "text": [
      "C:\\Users\\USER\\AppData\\Local\\Temp\\ipykernel_21136\\637516468.py:2: LangChainDeprecationWarning: The class `HuggingFaceEmbeddings` was deprecated in LangChain 0.2.2 and will be removed in 1.0. An updated version of the class exists in the :class:`~langchain-huggingface package and should be used instead. To use it run `pip install -U :class:`~langchain-huggingface` and import as `from :class:`~langchain_huggingface import HuggingFaceEmbeddings``.\n",
      "  embeddings = HuggingFaceEmbeddings(model_name='jhgan/ko-sroberta-multitask')\n",
      "c:\\workspaces\\LGDXteam2\\.venv\\Lib\\site-packages\\transformers\\tokenization_utils_base.py:1601: FutureWarning: `clean_up_tokenization_spaces` was not set. It will be set to `True` by default. This behavior will be depracted in transformers v4.45, and will be then set to `False` by default. For more details check this issue: https://github.com/huggingface/transformers/issues/31884\n",
      "  warnings.warn(\n"
     ]
    }
   ],
   "source": [
    "### 05. 임베딩 모델 생성\n",
    "embeddings = HuggingFaceEmbeddings(model_name='jhgan/ko-sroberta-multitask')"
   ]
  },
  {
   "cell_type": "code",
   "execution_count": null,
   "metadata": {},
   "outputs": [],
   "source": [
    "### 06. 벡터스토어 생성 ###\n",
    "DB_PATH = './movie_4000_vectorstore_1'\n",
    "\n",
    "## Chroma\n",
    "# vectorstore = Chroma.from_documents(\n",
    "#   documents=splits,\n",
    "#   embedding=embeddings,\n",
    "#   persist_directory=DB_PATH,\n",
    "# )\n",
    "# print(\"벡터스토어 저장 완료!\")"
   ]
  },
  {
   "cell_type": "code",
   "execution_count": 9,
   "metadata": {},
   "outputs": [
    {
     "name": "stderr",
     "output_type": "stream",
     "text": [
      "C:\\Users\\USER\\AppData\\Local\\Temp\\ipykernel_21136\\2467376105.py:2: LangChainDeprecationWarning: The class `Chroma` was deprecated in LangChain 0.2.9 and will be removed in 1.0. An updated version of the class exists in the :class:`~langchain-chroma package and should be used instead. To use it run `pip install -U :class:`~langchain-chroma` and import as `from :class:`~langchain_chroma import Chroma``.\n",
      "  vectorstore = Chroma(persist_directory=\"./movie_4000_vectorstore_1\", embedding_function=embeddings)\n"
     ]
    }
   ],
   "source": [
    "# Chroma 벡터스토어 로드\n",
    "vectorstore = Chroma(persist_directory=\"./movie_4000_vectorstore_1\", embedding_function=embeddings)"
   ]
  },
  {
   "cell_type": "markdown",
   "metadata": {},
   "source": [
    "<br><hr>"
   ]
  },
  {
   "cell_type": "code",
   "execution_count": 10,
   "metadata": {},
   "outputs": [
    {
     "name": "stdout",
     "output_type": "stream",
     "text": [
      ">>>>>>> model loaded...\n"
     ]
    }
   ],
   "source": [
    "### 03. 랭체인 구성 ###\n",
    "# 검색기 생성\n",
    "retriever = vectorstore.as_retriever(\n",
    "    search_type=\"mmr\",   \n",
    "    search_kwargs={\"k\": 20,              # 반환할 문서 수 (default: 4)\n",
    "                   \"fetch_k\": 50,       # MMR 알고리즘에 전달할 문서 수\n",
    "                   \"lambda_mult\": 0.5,    # 결과 다양성 조절 (default: 0.5),\n",
    "                   }\n",
    ")\n",
    "\n",
    "# 프롬프트 템플릿 설정\n",
    "template = \"\"\"\n",
    "You are a movie-recommendation chatbot.\n",
    "You must only answer based on the given context.\n",
    "Do not generate answers that are not directly supported by the context.\n",
    "\n",
    "[Context]:\n",
    "{retrieved_context}\n",
    "\n",
    "[Question]:\n",
    "{query}\n",
    "\n",
    "[Answer]:\n",
    "\"\"\"\n",
    "prompt = ChatPromptTemplate.from_template(template)\n",
    "\n",
    "# Google Gemini 모델 생성\n",
    "def load_gemini(system_instruction):\n",
    "    model = ChatGoogleGenerativeAI(\n",
    "        model='gemini-1.5-flash',\n",
    "        temperature=0.3,\n",
    "        max_tokens=5000,\n",
    "        system_instruction=system_instruction,\n",
    "        api_key=GEMINI_API_KEY\n",
    "    )\n",
    "    print(\">>>>>>> model loaded...\")\n",
    "    return model\n",
    "\n",
    "system_instruction = \"\"\"you are a movie-recommendation chatbot. you must answer based on given data.\"\"\"\n",
    "llm = load_gemini(system_instruction)"
   ]
  },
  {
   "cell_type": "code",
   "execution_count": 11,
   "metadata": {},
   "outputs": [],
   "source": [
    "# langchain 체인 구성\n",
    "rag_chain = (\n",
    "  {\"query\":RunnablePassthrough(),\n",
    "    \"retrieved_context\": retriever,\n",
    "  }\n",
    "  # question(사용자의 질문) 기반으로 연관성이 높은 문서 retriever 수행 >> format_docs로 문서를 하나로 만듦\n",
    "  | prompt               # 하나로 만든 문서를 prompt에 넘겨주고\n",
    "  | llm                  # llm이 원하는 답변을 만듦\n",
    "  | StrOutputParser()\n",
    ")"
   ]
  },
  {
   "cell_type": "code",
   "execution_count": 16,
   "metadata": {},
   "outputs": [
    {
     "name": "stdout",
     "output_type": "stream",
     "text": [
      "죄송합니다. 제공된 컨텍스트에는 코미디이면서 동시에 호러 장르인 영화는 없습니다.\n",
      "\n"
     ]
    }
   ],
   "source": [
    "### 04. 모델 테스트 ###\n",
    "user_query='코미디면서 호러 장르의 영화를 추천해줘'\n",
    "response = rag_chain.invoke(user_query)\n",
    "print(response)"
   ]
  },
  {
   "cell_type": "code",
   "execution_count": null,
   "metadata": {},
   "outputs": [],
   "source": []
  }
 ],
 "metadata": {
  "kernelspec": {
   "display_name": ".venv",
   "language": "python",
   "name": "python3"
  },
  "language_info": {
   "codemirror_mode": {
    "name": "ipython",
    "version": 3
   },
   "file_extension": ".py",
   "mimetype": "text/x-python",
   "name": "python",
   "nbconvert_exporter": "python",
   "pygments_lexer": "ipython3",
   "version": "3.11.9"
  }
 },
 "nbformat": 4,
 "nbformat_minor": 2
}
