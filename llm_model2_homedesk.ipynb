{
 "cells": [
  {
   "cell_type": "markdown",
   "metadata": {},
   "source": [
    "# LLM ModelTest #2\n",
    "#### *ibm-granite/granite-embedding-278m-multilingual*"
   ]
  },
  {
   "cell_type": "code",
   "execution_count": 2,
   "metadata": {},
   "outputs": [],
   "source": [
    "# API KEY를 환경변수로 관리하기 위한 설정 파일\n",
    "from dotenv import load_dotenv\n",
    "import os\n",
    "\n",
    "# API KEY 정보로드\n",
    "load_dotenv()\n",
    "GEMINI_API_KEY = os.getenv('API_KEY_GEMINI')"
   ]
  },
  {
   "cell_type": "code",
   "execution_count": 3,
   "metadata": {},
   "outputs": [
    {
     "name": "stdout",
     "output_type": "stream",
     "text": [
      "LangSmith 추적을 시작합니다.\n",
      "[프로젝트명]\n",
      "dx_project\n"
     ]
    }
   ],
   "source": [
    "# LangSmith 추적을 설정합니다. https://smith.langchain.com\n",
    "# !pip install langchain-teddynote\n",
    "from langchain_teddynote import logging\n",
    "\n",
    "# 프로젝트 이름을 입력합니다.\n",
    "logging.langsmith(\"dx_project\")"
   ]
  },
  {
   "cell_type": "code",
   "execution_count": 33,
   "metadata": {},
   "outputs": [],
   "source": [
    "from langchain_community.embeddings import HuggingFaceEmbeddings\n",
    "from langchain_community.document_loaders.csv_loader import CSVLoader\n",
    "\n",
    "from langchain_community.vectorstores import Chroma\n",
    "from langchain_community.vectorstores import FAISS\n",
    "\n",
    "from langchain.schema import Document\n",
    "from langchain.text_splitter import RecursiveCharacterTextSplitter\n",
    "\n",
    "import pandas as pd\n",
    "import re\n",
    "import json\n",
    "# 랭체인 환경 설정\n",
    "from langchain_openai import ChatOpenAI\n",
    "from langchain_core.runnables import RunnablePassthrough\n",
    "from langchain_core.output_parsers import StrOutputParser\n",
    "#from langchain_core.prompts import PromptTemplate\n",
    "\n",
    "from langchain.prompts import ChatPromptTemplate\n",
    "# from langchain_google_genai import ChatGoogleGenerativeAI\n",
    "from operator import itemgetter\n",
    "from langchain_core.runnables import RunnableLambda"
   ]
  },
  {
   "cell_type": "code",
   "execution_count": 5,
   "metadata": {},
   "outputs": [
    {
     "name": "stdout",
     "output_type": "stream",
     "text": [
      "문서의 수: 3901\n"
     ]
    }
   ],
   "source": [
    "### 01. CSV 파일에서 문서 로드 ###\n",
    "loader = CSVLoader('../data/movie_4000_preprocessed.csv', encoding='utf8')\n",
    "docs = loader.load()\n",
    "print(f\"문서의 수: {len(docs)}\")\n",
    "\n",
    "### 02. pandas로 데이터프레임 칼럼명 가져오기\n",
    "csv_path = '../data/movie_4000_preprocessed.csv'\n",
    "df = pd.read_csv(csv_path, encoding='utf8')\n",
    "colnames = df.columns"
   ]
  },
  {
   "cell_type": "code",
   "execution_count": 6,
   "metadata": {},
   "outputs": [
    {
     "name": "stdout",
     "output_type": "stream",
     "text": [
      "문서의 수: 3901\n",
      "[메타데이터 예시]\n",
      " {'title': '아름답다', 'genre': '드라마'}\n"
     ]
    }
   ],
   "source": [
    "### 03. 메타데이터 추가 ###\n",
    "docs = []\n",
    "for _, row in df.iterrows():\n",
    "  # 필요한 메타데이터 설정\n",
    "  metadata = {\n",
    "    'title': row['movie_title'],\n",
    "    'genre': row['genre']\n",
    "  }\n",
    "  # 각 행의 데이터를 문서로 변환\n",
    "  doc = Document(\n",
    "    page_content=str(row.to_dict()),\n",
    "    metadata=metadata\n",
    "  )\n",
    "  docs.append(doc)\n",
    "\n",
    "print(f\"문서의 수: {len(docs)}\")\n",
    "print('[메타데이터 예시]\\n', docs[100].metadata)"
   ]
  },
  {
   "cell_type": "code",
   "execution_count": 7,
   "metadata": {},
   "outputs": [
    {
     "name": "stdout",
     "output_type": "stream",
     "text": [
      "split된 문서의 수: 3901\n"
     ]
    }
   ],
   "source": [
    "### 04. 데이터 청크 나누기 ###\n",
    "text_splitter = RecursiveCharacterTextSplitter(\n",
    "  chunk_size=1090, chunk_overlap=0\n",
    ")\n",
    "splits = text_splitter.split_documents(docs)\n",
    "print(\"split된 문서의 수:\", len(splits))"
   ]
  },
  {
   "cell_type": "code",
   "execution_count": 8,
   "metadata": {},
   "outputs": [
    {
     "name": "stderr",
     "output_type": "stream",
     "text": [
      "C:\\Users\\USER\\AppData\\Local\\Temp\\ipykernel_11556\\3636801640.py:3: LangChainDeprecationWarning: The class `HuggingFaceEmbeddings` was deprecated in LangChain 0.2.2 and will be removed in 1.0. An updated version of the class exists in the :class:`~langchain-huggingface package and should be used instead. To use it run `pip install -U :class:`~langchain-huggingface` and import as `from :class:`~langchain_huggingface import HuggingFaceEmbeddings``.\n",
      "  embeddings = HuggingFaceEmbeddings(model_name='ibm-granite/granite-embedding-278m-multilingual')\n",
      "c:\\workspaces\\proj\\forllm\\.venv\\Lib\\site-packages\\transformers\\tokenization_utils_base.py:1601: FutureWarning: `clean_up_tokenization_spaces` was not set. It will be set to `True` by default. This behavior will be depracted in transformers v4.45, and will be then set to `False` by default. For more details check this issue: https://github.com/huggingface/transformers/issues/31884\n",
      "  warnings.warn(\n"
     ]
    }
   ],
   "source": [
    "### 05. 임베딩 모델 생성\n",
    "# https://huggingface.co/ibm-granite/granite-embedding-278m-multilingual\n",
    "embeddings = HuggingFaceEmbeddings(model_name='ibm-granite/granite-embedding-278m-multilingual')"
   ]
  },
  {
   "cell_type": "code",
   "execution_count": 39,
   "metadata": {},
   "outputs": [],
   "source": [
    "# Chroma 벡터스토어 로드\n",
    "vectorstore = Chroma(persist_directory=\"../data/movie_4000_vectorstore_2\", embedding_function=embeddings)\n",
    "# Fassis 벡터스토어 로드\n",
    "vectorstore_faiss = FAISS.load_local('../data/movies_vectorstore_faiss_1500', embeddings, allow_dangerous_deserialization=True)"
   ]
  },
  {
   "cell_type": "code",
   "execution_count": 10,
   "metadata": {},
   "outputs": [],
   "source": [
    "# 1. 사용자 입력값 유형 분류용 프롬프트\n",
    "classification_template = \"\"\"사용자의 입력을 다음 세 가지 범주 중 하나로 분류하세요:\n",
    "1️⃣ **\"정보검색\"**: 특정 영화, 드라마, 배우, 감독, 러닝타임, 개봉 연도, 수상 내역, 필모그래피 등 **사실적인 정보를 찾는 질문**\n",
    "   - 기대되는 응답 예시: 배우가 출연한 드라마/영화 목록, 특정 연도의 개봉작 리스트 등\n",
    "2️⃣ **\"추천요청\"**: 특정 장르, 배우, 테마(예: 좀비, 시간여행), 감성(예: 힐링, 긴장감) 등에 대한 **추천을 요청하는 질문**\n",
    "   - 기대되는 응답 예시: 특정 조건을 만족하는 영화/드라마 추천\n",
    "3️⃣ **\"일반대화\"**: 서비스와 무관한 일반적인 대화 (예: 날씨, AI 관련 질문, 잡담)\n",
    "\n",
    "질문과 관련된 주요 키워드를 반환하세요.\n",
    "\n",
    "#### **예시 형식**\n",
    "{{\n",
    "  \"type\": \"정보검색\",\n",
    "  \"keywords\": [\"한효주\", \"드라마\", \"출연\"]\n",
    "}}\n",
    "\n",
    "<question>\n",
    "{question}\n",
    "</question>\n",
    "\"\"\"\n",
    "prompt = ChatPromptTemplate.from_template(classification_template)\n",
    "\n",
    "llm = ChatOpenAI(\n",
    "  model=\"gpt-4o-mini\",\n",
    "  temperature=0)"
   ]
  },
  {
   "cell_type": "code",
   "execution_count": 11,
   "metadata": {},
   "outputs": [],
   "source": [
    "# langchain 체인 구성\n",
    "classification_chain = (\n",
    "  prompt\n",
    "  | llm\n",
    "  | StrOutputParser()\n",
    ")"
   ]
  },
  {
   "cell_type": "code",
   "execution_count": 12,
   "metadata": {},
   "outputs": [
    {
     "name": "stdout",
     "output_type": "stream",
     "text": [
      "{\n",
      "  \"type\": \"정보검색\",\n",
      "  \"keywords\": [\"한효주\", \"드라마\", \"출연\"]\n",
      "}\n",
      "{\n",
      "  \"type\": \"추천요청\",\n",
      "  \"keywords\": [\"스파이더맨\", \"영화\", \"추천\"]\n",
      "}\n",
      "{\n",
      "  \"type\": \"추천요청\",\n",
      "  \"keywords\": [\"코미디\", \"호러\", \"영화\", \"추천\"]\n",
      "}\n",
      "{\n",
      "  \"type\": \"일반대화\",\n",
      "  \"keywords\": [\"심심해\"]\n",
      "}\n",
      "{\n",
      "  \"type\": \"일반대화\",\n",
      "  \"keywords\": [\"우울\", \"감정\"]\n",
      "}\n"
     ]
    }
   ],
   "source": [
    "# 예상 정보검색\n",
    "print(classification_chain.invoke({\"question\": \"한효주가 나오는 드라마 알려줘.\"}))\n",
    "print(classification_chain.invoke({\"question\": \"스파이더맨 영화를 보고싶어\"}))\n",
    "\n",
    "# 추천 요청\n",
    "print(classification_chain.invoke({\"question\": \"코미디면서 호러 장르의 영화를 추천해줘\"}))\n",
    "\n",
    "# 일반대화화\n",
    "print(classification_chain.invoke({\"question\": \"심심해\"}))\n",
    "print(classification_chain.invoke({\"question\": \"오늘은 우울한걸\"}))\n"
   ]
  },
  {
   "cell_type": "code",
   "execution_count": 13,
   "metadata": {},
   "outputs": [],
   "source": [
    "# JSON 결과를 올바르게 파싱하는 함수\n",
    "def preprocess_classification_result(question: str):\n",
    "    classification_result = classification_chain.invoke({\"question\": question})\n",
    "\n",
    "    # JSON 문자열에서 ```json``` 제거 (정규식 활용)\n",
    "    json_match = re.search(r'```json\\s*(\\{.*?\\})\\s*```', classification_result, re.DOTALL)\n",
    "    if json_match:\n",
    "        clean_json_str = json_match.group(1)                       # 중괄호 {} 내부만 추출\n",
    "    else:\n",
    "        clean_json_str = classification_result                     # ```json``` 태그가 없을 경우 그대로 사용\n",
    "\n",
    "    # JSON 문자열을 dict 자료형으로 변환\n",
    "    try:\n",
    "        classification_data = json.loads(clean_json_str)\n",
    "        type_value = classification_data.get(\"type\", \"일반대화\")   # 기본값을 '일반대화'로 설정\n",
    "        keywords = classification_data.get(\"keywords\", [])         # 기본값을 빈 리스트로 설정\n",
    "\n",
    "    except json.JSONDecodeError as e:\n",
    "        print(f\"⚠️ JSONDecodeError: {e}\")  # JSON 변환 오류 확인\n",
    "        type_value = \"일반대화\"           # JSON 변환 오류 시 기본값 설정\n",
    "        keywords = []\n",
    "    \n",
    "    return {\"type\": type_value, \"keywords\": keywords}"
   ]
  },
  {
   "cell_type": "code",
   "execution_count": 14,
   "metadata": {},
   "outputs": [],
   "source": [
    "# default_chain 생성 (사용자의 의미없는 입력값에 대해 정해진 답변을 할 때)\n",
    "# 프롬프트 템플릿 설정\n",
    "default_template = \"\"\"\n",
    "\"You are a chatbot that must always respond with '🐶: 멍멍!'.\n",
    "No matter what question the user asks, always reply with '🐶: 멍멍!'\"\n",
    "\n",
    "[사용자 입력과 분류 결과]:\n",
    "{classification_result}\n",
    "\"\"\"\n",
    "default_prompt = ChatPromptTemplate.from_template(default_template)\n",
    "\n",
    "default_llm = ChatOpenAI(\n",
    "  model=\"gpt-4o-mini\",\n",
    "  temperature=0)\n",
    "\n",
    "# langchain 체인 구성\n",
    "default_chain = (\n",
    "  {\"classification_result\": RunnablePassthrough()}\n",
    "  | default_prompt               # 하나로 만든 문서를 prompt에 넘겨주고\n",
    "  | default_llm            # llm이 원하는 답변을 만듦\n",
    "  | StrOutputParser()\n",
    ")"
   ]
  },
  {
   "cell_type": "markdown",
   "metadata": {},
   "source": [
    "# langchain router\n",
    "##  정보검색"
   ]
  },
  {
   "cell_type": "code",
   "execution_count": 29,
   "metadata": {},
   "outputs": [],
   "source": [
    "# 검색기 생성\n",
    "# mmr 중복 피하기, 문서의관련성과 차별성 고려, \n",
    "retriever = vectorstore.as_retriever(\n",
    "    search_type=\"similarity_score_threshold\",   \n",
    "    search_kwargs={\"score_threshold\": 0.5}\n",
    ")\n",
    "\n",
    "info_template = \"\"\"\n",
    "사용자가 영화나 드라마에 대한 정보를 검색하고 있습니다.\n",
    "다음 사용자 질문과 관련된 **가장 적절한 문서(컨텐츠)를 벡터스토어에서 검색**한 후, \n",
    "검색 결과에서 최대 5개 문서에 대해서 출력하세요.\n",
    "\n",
    "### **예시 응답 형식**\n",
    "{{\n",
    "  \"title\": \"더 이퀄라이저\",\n",
    "  \"genre\": [\"SF\", \"스릴러\"]\n",
    "\n",
    "  \"title\": \"더 이퀄라이저 2\",\n",
    "  \"genre\": [\"SF\", \"스릴러\"]\n",
    "\n",
    "  \"title\": \"더 이퀄라이저 3\",\n",
    "  \"genre\": [\"SF\", \"스릴러\"]\n",
    "\n",
    "}}\n",
    "\n",
    "[사용자 입력과 분류 결과]:\n",
    "{classification_result}\n",
    "\n",
    "[Context]: \n",
    "{retrieved_context} \n",
    "Answer:\n",
    "\n",
    "\"\"\"\n",
    "info_prompt = ChatPromptTemplate.from_template(info_template)\n",
    "info_chain = (\n",
    "    {\n",
    "      \"classification_result\": RunnablePassthrough(),\n",
    "      \"retrieved_context\": retriever\n",
    "    }\n",
    "    |info_prompt\n",
    "    |llm\n",
    "    )"
   ]
  },
  {
   "cell_type": "code",
   "execution_count": 31,
   "metadata": {},
   "outputs": [
    {
     "data": {
      "text/plain": [
       "AIMessage(content='{\\n  \"documents\": [\\n    {\\n      \"title\": \"더 이퀄라이저\",\\n      \"genre\": [\"액션/어드벤쳐\"]\\n    },\\n    {\\n      \"title\": \"더 이퀄라이저 2\",\\n      \"genre\": [\"액션/어드벤쳐\"]\\n    },\\n    {\\n      \"title\": \"더 이퀄라이저 3\",\\n      \"genre\": [\"액션/어드벤쳐\"]\\n    }\\n  ]\\n}', additional_kwargs={'refusal': None}, response_metadata={'token_usage': {'completion_tokens': 101, 'prompt_tokens': 965, 'total_tokens': 1066, 'completion_tokens_details': {'accepted_prediction_tokens': 0, 'audio_tokens': 0, 'reasoning_tokens': 0, 'rejected_prediction_tokens': 0}, 'prompt_tokens_details': {'audio_tokens': 0, 'cached_tokens': 0}}, 'model_name': 'gpt-4o-mini-2024-07-18', 'system_fingerprint': 'fp_d02d531b47', 'finish_reason': 'stop', 'logprobs': None}, id='run-1052c05f-9a42-4584-bfd7-3005c4cb9ffe-0', usage_metadata={'input_tokens': 965, 'output_tokens': 101, 'total_tokens': 1066, 'input_token_details': {'audio': 0, 'cache_read': 0}, 'output_token_details': {'audio': 0, 'reasoning': 0}})"
      ]
     },
     "execution_count": 31,
     "metadata": {},
     "output_type": "execute_result"
    }
   ],
   "source": [
    "info_chain.invoke(\"더 이퀄라이저 시리즈가 몇개야 내놔\")"
   ]
  },
  {
   "cell_type": "code",
   "execution_count": null,
   "metadata": {},
   "outputs": [],
   "source": []
  },
  {
   "cell_type": "markdown",
   "metadata": {},
   "source": [
    "# 테디"
   ]
  },
  {
   "cell_type": "code",
   "execution_count": 35,
   "metadata": {},
   "outputs": [],
   "source": [
    "def route(info):\n",
    "    # 주제에 \"정보검색\"이 포함되어 있는 경우\n",
    "    if \"정보검색\" in info[\"topic\"].lower():\n",
    "        return info_chain\n",
    "    # 주제에 \"추천요청\"이 포함되어 있는 경우\n",
    "    elif \"추천요청\" in info[\"topic\"].lower():\n",
    "        return recommend_chain\n",
    "    # 일반대화화\n",
    "    else:\n",
    "        return general_chain\n",
    "    \n",
    "# from operator import itemgetter\n",
    "# from langchain_core.runnables import RunnableBranch\n",
    "\n",
    "# branch = RunnableBranch(\n",
    "#     (lambda x: \"정보검색\" in x[\"topic\"].lower(), info_chain),\n",
    "#     (lambda x: \"추천요청\" in x[\"topic\"].lower(), recommend_chain),\n",
    "#     general_chain,\n",
    "# )\n",
    "# full_chain = (\n",
    "#     {\"topic\": rag_chain, \"question\": itemgetter(\"question\")} | branch | StrOutputParser()\n",
    "# )"
   ]
  },
  {
   "cell_type": "code",
   "execution_count": 36,
   "metadata": {},
   "outputs": [],
   "source": [
    "full_chain = (\n",
    "    {\"topic\": rag_chain, \"question\": itemgetter(\"question\")}\n",
    "    | RunnableLambda(\n",
    "        route\n",
    "    )\n",
    "    | StrOutputParser()\n",
    ")"
   ]
  },
  {
   "cell_type": "code",
   "execution_count": 1,
   "metadata": {},
   "outputs": [
    {
     "ename": "NameError",
     "evalue": "name 'retriever' is not defined",
     "output_type": "error",
     "traceback": [
      "\u001b[1;31m---------------------------------------------------------------------------\u001b[0m",
      "\u001b[1;31mNameError\u001b[0m                                 Traceback (most recent call last)",
      "Cell \u001b[1;32mIn[1], line 1\u001b[0m\n\u001b[1;32m----> 1\u001b[0m \u001b[43mretriever\u001b[49m\u001b[38;5;241m.\u001b[39minvoke(\u001b[38;5;124m\"\u001b[39m\u001b[38;5;124m한효주\u001b[39m\u001b[38;5;124m\"\u001b[39m)\n",
      "\u001b[1;31mNameError\u001b[0m: name 'retriever' is not defined"
     ]
    }
   ],
   "source": [
    "retriever.invoke(\"한효주\")"
   ]
  },
  {
   "cell_type": "markdown",
   "metadata": {},
   "source": [
    "full_chain.invoke({\"question\": \"한효주가 나오는 드라마 알려줘.\"})"
   ]
  },
  {
   "cell_type": "markdown",
   "metadata": {},
   "source": [
    "# bori"
   ]
  },
  {
   "cell_type": "code",
   "execution_count": 17,
   "metadata": {},
   "outputs": [],
   "source": [
    "def process_user_input(classification_result: dict):\n",
    "    # 사용자의 입력 유형 분류\n",
    "    print(classification_result)\n",
    "    classification_data = classification_result.get(\"classification_result\", {})  # 내부 딕셔너리 추출\n",
    "    type_value = classification_data.get(\"type\", \"일반대화\")  # 기본값 설정\n",
    "    keywords = classification_data.get(\"keywords\", [])  # 기본값 설정\n",
    "    \n",
    "    print(f\"===================== Type: {type_value}\")\n",
    "    print(f\"===================== Keywords: {keywords}\")\n",
    "\n",
    "    if type_value == '정보검색':\n",
    "        return info_chain.invoke(str(classification_result))\n",
    "    elif type_value == '추천요청':\n",
    "        return \"추천요청 체인 실행은 여기!!\"\n",
    "    else:\n",
    "        return default_chain.invoke({\"classification_result\": classification_result})"
   ]
  },
  {
   "cell_type": "code",
   "execution_count": 18,
   "metadata": {},
   "outputs": [],
   "source": [
    "full_chain = (\n",
    "  {\"classification_result\": RunnableLambda(preprocess_classification_result),# type keyword: dic\n",
    "   \"question\":itemgetter(\"question\")}\n",
    "  | RunnableLambda(process_user_input)\n",
    "  | StrOutputParser()  \n",
    ")"
   ]
  },
  {
   "cell_type": "code",
   "execution_count": 32,
   "metadata": {},
   "outputs": [
    {
     "name": "stdout",
     "output_type": "stream",
     "text": [
      "{'classification_result': {'type': '정보검색', 'keywords': ['더 이퀄라이저', '시리즈', '개수']}, 'question': '더 이퀄라이저 시리즈가 몇개야 내놔'}\n",
      "===================== Type: 정보검색\n",
      "===================== Keywords: ['더 이퀄라이저', '시리즈', '개수']\n"
     ]
    },
    {
     "data": {
      "text/plain": [
       "'{\\n  \"documents\": [\\n    {\\n      \"title\": \"더 이퀄라이저\",\\n      \"genre\": [\"액션/어드벤쳐\"]\\n    },\\n    {\\n      \"title\": \"더 이퀄라이저 2\",\\n      \"genre\": [\"액션/어드벤쳐\"]\\n    },\\n    {\\n      \"title\": \"더 이퀄라이저 3\",\\n      \"genre\": [\"액션/어드벤쳐\"]\\n    }\\n  ]\\n}'"
      ]
     },
     "execution_count": 32,
     "metadata": {},
     "output_type": "execute_result"
    }
   ],
   "source": [
    "full_chain.invoke({\"question\":\"더 이퀄라이저 시리즈가 몇개야 내놔\"})"
   ]
  },
  {
   "cell_type": "code",
   "execution_count": null,
   "metadata": {},
   "outputs": [
    {
     "data": {
      "text/plain": [
       "3.8666666666666667"
      ]
     },
     "execution_count": 41,
     "metadata": {},
     "output_type": "execute_result"
    }
   ],
   "source": [
    "# '{\n",
    "# \"documents\": [\n",
    "#    {\"title\": \"더 이퀄라이저\", \"genre\": [\"액션/어드벤쳐\"]},\n",
    "#    {\"title\": \"더 이퀄라이저 2\",\"genre\": [\"액션/어드벤쳐\"]},\n",
    "#    {\"title\": \"더 이퀄라이저 3\",\"genre\": [\"액션/어드벤쳐\"]}\n",
    "#    ]\n",
    "# }'"
   ]
  },
  {
   "cell_type": "code",
   "execution_count": 42,
   "metadata": {},
   "outputs": [
    {
     "data": {
      "text/plain": [
       "8.445"
      ]
     },
     "execution_count": 42,
     "metadata": {},
     "output_type": "execute_result"
    }
   ],
   "source": [
    "6756/800"
   ]
  },
  {
   "cell_type": "code",
   "execution_count": 28,
   "metadata": {},
   "outputs": [
    {
     "data": {
      "text/html": [
       "<div>\n",
       "<style scoped>\n",
       "    .dataframe tbody tr th:only-of-type {\n",
       "        vertical-align: middle;\n",
       "    }\n",
       "\n",
       "    .dataframe tbody tr th {\n",
       "        vertical-align: top;\n",
       "    }\n",
       "\n",
       "    .dataframe thead th {\n",
       "        text-align: right;\n",
       "    }\n",
       "</style>\n",
       "<table border=\"1\" class=\"dataframe\">\n",
       "  <thead>\n",
       "    <tr style=\"text-align: right;\">\n",
       "      <th></th>\n",
       "      <th>name</th>\n",
       "      <th>orgnl_cntry</th>\n",
       "      <th>movie_id</th>\n",
       "      <th>overview</th>\n",
       "      <th>release_date</th>\n",
       "      <th>adult</th>\n",
       "      <th>backdrop_path</th>\n",
       "      <th>original_language</th>\n",
       "      <th>original_title</th>\n",
       "      <th>poster_path</th>\n",
       "      <th>popularity</th>\n",
       "      <th>runtime</th>\n",
       "      <th>vote_average</th>\n",
       "      <th>vote_count</th>\n",
       "      <th>genre</th>\n",
       "      <th>test</th>\n",
       "    </tr>\n",
       "  </thead>\n",
       "  <tbody>\n",
       "    <tr>\n",
       "      <th>0</th>\n",
       "      <td>노크 노크</td>\n",
       "      <td>미국</td>\n",
       "      <td>263472</td>\n",
       "      <td>가족에게 헌신적이고 누구보다 아내와 아이들을 사랑하는 성공한 건축가 에반(키아누 리...</td>\n",
       "      <td>2015-06-26</td>\n",
       "      <td>False</td>\n",
       "      <td>/nJkp7hYKScmvQuqfptIIclFxZ94.jpg</td>\n",
       "      <td>en</td>\n",
       "      <td>Knock Knock</td>\n",
       "      <td>/8hjIz6BkZiBSeuHYs1e8eO0w489.jpg</td>\n",
       "      <td>61.593</td>\n",
       "      <td>99</td>\n",
       "      <td>5.368</td>\n",
       "      <td>3203</td>\n",
       "      <td>공포, 스릴러</td>\n",
       "      <td>1</td>\n",
       "    </tr>\n",
       "    <tr>\n",
       "      <th>1</th>\n",
       "      <td>노크: 더 하우스</td>\n",
       "      <td>미국</td>\n",
       "      <td>709631</td>\n",
       "      <td>이제 막 여덟 살이 된 소년 ‘피터’ . 밤이 찾아오면, 방에서 의문의 노크 소리가...</td>\n",
       "      <td>2023-07-19</td>\n",
       "      <td>False</td>\n",
       "      <td>/nYDPmxvl0if5vHBBp7pDYGkTFc7.jpg</td>\n",
       "      <td>en</td>\n",
       "      <td>Cobweb</td>\n",
       "      <td>/5Ol63pZT8JfYgFMfADqySpgwkdj.jpg</td>\n",
       "      <td>36.104</td>\n",
       "      <td>88</td>\n",
       "      <td>6.509</td>\n",
       "      <td>876</td>\n",
       "      <td>공포</td>\n",
       "      <td>1</td>\n",
       "    </tr>\n",
       "    <tr>\n",
       "      <th>2</th>\n",
       "      <td>노크</td>\n",
       "      <td>대한민국</td>\n",
       "      <td>255250</td>\n",
       "      <td>미대생 정화(서우)는 학교 근처의 작은 아파트로 이사를 하던중 순간적으로 발을 헛디...</td>\n",
       "      <td>2012-11-29</td>\n",
       "      <td>False</td>\n",
       "      <td>/4etMq6yuYyzzARECneGst6l1RWr.jpg</td>\n",
       "      <td>ko</td>\n",
       "      <td>노크</td>\n",
       "      <td>/bGgrseFG2FZd7dIhBmsFupEhlyt.jpg</td>\n",
       "      <td>0.259</td>\n",
       "      <td>100</td>\n",
       "      <td>3.700</td>\n",
       "      <td>3</td>\n",
       "      <td>공포, TV 영화, 로맨스</td>\n",
       "      <td>2</td>\n",
       "    </tr>\n",
       "    <tr>\n",
       "      <th>3</th>\n",
       "      <td>한밤의 황당한 저주</td>\n",
       "      <td>미국</td>\n",
       "      <td>398798</td>\n",
       "      <td>야간 경비로 첫 출근을 하게 된 저스틴은 선임들의 고약한 인터뷰를 무사히 마치고 전...</td>\n",
       "      <td>2017-03-04</td>\n",
       "      <td>False</td>\n",
       "      <td>/r0HMSRMOCSXZSj6fcN7CXdJLtSk.jpg</td>\n",
       "      <td>en</td>\n",
       "      <td>The Night Watchmen</td>\n",
       "      <td>/b0kxlzG2mkJ3ljWOEtZ95Knpw4y.jpg</td>\n",
       "      <td>7.981</td>\n",
       "      <td>90</td>\n",
       "      <td>5.100</td>\n",
       "      <td>126</td>\n",
       "      <td>코미디, 공포</td>\n",
       "      <td>1</td>\n",
       "    </tr>\n",
       "    <tr>\n",
       "      <th>4</th>\n",
       "      <td>신세계</td>\n",
       "      <td>대한민국</td>\n",
       "      <td>165213</td>\n",
       "      <td>경찰청 수사기획과 강과장은 국내 최대 범죄 조직 골드문이 기업형 조직으로 세력이 확...</td>\n",
       "      <td>2013-02-21</td>\n",
       "      <td>False</td>\n",
       "      <td>/8OceZqoCwVoc3JMN7ffsaj4BGFM.jpg</td>\n",
       "      <td>ko</td>\n",
       "      <td>신세계</td>\n",
       "      <td>/yiDQaLGF6hXVdiKodfdurUcgxWV.jpg</td>\n",
       "      <td>16.436</td>\n",
       "      <td>134</td>\n",
       "      <td>7.400</td>\n",
       "      <td>461</td>\n",
       "      <td>스릴러, 범죄, 드라마</td>\n",
       "      <td>2</td>\n",
       "    </tr>\n",
       "    <tr>\n",
       "      <th>...</th>\n",
       "      <td>...</td>\n",
       "      <td>...</td>\n",
       "      <td>...</td>\n",
       "      <td>...</td>\n",
       "      <td>...</td>\n",
       "      <td>...</td>\n",
       "      <td>...</td>\n",
       "      <td>...</td>\n",
       "      <td>...</td>\n",
       "      <td>...</td>\n",
       "      <td>...</td>\n",
       "      <td>...</td>\n",
       "      <td>...</td>\n",
       "      <td>...</td>\n",
       "      <td>...</td>\n",
       "      <td>...</td>\n",
       "    </tr>\n",
       "    <tr>\n",
       "      <th>5795</th>\n",
       "      <td>샤프트</td>\n",
       "      <td>미국</td>\n",
       "      <td>479</td>\n",
       "      <td>돈 많은 아버지를 둔 월터 웨이드(크리스찬 베일)는 사소한 시비 끝에 젊은 흑인 학...</td>\n",
       "      <td>2000-06-15</td>\n",
       "      <td>False</td>\n",
       "      <td>/sblTwYXpm6Nrl4qewg3526lBdlK.jpg</td>\n",
       "      <td>en</td>\n",
       "      <td>Shaft</td>\n",
       "      <td>/5ncvnNPaN73cOqD4muE413sSOyY.jpg</td>\n",
       "      <td>22.547</td>\n",
       "      <td>99</td>\n",
       "      <td>6.019</td>\n",
       "      <td>1273</td>\n",
       "      <td>액션, 모험, 범죄, 스릴러</td>\n",
       "      <td>1</td>\n",
       "    </tr>\n",
       "    <tr>\n",
       "      <th>5796</th>\n",
       "      <td>페이첵</td>\n",
       "      <td>미국</td>\n",
       "      <td>9620</td>\n",
       "      <td>가까운 미래, 천재 공학자 마이클 제닝스는 각종 회사의 일급 프로젝트를 수행하고 있...</td>\n",
       "      <td>2003-12-25</td>\n",
       "      <td>False</td>\n",
       "      <td>/rObU664nB6WmWUduCcwYOUYkPAt.jpg</td>\n",
       "      <td>en</td>\n",
       "      <td>Paycheck</td>\n",
       "      <td>/a9DUh3KJlxTHgngtVcCwPAfgknS.jpg</td>\n",
       "      <td>16.652</td>\n",
       "      <td>119</td>\n",
       "      <td>6.200</td>\n",
       "      <td>1808</td>\n",
       "      <td>액션, 모험, 미스터리, SF, 스릴러</td>\n",
       "      <td>1</td>\n",
       "    </tr>\n",
       "    <tr>\n",
       "      <th>5797</th>\n",
       "      <td>아미스타드</td>\n",
       "      <td>미국</td>\n",
       "      <td>11831</td>\n",
       "      <td>칠흑 같이 어두운 밤, 흑인들의 지도자격인 신케이는 쇠고랑을 푸는 데 성공하고 아미...</td>\n",
       "      <td>1997-12-10</td>\n",
       "      <td>False</td>\n",
       "      <td>/2lI5rNJeYHShg9okpEXSFzQZqWj.jpg</td>\n",
       "      <td>en</td>\n",
       "      <td>Amistad</td>\n",
       "      <td>/6QqNyIHKow0jngiQgTNBOBrLILM.jpg</td>\n",
       "      <td>4.085</td>\n",
       "      <td>155</td>\n",
       "      <td>7.026</td>\n",
       "      <td>1292</td>\n",
       "      <td>드라마, 역사, 미스터리</td>\n",
       "      <td>1</td>\n",
       "    </tr>\n",
       "    <tr>\n",
       "      <th>5798</th>\n",
       "      <td>매니악</td>\n",
       "      <td>미국</td>\n",
       "      <td>27346</td>\n",
       "      <td>프랭크(조 스피넬 분)는 몇 년전 교통사고로 죽은 어머니를 항상 그리워한다. 매춘부...</td>\n",
       "      <td>1980-05-10</td>\n",
       "      <td>False</td>\n",
       "      <td>/h5X5zO40G0pjPkyyzGh9PBsPI0B.jpg</td>\n",
       "      <td>en</td>\n",
       "      <td>Maniac</td>\n",
       "      <td>/aKIBqbUZAEwOML4oMMjZS7m4Gvj.jpg</td>\n",
       "      <td>12.009</td>\n",
       "      <td>88</td>\n",
       "      <td>6.457</td>\n",
       "      <td>440</td>\n",
       "      <td>공포</td>\n",
       "      <td>1</td>\n",
       "    </tr>\n",
       "    <tr>\n",
       "      <th>5799</th>\n",
       "      <td>비밀의 정원</td>\n",
       "      <td>대한민국</td>\n",
       "      <td>635124</td>\n",
       "      <td>어느 날, 정원은 경찰에서 걸려온 전화를 받는다. 10년 전 그녀를 성폭행한 범인이...</td>\n",
       "      <td>2019-10-05</td>\n",
       "      <td>False</td>\n",
       "      <td>/zWHbEY9gCtsEgNtR5MfQv4C7cyQ.jpg</td>\n",
       "      <td>ko</td>\n",
       "      <td>비밀의 정원</td>\n",
       "      <td>/xV1ywwwaGnTDHBF5bKBozqCyJpM.jpg</td>\n",
       "      <td>2.295</td>\n",
       "      <td>114</td>\n",
       "      <td>6.800</td>\n",
       "      <td>10</td>\n",
       "      <td>드라마</td>\n",
       "      <td>1</td>\n",
       "    </tr>\n",
       "  </tbody>\n",
       "</table>\n",
       "<p>5800 rows × 16 columns</p>\n",
       "</div>"
      ],
      "text/plain": [
       "            name orgnl_cntry  movie_id  \\\n",
       "0          노크 노크          미국    263472   \n",
       "1      노크: 더 하우스          미국    709631   \n",
       "2             노크        대한민국    255250   \n",
       "3     한밤의 황당한 저주          미국    398798   \n",
       "4            신세계        대한민국    165213   \n",
       "...          ...         ...       ...   \n",
       "5795         샤프트          미국       479   \n",
       "5796         페이첵          미국      9620   \n",
       "5797       아미스타드          미국     11831   \n",
       "5798         매니악          미국     27346   \n",
       "5799      비밀의 정원        대한민국    635124   \n",
       "\n",
       "                                               overview release_date  adult  \\\n",
       "0     가족에게 헌신적이고 누구보다 아내와 아이들을 사랑하는 성공한 건축가 에반(키아누 리...   2015-06-26  False   \n",
       "1     이제 막 여덟 살이 된 소년 ‘피터’ . 밤이 찾아오면, 방에서 의문의 노크 소리가...   2023-07-19  False   \n",
       "2     미대생 정화(서우)는 학교 근처의 작은 아파트로 이사를 하던중 순간적으로 발을 헛디...   2012-11-29  False   \n",
       "3     야간 경비로 첫 출근을 하게 된 저스틴은 선임들의 고약한 인터뷰를 무사히 마치고 전...   2017-03-04  False   \n",
       "4     경찰청 수사기획과 강과장은 국내 최대 범죄 조직 골드문이 기업형 조직으로 세력이 확...   2013-02-21  False   \n",
       "...                                                 ...          ...    ...   \n",
       "5795  돈 많은 아버지를 둔 월터 웨이드(크리스찬 베일)는 사소한 시비 끝에 젊은 흑인 학...   2000-06-15  False   \n",
       "5796  가까운 미래, 천재 공학자 마이클 제닝스는 각종 회사의 일급 프로젝트를 수행하고 있...   2003-12-25  False   \n",
       "5797  칠흑 같이 어두운 밤, 흑인들의 지도자격인 신케이는 쇠고랑을 푸는 데 성공하고 아미...   1997-12-10  False   \n",
       "5798  프랭크(조 스피넬 분)는 몇 년전 교통사고로 죽은 어머니를 항상 그리워한다. 매춘부...   1980-05-10  False   \n",
       "5799  어느 날, 정원은 경찰에서 걸려온 전화를 받는다. 10년 전 그녀를 성폭행한 범인이...   2019-10-05  False   \n",
       "\n",
       "                         backdrop_path original_language      original_title  \\\n",
       "0     /nJkp7hYKScmvQuqfptIIclFxZ94.jpg                en         Knock Knock   \n",
       "1     /nYDPmxvl0if5vHBBp7pDYGkTFc7.jpg                en              Cobweb   \n",
       "2     /4etMq6yuYyzzARECneGst6l1RWr.jpg                ko                  노크   \n",
       "3     /r0HMSRMOCSXZSj6fcN7CXdJLtSk.jpg                en  The Night Watchmen   \n",
       "4     /8OceZqoCwVoc3JMN7ffsaj4BGFM.jpg                ko                 신세계   \n",
       "...                                ...               ...                 ...   \n",
       "5795  /sblTwYXpm6Nrl4qewg3526lBdlK.jpg                en               Shaft   \n",
       "5796  /rObU664nB6WmWUduCcwYOUYkPAt.jpg                en            Paycheck   \n",
       "5797  /2lI5rNJeYHShg9okpEXSFzQZqWj.jpg                en             Amistad   \n",
       "5798  /h5X5zO40G0pjPkyyzGh9PBsPI0B.jpg                en              Maniac   \n",
       "5799  /zWHbEY9gCtsEgNtR5MfQv4C7cyQ.jpg                ko              비밀의 정원   \n",
       "\n",
       "                           poster_path  popularity  runtime  vote_average  \\\n",
       "0     /8hjIz6BkZiBSeuHYs1e8eO0w489.jpg      61.593       99         5.368   \n",
       "1     /5Ol63pZT8JfYgFMfADqySpgwkdj.jpg      36.104       88         6.509   \n",
       "2     /bGgrseFG2FZd7dIhBmsFupEhlyt.jpg       0.259      100         3.700   \n",
       "3     /b0kxlzG2mkJ3ljWOEtZ95Knpw4y.jpg       7.981       90         5.100   \n",
       "4     /yiDQaLGF6hXVdiKodfdurUcgxWV.jpg      16.436      134         7.400   \n",
       "...                                ...         ...      ...           ...   \n",
       "5795  /5ncvnNPaN73cOqD4muE413sSOyY.jpg      22.547       99         6.019   \n",
       "5796  /a9DUh3KJlxTHgngtVcCwPAfgknS.jpg      16.652      119         6.200   \n",
       "5797  /6QqNyIHKow0jngiQgTNBOBrLILM.jpg       4.085      155         7.026   \n",
       "5798  /aKIBqbUZAEwOML4oMMjZS7m4Gvj.jpg      12.009       88         6.457   \n",
       "5799  /xV1ywwwaGnTDHBF5bKBozqCyJpM.jpg       2.295      114         6.800   \n",
       "\n",
       "      vote_count                  genre  test  \n",
       "0           3203                공포, 스릴러     1  \n",
       "1            876                     공포     1  \n",
       "2              3         공포, TV 영화, 로맨스     2  \n",
       "3            126                코미디, 공포     1  \n",
       "4            461           스릴러, 범죄, 드라마     2  \n",
       "...          ...                    ...   ...  \n",
       "5795        1273        액션, 모험, 범죄, 스릴러     1  \n",
       "5796        1808  액션, 모험, 미스터리, SF, 스릴러     1  \n",
       "5797        1292          드라마, 역사, 미스터리     1  \n",
       "5798         440                     공포     1  \n",
       "5799          10                    드라마     1  \n",
       "\n",
       "[5800 rows x 16 columns]"
      ]
     },
     "execution_count": 28,
     "metadata": {},
     "output_type": "execute_result"
    }
   ],
   "source": [
    "pd.read_csv(\"C:/Users/USER/Downloads/영화_TMDB_5800_Mapping-최종(250107).csv\")"
   ]
  },
  {
   "cell_type": "code",
   "execution_count": null,
   "metadata": {},
   "outputs": [],
   "source": []
  }
 ],
 "metadata": {
  "kernelspec": {
   "display_name": "lgdxteam2-aSyY5fLw-py3.11",
   "language": "python",
   "name": "python3"
  },
  "language_info": {
   "codemirror_mode": {
    "name": "ipython",
    "version": 3
   },
   "file_extension": ".py",
   "mimetype": "text/x-python",
   "name": "python",
   "nbconvert_exporter": "python",
   "pygments_lexer": "ipython3",
   "version": "3.11.9"
  }
 },
 "nbformat": 4,
 "nbformat_minor": 2
}
